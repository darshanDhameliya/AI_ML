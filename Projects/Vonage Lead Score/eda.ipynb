{
 "cells": [
  {
   "cell_type": "code",
   "execution_count": 1,
   "id": "a8a9b04c-fff3-472c-be1e-50a0cfac3ca2",
   "metadata": {},
   "outputs": [],
   "source": [
    "import pandas as pd"
   ]
  },
  {
   "cell_type": "code",
   "execution_count": 2,
   "id": "384a99bb-d88c-4892-840d-5bd05c12eba8",
   "metadata": {},
   "outputs": [
    {
     "name": "stderr",
     "output_type": "stream",
     "text": [
      "/tmp/ipykernel_41951/2929476348.py:1: DtypeWarning: Columns (13,18,30) have mixed types. Specify dtype option on import or set low_memory=False.\n",
      "  df_camp_members = pd.read_csv('/home/darshan/Documents/Vonage 2024-Nov-13/SFDC/Campaign Members in Field Mktg Campaigns.csv')\n"
     ]
    },
    {
     "data": {
      "text/html": [
       "<div>\n",
       "<style scoped>\n",
       "    .dataframe tbody tr th:only-of-type {\n",
       "        vertical-align: middle;\n",
       "    }\n",
       "\n",
       "    .dataframe tbody tr th {\n",
       "        vertical-align: top;\n",
       "    }\n",
       "\n",
       "    .dataframe thead th {\n",
       "        text-align: right;\n",
       "    }\n",
       "</style>\n",
       "<table border=\"1\" class=\"dataframe\">\n",
       "  <thead>\n",
       "    <tr style=\"text-align: right;\">\n",
       "      <th></th>\n",
       "      <th>Salesforce Instance</th>\n",
       "      <th>Campaign ID</th>\n",
       "      <th>Campaign Name</th>\n",
       "      <th>Campaign Type</th>\n",
       "      <th>SubType</th>\n",
       "      <th>Campaign Status</th>\n",
       "      <th>Business Group</th>\n",
       "      <th>Member Type</th>\n",
       "      <th>Member Status</th>\n",
       "      <th>Related Record ID</th>\n",
       "      <th>...</th>\n",
       "      <th>Email</th>\n",
       "      <th>Related Record Owner</th>\n",
       "      <th>Account Owner</th>\n",
       "      <th>Address</th>\n",
       "      <th>City</th>\n",
       "      <th>State (text only)</th>\n",
       "      <th>Zip/Postal Code</th>\n",
       "      <th>Country (text only)</th>\n",
       "      <th>Geo-Region</th>\n",
       "      <th>Region</th>\n",
       "    </tr>\n",
       "  </thead>\n",
       "  <tbody>\n",
       "    <tr>\n",
       "      <th>0</th>\n",
       "      <td>VCC</td>\n",
       "      <td>701D0000000KnEv</td>\n",
       "      <td>VCC AppExchange</td>\n",
       "      <td>Digital</td>\n",
       "      <td>Web</td>\n",
       "      <td>In Progress</td>\n",
       "      <td>NaN</td>\n",
       "      <td>Lead</td>\n",
       "      <td>Watched Demo</td>\n",
       "      <td>00Q4G00001IRgQH</td>\n",
       "      <td>...</td>\n",
       "      <td>matt@mattparker.ca</td>\n",
       "      <td>Anastasia Best</td>\n",
       "      <td>NaN</td>\n",
       "      <td>NaN</td>\n",
       "      <td>NaN</td>\n",
       "      <td>British Columbia</td>\n",
       "      <td>NaN</td>\n",
       "      <td>Canada</td>\n",
       "      <td>NAM</td>\n",
       "      <td>US &amp; Canada</td>\n",
       "    </tr>\n",
       "  </tbody>\n",
       "</table>\n",
       "<p>1 rows × 31 columns</p>\n",
       "</div>"
      ],
      "text/plain": [
       "  Salesforce Instance      Campaign ID    Campaign Name Campaign Type SubType  \\\n",
       "0                 VCC  701D0000000KnEv  VCC AppExchange       Digital     Web   \n",
       "\n",
       "  Campaign Status Business Group Member Type Member Status Related Record ID  \\\n",
       "0     In Progress            NaN        Lead  Watched Demo   00Q4G00001IRgQH   \n",
       "\n",
       "   ...               Email Related Record Owner Account Owner Address City  \\\n",
       "0  ...  matt@mattparker.ca       Anastasia Best           NaN     NaN  NaN   \n",
       "\n",
       "   State (text only) Zip/Postal Code Country (text only) Geo-Region  \\\n",
       "0   British Columbia             NaN              Canada        NAM   \n",
       "\n",
       "        Region  \n",
       "0  US & Canada  \n",
       "\n",
       "[1 rows x 31 columns]"
      ]
     },
     "execution_count": 2,
     "metadata": {},
     "output_type": "execute_result"
    }
   ],
   "source": [
    "df_camp_members = pd.read_csv('/home/darshan/Documents/Vonage 2024-Nov-13/SFDC/Campaign Members in Field Mktg Campaigns.csv')\n",
    "\n",
    "df_camp_members.head(1)"
   ]
  },
  {
   "cell_type": "code",
   "execution_count": 3,
   "id": "2bd981c7-00c2-4993-9b56-e6eb984ae90c",
   "metadata": {},
   "outputs": [
    {
     "data": {
      "text/plain": [
       "(189231, 31)"
      ]
     },
     "execution_count": 3,
     "metadata": {},
     "output_type": "execute_result"
    }
   ],
   "source": [
    "df_camp_members.shape"
   ]
  },
  {
   "cell_type": "code",
   "execution_count": 51,
   "id": "83574425-bec0-4686-8132-084819686201",
   "metadata": {},
   "outputs": [
    {
     "name": "stdout",
     "output_type": "stream",
     "text": [
      "<class 'pandas.core.frame.DataFrame'>\n",
      "RangeIndex: 37213 entries, 0 to 37212\n",
      "Data columns (total 34 columns):\n",
      " #   Column                 Non-Null Count  Dtype  \n",
      "---  ------                 --------------  -----  \n",
      " 0   Id                     37213 non-null  int64  \n",
      " 1   State                  37213 non-null  object \n",
      " 2   Created At             37213 non-null  object \n",
      " 3   Answered At            12772 non-null  object \n",
      " 4   Completed At           37213 non-null  object \n",
      " 5   Duration in Seconds    12815 non-null  float64\n",
      " 6   Direction              37213 non-null  object \n",
      " 7   From                   16527 non-null  object \n",
      " 8   To                     37010 non-null  object \n",
      " 9   Outcome                0 non-null      float64\n",
      " 10  Purpose                23614 non-null  object \n",
      " 11  Disposition            37213 non-null  object \n",
      " 12  Note                   13847 non-null  object \n",
      " 13  Prospect Id            36800 non-null  float64\n",
      " 14  Prospect First Name    36797 non-null  object \n",
      " 15  Prospect Last Name     36794 non-null  object \n",
      " 16  Prospect Company       36597 non-null  object \n",
      " 17  Prospect Title         23735 non-null  object \n",
      " 18  Prospect Mobile Phone  8373 non-null   object \n",
      " 19  Prospect Home Phone    68 non-null     object \n",
      " 20  Prospect Work Phone    35456 non-null  object \n",
      " 21  Prospect Voip Phone    33 non-null     float64\n",
      " 22  Prospect Other Phone   4053 non-null   object \n",
      " 23  Prospect Email         36767 non-null  object \n",
      " 24  Prospect Owner Id      36791 non-null  float64\n",
      " 25  Prospect Owner Name    36791 non-null  object \n",
      " 26  Account Id             14039 non-null  float64\n",
      " 27  User Id                37213 non-null  int64  \n",
      " 28  User First Name        37213 non-null  object \n",
      " 29  User Last Name         37213 non-null  object \n",
      " 30  User Teams             22242 non-null  object \n",
      " 31  Sequence Id            30534 non-null  float64\n",
      " 32  Sequence Name          30534 non-null  object \n",
      " 33  Sequence Step #        30306 non-null  float64\n",
      "dtypes: float64(8), int64(2), object(24)\n",
      "memory usage: 9.7+ MB\n"
     ]
    }
   ],
   "source": [
    "df_call = pd.read_csv('/home/darshan/Documents/Vonage 2024-Nov-13/Outreach/Calls_2024-11-04.csv', low_memory=False)\n",
    "\n",
    "df_call.info()"
   ]
  },
  {
   "cell_type": "code",
   "execution_count": 5,
   "id": "21ea2de3-b489-4cea-a8de-5f45cbe70c54",
   "metadata": {},
   "outputs": [
    {
     "data": {
      "text/plain": [
       "(26004, 43)"
      ]
     },
     "execution_count": 5,
     "metadata": {},
     "output_type": "execute_result"
    }
   ],
   "source": [
    "df_email_clicked = pd.read_csv('/home/darshan/Documents/Vonage 2024-Nov-13/Outreach/Clicked_Mailings_2024-11-04.csv', low_memory=False)\n",
    "\n",
    "df_email_clicked.shape"
   ]
  },
  {
   "cell_type": "code",
   "execution_count": 6,
   "id": "6a9cd73a-f73a-490b-90dd-69976de3c23b",
   "metadata": {},
   "outputs": [
    {
     "data": {
      "text/plain": [
       "(33340, 43)"
      ]
     },
     "execution_count": 6,
     "metadata": {},
     "output_type": "execute_result"
    }
   ],
   "source": [
    "df_email_replied = pd.read_csv('/home/darshan/Documents/Vonage 2024-Nov-13/Outreach/Replied_Mailings_2024-11-04.csv', low_memory=False)\n",
    "\n",
    "df_email_replied.shape"
   ]
  },
  {
   "cell_type": "code",
   "execution_count": 7,
   "id": "c0d11908-8fdf-459d-8455-6d0d1aff94b4",
   "metadata": {},
   "outputs": [
    {
     "data": {
      "text/plain": [
       "(59344, 43)"
      ]
     },
     "execution_count": 7,
     "metadata": {},
     "output_type": "execute_result"
    }
   ],
   "source": [
    "df_email = pd.concat([df_email_clicked, df_email_replied])\n",
    "df_email.shape"
   ]
  },
  {
   "cell_type": "code",
   "execution_count": 8,
   "id": "23c218a0-c852-4134-98ad-f0f601f770fb",
   "metadata": {},
   "outputs": [
    {
     "data": {
      "text/plain": [
       "59344"
      ]
     },
     "execution_count": 8,
     "metadata": {},
     "output_type": "execute_result"
    }
   ],
   "source": [
    "df_email_clicked.shape[0] + df_email_replied.shape[0]"
   ]
  },
  {
   "cell_type": "code",
   "execution_count": 9,
   "id": "7c65327f-027a-4358-8ae9-2449526b86f8",
   "metadata": {},
   "outputs": [
    {
     "data": {
      "text/html": [
       "<div>\n",
       "<style scoped>\n",
       "    .dataframe tbody tr th:only-of-type {\n",
       "        vertical-align: middle;\n",
       "    }\n",
       "\n",
       "    .dataframe tbody tr th {\n",
       "        vertical-align: top;\n",
       "    }\n",
       "\n",
       "    .dataframe thead th {\n",
       "        text-align: right;\n",
       "    }\n",
       "</style>\n",
       "<table border=\"1\" class=\"dataframe\">\n",
       "  <thead>\n",
       "    <tr style=\"text-align: right;\">\n",
       "      <th></th>\n",
       "      <th>Mail</th>\n",
       "    </tr>\n",
       "  </thead>\n",
       "  <tbody>\n",
       "    <tr>\n",
       "      <th>0</th>\n",
       "      <td>matt@mattparker.ca</td>\n",
       "    </tr>\n",
       "    <tr>\n",
       "      <th>1</th>\n",
       "      <td>jmahelis@gmail.com</td>\n",
       "    </tr>\n",
       "    <tr>\n",
       "      <th>2</th>\n",
       "      <td>hari@meetrix.io</td>\n",
       "    </tr>\n",
       "    <tr>\n",
       "      <th>3</th>\n",
       "      <td>bristolyouthlacrosse@gmail.com</td>\n",
       "    </tr>\n",
       "    <tr>\n",
       "      <th>4</th>\n",
       "      <td>jruppenstein@aqualung.com</td>\n",
       "    </tr>\n",
       "    <tr>\n",
       "      <th>...</th>\n",
       "      <td>...</td>\n",
       "    </tr>\n",
       "    <tr>\n",
       "      <th>136230</th>\n",
       "      <td>bluephoenixpersonnel@gmail.com</td>\n",
       "    </tr>\n",
       "    <tr>\n",
       "      <th>136231</th>\n",
       "      <td>skater2tunerkid@yahoo.com</td>\n",
       "    </tr>\n",
       "    <tr>\n",
       "      <th>136232</th>\n",
       "      <td>gvchevron@gmail.com</td>\n",
       "    </tr>\n",
       "    <tr>\n",
       "      <th>136233</th>\n",
       "      <td>arfranklindentalgroup@gmail.com</td>\n",
       "    </tr>\n",
       "    <tr>\n",
       "      <th>136234</th>\n",
       "      <td>stella@bikesultan.com</td>\n",
       "    </tr>\n",
       "  </tbody>\n",
       "</table>\n",
       "<p>136235 rows × 1 columns</p>\n",
       "</div>"
      ],
      "text/plain": [
       "                                   Mail\n",
       "0                    matt@mattparker.ca\n",
       "1                    jmahelis@gmail.com\n",
       "2                       hari@meetrix.io\n",
       "3        bristolyouthlacrosse@gmail.com\n",
       "4             jruppenstein@aqualung.com\n",
       "...                                 ...\n",
       "136230   bluephoenixpersonnel@gmail.com\n",
       "136231        skater2tunerkid@yahoo.com\n",
       "136232              gvchevron@gmail.com\n",
       "136233  arfranklindentalgroup@gmail.com\n",
       "136234            stella@bikesultan.com\n",
       "\n",
       "[136235 rows x 1 columns]"
      ]
     },
     "execution_count": 9,
     "metadata": {},
     "output_type": "execute_result"
    }
   ],
   "source": [
    "df_count = pd.DataFrame({\n",
    "    'Mail': df_camp_members['Email'].dropna().unique()\n",
    "})\n",
    "\n",
    "df_count"
   ]
  },
  {
   "cell_type": "markdown",
   "id": "d411a823-a15c-4da6-90e1-254f5ca55169",
   "metadata": {},
   "source": [
    "### Unique Lead in Campaign Member: 1,36,235"
   ]
  },
  {
   "cell_type": "code",
   "execution_count": 10,
   "id": "d520f1eb-fd08-4c5c-ae03-7dd4a45daa90",
   "metadata": {},
   "outputs": [
    {
     "data": {
      "text/html": [
       "<div>\n",
       "<style scoped>\n",
       "    .dataframe tbody tr th:only-of-type {\n",
       "        vertical-align: middle;\n",
       "    }\n",
       "\n",
       "    .dataframe tbody tr th {\n",
       "        vertical-align: top;\n",
       "    }\n",
       "\n",
       "    .dataframe thead th {\n",
       "        text-align: right;\n",
       "    }\n",
       "</style>\n",
       "<table border=\"1\" class=\"dataframe\">\n",
       "  <thead>\n",
       "    <tr style=\"text-align: right;\">\n",
       "      <th></th>\n",
       "      <th>Mail</th>\n",
       "      <th>Call Count</th>\n",
       "    </tr>\n",
       "  </thead>\n",
       "  <tbody>\n",
       "    <tr>\n",
       "      <th>0</th>\n",
       "      <td>dware@galleonvirtual.com</td>\n",
       "      <td>10</td>\n",
       "    </tr>\n",
       "    <tr>\n",
       "      <th>1</th>\n",
       "      <td>michael@datavoiceoptions.com</td>\n",
       "      <td>9</td>\n",
       "    </tr>\n",
       "    <tr>\n",
       "      <th>2</th>\n",
       "      <td>christine@anaconda-networks.com</td>\n",
       "      <td>9</td>\n",
       "    </tr>\n",
       "    <tr>\n",
       "      <th>3</th>\n",
       "      <td>rhauben@enetworldwide.net</td>\n",
       "      <td>9</td>\n",
       "    </tr>\n",
       "    <tr>\n",
       "      <th>4</th>\n",
       "      <td>trent.james@storcom.net</td>\n",
       "      <td>9</td>\n",
       "    </tr>\n",
       "    <tr>\n",
       "      <th>...</th>\n",
       "      <td>...</td>\n",
       "      <td>...</td>\n",
       "    </tr>\n",
       "    <tr>\n",
       "      <th>33157</th>\n",
       "      <td>jack.madson81@gmail.com</td>\n",
       "      <td>1</td>\n",
       "    </tr>\n",
       "    <tr>\n",
       "      <th>33158</th>\n",
       "      <td>cglessner@all-lines-tech.com</td>\n",
       "      <td>1</td>\n",
       "    </tr>\n",
       "    <tr>\n",
       "      <th>33159</th>\n",
       "      <td>karentraceymoore@gmail.com</td>\n",
       "      <td>1</td>\n",
       "    </tr>\n",
       "    <tr>\n",
       "      <th>33160</th>\n",
       "      <td>gavind@trusscore.com</td>\n",
       "      <td>1</td>\n",
       "    </tr>\n",
       "    <tr>\n",
       "      <th>33161</th>\n",
       "      <td>mike.farrell@gdsgroup.com</td>\n",
       "      <td>1</td>\n",
       "    </tr>\n",
       "  </tbody>\n",
       "</table>\n",
       "<p>33162 rows × 2 columns</p>\n",
       "</div>"
      ],
      "text/plain": [
       "                                  Mail  Call Count\n",
       "0             dware@galleonvirtual.com          10\n",
       "1         michael@datavoiceoptions.com           9\n",
       "2      christine@anaconda-networks.com           9\n",
       "3            rhauben@enetworldwide.net           9\n",
       "4              trent.james@storcom.net           9\n",
       "...                                ...         ...\n",
       "33157          jack.madson81@gmail.com           1\n",
       "33158     cglessner@all-lines-tech.com           1\n",
       "33159       karentraceymoore@gmail.com           1\n",
       "33160             gavind@trusscore.com           1\n",
       "33161        mike.farrell@gdsgroup.com           1\n",
       "\n",
       "[33162 rows x 2 columns]"
      ]
     },
     "execution_count": 10,
     "metadata": {},
     "output_type": "execute_result"
    }
   ],
   "source": [
    "value_count_call = df_call['Prospect Email'].value_counts(dropna=True)\n",
    "\n",
    "df_count_call = pd.DataFrame({\n",
    "    'Mail': value_count_call.index,\n",
    "    'Call Count': value_count_call.values\n",
    "})\n",
    "\n",
    "df_count_call"
   ]
  },
  {
   "cell_type": "markdown",
   "id": "687d6bd3-4164-4b66-bb3b-d46b32ebca10",
   "metadata": {},
   "source": [
    "### Unique Lead of Call Record: 33,162"
   ]
  },
  {
   "cell_type": "code",
   "execution_count": 11,
   "id": "38c66cad-279e-4283-9745-f4de5f107fd0",
   "metadata": {},
   "outputs": [
    {
     "data": {
      "text/html": [
       "<div>\n",
       "<style scoped>\n",
       "    .dataframe tbody tr th:only-of-type {\n",
       "        vertical-align: middle;\n",
       "    }\n",
       "\n",
       "    .dataframe tbody tr th {\n",
       "        vertical-align: top;\n",
       "    }\n",
       "\n",
       "    .dataframe thead th {\n",
       "        text-align: right;\n",
       "    }\n",
       "</style>\n",
       "<table border=\"1\" class=\"dataframe\">\n",
       "  <thead>\n",
       "    <tr style=\"text-align: right;\">\n",
       "      <th></th>\n",
       "      <th>Mail</th>\n",
       "      <th>Email Count</th>\n",
       "    </tr>\n",
       "  </thead>\n",
       "  <tbody>\n",
       "    <tr>\n",
       "      <th>0</th>\n",
       "      <td>danielle.vergara@salesforce.com</td>\n",
       "      <td>85</td>\n",
       "    </tr>\n",
       "    <tr>\n",
       "      <th>1</th>\n",
       "      <td>customercare@vonagebusiness.com</td>\n",
       "      <td>81</td>\n",
       "    </tr>\n",
       "    <tr>\n",
       "      <th>2</th>\n",
       "      <td>jarroyo@talivity.com</td>\n",
       "      <td>50</td>\n",
       "    </tr>\n",
       "    <tr>\n",
       "      <th>3</th>\n",
       "      <td>whollar@mtconsultants.io</td>\n",
       "      <td>47</td>\n",
       "    </tr>\n",
       "    <tr>\n",
       "      <th>4</th>\n",
       "      <td>omarm@mkoadvisors.com</td>\n",
       "      <td>47</td>\n",
       "    </tr>\n",
       "    <tr>\n",
       "      <th>...</th>\n",
       "      <td>...</td>\n",
       "      <td>...</td>\n",
       "    </tr>\n",
       "    <tr>\n",
       "      <th>24137</th>\n",
       "      <td>yuri.klyuchko@gmail.com</td>\n",
       "      <td>1</td>\n",
       "    </tr>\n",
       "    <tr>\n",
       "      <th>24138</th>\n",
       "      <td>toby@digitalrecruitmentcompany.com</td>\n",
       "      <td>1</td>\n",
       "    </tr>\n",
       "    <tr>\n",
       "      <th>24139</th>\n",
       "      <td>hoangnguyen@lexor.com</td>\n",
       "      <td>1</td>\n",
       "    </tr>\n",
       "    <tr>\n",
       "      <th>24140</th>\n",
       "      <td>jp@jphayesinsurance.com</td>\n",
       "      <td>1</td>\n",
       "    </tr>\n",
       "    <tr>\n",
       "      <th>24141</th>\n",
       "      <td>kevin@vazzareg.com</td>\n",
       "      <td>1</td>\n",
       "    </tr>\n",
       "  </tbody>\n",
       "</table>\n",
       "<p>24142 rows × 2 columns</p>\n",
       "</div>"
      ],
      "text/plain": [
       "                                     Mail  Email Count\n",
       "0         danielle.vergara@salesforce.com           85\n",
       "1         customercare@vonagebusiness.com           81\n",
       "2                    jarroyo@talivity.com           50\n",
       "3                whollar@mtconsultants.io           47\n",
       "4                   omarm@mkoadvisors.com           47\n",
       "...                                   ...          ...\n",
       "24137             yuri.klyuchko@gmail.com            1\n",
       "24138  toby@digitalrecruitmentcompany.com            1\n",
       "24139               hoangnguyen@lexor.com            1\n",
       "24140             jp@jphayesinsurance.com            1\n",
       "24141                  kevin@vazzareg.com            1\n",
       "\n",
       "[24142 rows x 2 columns]"
      ]
     },
     "execution_count": 11,
     "metadata": {},
     "output_type": "execute_result"
    }
   ],
   "source": [
    "value_count_mail = df_email['Prospect Email'].value_counts(dropna=True)\n",
    "\n",
    "df_count_mail = pd.DataFrame({\n",
    "    'Mail': value_count_mail.index,\n",
    "    'Email Count': value_count_mail.values\n",
    "})\n",
    "\n",
    "df_count_mail"
   ]
  },
  {
   "cell_type": "markdown",
   "id": "f89e14fe-fb13-43d2-b3b3-31dc6d28a937",
   "metadata": {},
   "source": [
    "### Unique Lead of Mail Record: 24,142"
   ]
  },
  {
   "cell_type": "code",
   "execution_count": 12,
   "id": "a8c95948-3723-42ea-aa46-c77f104ac4c3",
   "metadata": {},
   "outputs": [
    {
     "data": {
      "text/html": [
       "<div>\n",
       "<style scoped>\n",
       "    .dataframe tbody tr th:only-of-type {\n",
       "        vertical-align: middle;\n",
       "    }\n",
       "\n",
       "    .dataframe tbody tr th {\n",
       "        vertical-align: top;\n",
       "    }\n",
       "\n",
       "    .dataframe thead th {\n",
       "        text-align: right;\n",
       "    }\n",
       "</style>\n",
       "<table border=\"1\" class=\"dataframe\">\n",
       "  <thead>\n",
       "    <tr style=\"text-align: right;\">\n",
       "      <th></th>\n",
       "      <th>Mail</th>\n",
       "      <th>Call Count</th>\n",
       "    </tr>\n",
       "  </thead>\n",
       "  <tbody>\n",
       "    <tr>\n",
       "      <th>0</th>\n",
       "      <td>matt@mattparker.ca</td>\n",
       "      <td>NaN</td>\n",
       "    </tr>\n",
       "    <tr>\n",
       "      <th>1</th>\n",
       "      <td>jmahelis@gmail.com</td>\n",
       "      <td>NaN</td>\n",
       "    </tr>\n",
       "    <tr>\n",
       "      <th>2</th>\n",
       "      <td>hari@meetrix.io</td>\n",
       "      <td>NaN</td>\n",
       "    </tr>\n",
       "    <tr>\n",
       "      <th>3</th>\n",
       "      <td>bristolyouthlacrosse@gmail.com</td>\n",
       "      <td>NaN</td>\n",
       "    </tr>\n",
       "    <tr>\n",
       "      <th>4</th>\n",
       "      <td>jruppenstein@aqualung.com</td>\n",
       "      <td>NaN</td>\n",
       "    </tr>\n",
       "    <tr>\n",
       "      <th>...</th>\n",
       "      <td>...</td>\n",
       "      <td>...</td>\n",
       "    </tr>\n",
       "    <tr>\n",
       "      <th>136230</th>\n",
       "      <td>bluephoenixpersonnel@gmail.com</td>\n",
       "      <td>NaN</td>\n",
       "    </tr>\n",
       "    <tr>\n",
       "      <th>136231</th>\n",
       "      <td>skater2tunerkid@yahoo.com</td>\n",
       "      <td>NaN</td>\n",
       "    </tr>\n",
       "    <tr>\n",
       "      <th>136232</th>\n",
       "      <td>gvchevron@gmail.com</td>\n",
       "      <td>NaN</td>\n",
       "    </tr>\n",
       "    <tr>\n",
       "      <th>136233</th>\n",
       "      <td>arfranklindentalgroup@gmail.com</td>\n",
       "      <td>NaN</td>\n",
       "    </tr>\n",
       "    <tr>\n",
       "      <th>136234</th>\n",
       "      <td>stella@bikesultan.com</td>\n",
       "      <td>NaN</td>\n",
       "    </tr>\n",
       "  </tbody>\n",
       "</table>\n",
       "<p>136235 rows × 2 columns</p>\n",
       "</div>"
      ],
      "text/plain": [
       "                                   Mail  Call Count\n",
       "0                    matt@mattparker.ca         NaN\n",
       "1                    jmahelis@gmail.com         NaN\n",
       "2                       hari@meetrix.io         NaN\n",
       "3        bristolyouthlacrosse@gmail.com         NaN\n",
       "4             jruppenstein@aqualung.com         NaN\n",
       "...                                 ...         ...\n",
       "136230   bluephoenixpersonnel@gmail.com         NaN\n",
       "136231        skater2tunerkid@yahoo.com         NaN\n",
       "136232              gvchevron@gmail.com         NaN\n",
       "136233  arfranklindentalgroup@gmail.com         NaN\n",
       "136234            stella@bikesultan.com         NaN\n",
       "\n",
       "[136235 rows x 2 columns]"
      ]
     },
     "execution_count": 12,
     "metadata": {},
     "output_type": "execute_result"
    }
   ],
   "source": [
    "df_count = pd.merge(df_count, df_count_call, how='left', on='Mail')\n",
    "df_count"
   ]
  },
  {
   "cell_type": "code",
   "execution_count": 13,
   "id": "f9d759b0-517a-4c67-96cd-c45de9cb3a3e",
   "metadata": {},
   "outputs": [
    {
     "data": {
      "text/html": [
       "<div>\n",
       "<style scoped>\n",
       "    .dataframe tbody tr th:only-of-type {\n",
       "        vertical-align: middle;\n",
       "    }\n",
       "\n",
       "    .dataframe tbody tr th {\n",
       "        vertical-align: top;\n",
       "    }\n",
       "\n",
       "    .dataframe thead th {\n",
       "        text-align: right;\n",
       "    }\n",
       "</style>\n",
       "<table border=\"1\" class=\"dataframe\">\n",
       "  <thead>\n",
       "    <tr style=\"text-align: right;\">\n",
       "      <th></th>\n",
       "      <th>Mail</th>\n",
       "      <th>Call Count</th>\n",
       "      <th>Email Count</th>\n",
       "    </tr>\n",
       "  </thead>\n",
       "  <tbody>\n",
       "    <tr>\n",
       "      <th>0</th>\n",
       "      <td>matt@mattparker.ca</td>\n",
       "      <td>NaN</td>\n",
       "      <td>NaN</td>\n",
       "    </tr>\n",
       "    <tr>\n",
       "      <th>1</th>\n",
       "      <td>jmahelis@gmail.com</td>\n",
       "      <td>NaN</td>\n",
       "      <td>NaN</td>\n",
       "    </tr>\n",
       "    <tr>\n",
       "      <th>2</th>\n",
       "      <td>hari@meetrix.io</td>\n",
       "      <td>NaN</td>\n",
       "      <td>NaN</td>\n",
       "    </tr>\n",
       "    <tr>\n",
       "      <th>3</th>\n",
       "      <td>bristolyouthlacrosse@gmail.com</td>\n",
       "      <td>NaN</td>\n",
       "      <td>NaN</td>\n",
       "    </tr>\n",
       "    <tr>\n",
       "      <th>4</th>\n",
       "      <td>jruppenstein@aqualung.com</td>\n",
       "      <td>NaN</td>\n",
       "      <td>NaN</td>\n",
       "    </tr>\n",
       "    <tr>\n",
       "      <th>...</th>\n",
       "      <td>...</td>\n",
       "      <td>...</td>\n",
       "      <td>...</td>\n",
       "    </tr>\n",
       "    <tr>\n",
       "      <th>136230</th>\n",
       "      <td>bluephoenixpersonnel@gmail.com</td>\n",
       "      <td>NaN</td>\n",
       "      <td>NaN</td>\n",
       "    </tr>\n",
       "    <tr>\n",
       "      <th>136231</th>\n",
       "      <td>skater2tunerkid@yahoo.com</td>\n",
       "      <td>NaN</td>\n",
       "      <td>NaN</td>\n",
       "    </tr>\n",
       "    <tr>\n",
       "      <th>136232</th>\n",
       "      <td>gvchevron@gmail.com</td>\n",
       "      <td>NaN</td>\n",
       "      <td>NaN</td>\n",
       "    </tr>\n",
       "    <tr>\n",
       "      <th>136233</th>\n",
       "      <td>arfranklindentalgroup@gmail.com</td>\n",
       "      <td>NaN</td>\n",
       "      <td>NaN</td>\n",
       "    </tr>\n",
       "    <tr>\n",
       "      <th>136234</th>\n",
       "      <td>stella@bikesultan.com</td>\n",
       "      <td>NaN</td>\n",
       "      <td>NaN</td>\n",
       "    </tr>\n",
       "  </tbody>\n",
       "</table>\n",
       "<p>136235 rows × 3 columns</p>\n",
       "</div>"
      ],
      "text/plain": [
       "                                   Mail  Call Count  Email Count\n",
       "0                    matt@mattparker.ca         NaN          NaN\n",
       "1                    jmahelis@gmail.com         NaN          NaN\n",
       "2                       hari@meetrix.io         NaN          NaN\n",
       "3        bristolyouthlacrosse@gmail.com         NaN          NaN\n",
       "4             jruppenstein@aqualung.com         NaN          NaN\n",
       "...                                 ...         ...          ...\n",
       "136230   bluephoenixpersonnel@gmail.com         NaN          NaN\n",
       "136231        skater2tunerkid@yahoo.com         NaN          NaN\n",
       "136232              gvchevron@gmail.com         NaN          NaN\n",
       "136233  arfranklindentalgroup@gmail.com         NaN          NaN\n",
       "136234            stella@bikesultan.com         NaN          NaN\n",
       "\n",
       "[136235 rows x 3 columns]"
      ]
     },
     "execution_count": 13,
     "metadata": {},
     "output_type": "execute_result"
    }
   ],
   "source": [
    "df_count = pd.merge(df_count, df_count_mail, how='left', on='Mail')\n",
    "df_count"
   ]
  },
  {
   "cell_type": "code",
   "execution_count": 14,
   "id": "9ed8e773-8894-4053-9ad6-3692ed2e7b95",
   "metadata": {},
   "outputs": [
    {
     "data": {
      "text/html": [
       "<div>\n",
       "<style scoped>\n",
       "    .dataframe tbody tr th:only-of-type {\n",
       "        vertical-align: middle;\n",
       "    }\n",
       "\n",
       "    .dataframe tbody tr th {\n",
       "        vertical-align: top;\n",
       "    }\n",
       "\n",
       "    .dataframe thead th {\n",
       "        text-align: right;\n",
       "    }\n",
       "</style>\n",
       "<table border=\"1\" class=\"dataframe\">\n",
       "  <thead>\n",
       "    <tr style=\"text-align: right;\">\n",
       "      <th></th>\n",
       "      <th>Mail</th>\n",
       "      <th>Call Count</th>\n",
       "      <th>Email Count</th>\n",
       "    </tr>\n",
       "  </thead>\n",
       "  <tbody>\n",
       "    <tr>\n",
       "      <th>19376</th>\n",
       "      <td>mailys@eversure.com</td>\n",
       "      <td>7.0</td>\n",
       "      <td>NaN</td>\n",
       "    </tr>\n",
       "    <tr>\n",
       "      <th>98904</th>\n",
       "      <td>ajcross@five-starbank.com</td>\n",
       "      <td>7.0</td>\n",
       "      <td>NaN</td>\n",
       "    </tr>\n",
       "    <tr>\n",
       "      <th>44440</th>\n",
       "      <td>amir.bercovitz@sodexo.com</td>\n",
       "      <td>6.0</td>\n",
       "      <td>4.0</td>\n",
       "    </tr>\n",
       "    <tr>\n",
       "      <th>29787</th>\n",
       "      <td>alan.ritchie@royallondon.com</td>\n",
       "      <td>6.0</td>\n",
       "      <td>1.0</td>\n",
       "    </tr>\n",
       "    <tr>\n",
       "      <th>45816</th>\n",
       "      <td>info@buzzincc.com</td>\n",
       "      <td>6.0</td>\n",
       "      <td>1.0</td>\n",
       "    </tr>\n",
       "    <tr>\n",
       "      <th>...</th>\n",
       "      <td>...</td>\n",
       "      <td>...</td>\n",
       "      <td>...</td>\n",
       "    </tr>\n",
       "    <tr>\n",
       "      <th>136230</th>\n",
       "      <td>bluephoenixpersonnel@gmail.com</td>\n",
       "      <td>NaN</td>\n",
       "      <td>NaN</td>\n",
       "    </tr>\n",
       "    <tr>\n",
       "      <th>136231</th>\n",
       "      <td>skater2tunerkid@yahoo.com</td>\n",
       "      <td>NaN</td>\n",
       "      <td>NaN</td>\n",
       "    </tr>\n",
       "    <tr>\n",
       "      <th>136232</th>\n",
       "      <td>gvchevron@gmail.com</td>\n",
       "      <td>NaN</td>\n",
       "      <td>NaN</td>\n",
       "    </tr>\n",
       "    <tr>\n",
       "      <th>136233</th>\n",
       "      <td>arfranklindentalgroup@gmail.com</td>\n",
       "      <td>NaN</td>\n",
       "      <td>NaN</td>\n",
       "    </tr>\n",
       "    <tr>\n",
       "      <th>136234</th>\n",
       "      <td>stella@bikesultan.com</td>\n",
       "      <td>NaN</td>\n",
       "      <td>NaN</td>\n",
       "    </tr>\n",
       "  </tbody>\n",
       "</table>\n",
       "<p>136235 rows × 3 columns</p>\n",
       "</div>"
      ],
      "text/plain": [
       "                                   Mail  Call Count  Email Count\n",
       "19376               mailys@eversure.com         7.0          NaN\n",
       "98904         ajcross@five-starbank.com         7.0          NaN\n",
       "44440         amir.bercovitz@sodexo.com         6.0          4.0\n",
       "29787      alan.ritchie@royallondon.com         6.0          1.0\n",
       "45816                 info@buzzincc.com         6.0          1.0\n",
       "...                                 ...         ...          ...\n",
       "136230   bluephoenixpersonnel@gmail.com         NaN          NaN\n",
       "136231        skater2tunerkid@yahoo.com         NaN          NaN\n",
       "136232              gvchevron@gmail.com         NaN          NaN\n",
       "136233  arfranklindentalgroup@gmail.com         NaN          NaN\n",
       "136234            stella@bikesultan.com         NaN          NaN\n",
       "\n",
       "[136235 rows x 3 columns]"
      ]
     },
     "execution_count": 14,
     "metadata": {},
     "output_type": "execute_result"
    }
   ],
   "source": [
    "df_count.sort_values(by=['Call Count', 'Email Count'], ascending=False)"
   ]
  },
  {
   "cell_type": "code",
   "execution_count": 15,
   "id": "f3ce3de8-5be7-4c05-b5ef-39f1a1582d83",
   "metadata": {},
   "outputs": [
    {
     "data": {
      "text/plain": [
       "'en_IN.UTF-8'"
      ]
     },
     "execution_count": 15,
     "metadata": {},
     "output_type": "execute_result"
    }
   ],
   "source": [
    "import matplotlib.pyplot as plt\n",
    "import locale\n",
    "\n",
    "# Set locale for Indian number formatting\n",
    "locale.setlocale(locale.LC_ALL, 'en_IN.UTF-8')"
   ]
  },
  {
   "cell_type": "code",
   "execution_count": 16,
   "id": "5beb0d89-76dd-411a-8f39-3b47bb18c71e",
   "metadata": {},
   "outputs": [
    {
     "data": {
      "image/png": "[encoded data removed]",
      "text/plain": [
       "<Figure size 1000x600 with 1 Axes>"
      ]
     },
     "metadata": {},
     "output_type": "display_data"
    }
   ],
   "source": [
    "# Categorize rows\n",
    "def categorize(row):\n",
    "    if pd.notna(row['Call Count']) and pd.notna(row['Email Count']):\n",
    "        return 'Both'\n",
    "    elif pd.notna(row['Call Count']):\n",
    "        return 'Only Call'\n",
    "    elif pd.notna(row['Email Count']):\n",
    "        return 'Only Mail'\n",
    "    else:\n",
    "        return 'Neither'\n",
    "\n",
    "df_count['Category'] = df_count.apply(categorize, axis=1)\n",
    "\n",
    "# Count occurrences of each category\n",
    "category_counts = df_count['Category'].value_counts()\n",
    "\n",
    "# Increase figure size\n",
    "plt.figure(figsize=(10, 6))  # Width: 10, Height: 6\n",
    "\n",
    "# Plot the bar chart\n",
    "ax = category_counts.plot(kind='bar', color=['blue', 'orange', 'green', 'red'])\n",
    "\n",
    "# Add title\n",
    "plt.xlabel('')\n",
    "plt.ylabel('Count')\n",
    "plt.title('Distribution of Email and Call Data')\n",
    "plt.xticks(rotation=0)\n",
    "\n",
    "# Add the count values on top of each bar with Indian formatting\n",
    "for i, count in enumerate(category_counts):\n",
    "    formatted_count = locale.format_string(\"%d\", count, grouping=True)\n",
    "    ax.text(i, count + 0.1, formatted_count, ha='center', va='bottom', fontsize=10, color='black')\n",
    "\n",
    "plt.show()"
   ]
  },
  {
   "cell_type": "code",
   "execution_count": 17,
   "id": "f2ac14a4-b37c-47b0-b2ee-9f025a29bc55",
   "metadata": {},
   "outputs": [
    {
     "name": "stderr",
     "output_type": "stream",
     "text": [
      "/tmp/ipykernel_41951/3711700130.py:1: DtypeWarning: Columns (21,23,24,26,27,28,29,31,32,33,34,35,36,37,39) have mixed types. Specify dtype option on import or set low_memory=False.\n",
      "  df_lead_with_converted_information = pd.read_csv('/home/darshan/Documents/Lead with Converted Information.csv', encoding=\"latin1\")\n"
     ]
    },
    {
     "data": {
      "text/plain": [
       "(550186, 42)"
      ]
     },
     "execution_count": 17,
     "metadata": {},
     "output_type": "execute_result"
    }
   ],
   "source": [
    "df_lead_with_converted_information = pd.read_csv('/home/darshan/Documents/Lead with Converted Information.csv', encoding=\"latin1\")\n",
    "\n",
    "df_lead_with_converted_information.shape"
   ]
  },
  {
   "cell_type": "code",
   "execution_count": 18,
   "id": "22922be6-8643-4657-80db-8ed28859581b",
   "metadata": {},
   "outputs": [
    {
     "name": "stdout",
     "output_type": "stream",
     "text": [
      "<class 'pandas.core.frame.DataFrame'>\n",
      "RangeIndex: 550186 entries, 0 to 550185\n",
      "Data columns (total 42 columns):\n",
      " #   Column                             Non-Null Count   Dtype  \n",
      "---  ------                             --------------   -----  \n",
      " 0   Campaign ID                        550186 non-null  object \n",
      " 1   Campaign Name                      550186 non-null  object \n",
      " 2   Campaign Type                      547168 non-null  object \n",
      " 3   SubType                            458628 non-null  object \n",
      " 4   Business Group                     546723 non-null  object \n",
      " 5   Member First Associated Date       550186 non-null  object \n",
      " 6   Member First Responded Date        317045 non-null  object \n",
      " 7   Member Status                      550180 non-null  object \n",
      " 8   Member Type                        550186 non-null  object \n",
      " 9   Responded                          550186 non-null  int64  \n",
      " 10  Company / Account                  549779 non-null  object \n",
      " 11  Lead ID                            550186 non-null  object \n",
      " 12  Lead Owner                         550186 non-null  object \n",
      " 13  First Name                         549873 non-null  object \n",
      " 14  Last Name                          550186 non-null  object \n",
      " 15  Title                              240186 non-null  object \n",
      " 16  Email                              549334 non-null  object \n",
      " 17  Lead Geo-Region                    539903 non-null  object \n",
      " 18  Lead Source                        550019 non-null  object \n",
      " 19  Lead Stage                         550186 non-null  object \n",
      " 20  Converted                          550186 non-null  int64  \n",
      " 21  Converted Date                     59163 non-null   object \n",
      " 22  Created Date                       550186 non-null  object \n",
      " 23  Account ID                         59162 non-null   object \n",
      " 24  Contact ID                         59163 non-null   object \n",
      " 25  Last Modified Date                 550186 non-null  object \n",
      " 26  Opportunity ID                     59075 non-null   object \n",
      " 27  Opportunity: Account               59072 non-null   object \n",
      " 28  Opportunity Name                   59074 non-null   object \n",
      " 29  Annual Recurring Revenue Currency  59075 non-null   object \n",
      " 30  Annual Recurring Revenue           59075 non-null   float64\n",
      " 31  Stage                              59075 non-null   object \n",
      " 32  Oppt Close Date                    59075 non-null   object \n",
      " 33  Opportunity: Created Date          59075 non-null   object \n",
      " 34  Opportunity Geo-Region             59075 non-null   object \n",
      " 35  Primary Campaign Source            59071 non-null   object \n",
      " 36  Business Group.1                   58963 non-null   object \n",
      " 37  Source Campaign                    59075 non-null   object \n",
      " 38  Matched Account Name               4271 non-null    object \n",
      " 39  Account Name (Formula Field)       59072 non-null   object \n",
      " 40  CKT Primary Contact Name           0 non-null       float64\n",
      " 41  CKT Primary Contact Email          0 non-null       float64\n",
      "dtypes: float64(3), int64(2), object(37)\n",
      "memory usage: 176.3+ MB\n"
     ]
    }
   ],
   "source": [
    "df_lead_with_converted_information.info()"
   ]
  },
  {
   "cell_type": "code",
   "execution_count": 19,
   "id": "9545c1b3-9397-40f0-8b30-a7147eed46c6",
   "metadata": {},
   "outputs": [
    {
     "data": {
      "text/plain": [
       "Converted\n",
       "0    491023\n",
       "1     59163\n",
       "Name: count, dtype: int64"
      ]
     },
     "execution_count": 19,
     "metadata": {},
     "output_type": "execute_result"
    }
   ],
   "source": [
    "df_lead_with_converted_information['Converted'].value_counts()"
   ]
  },
  {
   "cell_type": "code",
   "execution_count": 34,
   "id": "d3d0dd52-0496-4913-92be-97ab732196b3",
   "metadata": {},
   "outputs": [
    {
     "data": {
      "text/plain": [
       "0     6/1/2023\n",
       "1    9/20/2023\n",
       "2    3/16/2023\n",
       "3     1/8/2024\n",
       "4    9/20/2023\n",
       "Name: Created Date, dtype: object"
      ]
     },
     "execution_count": 34,
     "metadata": {},
     "output_type": "execute_result"
    }
   ],
   "source": [
    "df_lead_with_converted_information['Created Date'].head()"
   ]
  },
  {
   "cell_type": "code",
   "execution_count": 36,
   "id": "38a9316c-3df9-446f-9b6a-298554d3ee91",
   "metadata": {},
   "outputs": [
    {
     "data": {
      "text/plain": [
       "(339005, 42)"
      ]
     },
     "execution_count": 36,
     "metadata": {},
     "output_type": "execute_result"
    }
   ],
   "source": [
    "# Convert the 'date' column to datetime\n",
    "df_lead_with_converted_information['Created Date'] = pd.to_datetime(df_lead_with_converted_information['Created Date'], format='%m/%d/%Y')\n",
    "\n",
    "# Filter for rows where the year is 2023 or 2024\n",
    "filtered_df_lead_with_converted_information = df_lead_with_converted_information[df_lead_with_converted_information['Created Date'].dt.year.isin([2023, 2024])]\n",
    "\n",
    "filtered_df_lead_with_converted_information.shape"
   ]
  },
  {
   "cell_type": "code",
   "execution_count": 37,
   "id": "1b72d830-a249-40c9-8735-9aef475f4a1c",
   "metadata": {},
   "outputs": [
    {
     "data": {
      "text/html": [
       "<div>\n",
       "<style scoped>\n",
       "    .dataframe tbody tr th:only-of-type {\n",
       "        vertical-align: middle;\n",
       "    }\n",
       "\n",
       "    .dataframe tbody tr th {\n",
       "        vertical-align: top;\n",
       "    }\n",
       "\n",
       "    .dataframe thead th {\n",
       "        text-align: right;\n",
       "    }\n",
       "</style>\n",
       "<table border=\"1\" class=\"dataframe\">\n",
       "  <thead>\n",
       "    <tr style=\"text-align: right;\">\n",
       "      <th></th>\n",
       "      <th>Email</th>\n",
       "    </tr>\n",
       "  </thead>\n",
       "  <tbody>\n",
       "    <tr>\n",
       "      <th>0</th>\n",
       "      <td>matt@mattparker.ca</td>\n",
       "    </tr>\n",
       "    <tr>\n",
       "      <th>1</th>\n",
       "      <td>jmahelis@gmail.com</td>\n",
       "    </tr>\n",
       "    <tr>\n",
       "      <th>2</th>\n",
       "      <td>hari@meetrix.io</td>\n",
       "    </tr>\n",
       "    <tr>\n",
       "      <th>3</th>\n",
       "      <td>bristolyouthlacrosse@gmail.com</td>\n",
       "    </tr>\n",
       "    <tr>\n",
       "      <th>4</th>\n",
       "      <td>jruppenstein@aqualung.com</td>\n",
       "    </tr>\n",
       "    <tr>\n",
       "      <th>...</th>\n",
       "      <td>...</td>\n",
       "    </tr>\n",
       "    <tr>\n",
       "      <th>189226</th>\n",
       "      <td>bluephoenixpersonnel@gmail.com</td>\n",
       "    </tr>\n",
       "    <tr>\n",
       "      <th>189227</th>\n",
       "      <td>skater2tunerkid@yahoo.com</td>\n",
       "    </tr>\n",
       "    <tr>\n",
       "      <th>189228</th>\n",
       "      <td>gvchevron@gmail.com</td>\n",
       "    </tr>\n",
       "    <tr>\n",
       "      <th>189229</th>\n",
       "      <td>arfranklindentalgroup@gmail.com</td>\n",
       "    </tr>\n",
       "    <tr>\n",
       "      <th>189230</th>\n",
       "      <td>stella@bikesultan.com</td>\n",
       "    </tr>\n",
       "  </tbody>\n",
       "</table>\n",
       "<p>189012 rows × 1 columns</p>\n",
       "</div>"
      ],
      "text/plain": [
       "                                  Email\n",
       "0                    matt@mattparker.ca\n",
       "1                    jmahelis@gmail.com\n",
       "2                       hari@meetrix.io\n",
       "3        bristolyouthlacrosse@gmail.com\n",
       "4             jruppenstein@aqualung.com\n",
       "...                                 ...\n",
       "189226   bluephoenixpersonnel@gmail.com\n",
       "189227        skater2tunerkid@yahoo.com\n",
       "189228              gvchevron@gmail.com\n",
       "189229  arfranklindentalgroup@gmail.com\n",
       "189230            stella@bikesultan.com\n",
       "\n",
       "[189012 rows x 1 columns]"
      ]
     },
     "execution_count": 37,
     "metadata": {},
     "output_type": "execute_result"
    }
   ],
   "source": [
    "df_camp_members_filtered = df_camp_members[df_camp_members['Email'].notnull()][['Email']]\n",
    "df_camp_members_filtered"
   ]
  },
  {
   "cell_type": "code",
   "execution_count": 21,
   "id": "821390a3-1fd4-42f2-b534-b1d4c7b08792",
   "metadata": {},
   "outputs": [
    {
     "name": "stdout",
     "output_type": "stream",
     "text": [
      "<class 'pandas.core.frame.DataFrame'>\n",
      "RangeIndex: 550186 entries, 0 to 550185\n",
      "Data columns (total 42 columns):\n",
      " #   Column                             Non-Null Count   Dtype  \n",
      "---  ------                             --------------   -----  \n",
      " 0   Campaign ID                        550186 non-null  object \n",
      " 1   Campaign Name                      550186 non-null  object \n",
      " 2   Campaign Type                      547168 non-null  object \n",
      " 3   SubType                            458628 non-null  object \n",
      " 4   Business Group                     546723 non-null  object \n",
      " 5   Member First Associated Date       550186 non-null  object \n",
      " 6   Member First Responded Date        317045 non-null  object \n",
      " 7   Member Status                      550180 non-null  object \n",
      " 8   Member Type                        550186 non-null  object \n",
      " 9   Responded                          550186 non-null  int64  \n",
      " 10  Company / Account                  549779 non-null  object \n",
      " 11  Lead ID                            550186 non-null  object \n",
      " 12  Lead Owner                         550186 non-null  object \n",
      " 13  First Name                         549873 non-null  object \n",
      " 14  Last Name                          550186 non-null  object \n",
      " 15  Title                              240186 non-null  object \n",
      " 16  Email                              549334 non-null  object \n",
      " 17  Lead Geo-Region                    539903 non-null  object \n",
      " 18  Lead Source                        550019 non-null  object \n",
      " 19  Lead Stage                         550186 non-null  object \n",
      " 20  Converted                          550186 non-null  int64  \n",
      " 21  Converted Date                     59163 non-null   object \n",
      " 22  Created Date                       550186 non-null  object \n",
      " 23  Account ID                         59162 non-null   object \n",
      " 24  Contact ID                         59163 non-null   object \n",
      " 25  Last Modified Date                 550186 non-null  object \n",
      " 26  Opportunity ID                     59075 non-null   object \n",
      " 27  Opportunity: Account               59072 non-null   object \n",
      " 28  Opportunity Name                   59074 non-null   object \n",
      " 29  Annual Recurring Revenue Currency  59075 non-null   object \n",
      " 30  Annual Recurring Revenue           59075 non-null   float64\n",
      " 31  Stage                              59075 non-null   object \n",
      " 32  Oppt Close Date                    59075 non-null   object \n",
      " 33  Opportunity: Created Date          59075 non-null   object \n",
      " 34  Opportunity Geo-Region             59075 non-null   object \n",
      " 35  Primary Campaign Source            59071 non-null   object \n",
      " 36  Business Group.1                   58963 non-null   object \n",
      " 37  Source Campaign                    59075 non-null   object \n",
      " 38  Matched Account Name               4271 non-null    object \n",
      " 39  Account Name (Formula Field)       59072 non-null   object \n",
      " 40  CKT Primary Contact Name           0 non-null       float64\n",
      " 41  CKT Primary Contact Email          0 non-null       float64\n",
      "dtypes: float64(3), int64(2), object(37)\n",
      "memory usage: 176.3+ MB\n"
     ]
    }
   ],
   "source": [
    "df_lead_with_converted_information.info()"
   ]
  },
  {
   "cell_type": "code",
   "execution_count": 22,
   "id": "a07c0c9c-34eb-4dbf-aaa0-f98f662086b5",
   "metadata": {},
   "outputs": [
    {
     "data": {
      "text/html": [
       "<div>\n",
       "<style scoped>\n",
       "    .dataframe tbody tr th:only-of-type {\n",
       "        vertical-align: middle;\n",
       "    }\n",
       "\n",
       "    .dataframe tbody tr th {\n",
       "        vertical-align: top;\n",
       "    }\n",
       "\n",
       "    .dataframe thead th {\n",
       "        text-align: right;\n",
       "    }\n",
       "</style>\n",
       "<table border=\"1\" class=\"dataframe\">\n",
       "  <thead>\n",
       "    <tr style=\"text-align: right;\">\n",
       "      <th></th>\n",
       "      <th>Email</th>\n",
       "      <th>Converted</th>\n",
       "    </tr>\n",
       "  </thead>\n",
       "  <tbody>\n",
       "    <tr>\n",
       "      <th>0</th>\n",
       "      <td>disha.de@nyalazone.com</td>\n",
       "      <td>0</td>\n",
       "    </tr>\n",
       "    <tr>\n",
       "      <th>1</th>\n",
       "      <td>nidhi@touchpointsinc.com</td>\n",
       "      <td>0</td>\n",
       "    </tr>\n",
       "    <tr>\n",
       "      <th>2</th>\n",
       "      <td>mujtaba.pasha@infopro-digital.com</td>\n",
       "      <td>0</td>\n",
       "    </tr>\n",
       "    <tr>\n",
       "      <th>3</th>\n",
       "      <td>julie.lewismackay@hrgo.co.uk</td>\n",
       "      <td>0</td>\n",
       "    </tr>\n",
       "    <tr>\n",
       "      <th>4</th>\n",
       "      <td>slovely@3b2solutions.com</td>\n",
       "      <td>0</td>\n",
       "    </tr>\n",
       "    <tr>\n",
       "      <th>...</th>\n",
       "      <td>...</td>\n",
       "      <td>...</td>\n",
       "    </tr>\n",
       "    <tr>\n",
       "      <th>550181</th>\n",
       "      <td>tanushri@cyntexa.com</td>\n",
       "      <td>0</td>\n",
       "    </tr>\n",
       "    <tr>\n",
       "      <th>550182</th>\n",
       "      <td>marco.simon@hilton.com</td>\n",
       "      <td>0</td>\n",
       "    </tr>\n",
       "    <tr>\n",
       "      <th>550183</th>\n",
       "      <td>mhamza.siddiqui@gmail.com</td>\n",
       "      <td>0</td>\n",
       "    </tr>\n",
       "    <tr>\n",
       "      <th>550184</th>\n",
       "      <td>michelle.magsarili@gmail.com</td>\n",
       "      <td>0</td>\n",
       "    </tr>\n",
       "    <tr>\n",
       "      <th>550185</th>\n",
       "      <td>mitul@creatiquetech.com</td>\n",
       "      <td>0</td>\n",
       "    </tr>\n",
       "  </tbody>\n",
       "</table>\n",
       "<p>549334 rows × 2 columns</p>\n",
       "</div>"
      ],
      "text/plain": [
       "                                    Email  Converted\n",
       "0                  disha.de@nyalazone.com          0\n",
       "1                nidhi@touchpointsinc.com          0\n",
       "2       mujtaba.pasha@infopro-digital.com          0\n",
       "3            julie.lewismackay@hrgo.co.uk          0\n",
       "4                slovely@3b2solutions.com          0\n",
       "...                                   ...        ...\n",
       "550181               tanushri@cyntexa.com          0\n",
       "550182             marco.simon@hilton.com          0\n",
       "550183          mhamza.siddiqui@gmail.com          0\n",
       "550184       michelle.magsarili@gmail.com          0\n",
       "550185            mitul@creatiquetech.com          0\n",
       "\n",
       "[549334 rows x 2 columns]"
      ]
     },
     "execution_count": 22,
     "metadata": {},
     "output_type": "execute_result"
    }
   ],
   "source": [
    "df_lead_with_converted_information_filtered = df_lead_with_converted_information[df_lead_with_converted_information['Email'].notnull()][['Email', 'Converted']]\n",
    "df_lead_with_converted_information_filtered"
   ]
  },
  {
   "cell_type": "code",
   "execution_count": 23,
   "id": "53d74879-390f-4cf2-8c07-aa4c7afb13ff",
   "metadata": {},
   "outputs": [
    {
     "name": "stdout",
     "output_type": "stream",
     "text": [
      "                                  Email  Converted\n",
      "0                    jmahelis@gmail.com          0\n",
      "2                       hari@meetrix.io          0\n",
      "4        bristolyouthlacrosse@gmail.com          0\n",
      "7             jruppenstein@aqualung.com          0\n",
      "9          sebastiangielser23@gmail.com          0\n",
      "...                                 ...        ...\n",
      "344822       movaldoggrooming@yahoo.com          1\n",
      "344827   bluephoenixpersonnel@gmail.com          1\n",
      "344828        skater2tunerkid@yahoo.com          1\n",
      "344829  arfranklindentalgroup@gmail.com          1\n",
      "344831            stella@bikesultan.com          1\n",
      "\n",
      "[118021 rows x 2 columns]\n"
     ]
    }
   ],
   "source": [
    "\n",
    "\n",
    "\n",
    "# Merge the two datasets on 'email' with an inner join\n",
    "result = pd.merge(df_camp_members_filtered, df_lead_with_converted_information, on='Email', how='inner')\n",
    "\n",
    "# Final DataFrame with only the 'email' and 'converted' columns\n",
    "result = result[['Email', 'Converted']]\n",
    "\n",
    "result = result.drop_duplicates(subset=['Email', 'Converted'])\n",
    "\n",
    "print(result)"
   ]
  },
  {
   "cell_type": "code",
   "execution_count": 24,
   "id": "0fcab876-561c-4fb2-8052-488ef7042827",
   "metadata": {},
   "outputs": [
    {
     "data": {
      "text/plain": [
       "116069"
      ]
     },
     "execution_count": 24,
     "metadata": {},
     "output_type": "execute_result"
    }
   ],
   "source": [
    "result['Email'].nunique()"
   ]
  },
  {
   "cell_type": "code",
   "execution_count": 25,
   "id": "9c9670f3-a9ea-4da2-a802-a799c48f22b2",
   "metadata": {},
   "outputs": [
    {
     "data": {
      "text/plain": [
       "np.int64(0)"
      ]
     },
     "execution_count": 25,
     "metadata": {},
     "output_type": "execute_result"
    }
   ],
   "source": [
    "result['Email'].isnull().sum()"
   ]
  },
  {
   "cell_type": "code",
   "execution_count": 26,
   "id": "5341c62f-daea-4458-8c58-d39cb9a80416",
   "metadata": {},
   "outputs": [
    {
     "data": {
      "text/plain": [
       "np.int64(0)"
      ]
     },
     "execution_count": 26,
     "metadata": {},
     "output_type": "execute_result"
    }
   ],
   "source": [
    "result['Converted'].isnull().sum()"
   ]
  },
  {
   "cell_type": "code",
   "execution_count": 27,
   "id": "60daa206-6569-4c1c-b413-dfc49bd0fd45",
   "metadata": {},
   "outputs": [
    {
     "data": {
      "text/plain": [
       "Converted\n",
       "0    98362\n",
       "1    19659\n",
       "Name: count, dtype: int64"
      ]
     },
     "execution_count": 27,
     "metadata": {},
     "output_type": "execute_result"
    }
   ],
   "source": [
    "result['Converted'].value_counts()"
   ]
  },
  {
   "cell_type": "code",
   "execution_count": 28,
   "id": "473db6e6-918d-4be8-bf53-bfa76093f0f8",
   "metadata": {},
   "outputs": [
    {
     "data": {
      "text/plain": [
       "Salesforce Instance                  0\n",
       "Campaign ID                          0\n",
       "Campaign Name                        0\n",
       "Campaign Type                     3213\n",
       "SubType                          63598\n",
       "Campaign Status                      0\n",
       "Business Group                   17227\n",
       "Member Type                          0\n",
       "Member Status                        0\n",
       "Related Record ID                    0\n",
       "Member First Associated Date         0\n",
       "Member Status Update Date            0\n",
       "Member First Responded Date      55061\n",
       "Account ID                      179347\n",
       "Company                            337\n",
       "Responded                            0\n",
       "First Name                         224\n",
       "Last Name                            0\n",
       "Member Name                      95177\n",
       "Title                            79698\n",
       "Phone                            36233\n",
       "Email                              219\n",
       "Related Record Owner                 0\n",
       "Account Owner                   144174\n",
       "Address                         112698\n",
       "City                            114973\n",
       "State (text only)                98483\n",
       "Zip/Postal Code                 122185\n",
       "Country (text only)              28196\n",
       "Geo-Region                        2254\n",
       "Region                           95177\n",
       "dtype: int64"
      ]
     },
     "execution_count": 28,
     "metadata": {},
     "output_type": "execute_result"
    }
   ],
   "source": [
    "df_camp_members.isnull().sum()"
   ]
  },
  {
   "cell_type": "code",
   "execution_count": 29,
   "id": "45a511ce-1541-4a3c-9014-898340296113",
   "metadata": {},
   "outputs": [
    {
     "data": {
      "text/plain": [
       "136235"
      ]
     },
     "execution_count": 29,
     "metadata": {},
     "output_type": "execute_result"
    }
   ],
   "source": [
    "df_camp_members['Email'].nunique()"
   ]
  },
  {
   "cell_type": "code",
   "execution_count": 30,
   "id": "c16ef06e-d342-495a-9376-d8b32b00ace8",
   "metadata": {},
   "outputs": [
    {
     "data": {
      "text/plain": [
       "136235"
      ]
     },
     "execution_count": 30,
     "metadata": {},
     "output_type": "execute_result"
    }
   ],
   "source": [
    "df_camp_members['Email'].str.lower().str.strip().nunique()"
   ]
  },
  {
   "cell_type": "code",
   "execution_count": 31,
   "id": "9ee81a7e-62dd-4e08-a48a-27c86d1fec03",
   "metadata": {},
   "outputs": [
    {
     "data": {
      "text/plain": [
       "370666"
      ]
     },
     "execution_count": 31,
     "metadata": {},
     "output_type": "execute_result"
    }
   ],
   "source": [
    "df_lead_with_converted_information['Email'].nunique()"
   ]
  },
  {
   "cell_type": "code",
   "execution_count": 32,
   "id": "27d6fcf4-7564-4b4e-acd5-c6fa95a8fc1b",
   "metadata": {},
   "outputs": [
    {
     "data": {
      "text/plain": [
       "370666"
      ]
     },
     "execution_count": 32,
     "metadata": {},
     "output_type": "execute_result"
    }
   ],
   "source": [
    "df_lead_with_converted_information['Email'].str.lower().str.strip().nunique()"
   ]
  },
  {
   "cell_type": "code",
   "execution_count": 39,
   "id": "0eddff96-f0b7-48f8-a48a-87d4e06db206",
   "metadata": {},
   "outputs": [
    {
     "data": {
      "text/plain": [
       "(189231, 31)"
      ]
     },
     "execution_count": 39,
     "metadata": {},
     "output_type": "execute_result"
    }
   ],
   "source": [
    "df_camp_members.shape"
   ]
  },
  {
   "cell_type": "code",
   "execution_count": 41,
   "id": "4acc2d00-0a46-48ab-8c58-a2c8b6277cb0",
   "metadata": {},
   "outputs": [
    {
     "data": {
      "text/plain": [
       "(549334, 2)"
      ]
     },
     "execution_count": 41,
     "metadata": {},
     "output_type": "execute_result"
    }
   ],
   "source": [
    "df_lead_with_converted_information_filtered.shape"
   ]
  },
  {
   "cell_type": "code",
   "execution_count": 44,
   "id": "ab215679-1ed6-4459-af79-040e1b00c9ad",
   "metadata": {},
   "outputs": [
    {
     "data": {
      "text/plain": [
       "Email                            Converted\n",
       "phughston@grubbproperties.com    1            43\n",
       "metricsmanager1@gmail.com        1            20\n",
       "jforster@monument.health         0            18\n",
       "jessesmithbiz@gmail.com          1            16\n",
       "favreaub@link75.org              0            15\n",
       "                                              ..\n",
       "zzpuuwlzmynfktooiz@kvhrr.com     0             1\n",
       "zzqaks0613ta1@zzqaks0613ta1.com  1             1\n",
       "zzred@test.com                   0             1\n",
       "zzredcollor2@test.com            0             1\n",
       "001maryjon@gmail.com             0             1\n",
       "Name: count, Length: 374457, dtype: int64"
      ]
     },
     "execution_count": 44,
     "metadata": {},
     "output_type": "execute_result"
    }
   ],
   "source": [
    "df_lead_with_converted_information_filtered.value_counts()"
   ]
  },
  {
   "cell_type": "code",
   "execution_count": 45,
   "id": "32321a1e-ad9b-44cb-a5fb-c390d501e1ee",
   "metadata": {},
   "outputs": [
    {
     "data": {
      "text/plain": [
       "(370666, 2)"
      ]
     },
     "execution_count": 45,
     "metadata": {},
     "output_type": "execute_result"
    }
   ],
   "source": [
    "df_lead_with_converted_information_filtered_unique = df_lead_with_converted_information_filtered.drop_duplicates(subset='Email', keep='first')\n",
    "\n",
    "df_lead_with_converted_information_filtered_unique.shape"
   ]
  },
  {
   "cell_type": "code",
   "execution_count": 49,
   "id": "174bc351-af07-440d-b4e8-207a4bb3f24b",
   "metadata": {},
   "outputs": [
    {
     "data": {
      "text/plain": [
       "(189231, 32)"
      ]
     },
     "execution_count": 49,
     "metadata": {},
     "output_type": "execute_result"
    }
   ],
   "source": [
    "df_merge = pd.merge(df_camp_members, df_lead_with_converted_information_filtered_unique[['Email', 'Converted']], on='Email', how='left')\n",
    "\n",
    "df_merge.shape"
   ]
  },
  {
   "cell_type": "code",
   "execution_count": 50,
   "id": "e0c7aac1-1733-47c5-8377-81ecbd9c6c95",
   "metadata": {},
   "outputs": [
    {
     "data": {
      "text/plain": [
       "Converted\n",
       "0.0          141196\n",
       "1.0           22168\n",
       "Name: count, dtype: int64"
      ]
     },
     "execution_count": 50,
     "metadata": {},
     "output_type": "execute_result"
    }
   ],
   "source": [
    "df_merge[['Converted']].value_counts()"
   ]
  },
  {
   "cell_type": "code",
   "execution_count": null,
   "id": "f8e79584-f9af-46d2-b677-9f2b1dc8796e",
   "metadata": {},
   "outputs": [],
   "source": []
  },
  {
   "cell_type": "code",
   "execution_count": null,
   "id": "5ce413da-25a9-4757-a726-7c38e888980a",
   "metadata": {},
   "outputs": [],
   "source": []
  },
  {
   "cell_type": "code",
   "execution_count": null,
   "id": "c2c3dbc7-ef62-4bc5-a34c-fd107c982f4d",
   "metadata": {},
   "outputs": [],
   "source": []
  },
  {
   "cell_type": "code",
   "execution_count": null,
   "id": "47b3e70e-0543-49e1-97fd-d4f501fa28e5",
   "metadata": {},
   "outputs": [],
   "source": []
  }
 ],
 "metadata": {
  "kernelspec": {
   "display_name": "Python 3 (ipykernel)",
   "language": "python",
   "name": "python3"
  },
  "language_info": {
   "codemirror_mode": {
    "name": "ipython",
    "version": 3
   },
   "file_extension": ".py",
   "mimetype": "text/x-python",
   "name": "python",
   "nbconvert_exporter": "python",
   "pygments_lexer": "ipython3",
   "version": "3.12.6"
  }
 },
 "nbformat": 4,
 "nbformat_minor": 5
}
