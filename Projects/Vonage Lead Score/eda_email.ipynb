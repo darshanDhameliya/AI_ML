{
 "cells": [
  {
   "cell_type": "code",
   "execution_count": 35,
   "id": "5de3e5fd-682e-4a85-9a81-3c0d6bd8b975",
   "metadata": {},
   "outputs": [],
   "source": [
    "import pandas as pd\n",
    "import numpy as np\n",
    "import re"
   ]
  },
  {
   "cell_type": "code",
   "execution_count": 3,
   "id": "c15b651c-beac-4218-9096-598d6b73f179",
   "metadata": {},
   "outputs": [
    {
     "name": "stderr",
     "output_type": "stream",
     "text": [
      "/tmp/ipykernel_520027/4054854854.py:1: DtypeWarning: Columns (13) have mixed types. Specify dtype option on import or set low_memory=False.\n",
      "  df_data = pd.read_csv('/home/darshan/Documents/VonageEtl_Lead_Score/processed_dataset.csv')\n"
     ]
    },
    {
     "name": "stdout",
     "output_type": "stream",
     "text": [
      "<class 'pandas.core.frame.DataFrame'>\n",
      "RangeIndex: 5023681 entries, 0 to 5023680\n",
      "Data columns (total 17 columns):\n",
      " #   Column           Dtype \n",
      "---  ------           ----- \n",
      " 0   Unnamed: 0       int64 \n",
      " 1   First Name       object\n",
      " 2   CompanyName      object\n",
      " 3   mail             object\n",
      " 4   Email            object\n",
      " 5   CTA              object\n",
      " 6   Domain           object\n",
      " 7   ID               object\n",
      " 8   source           object\n",
      " 9   date             object\n",
      " 10  raw_status       object\n",
      " 11  status           object\n",
      " 12  status_time      object\n",
      " 13  reason           object\n",
      " 14  status_time_utc  object\n",
      " 15  derived_email    object\n",
      " 16  derived_mail     object\n",
      "dtypes: int64(1), object(16)\n",
      "memory usage: 651.6+ MB\n"
     ]
    }
   ],
   "source": [
    "df_data = pd.read_csv('/home/darshan/Documents/VonageEtl_Lead_Score/processed_dataset.csv')\n",
    "\n",
    "df_data.info()"
   ]
  },
  {
   "cell_type": "code",
   "execution_count": 4,
   "id": "08f9da41-2a36-4d98-882e-7b5dec473cb8",
   "metadata": {},
   "outputs": [
    {
     "data": {
      "text/html": [
       "<div>\n",
       "<style scoped>\n",
       "    .dataframe tbody tr th:only-of-type {\n",
       "        vertical-align: middle;\n",
       "    }\n",
       "\n",
       "    .dataframe tbody tr th {\n",
       "        vertical-align: top;\n",
       "    }\n",
       "\n",
       "    .dataframe thead th {\n",
       "        text-align: right;\n",
       "    }\n",
       "</style>\n",
       "<table border=\"1\" class=\"dataframe\">\n",
       "  <thead>\n",
       "    <tr style=\"text-align: right;\">\n",
       "      <th></th>\n",
       "      <th>Unnamed: 0</th>\n",
       "      <th>First Name</th>\n",
       "      <th>CompanyName</th>\n",
       "      <th>mail</th>\n",
       "      <th>Email</th>\n",
       "      <th>CTA</th>\n",
       "      <th>Domain</th>\n",
       "      <th>ID</th>\n",
       "      <th>source</th>\n",
       "      <th>date</th>\n",
       "      <th>raw_status</th>\n",
       "      <th>status</th>\n",
       "      <th>status_time</th>\n",
       "      <th>reason</th>\n",
       "      <th>status_time_utc</th>\n",
       "      <th>derived_email</th>\n",
       "      <th>derived_mail</th>\n",
       "    </tr>\n",
       "  </thead>\n",
       "  <tbody>\n",
       "    <tr>\n",
       "      <th>4221988</th>\n",
       "      <td>4221988</td>\n",
       "      <td>Helen</td>\n",
       "      <td>Merck Sharp &amp; Dohme Corp</td>\n",
       "      <td>helen_lothian@merck.com</td>\n",
       "      <td>helen_lothian@merck.com # YAMMID-1733154624948...</td>\n",
       "      <td>surveys.insightlab.co/vonage/?utm_source=direc...</td>\n",
       "      <td>Jack Miller</td>\n",
       "      <td>jack.miller@insightlab.co</td>\n",
       "      <td>../datasets/Vonage_Data_2025/Nov_24/VonageCC_N...</td>\n",
       "      <td>2024-11-21 00:00:00</td>\n",
       "      <td>EMAIL_SENT # 11/21/2024 - 11:44 AM EST</td>\n",
       "      <td>EMAIL_SENT</td>\n",
       "      <td>11/21/2024 - 11:44 AM EST</td>\n",
       "      <td>NaN</td>\n",
       "      <td>2024-11-21 16:44:00+00:00</td>\n",
       "      <td>helen_lothian@merck.com</td>\n",
       "      <td>helen_lothian@merck.com</td>\n",
       "    </tr>\n",
       "    <tr>\n",
       "      <th>3719447</th>\n",
       "      <td>3719447</td>\n",
       "      <td>Fatma</td>\n",
       "      <td>Philip Morris International</td>\n",
       "      <td>fatma.oun@pmi.com</td>\n",
       "      <td>fatma.oun@pmi.com # YAMMID-1731336091546/1931b...</td>\n",
       "      <td>surveys.insightlab.co/vonage/?utm_source=direc...</td>\n",
       "      <td>John Norton</td>\n",
       "      <td>nortonj@insightlab.co</td>\n",
       "      <td>../datasets/Vonage_Data_2025/Oct_24/Vonage_CC_...</td>\n",
       "      <td>2024-11-07 00:00:00</td>\n",
       "      <td>EMAIL_SENT # 11/07/2024 - 09:31 AM EST</td>\n",
       "      <td>EMAIL_SENT</td>\n",
       "      <td>11/07/2024 - 09:31 AM EST</td>\n",
       "      <td>NaN</td>\n",
       "      <td>2024-11-07 14:31:00+00:00</td>\n",
       "      <td>fatma.oun@pmi.com</td>\n",
       "      <td>fatma.oun@pmi.com</td>\n",
       "    </tr>\n",
       "    <tr>\n",
       "      <th>958337</th>\n",
       "      <td>958337</td>\n",
       "      <td>Ira</td>\n",
       "      <td>Telular</td>\n",
       "      <td>istern@telular.com</td>\n",
       "      <td>istern@telular.com # YAMMID-1712589467934/18eb...</td>\n",
       "      <td>www.insightlab.co/vonage-cc?utm_source=direct_...</td>\n",
       "      <td>Gary White</td>\n",
       "      <td>nortonjohn@insightlab.co</td>\n",
       "      <td>../datasets/Vonage_Data_2025/Mar_24/VonageCC_S...</td>\n",
       "      <td>2024-04-01 00:00:00</td>\n",
       "      <td>EMAIL_SENT # 04/01/2024 - 11:46 AM EDT</td>\n",
       "      <td>EMAIL_SENT</td>\n",
       "      <td>04/01/2024 - 11:46 AM EDT</td>\n",
       "      <td>NaN</td>\n",
       "      <td>2024-04-01 15:46:00+00:00</td>\n",
       "      <td>istern@telular.com</td>\n",
       "      <td>istern@telular.com</td>\n",
       "    </tr>\n",
       "    <tr>\n",
       "      <th>4773896</th>\n",
       "      <td>4773896</td>\n",
       "      <td>Ganesh</td>\n",
       "      <td>CVS Pharmacy Inc</td>\n",
       "      <td>ganesh.gulecha@cvshealth.com</td>\n",
       "      <td>ganesh.gulecha@cvshealth.com # YAMMID-17361720...</td>\n",
       "      <td>surveys.insightlab.co/vonage/?utm_source=direc...</td>\n",
       "      <td>William Penn</td>\n",
       "      <td>william.penn@insightlab.co</td>\n",
       "      <td>../datasets/Vonage_Data_2025/Dec_24/Vonage_CC_...</td>\n",
       "      <td>2025-02-06 00:00:00</td>\n",
       "      <td>EMAIL_SENT # 01/06/2025 - 09:01 AM EST</td>\n",
       "      <td>EMAIL_SENT</td>\n",
       "      <td>01/06/2025 - 09:01 AM EST</td>\n",
       "      <td>NaN</td>\n",
       "      <td>2025-01-06 14:01:00+00:00</td>\n",
       "      <td>ganesh.gulecha@cvshealth.com</td>\n",
       "      <td>ganesh.gulecha@cvshealth.com</td>\n",
       "    </tr>\n",
       "    <tr>\n",
       "      <th>3827681</th>\n",
       "      <td>3827681</td>\n",
       "      <td>James</td>\n",
       "      <td>Northern Illinois University</td>\n",
       "      <td>jimleon@cs.niu.edu</td>\n",
       "      <td>jimleon@cs.niu.edu # YAMMID-1727878872120/1924...</td>\n",
       "      <td>surveys.insightpanel.biz/vonage/?utm_source=di...</td>\n",
       "      <td>Emma Dunn</td>\n",
       "      <td>emma.dunn@insightpanel.biz</td>\n",
       "      <td>../datasets/Vonage_Data_2025/Oct_24/Vonage_CC_...</td>\n",
       "      <td>2024-10-04 00:00:00</td>\n",
       "      <td>0.0</td>\n",
       "      <td>0.0</td>\n",
       "      <td>NaN</td>\n",
       "      <td>NaN</td>\n",
       "      <td>NaN</td>\n",
       "      <td>jimleon@cs.niu.edu</td>\n",
       "      <td>jimleon@cs.niu.edu</td>\n",
       "    </tr>\n",
       "  </tbody>\n",
       "</table>\n",
       "</div>"
      ],
      "text/plain": [
       "         Unnamed: 0 First Name                   CompanyName  \\\n",
       "4221988     4221988      Helen      Merck Sharp & Dohme Corp   \n",
       "3719447     3719447      Fatma   Philip Morris International   \n",
       "958337       958337        Ira                       Telular   \n",
       "4773896     4773896     Ganesh              CVS Pharmacy Inc   \n",
       "3827681     3827681      James  Northern Illinois University   \n",
       "\n",
       "                                 mail  \\\n",
       "4221988       helen_lothian@merck.com   \n",
       "3719447             fatma.oun@pmi.com   \n",
       "958337             istern@telular.com   \n",
       "4773896  ganesh.gulecha@cvshealth.com   \n",
       "3827681            jimleon@cs.niu.edu   \n",
       "\n",
       "                                                     Email  \\\n",
       "4221988  helen_lothian@merck.com # YAMMID-1733154624948...   \n",
       "3719447  fatma.oun@pmi.com # YAMMID-1731336091546/1931b...   \n",
       "958337   istern@telular.com # YAMMID-1712589467934/18eb...   \n",
       "4773896  ganesh.gulecha@cvshealth.com # YAMMID-17361720...   \n",
       "3827681  jimleon@cs.niu.edu # YAMMID-1727878872120/1924...   \n",
       "\n",
       "                                                       CTA        Domain  \\\n",
       "4221988  surveys.insightlab.co/vonage/?utm_source=direc...   Jack Miller   \n",
       "3719447  surveys.insightlab.co/vonage/?utm_source=direc...   John Norton   \n",
       "958337   www.insightlab.co/vonage-cc?utm_source=direct_...    Gary White   \n",
       "4773896  surveys.insightlab.co/vonage/?utm_source=direc...  William Penn   \n",
       "3827681  surveys.insightpanel.biz/vonage/?utm_source=di...     Emma Dunn   \n",
       "\n",
       "                                 ID  \\\n",
       "4221988   jack.miller@insightlab.co   \n",
       "3719447       nortonj@insightlab.co   \n",
       "958337     nortonjohn@insightlab.co   \n",
       "4773896  william.penn@insightlab.co   \n",
       "3827681  emma.dunn@insightpanel.biz   \n",
       "\n",
       "                                                    source  \\\n",
       "4221988  ../datasets/Vonage_Data_2025/Nov_24/VonageCC_N...   \n",
       "3719447  ../datasets/Vonage_Data_2025/Oct_24/Vonage_CC_...   \n",
       "958337   ../datasets/Vonage_Data_2025/Mar_24/VonageCC_S...   \n",
       "4773896  ../datasets/Vonage_Data_2025/Dec_24/Vonage_CC_...   \n",
       "3827681  ../datasets/Vonage_Data_2025/Oct_24/Vonage_CC_...   \n",
       "\n",
       "                        date                              raw_status  \\\n",
       "4221988  2024-11-21 00:00:00  EMAIL_SENT # 11/21/2024 - 11:44 AM EST   \n",
       "3719447  2024-11-07 00:00:00  EMAIL_SENT # 11/07/2024 - 09:31 AM EST   \n",
       "958337   2024-04-01 00:00:00  EMAIL_SENT # 04/01/2024 - 11:46 AM EDT   \n",
       "4773896  2025-02-06 00:00:00  EMAIL_SENT # 01/06/2025 - 09:01 AM EST   \n",
       "3827681  2024-10-04 00:00:00                                     0.0   \n",
       "\n",
       "             status                status_time reason  \\\n",
       "4221988  EMAIL_SENT  11/21/2024 - 11:44 AM EST    NaN   \n",
       "3719447  EMAIL_SENT  11/07/2024 - 09:31 AM EST    NaN   \n",
       "958337   EMAIL_SENT  04/01/2024 - 11:46 AM EDT    NaN   \n",
       "4773896  EMAIL_SENT  01/06/2025 - 09:01 AM EST    NaN   \n",
       "3827681         0.0                        NaN    NaN   \n",
       "\n",
       "                   status_time_utc                 derived_email  \\\n",
       "4221988  2024-11-21 16:44:00+00:00       helen_lothian@merck.com   \n",
       "3719447  2024-11-07 14:31:00+00:00             fatma.oun@pmi.com   \n",
       "958337   2024-04-01 15:46:00+00:00            istern@telular.com   \n",
       "4773896  2025-01-06 14:01:00+00:00  ganesh.gulecha@cvshealth.com   \n",
       "3827681                        NaN            jimleon@cs.niu.edu   \n",
       "\n",
       "                         derived_mail  \n",
       "4221988       helen_lothian@merck.com  \n",
       "3719447             fatma.oun@pmi.com  \n",
       "958337             istern@telular.com  \n",
       "4773896  ganesh.gulecha@cvshealth.com  \n",
       "3827681            jimleon@cs.niu.edu  "
      ]
     },
     "execution_count": 4,
     "metadata": {},
     "output_type": "execute_result"
    }
   ],
   "source": [
    "df_data.sample(5)"
   ]
  },
  {
   "cell_type": "markdown",
   "id": "94e904fd-64d4-4e2e-bbb4-c0ec2f3f96f0",
   "metadata": {},
   "source": [
    "## Remove Extra Columns of Email"
   ]
  },
  {
   "cell_type": "code",
   "execution_count": 5,
   "id": "e639bb7c-e58f-46da-ad34-8ed599e6a09d",
   "metadata": {},
   "outputs": [],
   "source": [
    "df_data = df_data.dropna(subset=[\"mail\", \"Email\", \"derived_email\", \"derived_mail\"], how=\"all\")"
   ]
  },
  {
   "cell_type": "code",
   "execution_count": 6,
   "id": "9d5706e8-c255-4c74-8558-38d1c26b76fb",
   "metadata": {},
   "outputs": [
    {
     "name": "stdout",
     "output_type": "stream",
     "text": [
      "<class 'pandas.core.frame.DataFrame'>\n",
      "Index: 5017805 entries, 0 to 5023680\n",
      "Data columns (total 17 columns):\n",
      " #   Column           Dtype \n",
      "---  ------           ----- \n",
      " 0   Unnamed: 0       int64 \n",
      " 1   First Name       object\n",
      " 2   CompanyName      object\n",
      " 3   mail             object\n",
      " 4   Email            object\n",
      " 5   CTA              object\n",
      " 6   Domain           object\n",
      " 7   ID               object\n",
      " 8   source           object\n",
      " 9   date             object\n",
      " 10  raw_status       object\n",
      " 11  status           object\n",
      " 12  status_time      object\n",
      " 13  reason           object\n",
      " 14  status_time_utc  object\n",
      " 15  derived_email    object\n",
      " 16  derived_mail     object\n",
      "dtypes: int64(1), object(16)\n",
      "memory usage: 689.1+ MB\n"
     ]
    }
   ],
   "source": [
    "df_data.info()"
   ]
  },
  {
   "cell_type": "code",
   "execution_count": 7,
   "id": "5cc9fbea-cde1-43dd-8a1b-6e833baab613",
   "metadata": {},
   "outputs": [
    {
     "data": {
      "text/plain": [
       "mail             0\n",
       "Email            0\n",
       "derived_email    0\n",
       "derived_mail     0\n",
       "dtype: int64"
      ]
     },
     "execution_count": 7,
     "metadata": {},
     "output_type": "execute_result"
    }
   ],
   "source": [
    "df_data[[\"mail\", \"Email\", \"derived_email\", \"derived_mail\"]].isna().sum()"
   ]
  },
  {
   "cell_type": "code",
   "execution_count": 8,
   "id": "1a657d0f-e5f6-447e-b551-a30f79a7456c",
   "metadata": {},
   "outputs": [
    {
     "data": {
      "text/plain": [
       "np.int64(0)"
      ]
     },
     "execution_count": 8,
     "metadata": {},
     "output_type": "execute_result"
    }
   ],
   "source": [
    "(df_data[\"derived_email\"] != df_data[\"derived_mail\"]).sum()"
   ]
  },
  {
   "cell_type": "code",
   "execution_count": 9,
   "id": "60b9e6b5-24ad-45b6-ab57-75342dde3906",
   "metadata": {},
   "outputs": [],
   "source": [
    "df_data = df_data.drop(columns=[\"mail\", \"Email\", \"derived_mail\"])"
   ]
  },
  {
   "cell_type": "markdown",
   "id": "0dd3ec8f-8841-4fa7-8ec1-cd18ad8f1c2f",
   "metadata": {},
   "source": [
    "## Complete: Remove Extra Columns of Email"
   ]
  },
  {
   "cell_type": "code",
   "execution_count": 10,
   "id": "b2ff70d6-4fd6-4d19-b7c0-a281c179bdaf",
   "metadata": {},
   "outputs": [
    {
     "name": "stdout",
     "output_type": "stream",
     "text": [
      "<class 'pandas.core.frame.DataFrame'>\n",
      "Index: 5017805 entries, 0 to 5023680\n",
      "Data columns (total 14 columns):\n",
      " #   Column           Dtype \n",
      "---  ------           ----- \n",
      " 0   Unnamed: 0       int64 \n",
      " 1   First Name       object\n",
      " 2   CompanyName      object\n",
      " 3   CTA              object\n",
      " 4   Domain           object\n",
      " 5   ID               object\n",
      " 6   source           object\n",
      " 7   date             object\n",
      " 8   raw_status       object\n",
      " 9   status           object\n",
      " 10  status_time      object\n",
      " 11  reason           object\n",
      " 12  status_time_utc  object\n",
      " 13  derived_email    object\n",
      "dtypes: int64(1), object(13)\n",
      "memory usage: 574.2+ MB\n"
     ]
    }
   ],
   "source": [
    "df_data.info()"
   ]
  },
  {
   "cell_type": "markdown",
   "id": "2be7b3bc-c05f-4c7c-b3cf-9a185c4c0ac0",
   "metadata": {},
   "source": [
    "## Cleaning Email Status Value"
   ]
  },
  {
   "cell_type": "code",
   "execution_count": 11,
   "id": "11129cb4-7989-4b5f-be90-bac2d62b2617",
   "metadata": {},
   "outputs": [
    {
     "data": {
      "text/plain": [
       "array(['EMAIL_SENT', 'EMAIL_OPENED', '0', 'ERROR', 'UNSUBSCRIBED',\n",
       "       'BOUNCED', 'RESPONDED', 'EMAIL_CLICKED', 'SCHEDULED',\n",
       "       'EMAIL_NOT_SENT', '0.0', nan], dtype=object)"
      ]
     },
     "execution_count": 11,
     "metadata": {},
     "output_type": "execute_result"
    }
   ],
   "source": [
    "df_data['status'].unique()"
   ]
  },
  {
   "cell_type": "code",
   "execution_count": 12,
   "id": "91ce8c47-695a-4a45-8e2d-25c931b81895",
   "metadata": {},
   "outputs": [
    {
     "data": {
      "text/plain": [
       "array(['EMAIL_SENT', 'EMAIL_OPENED', 'EMAIL_NOT_SENT', 'ERROR',\n",
       "       'UNSUBSCRIBED', 'BOUNCED', 'RESPONDED', 'EMAIL_CLICKED',\n",
       "       'SCHEDULED'], dtype=object)"
      ]
     },
     "execution_count": 12,
     "metadata": {},
     "output_type": "execute_result"
    }
   ],
   "source": [
    "df_data.replace('0.0','0',inplace=True)\n",
    "df_data[\"status\"] = df_data[\"status\"].fillna(\"0\")\n",
    "df_data['status'] = df_data['status'].replace('0','EMAIL_NOT_SENT')\n",
    "\n",
    "df_data['status'].unique()"
   ]
  },
  {
   "cell_type": "markdown",
   "id": "328743c9-e551-4596-bba3-c89add8568d3",
   "metadata": {},
   "source": [
    "## Cleaning Reason Value"
   ]
  },
  {
   "cell_type": "code",
   "execution_count": 13,
   "id": "97fc0ea4-c509-4845-9a45-36bf0f2c9163",
   "metadata": {},
   "outputs": [
    {
     "data": {
      "text/plain": [
       "array([nan, 'Not Found', 'Invalid email address', 'Message rejected',\n",
       "       'Address not found', 'Message not delivered', 'Message blocked',\n",
       "       'Soft bounce', 'Gmail operation not allowed.', 'unknown',\n",
       "       'Invalid email', 'Not found', 'Service unavailable',\n",
       "       'Invalid email: \"Chad Â€_x008d_\" <chad_a€_x008d_@pamperedchef.com>',\n",
       "       'Invalid email: \"Ä¸œ Æ_x009d_Ž\" <a¸œ.ae_x009d_z@dvf.com>'],\n",
       "      dtype=object)"
      ]
     },
     "execution_count": 13,
     "metadata": {},
     "output_type": "execute_result"
    }
   ],
   "source": [
    "df_data['reason'].unique()"
   ]
  },
  {
   "cell_type": "code",
   "execution_count": 14,
   "id": "4798f22c-faef-4970-9de8-7a4034437be5",
   "metadata": {},
   "outputs": [
    {
     "data": {
      "text/plain": [
       "array([nan, 'Not Found', 'Invalid Email', 'Message Rejected',\n",
       "       'Message Not Delivered', 'Message Blocked', 'Soft Bounce',\n",
       "       'Gmail Operation Not Allowed', 'Unknown', 'Service Unavailable'],\n",
       "      dtype=object)"
      ]
     },
     "execution_count": 14,
     "metadata": {},
     "output_type": "execute_result"
    }
   ],
   "source": [
    "# Define the mapping of old reasons to new standardized reasons\n",
    "reason_mapping = {\n",
    "    'Invalid email address': 'Invalid Email',\n",
    "    'Invalid email': 'Invalid Email',\n",
    "    'Not Found': 'Not Found',\n",
    "    'Not found': 'Not Found',\n",
    "    'Address not found': 'Not Found',\n",
    "    'Message rejected': 'Message Rejected',\n",
    "    'Message not delivered': 'Message Not Delivered',\n",
    "    'Message blocked': 'Message Blocked',\n",
    "    'Soft bounce': 'Soft Bounce',\n",
    "    'Gmail operation not allowed.': 'Gmail Operation Not Allowed',\n",
    "    'unknown': 'Unknown',\n",
    "    'Service unavailable': 'Service Unavailable',\n",
    "    # Handling corrupted email messages as 'Invalid Email'\n",
    "    'Invalid email: \"Chad Â€_x008d_\" <chad_a€_x008d_@pamperedchef.com>': 'Invalid Email',\n",
    "    'Invalid email: \"Ä¸œ Æ_x009d_Ž\" <a¸œ.ae_x009d_z@dvf.com>': 'Invalid Email'\n",
    "}\n",
    "\n",
    "# Apply mapping to the dataframe\n",
    "df_data['standardized_reason'] = df_data['reason'].map(reason_mapping).fillna(df_data['reason'])\n",
    "\n",
    "# Display the updated dataframe\n",
    "df_data['standardized_reason'].unique()"
   ]
  },
  {
   "cell_type": "code",
   "execution_count": 15,
   "id": "069c3438-050f-4d58-948c-5016be3d6af7",
   "metadata": {},
   "outputs": [
    {
     "data": {
      "text/plain": [
       "status\n",
       "BOUNCED           [Message Rejected, Not Found, Message Not Deli...\n",
       "EMAIL_CLICKED                                                 [nan]\n",
       "EMAIL_NOT_SENT    [nan, Message Rejected, Message Blocked, Not F...\n",
       "EMAIL_OPENED                                                  [nan]\n",
       "EMAIL_SENT                                                    [nan]\n",
       "ERROR             [Not Found, Invalid Email, Gmail Operation Not...\n",
       "RESPONDED                                                     [nan]\n",
       "SCHEDULED                                          [nan, Not Found]\n",
       "UNSUBSCRIBED                                                  [nan]\n",
       "Name: standardized_reason, dtype: object"
      ]
     },
     "execution_count": 15,
     "metadata": {},
     "output_type": "execute_result"
    }
   ],
   "source": [
    "df_data.groupby(\"status\")[\"standardized_reason\"].unique()"
   ]
  },
  {
   "cell_type": "markdown",
   "id": "bbdecaf0-db34-42d5-b091-8b077010a38a",
   "metadata": {},
   "source": [
    "## Can i change Status Value Based on reason?\n",
    "### Some time email reason is 'Not Found' but is Status is Diff. so use user mistake or correct data?"
   ]
  },
  {
   "cell_type": "code",
   "execution_count": 16,
   "id": "46afe20f-e11f-48a6-b632-f4efa3de13ff",
   "metadata": {},
   "outputs": [
    {
     "name": "stdout",
     "output_type": "stream",
     "text": [
      "<class 'pandas.core.frame.DataFrame'>\n",
      "RangeIndex: 143973 entries, 0 to 143972\n",
      "Data columns (total 2 columns):\n",
      " #   Column         Non-Null Count   Dtype \n",
      "---  ------         --------------   ----- \n",
      " 0   derived_email  143973 non-null  object\n",
      " 1   status         143973 non-null  object\n",
      "dtypes: object(2)\n",
      "memory usage: 2.2+ MB\n"
     ]
    }
   ],
   "source": [
    "df_email_status = df_data.groupby('derived_email')['status'].unique().reset_index()\n",
    "df_email_status.info()"
   ]
  },
  {
   "cell_type": "code",
   "execution_count": null,
   "id": "19dec4e6-72cc-45d4-aad4-9af244bd0982",
   "metadata": {},
   "outputs": [],
   "source": []
  },
  {
   "cell_type": "code",
   "execution_count": null,
   "id": "e3445d29-a604-466d-84b9-930ecab3ea7f",
   "metadata": {},
   "outputs": [],
   "source": []
  },
  {
   "cell_type": "markdown",
   "id": "ee97ce28-c1c9-4add-95fb-65f303e220e8",
   "metadata": {},
   "source": [
    "## Verify Status Time column\n",
    "### Time is missing or not for building a feature\n",
    "### we need status_date value in bulding feature for EMAIL_SEND. but some status_date is Emplty so we use form date column"
   ]
  },
  {
   "cell_type": "code",
   "execution_count": 17,
   "id": "b97101a7-7e6f-42eb-9cac-f5d25acf828f",
   "metadata": {},
   "outputs": [
    {
     "data": {
      "text/plain": [
       "status\n",
       "EMAIL_NOT_SENT    819083\n",
       "BOUNCED           128399\n",
       "SCHEDULED          14368\n",
       "EMAIL_SENT          9198\n",
       "ERROR               7526\n",
       "UNSUBSCRIBED          17\n",
       "Name: count, dtype: int64"
      ]
     },
     "execution_count": 17,
     "metadata": {},
     "output_type": "execute_result"
    }
   ],
   "source": [
    "df_data[df_data[\"status_time_utc\"].isna()]['status'].value_counts()"
   ]
  },
  {
   "cell_type": "code",
   "execution_count": 18,
   "id": "1cd0ed70-0180-4870-a1f7-20f0ac09404a",
   "metadata": {},
   "outputs": [
    {
     "data": {
      "text/plain": [
       "array(['2024-03-11 00:00:00', '2024-02-06 00:00:00',\n",
       "       '2024-05-02 00:00:00', '2024-04-04 00:00:00',\n",
       "       '2024-05-14 00:00:00', '2024-07-30 00:00:00',\n",
       "       '2024-08-01 00:00:00', '2024-11-11 00:00:00',\n",
       "       '2024-10-30 00:00:00', '2024-11-21 00:00:00',\n",
       "       '2024-11-13 00:00:00'], dtype=object)"
      ]
     },
     "execution_count": 18,
     "metadata": {},
     "output_type": "execute_result"
    }
   ],
   "source": [
    "df_data[(df_data['status_time_utc'].isna()) & (df_data['status'] == \"EMAIL_SENT\")]['date'].unique()"
   ]
  },
  {
   "cell_type": "code",
   "execution_count": 19,
   "id": "bad94500-2afc-49d7-a0b4-d89cca20c6df",
   "metadata": {},
   "outputs": [
    {
     "data": {
      "text/html": [
       "<div>\n",
       "<style scoped>\n",
       "    .dataframe tbody tr th:only-of-type {\n",
       "        vertical-align: middle;\n",
       "    }\n",
       "\n",
       "    .dataframe tbody tr th {\n",
       "        vertical-align: top;\n",
       "    }\n",
       "\n",
       "    .dataframe thead th {\n",
       "        text-align: right;\n",
       "    }\n",
       "</style>\n",
       "<table border=\"1\" class=\"dataframe\">\n",
       "  <thead>\n",
       "    <tr style=\"text-align: right;\">\n",
       "      <th></th>\n",
       "      <th>status_time_utc</th>\n",
       "      <th>dt_status_time_utc</th>\n",
       "    </tr>\n",
       "  </thead>\n",
       "  <tbody>\n",
       "    <tr>\n",
       "      <th>0</th>\n",
       "      <td>2024-01-03 15:46:00+00:00</td>\n",
       "      <td>2024-01-03 15:46:00+00:00</td>\n",
       "    </tr>\n",
       "    <tr>\n",
       "      <th>1</th>\n",
       "      <td>2024-01-03 15:46:00+00:00</td>\n",
       "      <td>2024-01-03 15:46:00+00:00</td>\n",
       "    </tr>\n",
       "    <tr>\n",
       "      <th>2</th>\n",
       "      <td>2024-01-03 15:46:00+00:00</td>\n",
       "      <td>2024-01-03 15:46:00+00:00</td>\n",
       "    </tr>\n",
       "    <tr>\n",
       "      <th>3</th>\n",
       "      <td>2024-01-03 15:46:00+00:00</td>\n",
       "      <td>2024-01-03 15:46:00+00:00</td>\n",
       "    </tr>\n",
       "    <tr>\n",
       "      <th>4</th>\n",
       "      <td>2024-01-03 15:46:00+00:00</td>\n",
       "      <td>2024-01-03 15:46:00+00:00</td>\n",
       "    </tr>\n",
       "  </tbody>\n",
       "</table>\n",
       "</div>"
      ],
      "text/plain": [
       "             status_time_utc        dt_status_time_utc\n",
       "0  2024-01-03 15:46:00+00:00 2024-01-03 15:46:00+00:00\n",
       "1  2024-01-03 15:46:00+00:00 2024-01-03 15:46:00+00:00\n",
       "2  2024-01-03 15:46:00+00:00 2024-01-03 15:46:00+00:00\n",
       "3  2024-01-03 15:46:00+00:00 2024-01-03 15:46:00+00:00\n",
       "4  2024-01-03 15:46:00+00:00 2024-01-03 15:46:00+00:00"
      ]
     },
     "execution_count": 19,
     "metadata": {},
     "output_type": "execute_result"
    }
   ],
   "source": [
    "df_data['dt_status_time_utc'] = pd.to_datetime(df_data['status_time_utc'])\n",
    "\n",
    "# Verify Date convert in properly\n",
    "df_data[['status_time_utc', 'dt_status_time_utc']].head()"
   ]
  },
  {
   "cell_type": "code",
   "execution_count": 20,
   "id": "32e378e7-f281-4660-81c6-b2687db9df7d",
   "metadata": {},
   "outputs": [
    {
     "data": {
      "text/plain": [
       "status\n",
       "EMAIL_NOT_SENT    819083\n",
       "BOUNCED           128399\n",
       "SCHEDULED          14368\n",
       "ERROR               7526\n",
       "UNSUBSCRIBED          17\n",
       "Name: count, dtype: int64"
      ]
     },
     "execution_count": 20,
     "metadata": {},
     "output_type": "execute_result"
    }
   ],
   "source": [
    "mask = (df_data['status_time_utc'].isna()) & (df_data['status'] == 'EMAIL_SENT')\n",
    "\n",
    "df_data.loc[mask, 'status_time_utc'] = pd.to_datetime(df_data.loc[mask, 'date']).dt.strftime(\"%Y-%m-%d %H:%M:%S+00:00\")\n",
    "\n",
    "df_data[df_data[\"status_time_utc\"].isna()]['status'].value_counts()"
   ]
  },
  {
   "cell_type": "code",
   "execution_count": null,
   "id": "57f5defc-15eb-426a-9cd7-17e2ca86eac9",
   "metadata": {},
   "outputs": [],
   "source": []
  },
  {
   "cell_type": "code",
   "execution_count": null,
   "id": "e02b37b1-cfd0-45cb-84d5-7afc914d3f90",
   "metadata": {},
   "outputs": [],
   "source": []
  },
  {
   "cell_type": "code",
   "execution_count": null,
   "id": "6d53ab1d-60d5-4653-b79d-d9105d48c0fc",
   "metadata": {},
   "outputs": [],
   "source": []
  },
  {
   "cell_type": "code",
   "execution_count": null,
   "id": "2404c37f-3f9c-4b0b-94dd-243b123b8185",
   "metadata": {},
   "outputs": [],
   "source": []
  },
  {
   "cell_type": "code",
   "execution_count": null,
   "id": "a3f2a69b-73ac-4f2d-911d-b95fb09db99f",
   "metadata": {},
   "outputs": [],
   "source": []
  },
  {
   "cell_type": "code",
   "execution_count": null,
   "id": "842700be-1371-4896-b65f-3b74b880e539",
   "metadata": {},
   "outputs": [],
   "source": []
  },
  {
   "cell_type": "markdown",
   "id": "33e6bc24-b062-4e06-9497-bc8b04c211dc",
   "metadata": {},
   "source": [
    "## Create Feature C"
   ]
  },
  {
   "cell_type": "code",
   "execution_count": 21,
   "id": "89a56bd0-fcde-4caa-8ab2-1effa057c0b5",
   "metadata": {},
   "outputs": [
    {
     "name": "stdout",
     "output_type": "stream",
     "text": [
      "<class 'pandas.core.frame.DataFrame'>\n",
      "Index: 5017805 entries, 0 to 5023680\n",
      "Data columns (total 16 columns):\n",
      " #   Column               Dtype              \n",
      "---  ------               -----              \n",
      " 0   Unnamed: 0           int64              \n",
      " 1   First Name           object             \n",
      " 2   CompanyName          object             \n",
      " 3   CTA                  object             \n",
      " 4   Domain               object             \n",
      " 5   ID                   object             \n",
      " 6   source               object             \n",
      " 7   date                 object             \n",
      " 8   raw_status           object             \n",
      " 9   status               object             \n",
      " 10  status_time          object             \n",
      " 11  reason               object             \n",
      " 12  status_time_utc      object             \n",
      " 13  derived_email        object             \n",
      " 14  standardized_reason  object             \n",
      " 15  dt_status_time_utc   datetime64[ns, UTC]\n",
      "dtypes: datetime64[ns, UTC](1), int64(1), object(14)\n",
      "memory usage: 650.8+ MB\n"
     ]
    }
   ],
   "source": [
    "df_data.info()"
   ]
  },
  {
   "cell_type": "code",
   "execution_count": 22,
   "id": "f89104c0-9b7d-4f58-853d-5a767c3b4a4d",
   "metadata": {},
   "outputs": [
    {
     "name": "stdout",
     "output_type": "stream",
     "text": [
      "<class 'pandas.core.frame.DataFrame'>\n",
      "RangeIndex: 143973 entries, 0 to 143972\n",
      "Data columns (total 7 columns):\n",
      " #   Column         Non-Null Count   Dtype \n",
      "---  ------         --------------   ----- \n",
      " 0   derived_email  143973 non-null  object\n",
      " 1   BOUNCED        143973 non-null  int64 \n",
      " 2   EMAIL_CLICKED  143973 non-null  int64 \n",
      " 3   EMAIL_OPENED   143973 non-null  int64 \n",
      " 4   EMAIL_SENT     143973 non-null  int64 \n",
      " 5   RESPONDED      143973 non-null  int64 \n",
      " 6   UNSUBSCRIBED   143973 non-null  int64 \n",
      "dtypes: int64(6), object(1)\n",
      "memory usage: 7.7+ MB\n"
     ]
    }
   ],
   "source": [
    "# Create pivot table to count each status per email\n",
    "email_status_counts = df_data.pivot_table(index=\"derived_email\", columns=\"status\", aggfunc=\"size\", fill_value=0)\n",
    "\n",
    "# Reset index for better readability\n",
    "email_status_counts = email_status_counts.reset_index()\n",
    "\n",
    "df_feature_cl = email_status_counts.drop(columns=['EMAIL_NOT_SENT', 'ERROR', 'SCHEDULED'])\n",
    "\n",
    "df_feature_cl.info()"
   ]
  },
  {
   "cell_type": "code",
   "execution_count": 23,
   "id": "0583a987-9af8-440b-9744-e38913deb6d6",
   "metadata": {},
   "outputs": [],
   "source": [
    "# Convert datetime column if not already in datetime format\n",
    "df_data[\"dt_status_time_utc\"] = pd.to_datetime(df_data[\"dt_status_time_utc\"])\n",
    "\n",
    "# Define time filters\n",
    "from datetime import timedelta\n",
    "\n",
    "# last_4_weeks = df_data[\"dt_status_time_utc\"] >= (df_data[\"dt_status_time_utc\"].max() - timedelta(weeks=4))\n",
    "# last_8_weeks = df_data[\"dt_status_time_utc\"] >= (df_data[\"dt_status_time_utc\"].max() - timedelta(weeks=8))\n",
    "# last_12_weeks = df_data[\"dt_status_time_utc\"] >= (df_data[\"dt_status_time_utc\"].max() - timedelta(weeks=12))\n",
    "# weekend_emails = df_data[\"dt_status_time_utc\"].dt.dayofweek >= 5  # Saturday & Sunday\n",
    "\n",
    "# # Aggregations\n",
    "# features = df_data.groupby(\"derived_email\").agg(\n",
    "#     Total_Emails_Sent=(\"status\", \"count\"),\n",
    "#     Total_Email_Clicks=(\"status\", lambda x: (x == \"EMAIL_CLICKED\").sum()),\n",
    "#     Total_Email_Opened=(\"status\", lambda x: (x == \"EMAIL_OPENED\").sum()),\n",
    "#     Total_Email_Unsubscribed=(\"status\", lambda x: (x == \"UNSUBSCRIBED\").sum()),\n",
    "#     Total_Bounced=(\"status\", lambda x: (x == \"BOUNCED\").sum()),\n",
    "#     Total_Responded_Emails=(\"status\", lambda x: (x == \"RESPONDED\").sum()),\n",
    "#     Total_Emails_Sent_Last_4_Weeks=(\"dt_status_time_utc\", lambda x: (x >= (x.max() - timedelta(weeks=4))).sum()),\n",
    "#     Total_Emails_Sent_Last_8_Weeks=(\"dt_status_time_utc\", lambda x: (x >= (x.max() - timedelta(weeks=8))).sum()),\n",
    "#     Total_Emails_Sent_Last_12_Weeks=(\"dt_status_time_utc\", lambda x: (x >= (x.max() - timedelta(weeks=12))).sum()),\n",
    "#     Total_Emails_Opened_Last_4_Weeks=(\"status\", lambda x: ((df_data.loc[x.index, \"dt_status_time_utc\"] >= (df_data[\"dt_status_time_utc\"].max() - timedelta(weeks=4))) & (x == \"EMAIL_OPENED\")).sum()),\n",
    "#     Total_Emails_Opened_Last_8_Weeks=(\"status\", lambda x: ((df_data.loc[x.index, \"dt_status_time_utc\"] >= (df_data[\"dt_status_time_utc\"].max() - timedelta(weeks=8))) & (x == \"EMAIL_OPENED\")).sum()),\n",
    "#     Total_Emails_Opened_Last_12_Weeks=(\"status\", lambda x: ((df_data.loc[x.index, \"dt_status_time_utc\"] >= (df_data[\"dt_status_time_utc\"].max() - timedelta(weeks=12))) & (x == \"EMAIL_OPENED\")).sum()),\n",
    "#     Total_Emails_Send_On_Weekends=(\"dt_status_time_utc\", lambda x: (x.dt.dayofweek >= 5).sum()),\n",
    "# )\n",
    "\n",
    "# # Derived Metrics\n",
    "# features[\"Click_To_Open_Ratio\"] = features[\"Total_Email_Clicks\"] / features[\"Total_Email_Opened\"]\n",
    "# features[\"Click_Through_Rate\"] = features[\"Total_Email_Clicks\"] / features[\"Total_Emails_Sent\"]\n",
    "# features[\"Response_Rate\"] = features[\"Total_Responded_Emails\"] / features[\"Total_Emails_Sent\"]\n",
    "# features[\"Bounce_Rate\"] = features[\"Total_Bounced\"] / features[\"Total_Emails_Sent\"]\n",
    "\n",
    "# # Days since last action\n",
    "# features[\"Days_Since_Last_Email_Clicked\"] = (df_data.loc[df_data[\"status\"] == \"EMAIL_CLICKED\"].groupby(\"derived_email\")[\"dt_status_time_utc\"].max() - df_data[\"dt_status_time_utc\"].max()).dt.days\n",
    "# features[\"Days_Since_Last_Successful_Response\"] = (df_data.loc[df_data[\"status\"].isin([\"EMAIL_CLICKED\", \"EMAIL_OPENED\", \"RESPONDED\"])].groupby(\"derived_email\")[\"dt_status_time_utc\"].max() - df_data[\"dt_status_time_utc\"].max()).dt.days\n",
    "\n",
    "# features.reset_index(inplace=True)\n"
   ]
  },
  {
   "cell_type": "code",
   "execution_count": 24,
   "id": "23322008-c381-49bf-a1fa-50ddcff21510",
   "metadata": {},
   "outputs": [
    {
     "data": {
      "text/plain": [
       "0          False\n",
       "1          False\n",
       "2          False\n",
       "3          False\n",
       "4          False\n",
       "           ...  \n",
       "5023676     True\n",
       "5023677     True\n",
       "5023678     True\n",
       "5023679     True\n",
       "5023680     True\n",
       "Name: dt_status_time_utc, Length: 5017805, dtype: bool"
      ]
     },
     "execution_count": 24,
     "metadata": {},
     "output_type": "execute_result"
    }
   ],
   "source": [
    "df_data['dt_status_time_utc'] >= df_data['dt_status_time_utc'].max() - timedelta(weeks=4)"
   ]
  },
  {
   "cell_type": "code",
   "execution_count": 25,
   "id": "6fab4fbb-8448-4643-b58d-e0c8c2d92c72",
   "metadata": {},
   "outputs": [
    {
     "data": {
      "text/plain": [
       "Timestamp('2024-12-10 16:25:00+0000', tz='UTC')"
      ]
     },
     "execution_count": 25,
     "metadata": {},
     "output_type": "execute_result"
    }
   ],
   "source": [
    "df_data['dt_status_time_utc'].max() - timedelta(weeks=4)"
   ]
  },
  {
   "cell_type": "code",
   "execution_count": null,
   "id": "be6b5fba-b3c3-4950-ba5a-0a9615f182e2",
   "metadata": {},
   "outputs": [],
   "source": []
  },
  {
   "cell_type": "code",
   "execution_count": null,
   "id": "1feaca86-d21e-42a5-b0e8-544c9d2b7c60",
   "metadata": {},
   "outputs": [],
   "source": []
  },
  {
   "cell_type": "code",
   "execution_count": null,
   "id": "0dbb03b0-7c52-4998-a72d-6bbbe91fde0a",
   "metadata": {},
   "outputs": [],
   "source": []
  },
  {
   "cell_type": "code",
   "execution_count": null,
   "id": "80d4846f-386e-4d67-ac31-609637493a5f",
   "metadata": {},
   "outputs": [],
   "source": []
  },
  {
   "cell_type": "code",
   "execution_count": 78,
   "id": "f77a0e24-105a-4a5d-a7bd-974d1b35ca84",
   "metadata": {},
   "outputs": [],
   "source": [
    "def verify_email_pattern(email):\n",
    "    pattern = r\"^[a-zA-Z0-9._+\\-']+@[a-zA-Z0-9.-]+\\.[a-zA-Z]{2,}$\"\n",
    "    return True if re.match(pattern, str(email)) else False"
   ]
  },
  {
   "cell_type": "code",
   "execution_count": 79,
   "id": "395cd189-5e34-4e7b-9b00-305518872b35",
   "metadata": {},
   "outputs": [
    {
     "name": "stdout",
     "output_type": "stream",
     "text": [
      "<class 'pandas.core.frame.DataFrame'>\n",
      "RangeIndex: 157392 entries, 0 to 157391\n",
      "Data columns (total 20 columns):\n",
      " #   Column                     Non-Null Count   Dtype  \n",
      "---  ------                     --------------   -----  \n",
      " 0   Unnamed: 0                 157392 non-null  int64  \n",
      " 1   First Name                 157391 non-null  object \n",
      " 2   Last Name                  157228 non-null  object \n",
      " 3   Title                      157391 non-null  object \n",
      " 4   Department                 157392 non-null  object \n",
      " 5   Seniority                  157391 non-null  object \n",
      " 6   Company Name               150728 non-null  object \n",
      " 7   Website                    157381 non-null  object \n",
      " 8   Email 1                    157391 non-null  object \n",
      " 9   Contact City               136114 non-null  object \n",
      " 10  Contact State              114351 non-null  object \n",
      " 11  Contact Country            157363 non-null  object \n",
      " 12  Company City               144786 non-null  object \n",
      " 13  Company State              131808 non-null  object \n",
      " 14  Company Country            98554 non-null   object \n",
      " 15  Company Annual Revenue     103846 non-null  object \n",
      " 16  Company Industry           156690 non-null  object \n",
      " 17  Company Staff Count Range  140934 non-null  object \n",
      " 18  Company Staff Count        86340 non-null   float64\n",
      " 19  is_valid_email             157392 non-null  bool   \n",
      "dtypes: bool(1), float64(1), int64(1), object(17)\n",
      "memory usage: 23.0+ MB\n"
     ]
    },
    {
     "name": "stderr",
     "output_type": "stream",
     "text": [
      "/tmp/ipykernel_520027/4152477706.py:1: DtypeWarning: Columns (15) have mixed types. Specify dtype option on import or set low_memory=False.\n",
      "  df_temp = pd.read_csv('/home/darshan/Documents/VonageEtl_Lead_Score/unique_prospect_firmographic_dataset.csv')\n"
     ]
    }
   ],
   "source": [
    "df_temp = pd.read_csv('/home/darshan/Documents/VonageEtl_Lead_Score/unique_prospect_firmographic_dataset.csv')\n",
    "\n",
    "df_temp.info()"
   ]
  },
  {
   "cell_type": "code",
   "execution_count": 81,
   "id": "b758270e-c36c-4c29-b0ac-a581ae56cc66",
   "metadata": {},
   "outputs": [
    {
     "data": {
      "text/html": [
       "<div>\n",
       "<style scoped>\n",
       "    .dataframe tbody tr th:only-of-type {\n",
       "        vertical-align: middle;\n",
       "    }\n",
       "\n",
       "    .dataframe tbody tr th {\n",
       "        vertical-align: top;\n",
       "    }\n",
       "\n",
       "    .dataframe thead th {\n",
       "        text-align: right;\n",
       "    }\n",
       "</style>\n",
       "<table border=\"1\" class=\"dataframe\">\n",
       "  <thead>\n",
       "    <tr style=\"text-align: right;\">\n",
       "      <th></th>\n",
       "      <th>Email 1</th>\n",
       "      <th>is_valid_email</th>\n",
       "    </tr>\n",
       "  </thead>\n",
       "  <tbody>\n",
       "    <tr>\n",
       "      <th>0</th>\n",
       "      <td>teja.gantela@sonos.com</td>\n",
       "      <td>True</td>\n",
       "    </tr>\n",
       "    <tr>\n",
       "      <th>1</th>\n",
       "      <td>dchennu@box.com</td>\n",
       "      <td>True</td>\n",
       "    </tr>\n",
       "    <tr>\n",
       "      <th>2</th>\n",
       "      <td>abalakrishnan@dropbox.com</td>\n",
       "      <td>True</td>\n",
       "    </tr>\n",
       "    <tr>\n",
       "      <th>3</th>\n",
       "      <td>lorne.macarthur@sonos.com</td>\n",
       "      <td>True</td>\n",
       "    </tr>\n",
       "    <tr>\n",
       "      <th>4</th>\n",
       "      <td>pravina@box.com</td>\n",
       "      <td>True</td>\n",
       "    </tr>\n",
       "    <tr>\n",
       "      <th>...</th>\n",
       "      <td>...</td>\n",
       "      <td>...</td>\n",
       "    </tr>\n",
       "    <tr>\n",
       "      <th>157387</th>\n",
       "      <td>shawnray.huffman@zoetis.com</td>\n",
       "      <td>True</td>\n",
       "    </tr>\n",
       "    <tr>\n",
       "      <th>157388</th>\n",
       "      <td>jared.m.kimbrough@zoetis.com</td>\n",
       "      <td>True</td>\n",
       "    </tr>\n",
       "    <tr>\n",
       "      <th>157389</th>\n",
       "      <td>emily.piper@zoetis.com</td>\n",
       "      <td>True</td>\n",
       "    </tr>\n",
       "    <tr>\n",
       "      <th>157390</th>\n",
       "      <td>satchidanand.tadepalli@zoetis.com</td>\n",
       "      <td>True</td>\n",
       "    </tr>\n",
       "    <tr>\n",
       "      <th>157391</th>\n",
       "      <td>rob.page@zurichna.com</td>\n",
       "      <td>True</td>\n",
       "    </tr>\n",
       "  </tbody>\n",
       "</table>\n",
       "<p>157392 rows × 2 columns</p>\n",
       "</div>"
      ],
      "text/plain": [
       "                                  Email 1  is_valid_email\n",
       "0                  teja.gantela@sonos.com            True\n",
       "1                         dchennu@box.com            True\n",
       "2               abalakrishnan@dropbox.com            True\n",
       "3               lorne.macarthur@sonos.com            True\n",
       "4                         pravina@box.com            True\n",
       "...                                   ...             ...\n",
       "157387        shawnray.huffman@zoetis.com            True\n",
       "157388       jared.m.kimbrough@zoetis.com            True\n",
       "157389             emily.piper@zoetis.com            True\n",
       "157390  satchidanand.tadepalli@zoetis.com            True\n",
       "157391              rob.page@zurichna.com            True\n",
       "\n",
       "[157392 rows x 2 columns]"
      ]
     },
     "execution_count": 81,
     "metadata": {},
     "output_type": "execute_result"
    }
   ],
   "source": [
    "df_temp[['Email 1', 'is_valid_email']]"
   ]
  },
  {
   "cell_type": "code",
   "execution_count": 82,
   "id": "da356c68-e964-427a-b3bf-81adf0930594",
   "metadata": {},
   "outputs": [],
   "source": [
    "df_temp['is_valid_email(new)'] = df_temp['Email 1'].apply(verify_email_pattern)"
   ]
  },
  {
   "cell_type": "code",
   "execution_count": 83,
   "id": "99e24c68-f14f-4577-be18-9042bc0f409c",
   "metadata": {},
   "outputs": [
    {
     "name": "stdout",
     "output_type": "stream",
     "text": [
      "<class 'pandas.core.frame.DataFrame'>\n",
      "RangeIndex: 157392 entries, 0 to 157391\n",
      "Data columns (total 21 columns):\n",
      " #   Column                     Non-Null Count   Dtype  \n",
      "---  ------                     --------------   -----  \n",
      " 0   Unnamed: 0                 157392 non-null  int64  \n",
      " 1   First Name                 157391 non-null  object \n",
      " 2   Last Name                  157228 non-null  object \n",
      " 3   Title                      157391 non-null  object \n",
      " 4   Department                 157392 non-null  object \n",
      " 5   Seniority                  157391 non-null  object \n",
      " 6   Company Name               150728 non-null  object \n",
      " 7   Website                    157381 non-null  object \n",
      " 8   Email 1                    157391 non-null  object \n",
      " 9   Contact City               136114 non-null  object \n",
      " 10  Contact State              114351 non-null  object \n",
      " 11  Contact Country            157363 non-null  object \n",
      " 12  Company City               144786 non-null  object \n",
      " 13  Company State              131808 non-null  object \n",
      " 14  Company Country            98554 non-null   object \n",
      " 15  Company Annual Revenue     103846 non-null  object \n",
      " 16  Company Industry           156690 non-null  object \n",
      " 17  Company Staff Count Range  140934 non-null  object \n",
      " 18  Company Staff Count        86340 non-null   float64\n",
      " 19  is_valid_email             157392 non-null  bool   \n",
      " 20  is_valid_email(new)        157392 non-null  bool   \n",
      "dtypes: bool(2), float64(1), int64(1), object(17)\n",
      "memory usage: 23.1+ MB\n"
     ]
    }
   ],
   "source": [
    "df_temp.info()"
   ]
  },
  {
   "cell_type": "code",
   "execution_count": 84,
   "id": "16e9b874-fce8-45d1-9966-0f62f49e828c",
   "metadata": {},
   "outputs": [],
   "source": [
    "df_temp.to_csv('/home/darshan/Documents/VonageEtl_Lead_Score/unique_prospect_firmographic_dataset.csv')"
   ]
  },
  {
   "cell_type": "code",
   "execution_count": 66,
   "id": "1ddfe7c8-0e1c-4e3e-a474-1c8a2bf4c97f",
   "metadata": {},
   "outputs": [
    {
     "data": {
      "text/plain": [
       "np.int64(12)"
      ]
     },
     "execution_count": 66,
     "metadata": {},
     "output_type": "execute_result"
    }
   ],
   "source": [
    "(df_temp['is_valid_email'] != df_temp['is_valid_email(new)']).sum()"
   ]
  },
  {
   "cell_type": "code",
   "execution_count": 67,
   "id": "156914c3-761c-4f28-89ac-16c8d9b24a2d",
   "metadata": {},
   "outputs": [
    {
     "data": {
      "text/html": [
       "<div>\n",
       "<style scoped>\n",
       "    .dataframe tbody tr th:only-of-type {\n",
       "        vertical-align: middle;\n",
       "    }\n",
       "\n",
       "    .dataframe tbody tr th {\n",
       "        vertical-align: top;\n",
       "    }\n",
       "\n",
       "    .dataframe thead th {\n",
       "        text-align: right;\n",
       "    }\n",
       "</style>\n",
       "<table border=\"1\" class=\"dataframe\">\n",
       "  <thead>\n",
       "    <tr style=\"text-align: right;\">\n",
       "      <th></th>\n",
       "      <th>Email 1</th>\n",
       "      <th>is_valid_email</th>\n",
       "      <th>is_valid_email(new)</th>\n",
       "    </tr>\n",
       "  </thead>\n",
       "  <tbody>\n",
       "    <tr>\n",
       "      <th>3283</th>\n",
       "      <td>free_dumps/materials@infosys.com</td>\n",
       "      <td>True</td>\n",
       "      <td>False</td>\n",
       "    </tr>\n",
       "    <tr>\n",
       "      <th>18717</th>\n",
       "      <td>sriram.developer/administrator@gusto.com</td>\n",
       "      <td>True</td>\n",
       "      <td>False</td>\n",
       "    </tr>\n",
       "    <tr>\n",
       "      <th>20180</th>\n",
       "      <td>david/minhh@netpolarity.com</td>\n",
       "      <td>True</td>\n",
       "      <td>False</td>\n",
       "    </tr>\n",
       "    <tr>\n",
       "      <th>38860</th>\n",
       "      <td>ishe/her/ella@google.com</td>\n",
       "      <td>True</td>\n",
       "      <td>False</td>\n",
       "    </tr>\n",
       "    <tr>\n",
       "      <th>70064</th>\n",
       "      <td>steven.monson/work@vizientinc.com</td>\n",
       "      <td>True</td>\n",
       "      <td>False</td>\n",
       "    </tr>\n",
       "    <tr>\n",
       "      <th>72481</th>\n",
       "      <td>bill.moon=aapc.com@example.com</td>\n",
       "      <td>True</td>\n",
       "      <td>False</td>\n",
       "    </tr>\n",
       "    <tr>\n",
       "      <th>76583</th>\n",
       "      <td>mchiu/mcglynn@arbonne.com</td>\n",
       "      <td>True</td>\n",
       "      <td>False</td>\n",
       "    </tr>\n",
       "    <tr>\n",
       "      <th>77981</th>\n",
       "      <td>pgdca/bis.krishnan@att.com</td>\n",
       "      <td>True</td>\n",
       "      <td>False</td>\n",
       "    </tr>\n",
       "    <tr>\n",
       "      <th>112675</th>\n",
       "      <td>dwarka.â€˜tandur@lifemark.ca</td>\n",
       "      <td>True</td>\n",
       "      <td>False</td>\n",
       "    </tr>\n",
       "    <tr>\n",
       "      <th>130929</th>\n",
       "      <td>~slackey@plausa.com</td>\n",
       "      <td>True</td>\n",
       "      <td>False</td>\n",
       "    </tr>\n",
       "    <tr>\n",
       "      <th>154066</th>\n",
       "      <td>matthewmcdaniels/maximus@maximussingapore.sg</td>\n",
       "      <td>True</td>\n",
       "      <td>False</td>\n",
       "    </tr>\n",
       "    <tr>\n",
       "      <th>156140</th>\n",
       "      <td>bmichael/b.bcosenza/b@oracle.com</td>\n",
       "      <td>True</td>\n",
       "      <td>False</td>\n",
       "    </tr>\n",
       "  </tbody>\n",
       "</table>\n",
       "</div>"
      ],
      "text/plain": [
       "                                             Email 1  is_valid_email  \\\n",
       "3283                free_dumps/materials@infosys.com            True   \n",
       "18717       sriram.developer/administrator@gusto.com            True   \n",
       "20180                    david/minhh@netpolarity.com            True   \n",
       "38860                       ishe/her/ella@google.com            True   \n",
       "70064              steven.monson/work@vizientinc.com            True   \n",
       "72481                 bill.moon=aapc.com@example.com            True   \n",
       "76583                      mchiu/mcglynn@arbonne.com            True   \n",
       "77981                     pgdca/bis.krishnan@att.com            True   \n",
       "112675                  dwarka.â€˜tandur@lifemark.ca            True   \n",
       "130929                           ~slackey@plausa.com            True   \n",
       "154066  matthewmcdaniels/maximus@maximussingapore.sg            True   \n",
       "156140              bmichael/b.bcosenza/b@oracle.com            True   \n",
       "\n",
       "        is_valid_email(new)  \n",
       "3283                  False  \n",
       "18717                 False  \n",
       "20180                 False  \n",
       "38860                 False  \n",
       "70064                 False  \n",
       "72481                 False  \n",
       "76583                 False  \n",
       "77981                 False  \n",
       "112675                False  \n",
       "130929                False  \n",
       "154066                False  \n",
       "156140                False  "
      ]
     },
     "execution_count": 67,
     "metadata": {},
     "output_type": "execute_result"
    }
   ],
   "source": [
    "df_temp[(df_temp['is_valid_email'] != df_temp['is_valid_email(new)'])][['Email 1', 'is_valid_email', 'is_valid_email(new)']]"
   ]
  },
  {
   "cell_type": "code",
   "execution_count": 71,
   "id": "2c271fa6-e067-47a4-9003-e24a9449299b",
   "metadata": {},
   "outputs": [
    {
     "data": {
      "text/plain": [
       "np.int64(157085)"
      ]
     },
     "execution_count": 71,
     "metadata": {},
     "output_type": "execute_result"
    }
   ],
   "source": [
    "(df_temp['is_valid_email(new)'] == True).sum()"
   ]
  },
  {
   "cell_type": "code",
   "execution_count": 72,
   "id": "0688f12e-1597-4088-b0da-2d3881b80de8",
   "metadata": {},
   "outputs": [
    {
     "data": {
      "text/plain": [
       "np.int64(307)"
      ]
     },
     "execution_count": 72,
     "metadata": {},
     "output_type": "execute_result"
    }
   ],
   "source": [
    "(df_temp['is_valid_email(new)'] == False).sum()"
   ]
  },
  {
   "cell_type": "code",
   "execution_count": 73,
   "id": "826242d6-2dad-4807-9028-c9abd0384e87",
   "metadata": {},
   "outputs": [
    {
     "data": {
      "text/plain": [
       "157391"
      ]
     },
     "execution_count": 73,
     "metadata": {},
     "output_type": "execute_result"
    }
   ],
   "source": [
    "df_temp['Email 1'].nunique()"
   ]
  },
  {
   "cell_type": "code",
   "execution_count": 77,
   "id": "ac79fc17-70d2-46c9-9c6a-fc1ca855844e",
   "metadata": {},
   "outputs": [
    {
     "data": {
      "text/plain": [
       "np.int64(1)"
      ]
     },
     "execution_count": 77,
     "metadata": {},
     "output_type": "execute_result"
    }
   ],
   "source": [
    "df_temp['Email 1'].isna().sum()"
   ]
  },
  {
   "cell_type": "code",
   "execution_count": null,
   "id": "4eeb2612-832e-46f4-97f9-fd732dbc9e11",
   "metadata": {},
   "outputs": [],
   "source": []
  }
 ],
 "metadata": {
  "kernelspec": {
   "display_name": "Python 3 (ipykernel)",
   "language": "python",
   "name": "python3"
  },
  "language_info": {
   "codemirror_mode": {
    "name": "ipython",
    "version": 3
   },
   "file_extension": ".py",
   "mimetype": "text/x-python",
   "name": "python",
   "nbconvert_exporter": "python",
   "pygments_lexer": "ipython3",
   "version": "3.13.2"
  }
 },
 "nbformat": 4,
 "nbformat_minor": 5
}
