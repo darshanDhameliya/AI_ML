{
 "cells": [
  {
   "cell_type": "code",
   "execution_count": 2,
   "id": "df04f1a4-91bc-4a58-b216-a089961d183f",
   "metadata": {},
   "outputs": [],
   "source": [
    "import matplotlib.pyplot as plt\n",
    "import pandas as pd"
   ]
  },
  {
   "cell_type": "code",
   "execution_count": 4,
   "id": "b1d2af9c-be56-405c-8681-4a161728e335",
   "metadata": {
    "scrolled": true
   },
   "outputs": [
    {
     "name": "stdout",
     "output_type": "stream",
     "text": [
      "<class 'pandas.core.frame.DataFrame'>\n",
      "RangeIndex: 3342 entries, 0 to 3341\n",
      "Data columns (total 45 columns):\n",
      " #   Column                   Non-Null Count  Dtype         \n",
      "---  ------                   --------------  -----         \n",
      " 0   NXS_AccountName          3342 non-null   object        \n",
      " 1   id                       3342 non-null   object        \n",
      " 2   Salesforce Instance      3342 non-null   object        \n",
      " 3   Domain                   2109 non-null   object        \n",
      " 4   Opportunity ID           3342 non-null   object        \n",
      " 5   Owner Role               3012 non-null   object        \n",
      " 6   Opportunity Owner        3342 non-null   object        \n",
      " 7   Opportunity Name         3342 non-null   object        \n",
      " 8   Account ID               3342 non-null   object        \n",
      " 9   Account Name             3342 non-null   object        \n",
      " 10  Stage                    3342 non-null   object        \n",
      " 11  Fiscal Period            3342 non-null   object        \n",
      " 12  Total ARR USD            2644 non-null   float64       \n",
      " 13  Amount Currency          2707 non-null   object        \n",
      " 14  Amount                   2671 non-null   float64       \n",
      " 15  Probability (%)          1167 non-null   float64       \n",
      " 16  Stage Duration           3342 non-null   int64         \n",
      " 17  Age                      3250 non-null   float64       \n",
      " 18  Reason Lost              1959 non-null   object        \n",
      " 19  Close Date               3342 non-null   datetime64[ns]\n",
      " 20  Created Date             3342 non-null   datetime64[ns]\n",
      " 21  Entered Pipeline Date    848 non-null    datetime64[ns]\n",
      " 22  Next Step                2536 non-null   object        \n",
      " 23  Lead Source              2290 non-null   object        \n",
      " 24  Type                     3342 non-null   object        \n",
      " 25  Marketing Involvement    437 non-null    object        \n",
      " 26  Business Group           2607 non-null   object        \n",
      " 27  Opportunity Geo-Region   3342 non-null   object        \n",
      " 28  Qualified By (User)      2732 non-null   object        \n",
      " 29  Website                  2138 non-null   object        \n",
      " 30  Primary Campaign Source  1737 non-null   object        \n",
      " 31  Source Campaign          2716 non-null   object        \n",
      " 32  Opportunity Source       1599 non-null   object        \n",
      " 33  Last Touch Campaign      1666 non-null   object        \n",
      " 34  created_by               3342 non-null   object        \n",
      " 35  updated_by               3342 non-null   object        \n",
      " 36  created_at               3342 non-null   datetime64[ns]\n",
      " 37  updated_at               3342 non-null   datetime64[ns]\n",
      " 38  MktgInvolvementFormat    3342 non-null   object        \n",
      " 39  unified_account_id       3342 non-null   object        \n",
      " 40  unified_contact_id       0 non-null      float64       \n",
      " 41  Primary Contact          1974 non-null   object        \n",
      " 42  Primary Contact Title    974 non-null    object        \n",
      " 43  Primary Contact Email    1958 non-null   object        \n",
      " 44  ARR Segment              3342 non-null   object        \n",
      "dtypes: datetime64[ns](5), float64(5), int64(1), object(34)\n",
      "memory usage: 1.1+ MB\n"
     ]
    }
   ],
   "source": [
    "df_opportunities = pd.read_excel(\n",
    "    '/home/darshan/Documents/Data - 24th Nov 24/Opportunities.xlsx', engine='openpyxl'\n",
    ")\n",
    "df_opportunities.info()"
   ]
  },
  {
   "cell_type": "code",
   "execution_count": 6,
   "id": "2e064a87-4b61-41f3-a324-8abbd053f213",
   "metadata": {},
   "outputs": [
    {
     "name": "stdout",
     "output_type": "stream",
     "text": [
      "<class 'pandas.core.frame.DataFrame'>\n",
      "RangeIndex: 11463 entries, 0 to 11462\n",
      "Data columns (total 17 columns):\n",
      " #   Column                             Non-Null Count  Dtype         \n",
      "---  ------                             --------------  -----         \n",
      " 0   File Source                        11463 non-null  object        \n",
      " 1   Campaign Name / Sequence Name      11463 non-null  object        \n",
      " 2   Campaign Type                      11463 non-null  object        \n",
      " 3   SubType                            11463 non-null  object        \n",
      " 4   Member First Responded Date        11463 non-null  datetime64[ns]\n",
      " 5   NXS_AccountName                    11463 non-null  object        \n",
      " 6   Domain/Website                     11463 non-null  object        \n",
      " 7   Clicks                             4363 non-null   float64       \n",
      " 8   Site Visits                        6636 non-null   float64       \n",
      " 9   Display Impressions                10485 non-null  float64       \n",
      " 10  Exposure Time Minutes              10305 non-null  float64       \n",
      " 11  Top MLI Topic (Avg Last7 Weeks)    9147 non-null   object        \n",
      " 12  Trending MLI Topics (Last7 Weeks)  9147 non-null   float64       \n",
      " 13  Campaign Geo-Region                11463 non-null  object        \n",
      " 14  Responded                          11463 non-null  int64         \n",
      " 15  Unified Contact Id                 0 non-null      float64       \n",
      " 16  Dedupekeys                         11463 non-null  object        \n",
      "dtypes: datetime64[ns](1), float64(6), int64(1), object(9)\n",
      "memory usage: 1.5+ MB\n"
     ]
    }
   ],
   "source": [
    "df_medison = pd.read_excel(\n",
    "    '/home/darshan/Documents/Data - 24th Nov 24/Madison.xlsx', engine='openpyxl'\n",
    ")\n",
    "df_medison.info()"
   ]
  },
  {
   "cell_type": "code",
   "execution_count": 8,
   "id": "12538522-d63d-40a1-9b95-10943837f8d2",
   "metadata": {},
   "outputs": [
    {
     "name": "stdout",
     "output_type": "stream",
     "text": [
      "<class 'pandas.core.frame.DataFrame'>\n",
      "RangeIndex: 145210 entries, 0 to 145209\n",
      "Data columns (total 16 columns):\n",
      " #   Column                    Non-Null Count   Dtype  \n",
      "---  ------                    --------------   -----  \n",
      " 0   NXS_AccountName           145208 non-null  object \n",
      " 1   Domain                    145210 non-null  object \n",
      " 2   Scrubbing Status          145210 non-null  object \n",
      " 3   Source                    145210 non-null  object \n",
      " 4   Country                   0 non-null       float64\n",
      " 5   Geo Region                0 non-null       float64\n",
      " 6   Employee Range            16401 non-null   object \n",
      " 7   Revenue                   16374 non-null   float64\n",
      " 8   Revenue Range             16374 non-null   object \n",
      " 9   Industry                  16955 non-null   object \n",
      " 10  Madison Logic Engagement  145210 non-null  int64  \n",
      " 11  Contact Level Engagement  145210 non-null  int64  \n",
      " 12  Has Opportunity?          145210 non-null  object \n",
      " 13  6Sense Buying Stage       16530 non-null   object \n",
      " 14  Total Engagement          145210 non-null  int64  \n",
      " 15  Engagement Category       145210 non-null  object \n",
      "dtypes: float64(3), int64(3), object(10)\n",
      "memory usage: 17.7+ MB\n"
     ]
    }
   ],
   "source": [
    "df_acc = pd.read_excel(\n",
    "    '/home/darshan/Documents/Data - 24th Nov 24/Account Engagement.xlsx', engine='openpyxl'\n",
    ")\n",
    "df_acc.info()"
   ]
  },
  {
   "cell_type": "code",
   "execution_count": 9,
   "id": "67233ff9-20aa-48a4-9d59-0d6bb079d8e5",
   "metadata": {},
   "outputs": [
    {
     "name": "stderr",
     "output_type": "stream",
     "text": [
      "/tmp/ipykernel_697798/1550159386.py:1: DtypeWarning: Columns (12,21,35) have mixed types. Specify dtype option on import or set low_memory=False.\n",
      "  df_temp = pd.read_csv('/home/darshan/Documents/22-Nov-Data/sfdc_campaign_members.csv')\n"
     ]
    }
   ],
   "source": [
    "df_temp = pd.read_csv('/home/darshan/Documents/22-Nov-Data/sfdc_campaign_members.csv')"
   ]
  },
  {
   "cell_type": "code",
   "execution_count": 10,
   "id": "f631fd3f-4355-4c34-928c-e880abe914f7",
   "metadata": {},
   "outputs": [
    {
     "name": "stdout",
     "output_type": "stream",
     "text": [
      "<class 'pandas.core.frame.DataFrame'>\n",
      "RangeIndex: 670218 entries, 0 to 670217\n",
      "Data columns (total 39 columns):\n",
      " #   Column                        Non-Null Count   Dtype  \n",
      "---  ------                        --------------   -----  \n",
      " 0   id                            670218 non-null  object \n",
      " 1   salesforce_instance           670218 non-null  object \n",
      " 2   domain                        669190 non-null  object \n",
      " 3   campaign_id                   670218 non-null  object \n",
      " 4   campaign_name                 670218 non-null  object \n",
      " 5   business_group                650109 non-null  object \n",
      " 6   member_type                   670218 non-null  object \n",
      " 7   member_status                 670212 non-null  object \n",
      " 8   related_record_id             670218 non-null  object \n",
      " 9   member_first_associated_date  670218 non-null  object \n",
      " 10  member_status_update_date     670218 non-null  object \n",
      " 11  member_first_responded_date   403273 non-null  object \n",
      " 12  account_id                    9605 non-null    object \n",
      " 13  company                       669521 non-null  object \n",
      " 14  responded                     403273 non-null  float64\n",
      " 15  first_name                    669757 non-null  object \n",
      " 16  last_name                     670208 non-null  object \n",
      " 17  title                         312841 non-null  object \n",
      " 18  phone                         547432 non-null  object \n",
      " 19  email                         669190 non-null  object \n",
      " 20  related_record_owner          670218 non-null  object \n",
      " 21  account_owner                 106404 non-null  object \n",
      " 22  address                       293774 non-null  object \n",
      " 23  city                          238900 non-null  object \n",
      " 24  state                         357232 non-null  object \n",
      " 25  zip_postal_code               310400 non-null  object \n",
      " 26  country                       594223 non-null  object \n",
      " 27  created_by                    670218 non-null  object \n",
      " 28  updated_by                    670218 non-null  object \n",
      " 29  created_at                    670218 non-null  object \n",
      " 30  updated_at                    670218 non-null  object \n",
      " 31  campaign_type                 664519 non-null  object \n",
      " 32  sub_type                      524233 non-null  object \n",
      " 33  campaign_status               670218 non-null  object \n",
      " 34  geo_region                    0 non-null       float64\n",
      " 35  region                        91097 non-null   object \n",
      " 36  unified_account_id            475625 non-null  object \n",
      " 37  unified_contact_id            451787 non-null  object \n",
      " 38  campaign_geo_region           670218 non-null  object \n",
      "dtypes: float64(2), object(37)\n",
      "memory usage: 199.4+ MB\n"
     ]
    }
   ],
   "source": [
    "df_temp.info()"
   ]
  },
  {
   "cell_type": "markdown",
   "id": "22715443-fd76-448a-987d-b3e8a81ef6e7",
   "metadata": {
    "jp-MarkdownHeadingCollapsed": true
   },
   "source": [
    "###### Group by 'email' and count the unique 'accountId' for each email, then sort by count in descending order\n",
    "email_account_count = (\n",
    "    df_temp.groupby('email')['unified_account_id']\n",
    "    .nunique()\n",
    "    .reset_index()\n",
    "    .rename(columns={'email': 'Email', 'unified_account_id': 'Account Count'})\n",
    "    .sort_values(by='Account Count', ascending=False)\n",
    ")\n",
    "\n",
    "# Display the result\n",
    "print(email_account_count)"
   ]
  },
  {
   "cell_type": "code",
   "execution_count": 19,
   "id": "5ebbfe8d-51c4-4016-acb6-e903254052b1",
   "metadata": {},
   "outputs": [
    {
     "name": "stderr",
     "output_type": "stream",
     "text": [
      "/tmp/ipykernel_697798/1736735450.py:1: DtypeWarning: Columns (22,24,25,27,28,29,30,31,32,33,34,36,37,38,39,40,41,42,43,44,46,47,48,49,50,51,53,54,55,58,59,61,62,63,65,67,68,69,70) have mixed types. Specify dtype option on import or set low_memory=False.\n",
      "  df_final_data = pd.read_csv('/home/darshan/Documents/Final Data/final_account_dataset.csv');\n"
     ]
    },
    {
     "name": "stdout",
     "output_type": "stream",
     "text": [
      "<class 'pandas.core.frame.DataFrame'>\n",
      "RangeIndex: 146211 entries, 0 to 146210\n",
      "Columns: 142 entries, Unnamed: 0 to opportunity_arr_segment\n",
      "dtypes: bool(2), float64(27), int64(1), object(112)\n",
      "memory usage: 156.4+ MB\n"
     ]
    }
   ],
   "source": [
    "df_final_data = pd.read_csv('/home/darshan/Documents/Final Data/final_account_dataset.csv');\n",
    "df_final_data.info()"
   ]
  },
  {
   "cell_type": "code",
   "execution_count": 20,
   "id": "f0cdccff-36ca-4689-b0ba-19d65f1defdc",
   "metadata": {},
   "outputs": [
    {
     "name": "stdout",
     "output_type": "stream",
     "text": [
      "<class 'pandas.core.frame.DataFrame'>\n",
      "RangeIndex: 33381 entries, 0 to 33380\n",
      "Data columns (total 9 columns):\n",
      " #   Column                   Non-Null Count  Dtype  \n",
      "---  ------                   --------------  -----  \n",
      " 0   prospect_email           33381 non-null  object \n",
      " 1   total_calls              33381 non-null  int64  \n",
      " 2   outbound_calls           33381 non-null  int64  \n",
      " 3   inbound_calls            33381 non-null  int64  \n",
      " 4   answered_calls           33381 non-null  int64  \n",
      " 5   total_answered_duration  33381 non-null  float64\n",
      " 6   avg_answered_duration    33381 non-null  float64\n",
      " 7   min_call_duration        33381 non-null  float64\n",
      " 8   max_call_duration        33381 non-null  float64\n",
      "dtypes: float64(4), int64(4), object(1)\n",
      "memory usage: 2.3+ MB\n"
     ]
    }
   ],
   "source": [
    "df_final_call = pd.read_csv('/home/darshan/Documents/Final Data/final_call.csv');\n",
    "df_final_call.info()"
   ]
  },
  {
   "cell_type": "code",
   "execution_count": 22,
   "id": "1441865c-086b-489a-bed6-b1ddc5d7cdae",
   "metadata": {},
   "outputs": [
    {
     "name": "stdout",
     "output_type": "stream",
     "text": [
      "<class 'pandas.core.frame.DataFrame'>\n",
      "RangeIndex: 24522 entries, 0 to 24521\n",
      "Data columns (total 11 columns):\n",
      " #   Column                          Non-Null Count  Dtype  \n",
      "---  ------                          --------------  -----  \n",
      " 0   Email                           24522 non-null  object \n",
      " 1   Email_Frequency                 24522 non-null  int64  \n",
      " 2   open_count                      24522 non-null  int64  \n",
      " 3   open_rate                       24522 non-null  float64\n",
      " 4   click_count                     24522 non-null  int64  \n",
      " 5   click_rate                      24522 non-null  float64\n",
      " 6   single_mail_count               24522 non-null  int64  \n",
      " 7   sequence_mail_count             24522 non-null  int64  \n",
      " 8   campaign_mail_count             24522 non-null  int64  \n",
      " 9   is_unsubscribed                 24522 non-null  int64  \n",
      " 10  average_time_required_to_reply  24522 non-null  int64  \n",
      "dtypes: float64(2), int64(8), object(1)\n",
      "memory usage: 2.1+ MB\n"
     ]
    }
   ],
   "source": [
    "df_final_email = pd.read_csv('/home/darshan/Documents/Final Data/final_emails.csv');\n",
    "df_final_email.info()"
   ]
  }
 ],
 "metadata": {
  "kernelspec": {
   "display_name": "Python 3 (ipykernel)",
   "language": "python",
   "name": "python3"
  },
  "language_info": {
   "codemirror_mode": {
    "name": "ipython",
    "version": 3
   },
   "file_extension": ".py",
   "mimetype": "text/x-python",
   "name": "python",
   "nbconvert_exporter": "python",
   "pygments_lexer": "ipython3",
   "version": "3.12.6"
  }
 },
 "nbformat": 4,
 "nbformat_minor": 5
}
