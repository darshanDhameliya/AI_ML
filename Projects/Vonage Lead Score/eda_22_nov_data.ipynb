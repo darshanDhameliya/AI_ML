{
 "cells": [
  {
   "cell_type": "code",
   "execution_count": 1,
   "id": "df04f1a4-91bc-4a58-b216-a089961d183f",
   "metadata": {},
   "outputs": [],
   "source": [
    "import matplotlib.pyplot as plt\n",
    "import pandas as pd"
   ]
  },
  {
   "cell_type": "code",
   "execution_count": 26,
   "id": "b1d2af9c-be56-405c-8681-4a161728e335",
   "metadata": {
    "scrolled": true
   },
   "outputs": [
    {
     "name": "stderr",
     "output_type": "stream",
     "text": [
      "/tmp/ipykernel_92327/1120515681.py:1: DtypeWarning: Columns (12,21,35) have mixed types. Specify dtype option on import or set low_memory=False.\n",
      "  df_camp_member = pd.read_csv('/home/darshan/Documents/22-Nov-Data/sfdc_campaign_members.csv', encoding='latin-1')\n"
     ]
    },
    {
     "name": "stdout",
     "output_type": "stream",
     "text": [
      "<class 'pandas.core.frame.DataFrame'>\n",
      "RangeIndex: 670218 entries, 0 to 670217\n",
      "Data columns (total 39 columns):\n",
      " #   Column                        Non-Null Count   Dtype  \n",
      "---  ------                        --------------   -----  \n",
      " 0   id                            670218 non-null  object \n",
      " 1   salesforce_instance           670218 non-null  object \n",
      " 2   domain                        669190 non-null  object \n",
      " 3   campaign_id                   670218 non-null  object \n",
      " 4   campaign_name                 670218 non-null  object \n",
      " 5   business_group                650109 non-null  object \n",
      " 6   member_type                   670218 non-null  object \n",
      " 7   member_status                 670212 non-null  object \n",
      " 8   related_record_id             670218 non-null  object \n",
      " 9   member_first_associated_date  670218 non-null  object \n",
      " 10  member_status_update_date     670218 non-null  object \n",
      " 11  member_first_responded_date   403273 non-null  object \n",
      " 12  account_id                    9605 non-null    object \n",
      " 13  company                       669521 non-null  object \n",
      " 14  responded                     403273 non-null  float64\n",
      " 15  first_name                    669757 non-null  object \n",
      " 16  last_name                     670208 non-null  object \n",
      " 17  title                         312841 non-null  object \n",
      " 18  phone                         547432 non-null  object \n",
      " 19  email                         669190 non-null  object \n",
      " 20  related_record_owner          670218 non-null  object \n",
      " 21  account_owner                 106404 non-null  object \n",
      " 22  address                       293774 non-null  object \n",
      " 23  city                          238900 non-null  object \n",
      " 24  state                         357232 non-null  object \n",
      " 25  zip_postal_code               310400 non-null  object \n",
      " 26  country                       594223 non-null  object \n",
      " 27  created_by                    670218 non-null  object \n",
      " 28  updated_by                    670218 non-null  object \n",
      " 29  created_at                    670218 non-null  object \n",
      " 30  updated_at                    670218 non-null  object \n",
      " 31  campaign_type                 664519 non-null  object \n",
      " 32  sub_type                      524233 non-null  object \n",
      " 33  campaign_status               670218 non-null  object \n",
      " 34  geo_region                    0 non-null       float64\n",
      " 35  region                        91097 non-null   object \n",
      " 36  unified_account_id            475625 non-null  object \n",
      " 37  unified_contact_id            451787 non-null  object \n",
      " 38  campaign_geo_region           670218 non-null  object \n",
      "dtypes: float64(2), object(37)\n",
      "memory usage: 199.4+ MB\n"
     ]
    }
   ],
   "source": [
    "df_camp_member = pd.read_csv('/home/darshan/Documents/22-Nov-Data/sfdc_campaign_members.csv', encoding='latin-1')\n",
    "df_camp_member.info()"
   ]
  },
  {
   "cell_type": "code",
   "execution_count": 27,
   "id": "d7e2ae60-1e51-4c51-a9d0-331ddd723dd2",
   "metadata": {
    "scrolled": true
   },
   "outputs": [
    {
     "name": "stdout",
     "output_type": "stream",
     "text": [
      "<class 'pandas.core.frame.DataFrame'>\n",
      "RangeIndex: 1989119 entries, 0 to 1989118\n",
      "Data columns (total 13 columns):\n",
      " #   Column                               Dtype  \n",
      "---  ------                               -----  \n",
      " 0   Account Owner                        object \n",
      " 1   Account ID                           object \n",
      " 2   Account Name                         object \n",
      " 3   Billing State/Province (text only)   object \n",
      " 4   Billing Country                      object \n",
      " 5   Region                               object \n",
      " 6   Type                                 object \n",
      " 7   Account Record Type                  object \n",
      " 8   Website                              object \n",
      " 9   Annual Revenue (converted) Currency  object \n",
      " 10  Annual Revenue (converted)           float64\n",
      " 11  Employees                            float64\n",
      " 12  Industry                             object \n",
      "dtypes: float64(2), object(11)\n",
      "memory usage: 197.3+ MB\n"
     ]
    }
   ],
   "source": [
    "df_vbc_acc = pd.read_csv('/home/darshan/Documents/Vonage 2024-Nov-13/SFDC/VBC Accounts.csv', encoding='latin-1')\n",
    "df_vbc_acc.info()"
   ]
  },
  {
   "cell_type": "code",
   "execution_count": 10,
   "id": "c2a51791-0ab9-45bf-b47c-ce9542b8d55d",
   "metadata": {
    "scrolled": true
   },
   "outputs": [
    {
     "name": "stderr",
     "output_type": "stream",
     "text": [
      "/tmp/ipykernel_92327/3561265358.py:1: DtypeWarning: Columns (20,24,31) have mixed types. Specify dtype option on import or set low_memory=False.\n",
      "  df_sfdc_opp = pd.read_csv('/home/darshan/Documents/22-Nov-Data/sfdc_opportunities.csv');\n"
     ]
    },
    {
     "name": "stdout",
     "output_type": "stream",
     "text": [
      "<class 'pandas.core.frame.DataFrame'>\n",
      "RangeIndex: 84509 entries, 0 to 84508\n",
      "Data columns (total 44 columns):\n",
      " #   Column                           Non-Null Count  Dtype  \n",
      "---  ------                           --------------  -----  \n",
      " 0   id                               84509 non-null  object \n",
      " 1   salesforce_instance              84509 non-null  object \n",
      " 2   domain                           2111 non-null   object \n",
      " 3   opportunity_id                   84509 non-null  object \n",
      " 4   owner_role                       81998 non-null  object \n",
      " 5   opportunity_owner                84509 non-null  object \n",
      " 6   opportunity_name                 84503 non-null  object \n",
      " 7   account_id                       84508 non-null  object \n",
      " 8   account_name                     84501 non-null  object \n",
      " 9   stage                            84509 non-null  object \n",
      " 10  fiscal_period                    84509 non-null  object \n",
      " 11  total_arr_usd                    78008 non-null  float64\n",
      " 12  amount_currency                  78737 non-null  object \n",
      " 13  amount                           78040 non-null  float64\n",
      " 14  probability                      36626 non-null  float64\n",
      " 15  stage_duration                   84507 non-null  float64\n",
      " 16  age                              67093 non-null  float64\n",
      " 17  reason_lost                      37504 non-null  object \n",
      " 18  close_date                       84509 non-null  object \n",
      " 19  created_date                     84509 non-null  object \n",
      " 20  entered_pipeline_date            1024 non-null   object \n",
      " 21  next_step                        22789 non-null  object \n",
      " 22  lead_source                      82479 non-null  object \n",
      " 23  type                             84509 non-null  object \n",
      " 24  marketing_involvement            468 non-null    object \n",
      " 25  business_group                   82291 non-null  object \n",
      " 26  opportunity_geo_region           84509 non-null  object \n",
      " 27  qualified_by                     72991 non-null  object \n",
      " 28  website                          2222 non-null   object \n",
      " 29  primary_campaign_source          82177 non-null  object \n",
      " 30  source_campaign                  83294 non-null  object \n",
      " 31  opportunity_source               1957 non-null   object \n",
      " 32  last_touch_campaign              81933 non-null  object \n",
      " 33  created_by                       84509 non-null  object \n",
      " 34  updated_by                       84509 non-null  object \n",
      " 35  created_at                       84509 non-null  object \n",
      " 36  updated_at                       84509 non-null  object \n",
      " 37  marketing_involvement_formatted  84509 non-null  object \n",
      " 38  unified_account_id               3342 non-null   object \n",
      " 39  unified_contact_id               0 non-null      float64\n",
      " 40  primary_contact                  82253 non-null  object \n",
      " 41  primary_contact_title            27746 non-null  object \n",
      " 42  primary_contact_email            82216 non-null  object \n",
      " 43  arr_segment                      84509 non-null  object \n",
      "dtypes: float64(6), object(38)\n",
      "memory usage: 28.4+ MB\n"
     ]
    }
   ],
   "source": [
    "df_sfdc_opp = pd.read_csv('/home/darshan/Documents/22-Nov-Data/sfdc_opportunities.csv');\n",
    "df_sfdc_opp.info()"
   ]
  },
  {
   "cell_type": "code",
   "execution_count": 39,
   "id": "28ed4e65-6405-4137-8ae6-1dad7641b26d",
   "metadata": {
    "scrolled": true
   },
   "outputs": [
    {
     "name": "stdout",
     "output_type": "stream",
     "text": [
      "<class 'pandas.core.frame.DataFrame'>\n",
      "RangeIndex: 11522 entries, 0 to 11521\n",
      "Data columns (total 72 columns):\n",
      " #   Column                                Non-Null Count  Dtype  \n",
      "---  ------                                --------------  -----  \n",
      " 0   id                                    11522 non-null  object \n",
      " 1   account_name                          11517 non-null  object \n",
      " 2   account_domain                        11522 non-null  object \n",
      " 3   leads                                 496 non-null    float64\n",
      " 4   display_impressions                   10532 non-null  float64\n",
      " 5   clicks                                4375 non-null   float64\n",
      " 6   click_through_rate                    4375 non-null   float64\n",
      " 7   exposure_time_minutes                 10351 non-null  float64\n",
      " 8   site_visits                           6668 non-null   float64\n",
      " 9   exposure_time_per_site_visit_minutes  5661 non-null   float64\n",
      " 10  top_mli_topic_avg_last7_weeks         9194 non-null   object \n",
      " 11  trending_mli_topics_last7_weeks       9194 non-null   float64\n",
      " 12  mli_topic1                            3 non-null      object \n",
      " 13  mli_topic2                            4 non-null      object \n",
      " 14  mli_topic3                            4 non-null      object \n",
      " 15  mli_topic4                            26 non-null     object \n",
      " 16  mli_topic5                            5 non-null      object \n",
      " 17  mli_topic6                            5 non-null      object \n",
      " 18  mli_topic7                            3 non-null      object \n",
      " 19  mli_topic8                            7 non-null      object \n",
      " 20  mli_topic9                            7 non-null      object \n",
      " 21  mli_topic10                           7 non-null      object \n",
      " 22  mli_topic11                           2 non-null      object \n",
      " 23  mli_topic12                           4 non-null      object \n",
      " 24  mli_topic13                           5 non-null      object \n",
      " 25  mli_topic14                           3 non-null      object \n",
      " 26  mli_topic15                           24 non-null     object \n",
      " 27  mli_topic16                           7 non-null      object \n",
      " 28  mli_topic17                           4 non-null      object \n",
      " 29  mli_topic18                           8 non-null      object \n",
      " 30  mli_topic19                           8 non-null      object \n",
      " 31  mli_topic20                           9 non-null      object \n",
      " 32  mli_topic21                           8 non-null      object \n",
      " 33  mli_topic22                           7 non-null      object \n",
      " 34  mli_topic23                           8 non-null      object \n",
      " 35  mli_topic24                           5 non-null      object \n",
      " 36  mli_topic25                           3 non-null      object \n",
      " 37  mli_topic26                           6 non-null      object \n",
      " 38  mli_topic27                           7 non-null      object \n",
      " 39  mli_topic28                           9 non-null      object \n",
      " 40  mli_topic29                           18 non-null     object \n",
      " 41  mli_topic30                           3 non-null      object \n",
      " 42  mli_topic31                           0 non-null      float64\n",
      " 43  mli_topic32                           9 non-null      object \n",
      " 44  mli_topic33                           8 non-null      object \n",
      " 45  mli_topic34                           2 non-null      object \n",
      " 46  mli_topic35                           2 non-null      object \n",
      " 47  mli_topic36                           0 non-null      float64\n",
      " 48  mli_topic37                           20 non-null     object \n",
      " 49  mli_topic38                           7 non-null      object \n",
      " 50  mli_topic39                           0 non-null      float64\n",
      " 51  mli_topic40                           4 non-null      object \n",
      " 52  mli_topic41                           6 non-null      object \n",
      " 53  mli_topic42                           6 non-null      object \n",
      " 54  mli_topic43                           0 non-null      float64\n",
      " 55  mli_topic44                           11 non-null     object \n",
      " 56  mli_topic45                           0 non-null      float64\n",
      " 57  mli_topic46                           5 non-null      object \n",
      " 58  mli_topic47                           4 non-null      object \n",
      " 59  mli_topic48                           11 non-null     object \n",
      " 60  mli_topic49                           5 non-null      object \n",
      " 61  created_by                            11522 non-null  object \n",
      " 62  updated_by                            11522 non-null  object \n",
      " 63  created_at                            11522 non-null  object \n",
      " 64  updated_at                            11522 non-null  object \n",
      " 65  campaign_name                         11522 non-null  object \n",
      " 66  batch_date                            11522 non-null  object \n",
      " 67  campaign_batch_date                   11522 non-null  object \n",
      " 68  unified_account_id                    11510 non-null  object \n",
      " 69  unified_contact_id                    0 non-null      float64\n",
      " 70  account_name_domain                   11517 non-null  object \n",
      " 71  campaign_geo_region                   11522 non-null  object \n",
      "dtypes: float64(14), object(58)\n",
      "memory usage: 6.3+ MB\n"
     ]
    },
    {
     "name": "stderr",
     "output_type": "stream",
     "text": [
      "/tmp/ipykernel_92327/2421033136.py:1: DtypeWarning: Columns (12,13,14,15,16,17,18,19,20,21,22,23,24,25,26,27,28,29,30,31,32,33,34,35,36,37,38,39,40,41,43,44,45,46,48,49,51,52,53,55,57,58,59,60) have mixed types. Specify dtype option on import or set low_memory=False.\n",
      "  df_medision_logics = pd.read_csv('/home/darshan/Documents/22-Nov-Data/medision_logics.csv');\n"
     ]
    }
   ],
   "source": [
    "df_medision_logics = pd.read_csv('/home/darshan/Documents/22-Nov-Data/medision_logics.csv');\n",
    "df_medision_logics.info()"
   ]
  },
  {
   "cell_type": "code",
   "execution_count": 12,
   "id": "bdfd46ce-7ba5-4543-9b91-a87c7612be52",
   "metadata": {
    "scrolled": true
   },
   "outputs": [
    {
     "name": "stdout",
     "output_type": "stream",
     "text": [
      "<class 'pandas.core.frame.DataFrame'>\n",
      "RangeIndex: 13922 entries, 0 to 13921\n",
      "Data columns (total 16 columns):\n",
      " #   Column                    Non-Null Count  Dtype  \n",
      "---  ------                    --------------  -----  \n",
      " 0   id                        13922 non-null  object \n",
      " 1   six_sense_company_name    13922 non-null  object \n",
      " 2   six_sense_country         13922 non-null  object \n",
      " 3   six_sense_domain          13914 non-null  object \n",
      " 4   six_sense_revenue_range   13920 non-null  object \n",
      " 5   six_sense_employee_range  13919 non-null  object \n",
      " 6   industry                  13919 non-null  object \n",
      " 7   industry_legacy           13916 non-null  object \n",
      " 8   buying_stage              13922 non-null  object \n",
      " 9   notes                     0 non-null      float64\n",
      " 10  created_by                13922 non-null  object \n",
      " 11  updated_by                13922 non-null  object \n",
      " 12  created_at                13922 non-null  object \n",
      " 13  updated_at                13922 non-null  object \n",
      " 14  unified_account_id        13905 non-null  object \n",
      " 15  unified_contact_id        0 non-null      float64\n",
      "dtypes: float64(2), object(14)\n",
      "memory usage: 1.7+ MB\n"
     ]
    }
   ],
   "source": [
    "df_six_senses = pd.read_csv('/home/darshan/Documents/22-Nov-Data/six_senses.csv');\n",
    "df_six_senses.info()"
   ]
  },
  {
   "cell_type": "code",
   "execution_count": 2,
   "id": "e30fbc93-7b4e-423a-a8f9-3adcbd81797b",
   "metadata": {},
   "outputs": [
    {
     "name": "stderr",
     "output_type": "stream",
     "text": [
      "/tmp/ipykernel_500081/1533293568.py:1: DtypeWarning: Columns (8,21,39,43,47,50,63,64,65,66,117,118,119,121,122,130,131,132,133,134,135,136,137,138) have mixed types. Specify dtype option on import or set low_memory=False.\n",
      "  df_rel_emagement_master = pd.read_csv('/home/darshan/Documents/22-Nov-Data/Enangement_Master.csv');\n"
     ]
    },
    {
     "name": "stdout",
     "output_type": "stream",
     "text": [
      "<class 'pandas.core.frame.DataFrame'>\n",
      "RangeIndex: 270229 entries, 0 to 270228\n",
      "Columns: 159 entries, Unnamed: 0 to average_time_required_to_reply\n",
      "dtypes: float64(85), int64(1), object(73)\n",
      "memory usage: 327.8+ MB\n"
     ]
    }
   ],
   "source": [
    "df_rel_emagement_master = pd.read_csv('/home/darshan/Documents/22-Nov-Data/Enangement_Master.csv');\n",
    "df_rel_emagement_master.info()"
   ]
  },
  {
   "cell_type": "code",
   "execution_count": 6,
   "id": "77e3b687-a6c3-45d0-99ff-746c8433a120",
   "metadata": {},
   "outputs": [],
   "source": [
    "# Count non-null values in each column\n",
    "non_null_counts = df_rel_emagement_master.notnull().sum()\n",
    "\n",
    "# Create a DataFrame for the non-null counts\n",
    "non_null_counts_df = non_null_counts.reset_index()\n",
    "non_null_counts_df.columns = ['Column Name', 'Non-Null Count']\n",
    "\n",
    "# Save to CSV\n",
    "non_null_counts_df.to_csv('non_null_counts.csv', index=False)"
   ]
  },
  {
   "cell_type": "code",
   "execution_count": 20,
   "id": "41ae1f8e-9129-4319-ba14-3b355d6214a9",
   "metadata": {},
   "outputs": [
    {
     "data": {
      "image/png": "[encoded data removed]",
      "text/plain": [
       "<Figure size 1000x600 with 1 Axes>"
      ]
     },
     "metadata": {},
     "output_type": "display_data"
    }
   ],
   "source": [
    "# Remove null values before counting\n",
    "medision_filtered = df_medision_logics['unified_account_id'].dropna()\n",
    "six_sense_filtered = df_six_senses['unified_account_id'].dropna()\n",
    "\n",
    "# Calculate counts for Medision Logics\n",
    "medision_total = len(df_medision_logics)\n",
    "medision_null = df_medision_logics['unified_account_id'].isna().sum()\n",
    "medision_joined = medision_filtered.isin(df_sfdc_opp['unified_account_id']).sum()\n",
    "medision_not_joined = medision_filtered.size - medision_joined\n",
    "\n",
    "# Calculate counts for Six Sense\n",
    "six_sense_total = len(df_six_senses)\n",
    "six_sense_null = df_six_senses['unified_account_id'].isna().sum()\n",
    "six_sense_joined = six_sense_filtered.isin(df_sfdc_opp['unified_account_id']).sum()\n",
    "six_sense_not_joined = six_sense_filtered.size - six_sense_joined\n",
    "\n",
    "# Data for plotting side-by-side bars\n",
    "categories = ['Null', 'Joined with SFDC Opp', 'Not Joined']\n",
    "x = range(len(categories))\n",
    "\n",
    "# Bar widths\n",
    "bar_width = 0.35\n",
    "\n",
    "# Counts for plotting\n",
    "medision_counts = [medision_null, medision_joined, medision_not_joined]\n",
    "six_sense_counts = [six_sense_null, six_sense_joined, six_sense_not_joined]\n",
    "\n",
    "# Plotting\n",
    "fig, ax = plt.subplots(figsize=(10, 6))\n",
    "\n",
    "# Bars for Medision Logics\n",
    "bars_medision = ax.bar([pos - bar_width / 2 for pos in x], medision_counts, bar_width, label=f'Medision Logics ({medision_total})', color='skyblue')\n",
    "\n",
    "# Bars for Six Sense\n",
    "bars_six_sense = ax.bar([pos + bar_width / 2 for pos in x], six_sense_counts, bar_width, label=f'Six Sense ({six_sense_total})', color='orange')\n",
    "\n",
    "# Adding counts on bars\n",
    "for bar in bars_medision:\n",
    "    height = bar.get_height()\n",
    "    ax.text(bar.get_x() + bar.get_width() / 2, height, f'{int(height)}', ha='center', va='bottom')\n",
    "\n",
    "for bar in bars_six_sense:\n",
    "    height = bar.get_height()\n",
    "    ax.text(bar.get_x() + bar.get_width() / 2, height, f'{int(height)}', ha='center', va='bottom')\n",
    "\n",
    "# Customization\n",
    "ax.set_xticks(x)\n",
    "ax.set_xticklabels(categories)\n",
    "ax.set_ylabel('Counts')\n",
    "ax.set_title('Comparison of Unified Account ID Status with Total Record Counts')\n",
    "ax.legend()\n",
    "\n",
    "# Show plot\n",
    "plt.tight_layout()\n",
    "plt.show()\n"
   ]
  },
  {
   "cell_type": "code",
   "execution_count": 21,
   "id": "01df3719-d481-46fd-b935-3d21a69a9668",
   "metadata": {},
   "outputs": [
    {
     "data": {
      "text/plain": [
       "(11469, 13892)"
      ]
     },
     "execution_count": 21,
     "metadata": {},
     "output_type": "execute_result"
    }
   ],
   "source": [
    "# Unique count of unified_account_id in Medision Logics (excluding null values)\n",
    "unique_medision_unified_ids = df_medision_logics['unified_account_id'].dropna().nunique()\n",
    "\n",
    "# Unique count of unified_account_id in Six Sense (excluding null values)\n",
    "unique_six_sense_unified_ids = df_six_senses['unified_account_id'].dropna().nunique()\n",
    "\n",
    "# Display the counts\n",
    "unique_medision_unified_ids, unique_six_sense_unified_ids\n"
   ]
  },
  {
   "cell_type": "code",
   "execution_count": 23,
   "id": "3a120aac-9dde-4fd5-890f-e627b231a0dc",
   "metadata": {},
   "outputs": [
    {
     "data": {
      "image/png": "[encoded data removed]",
      "text/plain": [
       "<Figure size 1000x600 with 1 Axes>"
      ]
     },
     "metadata": {},
     "output_type": "display_data"
    }
   ],
   "source": [
    "# Calculate unique counts for Medision Logics\n",
    "unique_medision_total = df_medision_logics['unified_account_id'].dropna().nunique()\n",
    "unique_medision_joined = df_medision_logics['unified_account_id'].dropna().isin(df_sfdc_opp['unified_account_id']).sum()\n",
    "unique_medision_not_joined = unique_medision_total - unique_medision_joined\n",
    "\n",
    "# Calculate unique counts for Six Sense\n",
    "unique_six_sense_total = df_six_senses['unified_account_id'].dropna().nunique()\n",
    "unique_six_sense_joined = df_six_senses['unified_account_id'].dropna().isin(df_sfdc_opp['unified_account_id']).sum()\n",
    "unique_six_sense_not_joined = unique_six_sense_total - unique_six_sense_joined\n",
    "\n",
    "# Data for plotting side-by-side bars\n",
    "categories = ['Joined with SFDC Opp', 'Not Joined']\n",
    "x = range(len(categories))\n",
    "\n",
    "# Bar widths\n",
    "bar_width = 0.35\n",
    "\n",
    "# Plotting\n",
    "fig, ax = plt.subplots(figsize=(10, 6))\n",
    "\n",
    "# Bars for Medision Logics\n",
    "bars_medision = ax.bar(\n",
    "    [pos - bar_width / 2 for pos in x], \n",
    "    [unique_medision_joined, unique_medision_not_joined], \n",
    "    bar_width, \n",
    "    label=f'Medision Logics ({unique_medision_total})', \n",
    "    color='skyblue'\n",
    ")\n",
    "\n",
    "# Bars for Six Sense\n",
    "bars_six_sense = ax.bar(\n",
    "    [pos + bar_width / 2 for pos in x], \n",
    "    [unique_six_sense_joined, unique_six_sense_not_joined], \n",
    "    bar_width, \n",
    "    label=f'Six Sense ({unique_six_sense_total})', \n",
    "    color='orange'\n",
    ")\n",
    "\n",
    "# Adding counts on bars\n",
    "for bar in bars_medision:\n",
    "    height = bar.get_height()\n",
    "    ax.text(bar.get_x() + bar.get_width() / 2, height, f'{int(height)}', ha='center', va='bottom')\n",
    "\n",
    "for bar in bars_six_sense:\n",
    "    height = bar.get_height()\n",
    "    ax.text(bar.get_x() + bar.get_width() / 2, height, f'{int(height)}', ha='center', va='bottom')\n",
    "\n",
    "# Customization\n",
    "ax.set_xticks(x)\n",
    "ax.set_xticklabels(categories)\n",
    "ax.set_ylabel('Unique Counts')\n",
    "ax.set_title('Comparison of Unique Unified Account IDs by Status')\n",
    "ax.legend()\n",
    "\n",
    "# Show plot\n",
    "plt.tight_layout()\n",
    "plt.show()\n"
   ]
  },
  {
   "cell_type": "code",
   "execution_count": 29,
   "id": "4f00c27b-50a1-4607-96e5-b28654fac723",
   "metadata": {},
   "outputs": [
    {
     "name": "stdout",
     "output_type": "stream",
     "text": [
      "The unique count of non-null emails in the 'df_camp_member' DataFrame is: 396354\n"
     ]
    }
   ],
   "source": [
    "unique_email_count = df_camp_member['email'].dropna().nunique()\n",
    "print(f\"The unique count of non-null emails in the 'df_camp_member' DataFrame is: {unique_email_count}\")"
   ]
  },
  {
   "cell_type": "code",
   "execution_count": 30,
   "id": "0aa27b45-a784-419b-a1a2-313fc3ea4d27",
   "metadata": {},
   "outputs": [
    {
     "name": "stdout",
     "output_type": "stream",
     "text": [
      "The unique count of emails with a non-null 'unified_account_id' in the 'df_camp_member' DataFrame is: 270895\n"
     ]
    }
   ],
   "source": [
    "unique_email_with_unified_acc_id = df_camp_member[df_camp_member['unified_account_id'].notna()]['email'].nunique()\n",
    "print(f\"The unique count of emails with a non-null 'unified_account_id' in the 'df_camp_member' DataFrame is: {unique_email_with_unified_acc_id}\")"
   ]
  },
  {
   "cell_type": "code",
   "execution_count": 33,
   "id": "7964b059-986f-44cf-8377-c4402ac906ad",
   "metadata": {},
   "outputs": [
    {
     "name": "stdout",
     "output_type": "stream",
     "text": [
      "The number of records in 'df_sfdc_opp' with a non-null 'domain' and null 'unified_account_id' is: 2\n"
     ]
    }
   ],
   "source": [
    "domain_not_unified_acc_id = df_sfdc_opp[df_sfdc_opp['domain'].notna() & df_sfdc_opp['unified_account_id'].isna()].shape[0]\n",
    "print(f\"The number of records in 'df_sfdc_opp' with a non-null 'domain' and null 'unified_account_id' is: {domain_not_unified_acc_id}\")"
   ]
  },
  {
   "cell_type": "code",
   "execution_count": null,
   "id": "9d9fccef-0af6-4d08-9860-b46c57289893",
   "metadata": {},
   "outputs": [],
   "source": []
  }
 ],
 "metadata": {
  "kernelspec": {
   "display_name": "Python 3 (ipykernel)",
   "language": "python",
   "name": "python3"
  },
  "language_info": {
   "codemirror_mode": {
    "name": "ipython",
    "version": 3
   },
   "file_extension": ".py",
   "mimetype": "text/x-python",
   "name": "python",
   "nbconvert_exporter": "python",
   "pygments_lexer": "ipython3",
   "version": "3.12.6"
  }
 },
 "nbformat": 4,
 "nbformat_minor": 5
}
