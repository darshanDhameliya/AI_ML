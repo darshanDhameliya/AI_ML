{
 "cells": [
  {
   "cell_type": "code",
   "execution_count": 3,
   "id": "df04f1a4-91bc-4a58-b216-a089961d183f",
   "metadata": {},
   "outputs": [],
   "source": [
    "import pandas as pd"
   ]
  },
  {
   "cell_type": "code",
   "execution_count": 6,
   "id": "c2a51791-0ab9-45bf-b47c-ce9542b8d55d",
   "metadata": {
    "scrolled": true
   },
   "outputs": [
    {
     "name": "stdout",
     "output_type": "stream",
     "text": [
      "<class 'pandas.core.frame.DataFrame'>\n",
      "RangeIndex: 1989119 entries, 0 to 1989118\n",
      "Data columns (total 13 columns):\n",
      " #   Column                               Dtype  \n",
      "---  ------                               -----  \n",
      " 0   Account Owner                        object \n",
      " 1   Account ID                           object \n",
      " 2   Account Name                         object \n",
      " 3   Billing State/Province (text only)   object \n",
      " 4   Billing Country                      object \n",
      " 5   Region                               object \n",
      " 6   Type                                 object \n",
      " 7   Account Record Type                  object \n",
      " 8   Website                              object \n",
      " 9   Annual Revenue (converted) Currency  object \n",
      " 10  Annual Revenue (converted)           float64\n",
      " 11  Employees                            float64\n",
      " 12  Industry                             object \n",
      "dtypes: float64(2), object(11)\n",
      "memory usage: 197.3+ MB\n"
     ]
    }
   ],
   "source": [
    "df_vbc_acc = pd.read_csv('/home/darshan/Documents/Vonage 2024-Nov-13/SFDC/VBC Accounts.csv', encoding='latin-1')\n",
    "df_vbc_acc.info()"
   ]
  },
  {
   "cell_type": "code",
   "execution_count": 60,
   "id": "28ed4e65-6405-4137-8ae6-1dad7641b26d",
   "metadata": {},
   "outputs": [
    {
     "name": "stderr",
     "output_type": "stream",
     "text": [
      "/tmp/ipykernel_122836/4208054374.py:1: DtypeWarning: Columns (20,24,31) have mixed types. Specify dtype option on import or set low_memory=False.\n",
      "  df_sfdc_opp = pd.read_csv('/home/darshan/Documents/22-Nov-Data/sfdc_opportunities.csv', encoding='latin-1')\n"
     ]
    },
    {
     "name": "stdout",
     "output_type": "stream",
     "text": [
      "<class 'pandas.core.frame.DataFrame'>\n",
      "RangeIndex: 84509 entries, 0 to 84508\n",
      "Data columns (total 44 columns):\n",
      " #   Column                           Non-Null Count  Dtype  \n",
      "---  ------                           --------------  -----  \n",
      " 0   id                               84509 non-null  object \n",
      " 1   salesforce_instance              84509 non-null  object \n",
      " 2   domain                           2111 non-null   object \n",
      " 3   opportunity_id                   84509 non-null  object \n",
      " 4   owner_role                       81998 non-null  object \n",
      " 5   opportunity_owner                84509 non-null  object \n",
      " 6   opportunity_name                 84503 non-null  object \n",
      " 7   account_id                       84508 non-null  object \n",
      " 8   account_name                     84501 non-null  object \n",
      " 9   stage                            84509 non-null  object \n",
      " 10  fiscal_period                    84509 non-null  object \n",
      " 11  total_arr_usd                    78008 non-null  float64\n",
      " 12  amount_currency                  78737 non-null  object \n",
      " 13  amount                           78040 non-null  float64\n",
      " 14  probability                      36626 non-null  float64\n",
      " 15  stage_duration                   84507 non-null  float64\n",
      " 16  age                              67093 non-null  float64\n",
      " 17  reason_lost                      37504 non-null  object \n",
      " 18  close_date                       84509 non-null  object \n",
      " 19  created_date                     84509 non-null  object \n",
      " 20  entered_pipeline_date            1024 non-null   object \n",
      " 21  next_step                        22789 non-null  object \n",
      " 22  lead_source                      82479 non-null  object \n",
      " 23  type                             84509 non-null  object \n",
      " 24  marketing_involvement            468 non-null    object \n",
      " 25  business_group                   82291 non-null  object \n",
      " 26  opportunity_geo_region           84509 non-null  object \n",
      " 27  qualified_by                     72991 non-null  object \n",
      " 28  website                          2222 non-null   object \n",
      " 29  primary_campaign_source          82177 non-null  object \n",
      " 30  source_campaign                  83294 non-null  object \n",
      " 31  opportunity_source               1957 non-null   object \n",
      " 32  last_touch_campaign              81933 non-null  object \n",
      " 33  created_by                       84509 non-null  object \n",
      " 34  updated_by                       84509 non-null  object \n",
      " 35  created_at                       84509 non-null  object \n",
      " 36  updated_at                       84509 non-null  object \n",
      " 37  marketing_involvement_formatted  84509 non-null  object \n",
      " 38  unified_account_id               3342 non-null   object \n",
      " 39  unified_contact_id               0 non-null      float64\n",
      " 40  primary_contact                  82253 non-null  object \n",
      " 41  primary_contact_title            27746 non-null  object \n",
      " 42  primary_contact_email            82216 non-null  object \n",
      " 43  arr_segment                      84509 non-null  object \n",
      "dtypes: float64(6), object(38)\n",
      "memory usage: 28.4+ MB\n"
     ]
    }
   ],
   "source": [
    "df_sfdc_opp = pd.read_csv('/home/darshan/Documents/22-Nov-Data/sfdc_opportunities.csv', encoding='latin-1')\n",
    "df_sfdc_opp.info()"
   ]
  },
  {
   "cell_type": "code",
   "execution_count": 9,
   "id": "48038a7b-f771-4db9-8ac5-e18feaa154e8",
   "metadata": {},
   "outputs": [
    {
     "name": "stderr",
     "output_type": "stream",
     "text": [
      "/tmp/ipykernel_122836/2522086470.py:1: DtypeWarning: Columns (15) have mixed types. Specify dtype option on import or set low_memory=False.\n",
      "  df_sfdc_opp_stage = pd.read_csv('/home/darshan/Documents/Vonage 2024-Nov-13/SFDC/Opportunities Stage Progression.csv', encoding='latin-1')\n"
     ]
    },
    {
     "name": "stdout",
     "output_type": "stream",
     "text": [
      "<class 'pandas.core.frame.DataFrame'>\n",
      "RangeIndex: 157580 entries, 0 to 157579\n",
      "Data columns (total 16 columns):\n",
      " #   Column                  Non-Null Count   Dtype  \n",
      "---  ------                  --------------   -----  \n",
      " 0   ï»¿Salesforce Instance  157580 non-null  object \n",
      " 1   Opportunity ID          157580 non-null  object \n",
      " 2   Opportunity Owner       157580 non-null  object \n",
      " 3   Opportunity Name        157573 non-null  object \n",
      " 4   Account Name            157562 non-null  object \n",
      " 5   Stage                   157580 non-null  object \n",
      " 6   Edited By               157580 non-null  object \n",
      " 7   Total ARR USD           157580 non-null  float64\n",
      " 8   Field / Event           157580 non-null  object \n",
      " 9   Old Value               157580 non-null  object \n",
      " 10  New Value               157580 non-null  object \n",
      " 11  Edit Date               157580 non-null  object \n",
      " 12  Opportunity Geo-Region  157580 non-null  object \n",
      " 13  Type                    157580 non-null  object \n",
      " 14  Business Group          152608 non-null  object \n",
      " 15  Marketing Involvement   984 non-null     object \n",
      "dtypes: float64(1), object(15)\n",
      "memory usage: 19.2+ MB\n"
     ]
    }
   ],
   "source": [
    "df_sfdc_opp_stage = pd.read_csv('/home/darshan/Documents/Vonage 2024-Nov-13/SFDC/Opportunities Stage Progression.csv', encoding='latin-1')\n",
    "df_sfdc_opp_stage.info()"
   ]
  },
  {
   "cell_type": "code",
   "execution_count": 13,
   "id": "74a587b9-e0c1-457f-bad6-1117b2cae300",
   "metadata": {},
   "outputs": [
    {
     "name": "stdout",
     "output_type": "stream",
     "text": [
      "<class 'pandas.core.frame.DataFrame'>\n",
      "RangeIndex: 8341 entries, 0 to 8340\n",
      "Data columns (total 62 columns):\n",
      " #   Column                                     Non-Null Count  Dtype  \n",
      "---  ------                                     --------------  -----  \n",
      " 0   ï»¿Campaign Name                           8341 non-null   object \n",
      " 1   Batch Date                                 8341 non-null   object \n",
      " 2   Account Name                               8341 non-null   object \n",
      " 3   Account Domain                             8341 non-null   object \n",
      " 4   Leads                                      8341 non-null   int64  \n",
      " 5   Display Impressions                        8341 non-null   int64  \n",
      " 6   Clicks                                     8341 non-null   int64  \n",
      " 7   Click Through Rate                         8341 non-null   float64\n",
      " 8   Exposure Time (Minutes)                    8341 non-null   float64\n",
      " 9   Site Visits                                8341 non-null   int64  \n",
      " 10  Exposure Time per Site Visit (Minutes)     8341 non-null   float64\n",
      " 11  Top MLI Topic (Average Over Last 7 Weeks)  6040 non-null   object \n",
      " 12  # Trending MLI Topics (Over Last 7 weeks)  8341 non-null   int64  \n",
      " 13  MLI Topic 1                                327 non-null    object \n",
      " 14  MLI Topic 2                                1 non-null      object \n",
      " 15  MLI Topic 3                                411 non-null    object \n",
      " 16  MLI Topic 4                                2295 non-null   object \n",
      " 17  MLI Topic 5                                125 non-null    object \n",
      " 18  MLI Topic 6                                687 non-null    object \n",
      " 19  MLI Topic 7                                173 non-null    object \n",
      " 20  MLI Topic 8                                450 non-null    object \n",
      " 21  MLI Topic 9                                680 non-null    object \n",
      " 22  MLI Topic 10                               2 non-null      object \n",
      " 23  MLI Topic 11                               124 non-null    object \n",
      " 24  MLI Topic 12                               0 non-null      float64\n",
      " 25  MLI Topic 13                               386 non-null    object \n",
      " 26  MLI Topic 14                               196 non-null    object \n",
      " 27  MLI Topic 15                               15 non-null     object \n",
      " 28  MLI Topic 16                               499 non-null    object \n",
      " 29  MLI Topic 17                               201 non-null    object \n",
      " 30  MLI Topic 18                               177 non-null    object \n",
      " 31  MLI Topic 19                               108 non-null    object \n",
      " 32  MLI Topic 20                               779 non-null    object \n",
      " 33  MLI Topic 21                               495 non-null    object \n",
      " 34  MLI Topic 22                               378 non-null    object \n",
      " 35  MLI Topic 23                               570 non-null    object \n",
      " 36  MLI Topic 24                               9 non-null      object \n",
      " 37  MLI Topic 25                               128 non-null    object \n",
      " 38  MLI Topic 26                               235 non-null    object \n",
      " 39  MLI Topic 27                               0 non-null      float64\n",
      " 40  MLI Topic 28                               754 non-null    object \n",
      " 41  MLI Topic 29                               1621 non-null   object \n",
      " 42  MLI Topic 30                               331 non-null    object \n",
      " 43  MLI Topic 31                               87 non-null     object \n",
      " 44  MLI Topic 32                               113 non-null    object \n",
      " 45  MLI Topic 33                               442 non-null    object \n",
      " 46  MLI Topic 34                               108 non-null    object \n",
      " 47  MLI Topic 35                               16 non-null     object \n",
      " 48  MLI Topic 36                               49 non-null     object \n",
      " 49  MLI Topic 37                               125 non-null    object \n",
      " 50  MLI Topic 38                               842 non-null    object \n",
      " 51  MLI Topic 39                               339 non-null    object \n",
      " 52  MLI Topic 40                               335 non-null    object \n",
      " 53  MLI Topic 41                               891 non-null    object \n",
      " 54  MLI Topic 42                               798 non-null    object \n",
      " 55  MLI Topic 43                               6 non-null      object \n",
      " 56  MLI Topic 44                               804 non-null    object \n",
      " 57  MLI Topic 45                               5 non-null      object \n",
      " 58  MLI Topic 46                               378 non-null    object \n",
      " 59  MLI Topic 47                               598 non-null    object \n",
      " 60  MLI Topic 48                               1705 non-null   object \n",
      " 61  MLI Topic 49                               15 non-null     object \n",
      "dtypes: float64(5), int64(5), object(52)\n",
      "memory usage: 3.9+ MB\n"
     ]
    }
   ],
   "source": [
    "df_madison_1 = pd.read_csv('/home/darshan/Documents/Vonage 2024-Nov-13/Madison Logic/Madison Logic_3rd Sept 24.csv', encoding='latin-1')\n",
    "df_madison_1.info()"
   ]
  },
  {
   "cell_type": "code",
   "execution_count": 15,
   "id": "312cf98b-236e-4153-b59d-4498714038a2",
   "metadata": {},
   "outputs": [
    {
     "name": "stdout",
     "output_type": "stream",
     "text": [
      "<class 'pandas.core.frame.DataFrame'>\n",
      "RangeIndex: 5559 entries, 0 to 5558\n",
      "Data columns (total 62 columns):\n",
      " #   Column                                     Non-Null Count  Dtype  \n",
      "---  ------                                     --------------  -----  \n",
      " 0   ï»¿Campaign Name                           5559 non-null   object \n",
      " 1   Batch Date                                 5559 non-null   object \n",
      " 2   Account Name                               5559 non-null   object \n",
      " 3   Account Domain                             5559 non-null   object \n",
      " 4   Leads                                      5559 non-null   int64  \n",
      " 5   Display Impressions                        5559 non-null   int64  \n",
      " 6   Clicks                                     5559 non-null   int64  \n",
      " 7   Click Through Rate                         5559 non-null   float64\n",
      " 8   Exposure Time (Minutes)                    5559 non-null   float64\n",
      " 9   Site Visits                                5559 non-null   int64  \n",
      " 10  Exposure Time per Site Visit (Minutes)     5559 non-null   float64\n",
      " 11  Top MLI Topic (Average Over Last 7 Weeks)  4897 non-null   object \n",
      " 12  # Trending MLI Topics (Over Last 7 weeks)  5559 non-null   int64  \n",
      " 13  MLI Topic 1                                19 non-null     object \n",
      " 14  MLI Topic 2                                350 non-null    object \n",
      " 15  MLI Topic 3                                103 non-null    object \n",
      " 16  MLI Topic 4                                347 non-null    object \n",
      " 17  MLI Topic 5                                593 non-null    object \n",
      " 18  MLI Topic 6                                234 non-null    object \n",
      " 19  MLI Topic 7                                396 non-null    object \n",
      " 20  MLI Topic 8                                737 non-null    object \n",
      " 21  MLI Topic 9                                186 non-null    object \n",
      " 22  MLI Topic 10                               669 non-null    object \n",
      " 23  MLI Topic 11                               373 non-null    object \n",
      " 24  MLI Topic 12                               570 non-null    object \n",
      " 25  MLI Topic 13                               0 non-null      float64\n",
      " 26  MLI Topic 14                               285 non-null    object \n",
      " 27  MLI Topic 15                               2551 non-null   object \n",
      " 28  MLI Topic 16                               769 non-null    object \n",
      " 29  MLI Topic 17                               125 non-null    object \n",
      " 30  MLI Topic 18                               972 non-null    object \n",
      " 31  MLI Topic 19                               774 non-null    object \n",
      " 32  MLI Topic 20                               910 non-null    object \n",
      " 33  MLI Topic 21                               305 non-null    object \n",
      " 34  MLI Topic 22                               1020 non-null   object \n",
      " 35  MLI Topic 23                               13 non-null     object \n",
      " 36  MLI Topic 24                               737 non-null    object \n",
      " 37  MLI Topic 25                               263 non-null    object \n",
      " 38  MLI Topic 26                               453 non-null    object \n",
      " 39  MLI Topic 27                               884 non-null    object \n",
      " 40  MLI Topic 28                               26 non-null     object \n",
      " 41  MLI Topic 29                               257 non-null    object \n",
      " 42  MLI Topic 30                               199 non-null    object \n",
      " 43  MLI Topic 31                               10 non-null     object \n",
      " 44  MLI Topic 32                               746 non-null    object \n",
      " 45  MLI Topic 33                               257 non-null    object \n",
      " 46  MLI Topic 34                               137 non-null    object \n",
      " 47  MLI Topic 35                               339 non-null    object \n",
      " 48  MLI Topic 36                               8 non-null      object \n",
      " 49  MLI Topic 37                               1953 non-null   object \n",
      " 50  MLI Topic 38                               123 non-null    object \n",
      " 51  MLI Topic 39                               10 non-null     object \n",
      " 52  MLI Topic 40                               159 non-null    object \n",
      " 53  MLI Topic 41                               2 non-null      object \n",
      " 54  MLI Topic 42                               92 non-null     object \n",
      " 55  MLI Topic 43                               0 non-null      float64\n",
      " 56  MLI Topic 44                               470 non-null    object \n",
      " 57  MLI Topic 45                               4 non-null      object \n",
      " 58  MLI Topic 46                               407 non-null    object \n",
      " 59  MLI Topic 47                               121 non-null    object \n",
      " 60  MLI Topic 48                               3 non-null      object \n",
      " 61  MLI Topic 49                               609 non-null    object \n",
      "dtypes: float64(5), int64(5), object(52)\n",
      "memory usage: 2.6+ MB\n"
     ]
    }
   ],
   "source": [
    "df_madison_2 = pd.read_csv('/home/darshan/Documents/Vonage 2024-Nov-13/Madison Logic/Madison Logic_18th Oct 24.csv', encoding='latin-1')\n",
    "df_madison_2.info()"
   ]
  },
  {
   "cell_type": "code",
   "execution_count": 17,
   "id": "0af1f3e0-cf15-4949-9235-74ec8629d42c",
   "metadata": {},
   "outputs": [
    {
     "name": "stdout",
     "output_type": "stream",
     "text": [
      "<class 'pandas.core.frame.DataFrame'>\n",
      "RangeIndex: 14229 entries, 0 to 14228\n",
      "Data columns (total 8 columns):\n",
      " #   Column                  Non-Null Count  Dtype \n",
      "---  ------                  --------------  ----- \n",
      " 0   ï»¿6sense Company Name  14114 non-null  object\n",
      " 1   6sense Country          14114 non-null  object\n",
      " 2   6sense Domain           14106 non-null  object\n",
      " 3   6sense Revenue Range    14108 non-null  object\n",
      " 4   6sense Employee Range   14110 non-null  object\n",
      " 5   Industry                14108 non-null  object\n",
      " 6   Industry (Legacy)       14105 non-null  object\n",
      " 7   Stages                  14114 non-null  object\n",
      "dtypes: object(8)\n",
      "memory usage: 889.4+ KB\n"
     ]
    }
   ],
   "source": [
    "df_6sense = pd.read_csv('/home/darshan/Documents/Vonage 2024-Nov-13/6Sense/6Sense.csv', encoding='latin-1')\n",
    "df_6sense.info()"
   ]
  },
  {
   "cell_type": "code",
   "execution_count": 61,
   "id": "5e46a62c-cd2e-4fdb-a2e2-0bd6f869b9e6",
   "metadata": {},
   "outputs": [
    {
     "name": "stderr",
     "output_type": "stream",
     "text": [
      "/tmp/ipykernel_122836/1120515681.py:1: DtypeWarning: Columns (12,21,35) have mixed types. Specify dtype option on import or set low_memory=False.\n",
      "  df_camp_member = pd.read_csv('/home/darshan/Documents/22-Nov-Data/sfdc_campaign_members.csv', encoding='latin-1')\n"
     ]
    },
    {
     "name": "stdout",
     "output_type": "stream",
     "text": [
      "<class 'pandas.core.frame.DataFrame'>\n",
      "RangeIndex: 670218 entries, 0 to 670217\n",
      "Data columns (total 39 columns):\n",
      " #   Column                        Non-Null Count   Dtype  \n",
      "---  ------                        --------------   -----  \n",
      " 0   id                            670218 non-null  object \n",
      " 1   salesforce_instance           670218 non-null  object \n",
      " 2   domain                        669190 non-null  object \n",
      " 3   campaign_id                   670218 non-null  object \n",
      " 4   campaign_name                 670218 non-null  object \n",
      " 5   business_group                650109 non-null  object \n",
      " 6   member_type                   670218 non-null  object \n",
      " 7   member_status                 670212 non-null  object \n",
      " 8   related_record_id             670218 non-null  object \n",
      " 9   member_first_associated_date  670218 non-null  object \n",
      " 10  member_status_update_date     670218 non-null  object \n",
      " 11  member_first_responded_date   403273 non-null  object \n",
      " 12  account_id                    9605 non-null    object \n",
      " 13  company                       669521 non-null  object \n",
      " 14  responded                     403273 non-null  float64\n",
      " 15  first_name                    669757 non-null  object \n",
      " 16  last_name                     670208 non-null  object \n",
      " 17  title                         312841 non-null  object \n",
      " 18  phone                         547432 non-null  object \n",
      " 19  email                         669190 non-null  object \n",
      " 20  related_record_owner          670218 non-null  object \n",
      " 21  account_owner                 106404 non-null  object \n",
      " 22  address                       293774 non-null  object \n",
      " 23  city                          238900 non-null  object \n",
      " 24  state                         357232 non-null  object \n",
      " 25  zip_postal_code               310400 non-null  object \n",
      " 26  country                       594223 non-null  object \n",
      " 27  created_by                    670218 non-null  object \n",
      " 28  updated_by                    670218 non-null  object \n",
      " 29  created_at                    670218 non-null  object \n",
      " 30  updated_at                    670218 non-null  object \n",
      " 31  campaign_type                 664519 non-null  object \n",
      " 32  sub_type                      524233 non-null  object \n",
      " 33  campaign_status               670218 non-null  object \n",
      " 34  geo_region                    0 non-null       float64\n",
      " 35  region                        91097 non-null   object \n",
      " 36  unified_account_id            475625 non-null  object \n",
      " 37  unified_contact_id            451787 non-null  object \n",
      " 38  campaign_geo_region           670218 non-null  object \n",
      "dtypes: float64(2), object(37)\n",
      "memory usage: 199.4+ MB\n"
     ]
    }
   ],
   "source": [
    "df_camp_member = pd.read_csv('/home/darshan/Documents/22-Nov-Data/sfdc_campaign_members.csv', encoding='latin-1')\n",
    "df_camp_member.info()"
   ]
  },
  {
   "cell_type": "code",
   "execution_count": 43,
   "id": "98782f68-2bea-44ec-a76e-7e4740895612",
   "metadata": {},
   "outputs": [
    {
     "data": {
      "text/plain": [
       "475625"
      ]
     },
     "execution_count": 43,
     "metadata": {},
     "output_type": "execute_result"
    }
   ],
   "source": [
    "camp_member_with_account_id = df_camp_member[df_camp_member['unified_account_id'].notnull()]\n",
    "count = camp_member_with_account_id.shape[0]\n",
    "count"
   ]
  },
  {
   "cell_type": "code",
   "execution_count": 37,
   "id": "466f0e47-5cbd-4dbe-83fa-f8ba4bc1ad6c",
   "metadata": {},
   "outputs": [
    {
     "data": {
      "text/plain": [
       "np.int64(2275)"
      ]
     },
     "execution_count": 37,
     "metadata": {},
     "output_type": "execute_result"
    }
   ],
   "source": [
    "# Remove null values from Account ID in df_camp_member\n",
    "df_camp_member_clean = df_camp_member.dropna(subset=['account_id'])\n",
    "\n",
    "# Check how many Account IDs in df_camp_member_clean exist in df_sfdc_opp\n",
    "account_ids_in_sfdc_opp = df_camp_member_clean['account_id'].isin(df_sfdc_opp['Account ID'])\n",
    "count = account_ids_in_sfdc_opp.sum()\n",
    "count\n"
   ]
  },
  {
   "cell_type": "code",
   "execution_count": 39,
   "id": "4c7b9e62-e9c1-4d2d-b2bc-d78b6a1bb843",
   "metadata": {},
   "outputs": [
    {
     "data": {
      "text/plain": [
       "Email Domain\n",
       "gmail.com                158399\n",
       "yahoo.com                 21784\n",
       "hotmail.com                8661\n",
       "outlook.com                7215\n",
       "aol.com                    4857\n",
       "                          ...  \n",
       "fultoncommons.com             1\n",
       "znzenterprise.org             1\n",
       "prolificanalytics.org         1\n",
       "thomsonmechanical.com         1\n",
       "stefanakis.com                1\n",
       "Name: count, Length: 137580, dtype: int64"
      ]
     },
     "execution_count": 39,
     "metadata": {},
     "output_type": "execute_result"
    }
   ],
   "source": [
    "# Extract the domain from the Email column\n",
    "df_camp_member['Email Domain'] = df_camp_member['email'].str.split('@').str[1]\n",
    "\n",
    "# Get the value counts for the extracted domains\n",
    "email_domain_counts = df_camp_member['Email Domain'].value_counts()\n",
    "email_domain_counts\n"
   ]
  },
  {
   "cell_type": "code",
   "execution_count": 42,
   "id": "2e1c614b-357e-4d77-9ab7-dd68a2be8494",
   "metadata": {},
   "outputs": [],
   "source": [
    "# Assuming you want to store the email domain counts in a CSV\n",
    "email_domain_counts.to_csv('email_domain_counts.csv', index=True)"
   ]
  },
  {
   "cell_type": "code",
   "execution_count": 45,
   "id": "bb02f3d2-7ab7-4a26-a909-c8a45d3d573f",
   "metadata": {},
   "outputs": [],
   "source": [
    "# Save the result to a CSV file\n",
    "df_camp_member[['Email Domain']].to_csv('camp_member_email_domains.csv', index=False)"
   ]
  },
  {
   "cell_type": "code",
   "execution_count": 70,
   "id": "b0465c09-d433-46b7-8366-43017492f04f",
   "metadata": {},
   "outputs": [
    {
     "data": {
      "text/html": [
       "<div>\n",
       "<style scoped>\n",
       "    .dataframe tbody tr th:only-of-type {\n",
       "        vertical-align: middle;\n",
       "    }\n",
       "\n",
       "    .dataframe tbody tr th {\n",
       "        vertical-align: top;\n",
       "    }\n",
       "\n",
       "    .dataframe thead th {\n",
       "        text-align: right;\n",
       "    }\n",
       "</style>\n",
       "<table border=\"1\" class=\"dataframe\">\n",
       "  <thead>\n",
       "    <tr style=\"text-align: right;\">\n",
       "      <th></th>\n",
       "      <th>unified_account_id</th>\n",
       "    </tr>\n",
       "  </thead>\n",
       "  <tbody>\n",
       "    <tr>\n",
       "      <th>0</th>\n",
       "      <td>90eb2ce4-68ab-458f-9d13-41a81919d629</td>\n",
       "    </tr>\n",
       "    <tr>\n",
       "      <th>1</th>\n",
       "      <td>ab18558c-bcde-43bb-bf24-9a7b2926bc2f</td>\n",
       "    </tr>\n",
       "    <tr>\n",
       "      <th>2</th>\n",
       "      <td>667235af-f66c-45fd-9ad1-7a6c00648b4b</td>\n",
       "    </tr>\n",
       "    <tr>\n",
       "      <th>3</th>\n",
       "      <td>64673bb5-2424-4d0d-a9b7-6c8977d913ca</td>\n",
       "    </tr>\n",
       "    <tr>\n",
       "      <th>4</th>\n",
       "      <td>c7e356d1-737f-4331-ad3e-e57ab9f4185e</td>\n",
       "    </tr>\n",
       "    <tr>\n",
       "      <th>...</th>\n",
       "      <td>...</td>\n",
       "    </tr>\n",
       "    <tr>\n",
       "      <th>670213</th>\n",
       "      <td>4ea270a6-790d-43b6-a863-82ed42bce742</td>\n",
       "    </tr>\n",
       "    <tr>\n",
       "      <th>670214</th>\n",
       "      <td>c9bee7a7-a839-4228-92d7-a41d94325c5c</td>\n",
       "    </tr>\n",
       "    <tr>\n",
       "      <th>670215</th>\n",
       "      <td>abfcea19-4976-4603-bfad-5ff4176c266e</td>\n",
       "    </tr>\n",
       "    <tr>\n",
       "      <th>670216</th>\n",
       "      <td>4bdde258-0d81-468a-b0c2-b9c89b032579</td>\n",
       "    </tr>\n",
       "    <tr>\n",
       "      <th>670217</th>\n",
       "      <td>516d9e82-c9dd-4d88-9240-6ad5bd2b1bcb</td>\n",
       "    </tr>\n",
       "  </tbody>\n",
       "</table>\n",
       "<p>475625 rows × 1 columns</p>\n",
       "</div>"
      ],
      "text/plain": [
       "                          unified_account_id\n",
       "0       90eb2ce4-68ab-458f-9d13-41a81919d629\n",
       "1       ab18558c-bcde-43bb-bf24-9a7b2926bc2f\n",
       "2       667235af-f66c-45fd-9ad1-7a6c00648b4b\n",
       "3       64673bb5-2424-4d0d-a9b7-6c8977d913ca\n",
       "4       c7e356d1-737f-4331-ad3e-e57ab9f4185e\n",
       "...                                      ...\n",
       "670213  4ea270a6-790d-43b6-a863-82ed42bce742\n",
       "670214  c9bee7a7-a839-4228-92d7-a41d94325c5c\n",
       "670215  abfcea19-4976-4603-bfad-5ff4176c266e\n",
       "670216  4bdde258-0d81-468a-b0c2-b9c89b032579\n",
       "670217  516d9e82-c9dd-4d88-9240-6ad5bd2b1bcb\n",
       "\n",
       "[475625 rows x 1 columns]"
      ]
     },
     "execution_count": 70,
     "metadata": {},
     "output_type": "execute_result"
    }
   ],
   "source": [
    "temp_df_1 = df_camp_member[['unified_account_id']]\n",
    "temp_df_1.dropna()"
   ]
  },
  {
   "cell_type": "code",
   "execution_count": 71,
   "id": "1ef5a2c7-2e5d-4f83-b308-fcf9139a7598",
   "metadata": {},
   "outputs": [
    {
     "data": {
      "text/html": [
       "<div>\n",
       "<style scoped>\n",
       "    .dataframe tbody tr th:only-of-type {\n",
       "        vertical-align: middle;\n",
       "    }\n",
       "\n",
       "    .dataframe tbody tr th {\n",
       "        vertical-align: top;\n",
       "    }\n",
       "\n",
       "    .dataframe thead th {\n",
       "        text-align: right;\n",
       "    }\n",
       "</style>\n",
       "<table border=\"1\" class=\"dataframe\">\n",
       "  <thead>\n",
       "    <tr style=\"text-align: right;\">\n",
       "      <th></th>\n",
       "      <th>unified_account_id</th>\n",
       "    </tr>\n",
       "  </thead>\n",
       "  <tbody>\n",
       "    <tr>\n",
       "      <th>0</th>\n",
       "      <td>a4a180a6-9fbe-4cb8-a4f8-d3b0557d1430</td>\n",
       "    </tr>\n",
       "    <tr>\n",
       "      <th>1</th>\n",
       "      <td>e37c0908-b3d6-4219-9e44-72c5cde2feb2</td>\n",
       "    </tr>\n",
       "    <tr>\n",
       "      <th>4</th>\n",
       "      <td>23189292-d972-47f6-a1b3-8b4c943ac7c2</td>\n",
       "    </tr>\n",
       "    <tr>\n",
       "      <th>6</th>\n",
       "      <td>abffb55c-8ee5-4a2f-b46b-449e0ebee670</td>\n",
       "    </tr>\n",
       "    <tr>\n",
       "      <th>7</th>\n",
       "      <td>72ebc7b6-f762-447f-bb20-e4dd5fe07d97</td>\n",
       "    </tr>\n",
       "    <tr>\n",
       "      <th>...</th>\n",
       "      <td>...</td>\n",
       "    </tr>\n",
       "    <tr>\n",
       "      <th>84189</th>\n",
       "      <td>2e939f58-0082-4ed9-9b75-1ee31c084d4c</td>\n",
       "    </tr>\n",
       "    <tr>\n",
       "      <th>84204</th>\n",
       "      <td>9e34d68e-382e-4659-a98b-0b6e0d44d5ea</td>\n",
       "    </tr>\n",
       "    <tr>\n",
       "      <th>84214</th>\n",
       "      <td>e038102b-35b5-423e-9193-1451f0ef3723</td>\n",
       "    </tr>\n",
       "    <tr>\n",
       "      <th>84271</th>\n",
       "      <td>9e34d68e-382e-4659-a98b-0b6e0d44d5ea</td>\n",
       "    </tr>\n",
       "    <tr>\n",
       "      <th>84394</th>\n",
       "      <td>50f3af51-f3f6-4c9d-8280-f8e9df7c49b3</td>\n",
       "    </tr>\n",
       "  </tbody>\n",
       "</table>\n",
       "<p>3342 rows × 1 columns</p>\n",
       "</div>"
      ],
      "text/plain": [
       "                         unified_account_id\n",
       "0      a4a180a6-9fbe-4cb8-a4f8-d3b0557d1430\n",
       "1      e37c0908-b3d6-4219-9e44-72c5cde2feb2\n",
       "4      23189292-d972-47f6-a1b3-8b4c943ac7c2\n",
       "6      abffb55c-8ee5-4a2f-b46b-449e0ebee670\n",
       "7      72ebc7b6-f762-447f-bb20-e4dd5fe07d97\n",
       "...                                     ...\n",
       "84189  2e939f58-0082-4ed9-9b75-1ee31c084d4c\n",
       "84204  9e34d68e-382e-4659-a98b-0b6e0d44d5ea\n",
       "84214  e038102b-35b5-423e-9193-1451f0ef3723\n",
       "84271  9e34d68e-382e-4659-a98b-0b6e0d44d5ea\n",
       "84394  50f3af51-f3f6-4c9d-8280-f8e9df7c49b3\n",
       "\n",
       "[3342 rows x 1 columns]"
      ]
     },
     "execution_count": 71,
     "metadata": {},
     "output_type": "execute_result"
    }
   ],
   "source": [
    "temp_df_2 = df_sfdc_opp[['unified_account_id']]\n",
    "temp_df_2.dropna()"
   ]
  },
  {
   "cell_type": "code",
   "execution_count": 73,
   "id": "8c5119fc-f511-4bf0-94d0-0c8a6c1940e6",
   "metadata": {},
   "outputs": [
    {
     "name": "stdout",
     "output_type": "stream",
     "text": [
      "224402\n"
     ]
    }
   ],
   "source": [
    "# # Perform an inner join between df_camp_members and df_sfdc_opp on 'unified_account_id'\n",
    "# merged_df = pd.merge(temp_df_1, temp_df_2, left_on='unified_account_id', right_on='unified_account_id', how='inner')\n",
    "\n",
    "# # Get the count of unique camp members who have opportunities\n",
    "# count = merged_df['unified_account_id'].nunique()\n",
    "\n",
    "# # Display the count\n",
    "# count\n",
    "\n",
    "\n",
    "# Check how many values in df1 exist in df2\n",
    "matching_values = temp_df_1['unified_account_id'].isin(temp_df_2['unified_account_id'])\n",
    "\n",
    "# Count how many True values there are (i.e., how many values from df1 exist in df2)\n",
    "matching_count = matching_values.sum()\n",
    "\n",
    "\n",
    "print(matching_count)"
   ]
  },
  {
   "cell_type": "code",
   "execution_count": 51,
   "id": "11974032-7dbb-423e-b9d0-5336297db9d7",
   "metadata": {},
   "outputs": [
    {
     "data": {
      "text/plain": [
       "2572"
      ]
     },
     "execution_count": 51,
     "metadata": {},
     "output_type": "execute_result"
    }
   ],
   "source": [
    "# Get the count of unique account IDs in df_sfdc_opp\n",
    "unique_account_ids_sfdc_opp = df_sfdc_opp['unified_account_id'].nunique()\n",
    "unique_account_ids_sfdc_opp\n"
   ]
  },
  {
   "cell_type": "code",
   "execution_count": null,
   "id": "811c2165-6f61-4d6f-963b-88576ca50895",
   "metadata": {},
   "outputs": [],
   "source": []
  }
 ],
 "metadata": {
  "kernelspec": {
   "display_name": "Python 3 (ipykernel)",
   "language": "python",
   "name": "python3"
  },
  "language_info": {
   "codemirror_mode": {
    "name": "ipython",
    "version": 3
   },
   "file_extension": ".py",
   "mimetype": "text/x-python",
   "name": "python",
   "nbconvert_exporter": "python",
   "pygments_lexer": "ipython3",
   "version": "3.12.6"
  }
 },
 "nbformat": 4,
 "nbformat_minor": 5
}
