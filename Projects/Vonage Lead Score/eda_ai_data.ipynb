{
 "cells": [
  {
   "cell_type": "code",
   "execution_count": 1,
   "id": "5a1ceeca-937b-450c-a406-1fe792702655",
   "metadata": {},
   "outputs": [],
   "source": [
    "import pandas as pd"
   ]
  },
  {
   "cell_type": "code",
   "execution_count": 2,
   "id": "c5106d7b-3f99-415d-bebe-4c41aeeb144c",
   "metadata": {
    "scrolled": true
   },
   "outputs": [
    {
     "name": "stdout",
     "output_type": "stream",
     "text": [
      "<class 'pandas.core.frame.DataFrame'>\n",
      "RangeIndex: 147366 entries, 0 to 147365\n",
      "Data columns (total 67 columns):\n",
      " #   Column                    Non-Null Count   Dtype  \n",
      "---  ------                    --------------   -----  \n",
      " 0   Unified_Account_Data      147366 non-null  object \n",
      " 1   id                        147366 non-null  object \n",
      " 2   name                      147364 non-null  object \n",
      " 3   domain                    147366 non-null  object \n",
      " 4   country                   125087 non-null  object \n",
      " 5   vbc_id                    20081 non-null   object \n",
      " 6   vbc_name                  20081 non-null   object \n",
      " 7   vcc_id                    18575 non-null   object \n",
      " 8   vcc_name                  18575 non-null   object \n",
      " 9   nex_id                    147366 non-null  object \n",
      " 10  nex_name                  147365 non-null  object \n",
      " 11  created_by                147366 non-null  object \n",
      " 12  updated_by                147366 non-null  object \n",
      " 13  created_at                147366 non-null  object \n",
      " 14  updated_at                147366 non-null  object \n",
      " 15  source                    147366 non-null  object \n",
      " 16  append_sources            147366 non-null  object \n",
      " 17  base_named_account_id     17112 non-null   object \n",
      " 18  base_named_account_name   17112 non-null   object \n",
      " 19  is_verified               147366 non-null  bool   \n",
      " 20  is_manually_appended      147366 non-null  bool   \n",
      " 21  scrubbed_name             147366 non-null  object \n",
      " 22  base_source               147366 non-null  object \n",
      " 23  suppression_status        147366 non-null  object \n",
      " 24  revenue                   14877 non-null   float64\n",
      " 25  employees                 38661 non-null   float64\n",
      " 26  industry                  50135 non-null   object \n",
      " 27  Base_Account_Data         147366 non-null  object \n",
      " 28  id.1                      17112 non-null   object \n",
      " 29  company_name              17112 non-null   object \n",
      " 30  country.1                 17112 non-null   object \n",
      " 31  domain.1                  17112 non-null   object \n",
      " 32  revenue_range             16499 non-null   object \n",
      " 33  employee_range            17022 non-null   object \n",
      " 34  industry.1                17002 non-null   object \n",
      " 35  industry_legacy           17102 non-null   object \n",
      " 36  buying_stage              16668 non-null   object \n",
      " 37  created_by.1              17112 non-null   object \n",
      " 38  updated_by.1              17112 non-null   object \n",
      " 39  created_at.1              17112 non-null   object \n",
      " 40  updated_at.1              17112 non-null   object \n",
      " 41  scrubbed_name.1           17112 non-null   object \n",
      " 42  file_id                   0 non-null       float64\n",
      " 43  Six_Senses_Data           147366 non-null  object \n",
      " 44  id.2                      14000 non-null   object \n",
      " 45  six_sense_company_name    14000 non-null   object \n",
      " 46  six_sense_country         14000 non-null   object \n",
      " 47  six_sense_domain          13998 non-null   object \n",
      " 48  six_sense_revenue_range   13995 non-null   object \n",
      " 49  six_sense_employee_range  13996 non-null   object \n",
      " 50  industry.2                13996 non-null   object \n",
      " 51  industry_legacy.1         13995 non-null   object \n",
      " 52  buying_stage.1            14000 non-null   object \n",
      " 53  notes                     0 non-null       float64\n",
      " 54  created_by.2              14000 non-null   object \n",
      " 55  updated_by.2              14000 non-null   object \n",
      " 56  created_at.2              14000 non-null   object \n",
      " 57  updated_at.2              14000 non-null   object \n",
      " 58  unified_account_id        14000 non-null   object \n",
      " 59  unified_contact_id        0 non-null       float64\n",
      " 60  file_id.1                 0 non-null       float64\n",
      " 61  Computed_Data             147366 non-null  object \n",
      " 62  ML                        147366 non-null  int64  \n",
      " 63  CL                        147366 non-null  int64  \n",
      " 64  Has Opportunity?          147366 non-null  object \n",
      " 65  Total                     147366 non-null  int64  \n",
      " 66  Engagement Category       147366 non-null  object \n",
      "dtypes: bool(2), float64(6), int64(3), object(56)\n",
      "memory usage: 73.4+ MB\n"
     ]
    }
   ],
   "source": [
    "df_acc = pd.read_csv('/home/darshan/Documents/AI Data/_Select_Distinct_ON_lower_a_nex_name_a_a_ML_a_CL_as_Total_case_w_202412091103.csv')\n",
    "\n",
    "df_acc.info()"
   ]
  },
  {
   "cell_type": "code",
   "execution_count": 3,
   "id": "035a7ae3-dbdb-465e-96b2-a87349f02f69",
   "metadata": {
    "scrolled": true
   },
   "outputs": [
    {
     "name": "stdout",
     "output_type": "stream",
     "text": [
      "<class 'pandas.core.frame.DataFrame'>\n",
      "RangeIndex: 272693 entries, 0 to 272692\n",
      "Data columns (total 19 columns):\n",
      " #   Column                    Non-Null Count   Dtype \n",
      "---  ------                    --------------   ----- \n",
      " 0   id                        272693 non-null  object\n",
      " 1   account                   272660 non-null  object\n",
      " 2   domain                    272693 non-null  object\n",
      " 3   first_name                272689 non-null  object\n",
      " 4   last_name                 272693 non-null  object\n",
      " 5   title                     159644 non-null  object\n",
      " 6   work_email                272693 non-null  object\n",
      " 7   fn_ln_domain_dedupe_key   272648 non-null  object\n",
      " 8   fn_ln_company_dedupe_key  272693 non-null  object\n",
      " 9   created_by                272693 non-null  object\n",
      " 10  updated_by                272693 non-null  object\n",
      " 11  created_at                272693 non-null  object\n",
      " 12  updated_at                272693 non-null  object\n",
      " 13  source                    272693 non-null  object\n",
      " 14  append_sources            272693 non-null  object\n",
      " 15  is_verified               272693 non-null  bool  \n",
      " 16  is_manually_appended      272693 non-null  bool  \n",
      " 17  unified_account_id        264118 non-null  object\n",
      " 18  member_type               272693 non-null  object\n",
      "dtypes: bool(2), object(17)\n",
      "memory usage: 35.9+ MB\n"
     ]
    }
   ],
   "source": [
    "df_contact = pd.read_csv('/home/darshan/Documents/AI Data/unified_contacts_202412091219.csv')\n",
    "\n",
    "df_contact.info()"
   ]
  },
  {
   "cell_type": "code",
   "execution_count": 4,
   "id": "92ddfd00-4363-4605-afda-9292ddceaf2c",
   "metadata": {},
   "outputs": [],
   "source": [
    "# Remove unnecessary columns from df_acc (excluding 'id', 'id.1', 'file_id', 'notes', 'unified_contact_id')\n",
    "cols_to_drop_acc = ['created_at', 'created_by', 'updated_at', 'updated_by', 'created_at.1', \n",
    "                    'created_by.1', 'updated_at.1', 'updated_by.1', 'created_at.2', 'updated_at.2']\n",
    "df_acc_cleaned = df_acc.drop(columns=cols_to_drop_acc)\n",
    "\n",
    "# Remove unnecessary columns from df_contact (excluding the ones required for merging)\n",
    "cols_to_drop_contact = ['created_at', 'created_by', 'updated_at', 'updated_by', 'id']\n",
    "df_contact_cleaned = df_contact.drop(columns=cols_to_drop_contact)"
   ]
  },
  {
   "cell_type": "code",
   "execution_count": 5,
   "id": "03dbb081-a964-43f1-a8a4-a2e1906b5e45",
   "metadata": {},
   "outputs": [
    {
     "name": "stdout",
     "output_type": "stream",
     "text": [
      "### Contact DataFrame ###\n",
      "Initial Count: 272693\n",
      "Cleaned Count: 264118\n"
     ]
    }
   ],
   "source": [
    "# Remove rows with null 'unified_account_id' from df_contact_cleaned\n",
    "df_contact_cleaned = df_contact_cleaned[df_contact_cleaned['unified_account_id'].notnull()]\n",
    "\n",
    "# Add a prefix \"account_\" to the columns of df_acc_cleaned\n",
    "df_acc_cleaned = df_acc_cleaned.rename(columns=lambda x: f\"account_{x}\")\n",
    "\n",
    "# Get the initial and cleaned row counts for both DataFrames\n",
    "contact_initial_count = df_contact.shape[0]\n",
    "contact_cleaned_count = df_contact_cleaned.shape[0]\n",
    "\n",
    "# Display the counts\n",
    "print(\"### Contact DataFrame ###\")\n",
    "print(f\"Initial Count: {contact_initial_count}\")\n",
    "print(f\"Cleaned Count: {contact_cleaned_count}\")"
   ]
  },
  {
   "cell_type": "code",
   "execution_count": 8,
   "id": "a7c61c87-6bcb-4da4-99e2-a9237319f196",
   "metadata": {},
   "outputs": [
    {
     "name": "stdout",
     "output_type": "stream",
     "text": [
      "Final merged dataframe shape: (264118, 71)\n"
     ]
    }
   ],
   "source": [
    "# Merge the two DataFrames on 'id' from df_acc and 'unified_account_id' from df_contact\n",
    "df_merged = pd.merge(df_acc_cleaned, df_contact_cleaned, left_on='account_id', right_on='unified_account_id', how='inner')\n",
    "\n",
    "# Show the result\n",
    "print(f\"Final merged dataframe shape: {df_merged.shape}\")\n",
    "\n",
    "df_merged.to_csv('contact_with_account.csv')"
   ]
  },
  {
   "cell_type": "code",
   "execution_count": null,
   "id": "97e89fb9-ca9d-4ea7-bc6b-f925b23c9087",
   "metadata": {},
   "outputs": [],
   "source": []
  },
  {
   "cell_type": "code",
   "execution_count": null,
   "id": "70e57b1b-d099-4bbc-a6bc-2f44d8109932",
   "metadata": {},
   "outputs": [],
   "source": []
  }
 ],
 "metadata": {
  "kernelspec": {
   "display_name": "Python 3 (ipykernel)",
   "language": "python",
   "name": "python3"
  },
  "language_info": {
   "codemirror_mode": {
    "name": "ipython",
    "version": 3
   },
   "file_extension": ".py",
   "mimetype": "text/x-python",
   "name": "python",
   "nbconvert_exporter": "python",
   "pygments_lexer": "ipython3",
   "version": "3.12.6"
  }
 },
 "nbformat": 4,
 "nbformat_minor": 5
}
