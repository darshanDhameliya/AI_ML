{
 "cells": [
  {
   "cell_type": "code",
   "execution_count": 1,
   "id": "399cadc7-18ba-446d-8e20-c6e0c16fdb2f",
   "metadata": {},
   "outputs": [],
   "source": [
    "import pandas as pd"
   ]
  },
  {
   "cell_type": "code",
   "execution_count": 3,
   "id": "b607add0-bb8b-44d4-9ddc-0aac479b9783",
   "metadata": {},
   "outputs": [
    {
     "name": "stderr",
     "output_type": "stream",
     "text": [
      "/tmp/ipykernel_454802/1827992183.py:1: DtypeWarning: Columns (15) have mixed types. Specify dtype option on import or set low_memory=False.\n",
      "  df_opp_stage_progress = pd.read_csv('/home/darshan/Documents/Vonage 2024-Nov-13/SFDC/Opportunities Stage Progression.csv')\n"
     ]
    },
    {
     "name": "stdout",
     "output_type": "stream",
     "text": [
      "<class 'pandas.core.frame.DataFrame'>\n",
      "RangeIndex: 157580 entries, 0 to 157579\n",
      "Data columns (total 16 columns):\n",
      " #   Column                  Non-Null Count   Dtype  \n",
      "---  ------                  --------------   -----  \n",
      " 0   Salesforce Instance     157580 non-null  object \n",
      " 1   Opportunity ID          157580 non-null  object \n",
      " 2   Opportunity Owner       157580 non-null  object \n",
      " 3   Opportunity Name        157573 non-null  object \n",
      " 4   Account Name            157562 non-null  object \n",
      " 5   Stage                   157580 non-null  object \n",
      " 6   Edited By               157580 non-null  object \n",
      " 7   Total ARR USD           157580 non-null  float64\n",
      " 8   Field / Event           157580 non-null  object \n",
      " 9   Old Value               157580 non-null  object \n",
      " 10  New Value               157580 non-null  object \n",
      " 11  Edit Date               157580 non-null  object \n",
      " 12  Opportunity Geo-Region  157580 non-null  object \n",
      " 13  Type                    157580 non-null  object \n",
      " 14  Business Group          152608 non-null  object \n",
      " 15  Marketing Involvement   984 non-null     object \n",
      "dtypes: float64(1), object(15)\n",
      "memory usage: 19.2+ MB\n"
     ]
    }
   ],
   "source": [
    "df_opp_stage_progress = pd.read_csv('/home/darshan/Documents/Vonage 2024-Nov-13/SFDC/Opportunities Stage Progression.csv')\n",
    "\n",
    "df_opp_stage_progress.info()"
   ]
  },
  {
   "cell_type": "code",
   "execution_count": 54,
   "id": "6b5cf686-b910-436d-9084-32c766f0760b",
   "metadata": {},
   "outputs": [
    {
     "name": "stderr",
     "output_type": "stream",
     "text": [
      "/tmp/ipykernel_454802/2234851364.py:1: DtypeWarning: Columns (19,23,24) have mixed types. Specify dtype option on import or set low_memory=False.\n",
      "  df_opp_primary_contact = pd.read_csv('/home/darshan/Documents/Vonage 2024-Nov-13/SFDC/Opp with Primary Contact.csv', encoding='latin1')\n"
     ]
    },
    {
     "name": "stdout",
     "output_type": "stream",
     "text": [
      "<class 'pandas.core.frame.DataFrame'>\n",
      "RangeIndex: 91181 entries, 0 to 91180\n",
      "Data columns (total 35 columns):\n",
      " #   Column                             Non-Null Count  Dtype  \n",
      "---  ------                             --------------  -----  \n",
      " 0   Salesforce Instance                91181 non-null  object \n",
      " 1   Opportunity ID                     91181 non-null  object \n",
      " 2   Owner Role                         87016 non-null  object \n",
      " 3   Opportunity Owner                  91181 non-null  object \n",
      " 4   Opportunity Name                   91175 non-null  object \n",
      " 5   Account ID                         91180 non-null  object \n",
      " 6   Account Name                       91171 non-null  object \n",
      " 7   Stage                              91181 non-null  object \n",
      " 8   Fiscal Period                      91181 non-null  object \n",
      " 9   Annual Recurring Revenue Currency  89173 non-null  object \n",
      " 10  Annual Recurring Revenue           91181 non-null  float64\n",
      " 11  Amount Currency                    83781 non-null  object \n",
      " 12  Amount                             83781 non-null  float64\n",
      " 13  Probability (%)                    91181 non-null  int64  \n",
      " 14  Stage Duration                     91181 non-null  int64  \n",
      " 15  Age                                91181 non-null  int64  \n",
      " 16  Reason for Closed Lost             44287 non-null  object \n",
      " 17  Close Date                         91181 non-null  object \n",
      " 18  Created Date                       91181 non-null  object \n",
      " 19  Entered Pipeline Date              1034 non-null   object \n",
      " 20  Next Step                          24786 non-null  object \n",
      " 21  Lead Source                        88746 non-null  object \n",
      " 22  Type                               91181 non-null  object \n",
      " 23  Marketing Involvement              497 non-null    object \n",
      " 24  Opportunity Source                 1991 non-null   object \n",
      " 25  Business Group                     88095 non-null  object \n",
      " 26  Opportunity Geo-Region             91181 non-null  object \n",
      " 27  Qualified By                       75123 non-null  object \n",
      " 28  Website                            3089 non-null   object \n",
      " 29  Primary Campaign Source            88734 non-null  object \n",
      " 30  Source Campaign                    89915 non-null  object \n",
      " 31  Last Touch Campaign                88447 non-null  object \n",
      " 32  Primary Contact                    88543 non-null  object \n",
      " 33  Contact: Title                     29550 non-null  object \n",
      " 34  Contact: Email                     88482 non-null  object \n",
      "dtypes: float64(2), int64(3), object(30)\n",
      "memory usage: 24.3+ MB\n"
     ]
    }
   ],
   "source": [
    "df_opp_primary_contact = pd.read_csv('/home/darshan/Documents/Vonage 2024-Nov-13/SFDC/Opp with Primary Contact.csv', encoding='latin1')\n",
    "\n",
    "df_opp_primary_contact.info()"
   ]
  },
  {
   "cell_type": "code",
   "execution_count": 55,
   "id": "60b5f487-2b4a-4853-bee0-238cb366c29a",
   "metadata": {},
   "outputs": [
    {
     "name": "stdout",
     "output_type": "stream",
     "text": [
      "        Opportunity ID  Row Count\n",
      "8      0061400001F9Gte          2\n",
      "16     0061400001H3TeM          2\n",
      "24     0061400001I4nWZ          3\n",
      "71     0061O00001Ls2Kd          2\n",
      "83     0061O00001MdAfp          2\n",
      "...                ...        ...\n",
      "90594  006cg000003SW02          2\n",
      "90596  006cg000003VcnG          3\n",
      "90597  006cg000003XWVd          2\n",
      "90598  006cg000003XnHx          2\n",
      "90602  006cg000003d5MH          3\n",
      "\n",
      "[49309 rows x 2 columns]\n"
     ]
    }
   ],
   "source": [
    "# Count the number of rows for each Opportunity ID in df_opp_stage_progress\n",
    "opp_count = df_opp_stage_progress.groupby('Opportunity ID').size().reset_index(name='Row Count')\n",
    "\n",
    "# Filter for Opportunity IDs with more than 1 row\n",
    "multi_row_opp = opp_count[opp_count['Row Count'] > 1]\n",
    "\n",
    "# Display the results\n",
    "print(multi_row_opp)"
   ]
  },
  {
   "cell_type": "code",
   "execution_count": 56,
   "id": "c00c9c54-2138-4846-91a3-f73e70cb96c9",
   "metadata": {},
   "outputs": [
    {
     "name": "stdout",
     "output_type": "stream",
     "text": [
      "        Opportunity ID        Stage  Stage_Progression_Count  Latest_Edit_Date\n",
      "0      00614000019lQ8S  Closed Lost                        1   6/30/2023 16:26\n",
      "1      0061400001Cw8jI  Closed Lost                        1    3/4/2024 12:44\n",
      "2      0061400001DQVhL  Closed Lost                        1    4/8/2024 15:45\n",
      "3      0061400001DdU9q  Closed Lost                        1    4/8/2024 15:43\n",
      "4      0061400001DemfE  Closed Lost                        1  11/10/2023 16:45\n",
      "...                ...          ...                      ...               ...\n",
      "90606  006cg000003hU4L    Discovery                        1    11/4/2024 9:41\n",
      "90607  006cg000003hfB5     Proposal                        1  10/31/2024 10:28\n",
      "90608  006cg000003jIn3      Meeting                        1   11/1/2024 10:34\n",
      "90609  006cg000003mBkD      Meeting                        1    11/4/2024 5:52\n",
      "90610  006cg000003mjYz      Meeting                        1    11/4/2024 9:54\n",
      "\n",
      "[90611 rows x 4 columns]\n"
     ]
    }
   ],
   "source": [
    "# Group by 'Opportunity ID' and 'Stage', count occurrences and get the latest 'Edit Date'\n",
    "opp_stage_count = df_opp_stage_progress.groupby(['Opportunity ID', 'Stage']).agg(\n",
    "    Stage_Progression_Count=('Opportunity ID', 'size'),\n",
    "    Latest_Edit_Date=('Edit Date', 'max')\n",
    ").reset_index()\n",
    "\n",
    "# Display the result\n",
    "print(opp_stage_count)"
   ]
  },
  {
   "cell_type": "code",
   "execution_count": 57,
   "id": "aee4a2e1-ab52-49e5-afe9-2b59c1e7e519",
   "metadata": {},
   "outputs": [],
   "source": [
    "# opp_stage_count.to_csv('opp_stage_count.csv', index=False)"
   ]
  },
  {
   "cell_type": "code",
   "execution_count": 58,
   "id": "9bfff054-f2c9-4f92-b481-c401de980839",
   "metadata": {},
   "outputs": [
    {
     "name": "stdout",
     "output_type": "stream",
     "text": [
      "Empty DataFrame\n",
      "Columns: [Opportunity ID, Stage, Stage_Progression_Count, Latest_Edit_Date]\n",
      "Index: []\n"
     ]
    }
   ],
   "source": [
    "# Check if any Opportunity ID is repeated\n",
    "repeated_opp_ids = opp_stage_count[opp_stage_count.duplicated(subset='Opportunity ID', keep=False)]\n",
    "\n",
    "# Display the repeated Opportunity IDs\n",
    "print(repeated_opp_ids)"
   ]
  },
  {
   "cell_type": "code",
   "execution_count": 59,
   "id": "8764512f-2ebd-42be-8bf8-b2d5da350283",
   "metadata": {},
   "outputs": [
    {
     "name": "stdout",
     "output_type": "stream",
     "text": [
      "<class 'pandas.core.frame.DataFrame'>\n",
      "RangeIndex: 90611 entries, 0 to 90610\n",
      "Data columns (total 38 columns):\n",
      " #   Column                             Non-Null Count  Dtype  \n",
      "---  ------                             --------------  -----  \n",
      " 0   Opportunity ID                     90611 non-null  object \n",
      " 1   SP_Stage                           90611 non-null  object \n",
      " 2   SP_Stage_Progression_Count         90611 non-null  int64  \n",
      " 3   SP_Latest_Edit_Date                90611 non-null  object \n",
      " 4   Salesforce Instance                88060 non-null  object \n",
      " 5   Owner Role                         84395 non-null  object \n",
      " 6   Opportunity Owner                  88060 non-null  object \n",
      " 7   Opportunity Name                   88054 non-null  object \n",
      " 8   Account ID                         88059 non-null  object \n",
      " 9   Account Name                       88050 non-null  object \n",
      " 10  Stage                              88060 non-null  object \n",
      " 11  Fiscal Period                      88060 non-null  object \n",
      " 12  Annual Recurring Revenue Currency  86367 non-null  object \n",
      " 13  Annual Recurring Revenue           88060 non-null  float64\n",
      " 14  Amount Currency                    81919 non-null  object \n",
      " 15  Amount                             81919 non-null  float64\n",
      " 16  Probability (%)                    88060 non-null  float64\n",
      " 17  Stage Duration                     88060 non-null  float64\n",
      " 18  Age                                88060 non-null  float64\n",
      " 19  Reason for Closed Lost             44214 non-null  object \n",
      " 20  Close Date                         88060 non-null  object \n",
      " 21  Created Date                       88060 non-null  object \n",
      " 22  Entered Pipeline Date              1029 non-null   object \n",
      " 23  Next Step                          23922 non-null  object \n",
      " 24  Lead Source                        86306 non-null  object \n",
      " 25  Type                               88060 non-null  object \n",
      " 26  Marketing Involvement              401 non-null    object \n",
      " 27  Opportunity Source                 1677 non-null   object \n",
      " 28  Business Group                     85733 non-null  object \n",
      " 29  Opportunity Geo-Region             88060 non-null  object \n",
      " 30  Qualified By                       72824 non-null  object \n",
      " 31  Website                            2722 non-null   object \n",
      " 32  Primary Campaign Source            86322 non-null  object \n",
      " 33  Source Campaign                    87347 non-null  object \n",
      " 34  Last Touch Campaign                86067 non-null  object \n",
      " 35  Primary Contact                    86035 non-null  object \n",
      " 36  Contact: Title                     28995 non-null  object \n",
      " 37  Contact: Email                     85988 non-null  object \n",
      "dtypes: float64(5), int64(1), object(32)\n",
      "memory usage: 26.3+ MB\n"
     ]
    }
   ],
   "source": [
    "# Add 'SP_' prefix to columns of opp_stage_count\n",
    "opp_stage_count.columns = ['SP_' + col if col != 'Opportunity ID' else col for col in opp_stage_count.columns]\n",
    "\n",
    "# Perform a left join with df_opp_primary_contact on 'Opportunity ID'\n",
    "merged_df = pd.merge(opp_stage_count, df_opp_primary_contact, on='Opportunity ID', how='left')\n",
    "\n",
    "# Display the info of the resulting DataFrame\n",
    "merged_df.info()"
   ]
  },
  {
   "cell_type": "code",
   "execution_count": 60,
   "id": "d7540121-dc76-4b11-93e5-8f0da51d1e7e",
   "metadata": {},
   "outputs": [
    {
     "name": "stdout",
     "output_type": "stream",
     "text": [
      "<class 'pandas.core.frame.DataFrame'>\n",
      "RangeIndex: 90611 entries, 0 to 90610\n",
      "Data columns (total 39 columns):\n",
      " #   Column                             Non-Null Count  Dtype  \n",
      "---  ------                             --------------  -----  \n",
      " 0   Opportunity ID                     90611 non-null  object \n",
      " 1   SP_Stage                           90611 non-null  object \n",
      " 2   SP_Stage_Progression_Count         90611 non-null  int64  \n",
      " 3   SP_Latest_Edit_Date                90611 non-null  object \n",
      " 4   Salesforce Instance                88060 non-null  object \n",
      " 5   Owner Role                         84395 non-null  object \n",
      " 6   Opportunity Owner                  88060 non-null  object \n",
      " 7   Opportunity Name                   88054 non-null  object \n",
      " 8   Account ID                         88059 non-null  object \n",
      " 9   Account Name                       88050 non-null  object \n",
      " 10  Stage                              88060 non-null  object \n",
      " 11  Fiscal Period                      88060 non-null  object \n",
      " 12  Annual Recurring Revenue Currency  86367 non-null  object \n",
      " 13  Annual Recurring Revenue           88060 non-null  float64\n",
      " 14  Amount Currency                    81919 non-null  object \n",
      " 15  Amount                             81919 non-null  float64\n",
      " 16  Probability (%)                    88060 non-null  float64\n",
      " 17  Stage Duration                     88060 non-null  float64\n",
      " 18  Age                                88060 non-null  float64\n",
      " 19  Reason for Closed Lost             44214 non-null  object \n",
      " 20  Close Date                         88060 non-null  object \n",
      " 21  Created Date                       88060 non-null  object \n",
      " 22  Entered Pipeline Date              1029 non-null   object \n",
      " 23  Next Step                          23922 non-null  object \n",
      " 24  Lead Source                        86306 non-null  object \n",
      " 25  Type                               88060 non-null  object \n",
      " 26  Marketing Involvement              401 non-null    object \n",
      " 27  Opportunity Source                 1677 non-null   object \n",
      " 28  Business Group                     85733 non-null  object \n",
      " 29  Opportunity Geo-Region             88060 non-null  object \n",
      " 30  Qualified By                       72824 non-null  object \n",
      " 31  Website                            2722 non-null   object \n",
      " 32  Primary Campaign Source            86322 non-null  object \n",
      " 33  Source Campaign                    87347 non-null  object \n",
      " 34  Last Touch Campaign                86067 non-null  object \n",
      " 35  Primary Contact                    86035 non-null  object \n",
      " 36  Contact: Title                     28995 non-null  object \n",
      " 37  Contact: Email                     85988 non-null  object \n",
      " 38  stage_match                        90611 non-null  bool   \n",
      "dtypes: bool(1), float64(5), int64(1), object(32)\n",
      "memory usage: 26.4+ MB\n"
     ]
    }
   ],
   "source": [
    "# Create a new column 'stage_match' to check if 'SP_Stage' matches 'Stage'\n",
    "merged_df['stage_match'] = merged_df['SP_Stage'] == merged_df['Stage']\n",
    "\n",
    "# Display the info of the resulting DataFrame\n",
    "merged_df.info()"
   ]
  },
  {
   "cell_type": "code",
   "execution_count": 61,
   "id": "b3287bd1-9bb2-4d36-8e1b-ff27ff0fe4ac",
   "metadata": {},
   "outputs": [
    {
     "name": "stdout",
     "output_type": "stream",
     "text": [
      "stage_match\n",
      "True     87559\n",
      "False     3052\n",
      "Name: count, dtype: int64\n"
     ]
    }
   ],
   "source": [
    "# Count how many stages match and how many do not\n",
    "stage_match_count = merged_df['stage_match'].value_counts()\n",
    "\n",
    "# Display the result\n",
    "print(stage_match_count)"
   ]
  },
  {
   "cell_type": "code",
   "execution_count": 62,
   "id": "fa7501fa-73e1-457b-9aaf-f9a11bb2a51e",
   "metadata": {},
   "outputs": [
    {
     "name": "stdout",
     "output_type": "stream",
     "text": [
      "{'Empty SP_Stage Count': np.int64(0), 'Empty Stage Count': np.int64(2551), 'Stage Match (True)': np.int64(87559), 'Stage Match (False)': np.int64(3052)}\n"
     ]
    }
   ],
   "source": [
    "# Count the number of empty values (null) in the 'SP_Stage' and 'Stage' columns\n",
    "empty_stage_count = merged_df[['SP_Stage', 'Stage']].isnull().sum()\n",
    "\n",
    "# Count how many stages match or do not match\n",
    "stage_match_count = merged_df['stage_match'].value_counts()\n",
    "\n",
    "# Create a summary report\n",
    "report = {\n",
    "    \"Empty SP_Stage Count\": empty_stage_count['SP_Stage'],\n",
    "    \"Empty Stage Count\": empty_stage_count['Stage'],\n",
    "    \"Stage Match (True)\": stage_match_count.get(True, 0),\n",
    "    \"Stage Match (False)\": stage_match_count.get(False, 0)\n",
    "}\n",
    "\n",
    "# Display the report\n",
    "print(report)"
   ]
  },
  {
   "cell_type": "code",
   "execution_count": 63,
   "id": "7ee04755-ddb9-4db3-b90b-37c27aafd0d6",
   "metadata": {},
   "outputs": [
    {
     "name": "stdout",
     "output_type": "stream",
     "text": [
      "<class 'pandas.core.frame.DataFrame'>\n",
      "Index: 80212 entries, 3003 to 90610\n",
      "Data columns (total 39 columns):\n",
      " #   Column                             Non-Null Count  Dtype         \n",
      "---  ------                             --------------  -----         \n",
      " 0   Opportunity ID                     80212 non-null  object        \n",
      " 1   SP_Stage                           80212 non-null  object        \n",
      " 2   SP_Stage_Progression_Count         80212 non-null  int64         \n",
      " 3   SP_Latest_Edit_Date                80212 non-null  object        \n",
      " 4   Salesforce Instance                80212 non-null  object        \n",
      " 5   Owner Role                         78110 non-null  object        \n",
      " 6   Opportunity Owner                  80212 non-null  object        \n",
      " 7   Opportunity Name                   80207 non-null  object        \n",
      " 8   Account ID                         80211 non-null  object        \n",
      " 9   Account Name                       80204 non-null  object        \n",
      " 10  Stage                              80212 non-null  object        \n",
      " 11  Fiscal Period                      80212 non-null  object        \n",
      " 12  Annual Recurring Revenue Currency  78519 non-null  object        \n",
      " 13  Annual Recurring Revenue           80212 non-null  float64       \n",
      " 14  Amount Currency                    75748 non-null  object        \n",
      " 15  Amount                             75748 non-null  float64       \n",
      " 16  Probability (%)                    80212 non-null  float64       \n",
      " 17  Stage Duration                     80212 non-null  float64       \n",
      " 18  Age                                80212 non-null  float64       \n",
      " 19  Reason for Closed Lost             36868 non-null  object        \n",
      " 20  Close Date                         80212 non-null  object        \n",
      " 21  Created Date                       80212 non-null  datetime64[ns]\n",
      " 22  Entered Pipeline Date              1029 non-null   object        \n",
      " 23  Next Step                          21440 non-null  object        \n",
      " 24  Lead Source                        78784 non-null  object        \n",
      " 25  Type                               80212 non-null  object        \n",
      " 26  Marketing Involvement              401 non-null    object        \n",
      " 27  Opportunity Source                 1677 non-null   object        \n",
      " 28  Business Group                     78718 non-null  object        \n",
      " 29  Opportunity Geo-Region             80212 non-null  object        \n",
      " 30  Qualified By                       69388 non-null  object        \n",
      " 31  Website                            1881 non-null   object        \n",
      " 32  Primary Campaign Source            78524 non-null  object        \n",
      " 33  Source Campaign                    79518 non-null  object        \n",
      " 34  Last Touch Campaign                78317 non-null  object        \n",
      " 35  Primary Contact                    78477 non-null  object        \n",
      " 36  Contact: Title                     26838 non-null  object        \n",
      " 37  Contact: Email                     78447 non-null  object        \n",
      " 38  stage_match                        80212 non-null  bool          \n",
      "dtypes: bool(1), datetime64[ns](1), float64(5), int64(1), object(31)\n",
      "memory usage: 23.9+ MB\n"
     ]
    }
   ],
   "source": [
    "# Convert 'Created Date' to datetime\n",
    "merged_df['Created Date'] = pd.to_datetime(merged_df['Created Date'], errors='coerce')\n",
    "\n",
    "# Filter the data for the years 2023 and 2024\n",
    "filtered_df = merged_df[merged_df['Created Date'].dt.year.isin([2023, 2024])]\n",
    "\n",
    "# Display the info of the filtered DataFrame\n",
    "filtered_df.info()"
   ]
  },
  {
   "cell_type": "code",
   "execution_count": 64,
   "id": "717b6c88-b460-4f43-a876-94dbb660e4a1",
   "metadata": {},
   "outputs": [
    {
     "name": "stdout",
     "output_type": "stream",
     "text": [
      "<class 'pandas.core.frame.DataFrame'>\n",
      "RangeIndex: 14229 entries, 0 to 14228\n",
      "Data columns (total 8 columns):\n",
      " #   Column                 Non-Null Count  Dtype \n",
      "---  ------                 --------------  ----- \n",
      " 0   6sense Company Name    14114 non-null  object\n",
      " 1   6sense Country         14114 non-null  object\n",
      " 2   6sense Domain          14106 non-null  object\n",
      " 3   6sense Revenue Range   14108 non-null  object\n",
      " 4   6sense Employee Range  14110 non-null  object\n",
      " 5   Industry               14108 non-null  object\n",
      " 6   Industry (Legacy)      14105 non-null  object\n",
      " 7   Stages                 14114 non-null  object\n",
      "dtypes: object(8)\n",
      "memory usage: 889.4+ KB\n"
     ]
    }
   ],
   "source": [
    "df_six_sense = pd.read_csv('/home/darshan/Documents/Vonage 2024-Nov-13/6Sense/6Sense.csv')\n",
    "\n",
    "df_six_sense.info()"
   ]
  },
  {
   "cell_type": "code",
   "execution_count": 65,
   "id": "cee855b1-489d-4a4b-9eeb-6abe657567d4",
   "metadata": {},
   "outputs": [
    {
     "data": {
      "text/html": [
       "<div>\n",
       "<style scoped>\n",
       "    .dataframe tbody tr th:only-of-type {\n",
       "        vertical-align: middle;\n",
       "    }\n",
       "\n",
       "    .dataframe tbody tr th {\n",
       "        vertical-align: top;\n",
       "    }\n",
       "\n",
       "    .dataframe thead th {\n",
       "        text-align: right;\n",
       "    }\n",
       "</style>\n",
       "<table border=\"1\" class=\"dataframe\">\n",
       "  <thead>\n",
       "    <tr style=\"text-align: right;\">\n",
       "      <th></th>\n",
       "      <th>6sense Company Name</th>\n",
       "      <th>6sense Country</th>\n",
       "      <th>6sense Domain</th>\n",
       "      <th>6sense Revenue Range</th>\n",
       "      <th>6sense Employee Range</th>\n",
       "      <th>Industry</th>\n",
       "      <th>Industry (Legacy)</th>\n",
       "      <th>Stages</th>\n",
       "    </tr>\n",
       "  </thead>\n",
       "  <tbody>\n",
       "    <tr>\n",
       "      <th>910</th>\n",
       "      <td>1st Source Bank</td>\n",
       "      <td>United States</td>\n",
       "      <td>1stsource.com</td>\n",
       "      <td>$250M - $500M</td>\n",
       "      <td>1,000 - 4,999</td>\n",
       "      <td>Financial Services</td>\n",
       "      <td>Financial Services</td>\n",
       "      <td>Decision</td>\n",
       "    </tr>\n",
       "  </tbody>\n",
       "</table>\n",
       "</div>"
      ],
      "text/plain": [
       "    6sense Company Name 6sense Country  6sense Domain 6sense Revenue Range  \\\n",
       "910     1st Source Bank  United States  1stsource.com        $250M - $500M   \n",
       "\n",
       "    6sense Employee Range            Industry   Industry (Legacy)    Stages  \n",
       "910         1,000 - 4,999  Financial Services  Financial Services  Decision  "
      ]
     },
     "execution_count": 65,
     "metadata": {},
     "output_type": "execute_result"
    }
   ],
   "source": [
    "df_six_sense.sample()"
   ]
  },
  {
   "cell_type": "code",
   "execution_count": 66,
   "id": "39c03f76-1984-4821-8332-edf14c345b92",
   "metadata": {},
   "outputs": [
    {
     "name": "stdout",
     "output_type": "stream",
     "text": [
      "Total Records: 14229\n",
      "Total Null 6sense Company Names: 115\n",
      "Total Unique 6sense Company Names: 14048\n"
     ]
    }
   ],
   "source": [
    "# Total count of records based on '6sense Company Name'\n",
    "total_records = len(df_six_sense)\n",
    "\n",
    "# Total count of null '6sense Company Name'\n",
    "null_company_count = df_six_sense['6sense Company Name'].isnull().sum()\n",
    "\n",
    "# Total unique '6sense Company Name'\n",
    "unique_company_count = df_six_sense['6sense Company Name'].nunique()\n",
    "\n",
    "# Display the results\n",
    "print(f\"Total Records: {total_records}\")\n",
    "print(f\"Total Null 6sense Company Names: {null_company_count}\")\n",
    "print(f\"Total Unique 6sense Company Names: {unique_company_count}\")"
   ]
  },
  {
   "cell_type": "code",
   "execution_count": 72,
   "id": "fc86b516-f210-416c-a8c2-b133a8c0e6d6",
   "metadata": {},
   "outputs": [
    {
     "name": "stdout",
     "output_type": "stream",
     "text": [
      "Company Names in 'filtered_df' Account Name: 680\n"
     ]
    }
   ],
   "source": [
    "# Find the intersection of '6sense Company Name' and 'Account Name'\n",
    "existing_company_count = df_six_sense['6sense Company Name'].dropna().isin(filtered_df['Account Name'].unique()).sum()\n",
    "\n",
    "# Display the result\n",
    "print(f\"Company Names in 'filtered_df' Account Name: {existing_company_count}\")"
   ]
  },
  {
   "cell_type": "code",
   "execution_count": null,
   "id": "2eee0b69-562b-485b-b0f5-1a3cf2f4b72f",
   "metadata": {},
   "outputs": [],
   "source": []
  }
 ],
 "metadata": {
  "kernelspec": {
   "display_name": "Python 3 (ipykernel)",
   "language": "python",
   "name": "python3"
  },
  "language_info": {
   "codemirror_mode": {
    "name": "ipython",
    "version": 3
   },
   "file_extension": ".py",
   "mimetype": "text/x-python",
   "name": "python",
   "nbconvert_exporter": "python",
   "pygments_lexer": "ipython3",
   "version": "3.12.6"
  }
 },
 "nbformat": 4,
 "nbformat_minor": 5
}
