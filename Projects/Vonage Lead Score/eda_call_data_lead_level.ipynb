{
 "cells": [
  {
   "cell_type": "code",
   "execution_count": 3,
   "id": "5a1ceeca-937b-450c-a406-1fe792702655",
   "metadata": {},
   "outputs": [],
   "source": [
    "import pandas as pd\n",
    "import numpy as np\n",
    "import matplotlib.pyplot as plt\n",
    "import seaborn as sns"
   ]
  },
  {
   "cell_type": "code",
   "execution_count": 4,
   "id": "8803ba74-fae5-4533-bbda-604ebea36d27",
   "metadata": {
    "scrolled": true
   },
   "outputs": [
    {
     "name": "stdout",
     "output_type": "stream",
     "text": [
      "<class 'pandas.core.frame.DataFrame'>\n",
      "RangeIndex: 37092 entries, 0 to 37091\n",
      "Data columns (total 43 columns):\n",
      " #   Column                 Non-Null Count  Dtype  \n",
      "---  ------                 --------------  -----  \n",
      " 0   id                     37092 non-null  object \n",
      " 1   state                  37092 non-null  object \n",
      " 2   created_at             37092 non-null  object \n",
      " 3   answered_at            12741 non-null  object \n",
      " 4   completed_at           37092 non-null  object \n",
      " 5   duration_in_seconds    12778 non-null  float64\n",
      " 6   direction              37092 non-null  object \n",
      " 7   from                   16579 non-null  object \n",
      " 8   to                     36892 non-null  object \n",
      " 9   outcome                0 non-null      float64\n",
      " 10  purpose                23542 non-null  object \n",
      " 11  disposition            37092 non-null  object \n",
      " 12  note                   13824 non-null  object \n",
      " 13  prospect_id            36700 non-null  float64\n",
      " 14  prospect_first_name    36697 non-null  object \n",
      " 15  prospect_last_name     36694 non-null  object \n",
      " 16  prospect_company       36497 non-null  object \n",
      " 17  prospect_title         23773 non-null  object \n",
      " 18  prospect_mobile_phone  8371 non-null   object \n",
      " 19  prospect_home_phone    66 non-null     object \n",
      " 20  prospect_work_phone    35338 non-null  object \n",
      " 21  prospect_voip_phone    33 non-null     float64\n",
      " 22  prospect_other_phone   4039 non-null   object \n",
      " 23  prospect_email         36668 non-null  object \n",
      " 24  prospect_owner_id      36691 non-null  float64\n",
      " 25  prospect_owner_name    36691 non-null  object \n",
      " 26  account_id             14071 non-null  float64\n",
      " 27  user_id                37092 non-null  int64  \n",
      " 28  user_first_name        37092 non-null  object \n",
      " 29  user_last_name         37092 non-null  object \n",
      " 30  user_teams             22135 non-null  object \n",
      " 31  sequence_id            30436 non-null  float64\n",
      " 32  sequence_name          30436 non-null  object \n",
      " 33  sequence_step_number   30212 non-null  float64\n",
      " 34  domain                 36668 non-null  object \n",
      " 35  created_by             37092 non-null  object \n",
      " 36  updated_by             37092 non-null  object \n",
      " 37  updated_at             37092 non-null  object \n",
      " 38  def_created_at         37092 non-null  object \n",
      " 39  campaign_name          30436 non-null  object \n",
      " 40  unified_account_id     18427 non-null  object \n",
      " 41  unified_contact_id     23983 non-null  object \n",
      " 42  campaign_geo_region    30436 non-null  object \n",
      "dtypes: float64(8), int64(1), object(34)\n",
      "memory usage: 12.2+ MB\n"
     ]
    }
   ],
   "source": [
    "df_call = pd.read_csv('/home/darshan/Documents/22-Nov-Data/outreach_call_dumps.csv', low_memory=False)\n",
    "\n",
    "df_call.info()"
   ]
  },
  {
   "cell_type": "code",
   "execution_count": 6,
   "id": "8818e17c-5862-4c07-98e1-0b5923a6b4f0",
   "metadata": {},
   "outputs": [
    {
     "name": "stdout",
     "output_type": "stream",
     "text": [
      "<class 'pandas.core.frame.DataFrame'>\n",
      "RangeIndex: 37092 entries, 0 to 37091\n",
      "Data columns (total 16 columns):\n",
      " #   Column                Non-Null Count  Dtype  \n",
      "---  ------                --------------  -----  \n",
      " 0   state                 37092 non-null  object \n",
      " 1   created_at            37092 non-null  object \n",
      " 2   answered_at           12741 non-null  object \n",
      " 3   completed_at          37092 non-null  object \n",
      " 4   duration_in_seconds   12778 non-null  float64\n",
      " 5   direction             37092 non-null  object \n",
      " 6   purpose               23542 non-null  object \n",
      " 7   disposition           37092 non-null  object \n",
      " 8   prospect_email        36668 non-null  object \n",
      " 9   prospect_owner_id     36691 non-null  float64\n",
      " 10  prospect_owner_name   36691 non-null  object \n",
      " 11  account_id            14071 non-null  float64\n",
      " 12  sequence_id           30436 non-null  float64\n",
      " 13  sequence_name         30436 non-null  object \n",
      " 14  sequence_step_number  30212 non-null  float64\n",
      " 15  unified_account_id    18427 non-null  object \n",
      "dtypes: float64(5), object(11)\n",
      "memory usage: 4.5+ MB\n"
     ]
    }
   ],
   "source": [
    "df_call_req_cl = df_call[[\n",
    "                            'state',\n",
    "                            'created_at',\n",
    "                            'answered_at',\n",
    "                            'completed_at',\n",
    "                            'duration_in_seconds',\n",
    "                            'direction',\n",
    "                            'purpose',\n",
    "                            'disposition',\n",
    "                            'prospect_email',\n",
    "                            'prospect_owner_id',\n",
    "                            'prospect_owner_name',\n",
    "                            'account_id',\n",
    "                            'sequence_id',\n",
    "                            'sequence_name',\n",
    "                            'sequence_step_number',\n",
    "                            'unified_account_id'\n",
    "                        ]]\n",
    "df_call_req_cl.info()"
   ]
  },
  {
   "cell_type": "code",
   "execution_count": 7,
   "id": "3e4e3844-0c12-447e-9875-9dcbc20493d1",
   "metadata": {},
   "outputs": [
    {
     "name": "stdout",
     "output_type": "stream",
     "text": [
      "Number of Prospect Emails with 2 or more unique Account Ids: 6\n"
     ]
    }
   ],
   "source": [
    "# Group by 'Prospect Email' and count unique 'Account Id' for each email\n",
    "email_account_counts = (\n",
    "    df_call_req_cl.groupby('prospect_email')['unified_account_id']\n",
    "    .nunique()\n",
    "    .reset_index(name='unique_account_count')\n",
    ")\n",
    "\n",
    "# Filter rows where unique_account_count >= 2\n",
    "emails_with_multiple_accounts = email_account_counts[email_account_counts['unique_account_count'] >= 2]\n",
    "\n",
    "# Count the number of such emails\n",
    "count_of_emails = emails_with_multiple_accounts.shape[0]\n",
    "\n",
    "print(f\"Number of Prospect Emails with 2 or more unique Account Ids: {count_of_emails}\")"
   ]
  },
  {
   "cell_type": "code",
   "execution_count": 8,
   "id": "1a74d0e0-849e-4ccd-9d10-273b9198fd1c",
   "metadata": {},
   "outputs": [
    {
     "name": "stdout",
     "output_type": "stream",
     "text": [
      "Number of Prospect Emails that are null or empty: 424\n"
     ]
    }
   ],
   "source": [
    "# Count null or empty emails\n",
    "null_or_empty_emails = df_call_req_cl['prospect_email'].isna().sum()\n",
    "\n",
    "print(f\"Number of Prospect Emails that are null or empty: {null_or_empty_emails}\")"
   ]
  },
  {
   "cell_type": "code",
   "execution_count": 9,
   "id": "6c5121ef-9cbe-46a3-8070-6243f5373678",
   "metadata": {},
   "outputs": [
    {
     "name": "stdout",
     "output_type": "stream",
     "text": [
      "Number of null_or_empty_acc_id that are null or empty: 18665\n"
     ]
    }
   ],
   "source": [
    "# Count null or unified_account_id \n",
    "null_or_empty_acc_id = df_call_req_cl['unified_account_id'].isna().sum()\n",
    "\n",
    "print(f\"Number of null_or_empty_acc_id that are null or empty: {null_or_empty_acc_id}\")"
   ]
  },
  {
   "cell_type": "code",
   "execution_count": 10,
   "id": "6b3abf66-2522-4bc9-ab75-102f9965347e",
   "metadata": {},
   "outputs": [
    {
     "name": "stdout",
     "output_type": "stream",
     "text": [
      "Number of null Prospect Emails without Account Id: 411\n",
      "Number of non-null Prospect Emails without Account Id: 18254\n"
     ]
    }
   ],
   "source": [
    "# Filter rows where Account Id is null\n",
    "no_account_details = df_call_req_cl[df_call_req_cl['unified_account_id'].isna()]\n",
    "\n",
    "# Count null or empty emails in these rows\n",
    "null_emails_no_account = no_account_details['prospect_email'].isna().sum()\n",
    "\n",
    "# Count non-null emails in these rows\n",
    "not_null_emails_no_account = no_account_details['prospect_email'].notna().sum()\n",
    "\n",
    "print(f\"Number of null Prospect Emails without Account Id: {null_emails_no_account}\")\n",
    "print(f\"Number of non-null Prospect Emails without Account Id: {not_null_emails_no_account}\")\n"
   ]
  },
  {
   "cell_type": "code",
   "execution_count": 8,
   "id": "f07569a0-c920-441b-b47b-cc8f13a37e14",
   "metadata": {},
   "outputs": [
    {
     "name": "stdout",
     "output_type": "stream",
     "text": [
      "Disposition counts for rows with empty Prospect Email:\n",
      "Disposition\n",
      "CC – Convo: In Progress / Follow Up (Create Manual Task)    176\n",
      "CC – Convo: Not Interested/Unqualified                      118\n",
      "CC – Convo: Meeting Set / Sale for Upsell                    86\n",
      " CC- Convo: Continue                                         33\n",
      "CC – Convo: Not Now Nurture                                  24\n",
      "CC – Convo: Referral                                          8\n",
      "Discovery Call                                                1\n",
      "Name: count, dtype: int64\n"
     ]
    }
   ],
   "source": [
    "# Filter rows where 'Prospect Email' is null or empty\n",
    "empty_email_data = df_call_req_cl[df_call_req_cl['Prospect Email'].isna()]\n",
    "\n",
    "# Count the values in the 'Disposition' column for the filtered rows\n",
    "disposition_counts = empty_email_data['Disposition'].value_counts()\n",
    "\n",
    "print(\"Disposition counts for rows with empty Prospect Email:\")\n",
    "print(disposition_counts)"
   ]
  },
  {
   "cell_type": "code",
   "execution_count": 9,
   "id": "8cbb563a-496e-4db0-89b3-f651fba1dc85",
   "metadata": {},
   "outputs": [
    {
     "name": "stdout",
     "output_type": "stream",
     "text": [
      "   Duration in Seconds\n",
      "0                  0.0\n",
      "1                  0.0\n",
      "2                126.0\n",
      "3                182.0\n",
      "4                 82.0\n"
     ]
    }
   ],
   "source": [
    "# Set 0 in 'Duration in Seconds' where the value is NaN using .loc to avoid SettingWithCopyWarning\n",
    "df_call_req_cl.loc[:, 'Duration in Seconds'] = df_call_req_cl['Duration in Seconds'].fillna(0)\n",
    "\n",
    "# Verify the change by checking a few rows\n",
    "print(df_call_req_cl[['Duration in Seconds']].head())\n"
   ]
  },
  {
   "cell_type": "code",
   "execution_count": 10,
   "id": "631f0be1-6f17-4f1d-84a6-da5285d22ce8",
   "metadata": {},
   "outputs": [
    {
     "name": "stdout",
     "output_type": "stream",
     "text": [
      "                    Prospect Email  Count\n",
      "0         dware@galleonvirtual.com     10\n",
      "2  christine@anaconda-networks.com      9\n",
      "3        rhauben@enetworldwide.net      9\n",
      "4          trent.james@storcom.net      9\n",
      "1     michael@datavoiceoptions.com      9\n"
     ]
    }
   ],
   "source": [
    "# Get count of each unique email\n",
    "email_counts = df_call_req_cl['Prospect Email'].value_counts().reset_index()\n",
    "\n",
    "# Rename columns for clarity\n",
    "email_counts.columns = ['Prospect Email', 'Count']\n",
    "\n",
    "# Sort emails by count in descending order (most repeated at the top)\n",
    "sorted_email_counts = email_counts.sort_values(by='Count', ascending=False)\n",
    "\n",
    "# Print the result\n",
    "print(sorted_email_counts.head())\n"
   ]
  },
  {
   "cell_type": "markdown",
   "id": "f681f8f6-9ac1-4f54-b406-7a85bc35b4fa",
   "metadata": {},
   "source": [
    "# Create File"
   ]
  },
  {
   "cell_type": "code",
   "execution_count": 11,
   "id": "322fb48d-8e54-4a28-9e62-055c90a2beb7",
   "metadata": {},
   "outputs": [
    {
     "name": "stdout",
     "output_type": "stream",
     "text": [
      "Answered At     33040\n",
      "Completed At    26910\n",
      "dtype: int64\n",
      "          Answered At        Completed At  Duration in Seconds  \\\n",
      "0                 NaT 2023-01-03 04:12:22                  0.0   \n",
      "1                 NaT 2023-01-03 05:04:22                  0.0   \n",
      "2 2023-01-03 05:40:16 2023-01-03 05:42:22                126.0   \n",
      "3 2023-01-03 05:44:51 2023-01-03 05:47:53                182.0   \n",
      "4 2023-01-03 06:20:51 2023-01-03 06:22:13                 82.0   \n",
      "\n",
      "   Calculated Duration in Seconds  Duration Match  \n",
      "0                             0.0            True  \n",
      "1                             0.0            True  \n",
      "2                           126.0            True  \n",
      "3                           182.0            True  \n",
      "4                            82.0            True  \n",
      "True count: 28574\n",
      "False count: 8639\n"
     ]
    },
    {
     "name": "stderr",
     "output_type": "stream",
     "text": [
      "/tmp/ipykernel_410765/919799541.py:2: FutureWarning: Parsed string \"Jan 03 2023 05:40:16 AM EST\" included an un-recognized timezone \"EST\". Dropping unrecognized timezones is deprecated; in a future version this will raise. Instead pass the string without the timezone, then use .tz_localize to convert to a recognized timezone.\n",
      "  df_call_req_cl['Answered At'] = pd.to_datetime(df_call_req_cl['Answered At'], errors='coerce')\n",
      "/tmp/ipykernel_410765/919799541.py:2: SettingWithCopyWarning: \n",
      "A value is trying to be set on a copy of a slice from a DataFrame.\n",
      "Try using .loc[row_indexer,col_indexer] = value instead\n",
      "\n",
      "See the caveats in the documentation: https://pandas.pydata.org/pandas-docs/stable/user_guide/indexing.html#returning-a-view-versus-a-copy\n",
      "  df_call_req_cl['Answered At'] = pd.to_datetime(df_call_req_cl['Answered At'], errors='coerce')\n",
      "/tmp/ipykernel_410765/919799541.py:3: FutureWarning: Parsed string \"Jan 03 2023 04:12:22 AM EST\" included an un-recognized timezone \"EST\". Dropping unrecognized timezones is deprecated; in a future version this will raise. Instead pass the string without the timezone, then use .tz_localize to convert to a recognized timezone.\n",
      "  df_call_req_cl['Completed At'] = pd.to_datetime(df_call_req_cl['Completed At'], errors='coerce')\n",
      "/tmp/ipykernel_410765/919799541.py:3: SettingWithCopyWarning: \n",
      "A value is trying to be set on a copy of a slice from a DataFrame.\n",
      "Try using .loc[row_indexer,col_indexer] = value instead\n",
      "\n",
      "See the caveats in the documentation: https://pandas.pydata.org/pandas-docs/stable/user_guide/indexing.html#returning-a-view-versus-a-copy\n",
      "  df_call_req_cl['Completed At'] = pd.to_datetime(df_call_req_cl['Completed At'], errors='coerce')\n",
      "/tmp/ipykernel_410765/919799541.py:9: SettingWithCopyWarning: \n",
      "A value is trying to be set on a copy of a slice from a DataFrame.\n",
      "Try using .loc[row_indexer,col_indexer] = value instead\n",
      "\n",
      "See the caveats in the documentation: https://pandas.pydata.org/pandas-docs/stable/user_guide/indexing.html#returning-a-view-versus-a-copy\n",
      "  df_call_req_cl['Calculated Duration in Seconds'] = np.where(\n",
      "/tmp/ipykernel_410765/919799541.py:16: SettingWithCopyWarning: \n",
      "A value is trying to be set on a copy of a slice from a DataFrame.\n",
      "Try using .loc[row_indexer,col_indexer] = value instead\n",
      "\n",
      "See the caveats in the documentation: https://pandas.pydata.org/pandas-docs/stable/user_guide/indexing.html#returning-a-view-versus-a-copy\n",
      "  df_call_req_cl['Duration Match'] = df_call_req_cl['Calculated Duration in Seconds'] == df_call_req_cl['Duration in Seconds']\n",
      "/tmp/ipykernel_410765/919799541.py:27: SettingWithCopyWarning: \n",
      "A value is trying to be set on a copy of a slice from a DataFrame\n",
      "\n",
      "See the caveats in the documentation: https://pandas.pydata.org/pandas-docs/stable/user_guide/indexing.html#returning-a-view-versus-a-copy\n",
      "  df_call_req_cl.drop(columns=['Calculated Duration in Seconds', 'Duration Match'], inplace=True)\n"
     ]
    }
   ],
   "source": [
    "# Convert 'Answered At' and 'Completed At' to datetime using .loc to avoid the warning\n",
    "df_call_req_cl['Answered At'] = pd.to_datetime(df_call_req_cl['Answered At'], errors='coerce')\n",
    "df_call_req_cl['Completed At'] = pd.to_datetime(df_call_req_cl['Completed At'], errors='coerce')\n",
    "\n",
    "# Check for rows where 'Answered At' or 'Completed At' are NaT\n",
    "print(df_call_req_cl[['Answered At', 'Completed At']].isna().sum())\n",
    "\n",
    "# Handle the calculation and set the duration to 0 if 'Answered At' is NaT\n",
    "df_call_req_cl['Calculated Duration in Seconds'] = np.where(\n",
    "    df_call_req_cl['Answered At'].isna(),  # Check if 'Answered At' is NaT\n",
    "    0,  # If 'Answered At' is NaT, set duration to 0\n",
    "    (df_call_req_cl['Completed At'] - df_call_req_cl['Answered At']).dt.total_seconds()  # Otherwise, calculate the duration\n",
    ")\n",
    "\n",
    "# Now we compare 'Calculated Duration in Seconds' with 'Duration in Seconds' and store the result in a new column\n",
    "df_call_req_cl['Duration Match'] = df_call_req_cl['Calculated Duration in Seconds'] == df_call_req_cl['Duration in Seconds']\n",
    "\n",
    "# Count the True and False values in 'Duration Match'\n",
    "match_counts = df_call_req_cl['Duration Match'].value_counts()\n",
    "\n",
    "# Print the first few rows and the counts of True/False matches\n",
    "print(df_call_req_cl[['Answered At', 'Completed At', 'Duration in Seconds', 'Calculated Duration in Seconds', 'Duration Match']].head())\n",
    "print(f\"True count: {match_counts[True] if True in match_counts else 0}\")\n",
    "print(f\"False count: {match_counts[False] if False in match_counts else 0}\")\n",
    "\n",
    "# Drop the new columns created for the calculation\n",
    "df_call_req_cl.drop(columns=['Calculated Duration in Seconds', 'Duration Match'], inplace=True)"
   ]
  },
  {
   "cell_type": "markdown",
   "id": "ea137853-2d8d-44fb-a5dd-5e7505c2276a",
   "metadata": {},
   "source": [
    "## Duration Time is Correct"
   ]
  },
  {
   "cell_type": "code",
   "execution_count": 12,
   "id": "98037c71-8928-4944-8aa7-3ecd750dfe01",
   "metadata": {},
   "outputs": [
    {
     "name": "stdout",
     "output_type": "stream",
     "text": [
      "                Prospect Email  Total_Calls  Outbound_Calls  Inbound_Calls  \\\n",
      "0  0.banjos_cereals@icloud.com            1               1              0   \n",
      "1        00210@chick-fil-a.com            1               1              0   \n",
      "2          0110velez@gmail.com            1               1              0   \n",
      "3           021967kb@gmail.com            1               1              0   \n",
      "4              02525@gmail.com            1               1              0   \n",
      "\n",
      "   Answered_Calls  Total_Answered_Duration  Avg_Answered_Duration  \\\n",
      "0               0                      0.0                    0.0   \n",
      "1               0                      0.0                    0.0   \n",
      "2               0                      0.0                    0.0   \n",
      "3               0                      0.0                    0.0   \n",
      "4               0                      0.0                    0.0   \n",
      "\n",
      "   Min_Call_Duration  Max_Call_Duration  \n",
      "0                0.0                0.0  \n",
      "1                0.0                0.0  \n",
      "2                0.0                0.0  \n",
      "3                0.0                0.0  \n",
      "4                0.0                0.0  \n"
     ]
    }
   ],
   "source": [
    "# Group by 'Prospect Email' and calculate the required counts and metrics\n",
    "call_summary = (\n",
    "    df_call_req_cl.groupby('Prospect Email')\n",
    "    .agg(\n",
    "        Total_Calls=('Direction', 'count'),  # Total number of calls\n",
    "        Outbound_Calls=('Direction', lambda x: (x.str.lower() == 'outbound').sum()),  # Count of Outbound calls\n",
    "        Inbound_Calls=('Direction', lambda x: (x.str.lower() == 'inbound').sum()),  # Count of Inbound calls\n",
    "        Answered_Calls=('Duration in Seconds', lambda x: (x > 0).sum()),  # Count of answered calls\n",
    "        Total_Answered_Duration=('Duration in Seconds', lambda x: x[x > 0].sum()),  # Total duration of answered calls\n",
    "        Avg_Answered_Duration=('Duration in Seconds', lambda x: x[x > 0].mean()),  # Average duration of answered calls\n",
    "        Min_Call_Duration=('Duration in Seconds', lambda x: x[x > 0].min() if (x > 0).any() else 0),  # Minimum answered call duration\n",
    "        Max_Call_Duration=('Duration in Seconds', lambda x: x[x > 0].max() if (x > 0).any() else 0)   # Maximum answered call duration\n",
    "    )\n",
    "    .reset_index()  # Reset index to make 'Prospect Email' a column\n",
    ")\n",
    "\n",
    "# Replace NaN with 0 in average, min, and max if there are no answered calls\n",
    "call_summary[['Avg_Answered_Duration', 'Min_Call_Duration', 'Max_Call_Duration']] = (\n",
    "    call_summary[['Avg_Answered_Duration', 'Min_Call_Duration', 'Max_Call_Duration']].fillna(0)\n",
    ")\n",
    "\n",
    "# Create a new DataFrame with only the desired columns\n",
    "df_call_summary = call_summary[[\n",
    "    'Prospect Email', \n",
    "    'Total_Calls', \n",
    "    'Outbound_Calls', \n",
    "    'Inbound_Calls', \n",
    "    'Answered_Calls', \n",
    "    'Total_Answered_Duration', \n",
    "    'Avg_Answered_Duration', \n",
    "    'Min_Call_Duration', \n",
    "    'Max_Call_Duration'\n",
    "]]\n",
    "\n",
    "# Display the new DataFrame\n",
    "print(df_call_summary.head())\n",
    "\n",
    "# Optionally, save it to a CSV file\n",
    "df_call_summary.to_csv('clean_outreach_call.csv', index=False)\n"
   ]
  },
  {
   "cell_type": "code",
   "execution_count": 14,
   "id": "1c717036-53c6-4720-8bf2-12f4f67eab78",
   "metadata": {},
   "outputs": [
    {
     "data": {
      "image/png": "[encoded data removed]",
      "text/plain": [
       "<Figure size 1000x600 with 1 Axes>"
      ]
     },
     "metadata": {},
     "output_type": "display_data"
    }
   ],
   "source": [
    "# Filter out rows where 'Duration in Seconds' is null or zero for meaningful analysis\n",
    "df_filtered = df_call_req_cl[df_call_req_cl['Duration in Seconds'] > 0]\n",
    "\n",
    "plt.figure(figsize=(10, 6))\n",
    "sns.scatterplot(\n",
    "    data=df_filtered,\n",
    "    x='Duration in Seconds',\n",
    "    y='Disposition',\n",
    "    hue='Disposition',\n",
    "    alpha=0.6,\n",
    "    legend=False  # Removes the legend\n",
    ")\n",
    "plt.title('Scatter Plot of Call Duration by Disposition')\n",
    "plt.xlabel('Duration in Seconds')\n",
    "plt.ylabel('Disposition')\n",
    "plt.tight_layout()\n",
    "plt.show()"
   ]
  },
  {
   "cell_type": "code",
   "execution_count": 15,
   "id": "c5106d7b-3f99-415d-bebe-4c41aeeb144c",
   "metadata": {},
   "outputs": [
    {
     "name": "stderr",
     "output_type": "stream",
     "text": [
      "/tmp/ipykernel_410765/1129096593.py:1: DtypeWarning: Columns (19,23,24) have mixed types. Specify dtype option on import or set low_memory=False.\n",
      "  df_opportunities = pd.read_csv('/home/darshan/Documents/Vonage 2024-Nov-13/SFDC/Opp with Primary Contact.csv', encoding='latin1')\n"
     ]
    },
    {
     "name": "stdout",
     "output_type": "stream",
     "text": [
      "<class 'pandas.core.frame.DataFrame'>\n",
      "RangeIndex: 91181 entries, 0 to 91180\n",
      "Data columns (total 35 columns):\n",
      " #   Column                             Non-Null Count  Dtype  \n",
      "---  ------                             --------------  -----  \n",
      " 0   Salesforce Instance                91181 non-null  object \n",
      " 1   Opportunity ID                     91181 non-null  object \n",
      " 2   Owner Role                         87016 non-null  object \n",
      " 3   Opportunity Owner                  91181 non-null  object \n",
      " 4   Opportunity Name                   91175 non-null  object \n",
      " 5   Account ID                         91180 non-null  object \n",
      " 6   Account Name                       91171 non-null  object \n",
      " 7   Stage                              91181 non-null  object \n",
      " 8   Fiscal Period                      91181 non-null  object \n",
      " 9   Annual Recurring Revenue Currency  89173 non-null  object \n",
      " 10  Annual Recurring Revenue           91181 non-null  float64\n",
      " 11  Amount Currency                    83781 non-null  object \n",
      " 12  Amount                             83781 non-null  float64\n",
      " 13  Probability (%)                    91181 non-null  int64  \n",
      " 14  Stage Duration                     91181 non-null  int64  \n",
      " 15  Age                                91181 non-null  int64  \n",
      " 16  Reason for Closed Lost             44287 non-null  object \n",
      " 17  Close Date                         91181 non-null  object \n",
      " 18  Created Date                       91181 non-null  object \n",
      " 19  Entered Pipeline Date              1034 non-null   object \n",
      " 20  Next Step                          24786 non-null  object \n",
      " 21  Lead Source                        88746 non-null  object \n",
      " 22  Type                               91181 non-null  object \n",
      " 23  Marketing Involvement              497 non-null    object \n",
      " 24  Opportunity Source                 1991 non-null   object \n",
      " 25  Business Group                     88095 non-null  object \n",
      " 26  Opportunity Geo-Region             91181 non-null  object \n",
      " 27  Qualified By                       75123 non-null  object \n",
      " 28  Website                            3089 non-null   object \n",
      " 29  Primary Campaign Source            88734 non-null  object \n",
      " 30  Source Campaign                    89915 non-null  object \n",
      " 31  Last Touch Campaign                88447 non-null  object \n",
      " 32  Primary Contact                    88543 non-null  object \n",
      " 33  Contact: Title                     29550 non-null  object \n",
      " 34  Contact: Email                     88482 non-null  object \n",
      "dtypes: float64(2), int64(3), object(30)\n",
      "memory usage: 24.3+ MB\n"
     ]
    }
   ],
   "source": [
    "df_opportunities = pd.read_csv('/home/darshan/Documents/Vonage 2024-Nov-13/SFDC/Opp with Primary Contact.csv', encoding='latin1')\n",
    "\n",
    "df_opportunities.info()"
   ]
  },
  {
   "cell_type": "code",
   "execution_count": 16,
   "id": "357e6db5-3765-47ab-9d95-b3868871f7ae",
   "metadata": {},
   "outputs": [
    {
     "name": "stdout",
     "output_type": "stream",
     "text": [
      "<class 'pandas.core.frame.DataFrame'>\n",
      "RangeIndex: 91181 entries, 0 to 91180\n",
      "Data columns (total 3 columns):\n",
      " #   Column          Non-Null Count  Dtype \n",
      "---  ------          --------------  ----- \n",
      " 0   Opportunity ID  91181 non-null  object\n",
      " 1   Account ID      91180 non-null  object\n",
      " 2   Contact: Email  88482 non-null  object\n",
      "dtypes: object(3)\n",
      "memory usage: 2.1+ MB\n"
     ]
    }
   ],
   "source": [
    "df_opportunities_req_cl = df_opportunities[[\n",
    "                            'Opportunity ID',\n",
    "                            'Account ID',\n",
    "                            'Contact: Email'\n",
    "                        ]]\n",
    "df_opportunities_req_cl.info()"
   ]
  },
  {
   "cell_type": "code",
   "execution_count": 17,
   "id": "391de971-4467-4350-985d-bbeca99aa3f3",
   "metadata": {},
   "outputs": [
    {
     "name": "stdout",
     "output_type": "stream",
     "text": [
      "Account ID\n",
      "0011O000029SHu1    35\n",
      "0011400001hFGmS    21\n",
      "0011O00002InRzv    11\n",
      "0011O00002Cli2R    11\n",
      "0011400001mC614     8\n",
      "                   ..\n",
      "0015Y000050ar5i     2\n",
      "0014G00003BL5GN     2\n",
      "0015Y00006TsjXU     2\n",
      "0015Y00006TrpYq     2\n",
      "0015Y00006n3n3y     2\n",
      "Name: count, Length: 480, dtype: int64\n"
     ]
    }
   ],
   "source": [
    "account_id_counts = df_opportunities_req_cl['Account ID'].value_counts()\n",
    "\n",
    "# Display repeated Account IDs\n",
    "repeated_account_ids = account_id_counts[account_id_counts > 1]\n",
    "print(repeated_account_ids)\n"
   ]
  },
  {
   "cell_type": "code",
   "execution_count": 18,
   "id": "a9b811d0-5992-4ef1-a1c6-a27a0375d713",
   "metadata": {},
   "outputs": [
    {
     "name": "stdout",
     "output_type": "stream",
     "text": [
      "Total empty emails: 2699\n",
      "Total empty account IDs: 1\n"
     ]
    }
   ],
   "source": [
    "# Count empty (null) values in 'Contact: Email' and 'Account ID'\n",
    "empty_email_count = df_opportunities_req_cl['Contact: Email'].isna().sum()\n",
    "empty_account_id_count = df_opportunities_req_cl['Account ID'].isna().sum()\n",
    "\n",
    "print(f\"Total empty emails: {empty_email_count}\")\n",
    "print(f\"Total empty account IDs: {empty_account_id_count}\")\n"
   ]
  },
  {
   "cell_type": "code",
   "execution_count": 19,
   "id": "2e233ca9-c72b-4df2-9b9f-ed838d039502",
   "metadata": {},
   "outputs": [
    {
     "name": "stdout",
     "output_type": "stream",
     "text": [
      "            Account ID  Repeated Email Count\n",
      "27     0011400001mCdbT                     2\n",
      "28     0011400001nrCzd                     2\n",
      "251    0011O000029SHu1                     2\n",
      "269    0011O000029Tl6C                     2\n",
      "313    0011O00002F83nn                     2\n",
      "...                ...                   ...\n",
      "88314  001D000002Hiwoh                     2\n",
      "88333  001J5000003Gy4U                     2\n",
      "88351  001J5000004a6J4                     2\n",
      "88359  001a000001MM6gM                     2\n",
      "88375  001cg000003yZJL                     2\n",
      "\n",
      "[76 rows x 2 columns]\n"
     ]
    }
   ],
   "source": [
    "# Filter out rows where 'Contact: Email' is null\n",
    "filtered_df = df_opportunities_req_cl[df_opportunities_req_cl['Contact: Email'].notna()]\n",
    "\n",
    "# Group by 'Account ID' and find repeated 'Contact: Email'\n",
    "repeated_emails = (\n",
    "    filtered_df.groupby('Account ID')['Contact: Email']\n",
    "    .apply(lambda x: x.duplicated(keep=False).sum())\n",
    "    .reset_index(name='Repeated Email Count')\n",
    ")\n",
    "\n",
    "# Filter Account IDs where at least one email is repeated\n",
    "repeated_emails_with_duplicates = repeated_emails[repeated_emails['Repeated Email Count'] > 0]\n",
    "\n",
    "print(repeated_emails_with_duplicates)"
   ]
  },
  {
   "cell_type": "code",
   "execution_count": 20,
   "id": "ea3ac44e-d2bb-4a63-88f9-64d478f2ae42",
   "metadata": {},
   "outputs": [
    {
     "name": "stdout",
     "output_type": "stream",
     "text": [
      "Convert into Opportunity\n",
      "False    37213\n",
      "Name: count, dtype: int64\n"
     ]
    },
    {
     "name": "stderr",
     "output_type": "stream",
     "text": [
      "/tmp/ipykernel_410765/3043830685.py:8: SettingWithCopyWarning: \n",
      "A value is trying to be set on a copy of a slice from a DataFrame.\n",
      "Try using .loc[row_indexer,col_indexer] = value instead\n",
      "\n",
      "See the caveats in the documentation: https://pandas.pydata.org/pandas-docs/stable/user_guide/indexing.html#returning-a-view-versus-a-copy\n",
      "  df_call_req_cl['Convert into Opportunity'] = df_call_req_cl['Account Id'].isin(account_ids_opportunity)\n"
     ]
    }
   ],
   "source": [
    "# Step 1: Remove rows with null 'Account ID' from the opportunities DataFrame\n",
    "df_opportunities_req_cl_clean = df_opportunities_req_cl[df_opportunities_req_cl['Account ID'].notna()]\n",
    "\n",
    "# Step 2: Create a set of unique 'Account ID's from opportunities\n",
    "account_ids_opportunity = df_opportunities_req_cl_clean['Account ID'].unique()\n",
    "\n",
    "# Step 3: Add 'Convert into Opportunity' column to df_call_req_cl\n",
    "df_call_req_cl['Convert into Opportunity'] = df_call_req_cl['Account Id'].isin(account_ids_opportunity)\n",
    "\n",
    "# Display the updated DataFrame\n",
    "print(df_call_req_cl['Convert into Opportunity'].value_counts())\n"
   ]
  },
  {
   "cell_type": "code",
   "execution_count": 27,
   "id": "4975b213-d320-4f0f-a5bb-39c6983f46fb",
   "metadata": {},
   "outputs": [
    {
     "name": "stdout",
     "output_type": "stream",
     "text": [
      "                        Domain  Count\n",
      "0                    gmail.com  23070\n",
      "1                    yahoo.com   3341\n",
      "2                  outlook.com   1189\n",
      "3                  hotmail.com   1181\n",
      "4                      aol.com    820\n",
      "...                        ...    ...\n",
      "46747  thewinecommunity.com.au      1\n",
      "46748            nebobcats.org      1\n",
      "46749        mychildsteeth.com      1\n",
      "46750        licenseprousa.com      1\n",
      "46751      kreedomfreights.com      1\n",
      "\n",
      "[46752 rows x 2 columns]\n",
      "Total count for domain: 88482\n"
     ]
    },
    {
     "name": "stderr",
     "output_type": "stream",
     "text": [
      "/tmp/ipykernel_410765/3294146510.py:5: SettingWithCopyWarning: \n",
      "A value is trying to be set on a copy of a slice from a DataFrame.\n",
      "Try using .loc[row_indexer,col_indexer] = value instead\n",
      "\n",
      "See the caveats in the documentation: https://pandas.pydata.org/pandas-docs/stable/user_guide/indexing.html#returning-a-view-versus-a-copy\n",
      "  df_opportunities_req_cl_clean['Domain'] = df_opportunities_req_cl_clean['Contact: Email'].str.extract(r'@([\\w.-]+)')\n"
     ]
    }
   ],
   "source": [
    "# Step 1: Remove rows with null 'Contact: Email'\n",
    "df_opportunities_req_cl_clean = df_opportunities_req_cl[df_opportunities_req_cl['Contact: Email'].notna()]\n",
    "\n",
    "# Step 2: Extract the domain from the email\n",
    "df_opportunities_req_cl_clean['Domain'] = df_opportunities_req_cl_clean['Contact: Email'].str.extract(r'@([\\w.-]+)')\n",
    "\n",
    "# Step 3: Count occurrences domain-wise\n",
    "domain_counts = df_opportunities_req_cl_clean['Domain'].value_counts().reset_index()\n",
    "domain_counts.columns = ['Domain', 'Count']\n",
    "\n",
    "total_count = domain_counts['Count'].sum()\n",
    "\n",
    "# Display the domain counts\n",
    "print(domain_counts)\n",
    "print(f\"Total count for domain: {total_count}\")"
   ]
  },
  {
   "cell_type": "code",
   "execution_count": 28,
   "id": "fd896786-6dcc-4c22-8150-8dd3b44592b3",
   "metadata": {},
   "outputs": [
    {
     "name": "stdout",
     "output_type": "stream",
     "text": [
      "                     Stage  Count\n",
      "0              Closed Lost   9445\n",
      "1               Closed Won   8286\n",
      "2           Closed Won SSU   3466\n",
      "3                 Proposal    741\n",
      "4                Discovery    559\n",
      "5                  Meeting    211\n",
      "6                   Design    146\n",
      "7        Final Negotiation    124\n",
      "8                Cancelled     87\n",
      "9                     Lost      2\n",
      "10  FS ? Initial Discovery      1\n",
      "11               Negotiate      1\n",
      "12          Partner Signed      1\n",
      "Total count for gmail.com: 23070\n"
     ]
    },
    {
     "name": "stderr",
     "output_type": "stream",
     "text": [
      "/tmp/ipykernel_410765/698881396.py:5: SettingWithCopyWarning: \n",
      "A value is trying to be set on a copy of a slice from a DataFrame.\n",
      "Try using .loc[row_indexer,col_indexer] = value instead\n",
      "\n",
      "See the caveats in the documentation: https://pandas.pydata.org/pandas-docs/stable/user_guide/indexing.html#returning-a-view-versus-a-copy\n",
      "  df_opportunities_clean['Domain'] = df_opportunities_clean['Contact: Email'].str.extract(r'@([\\w.-]+)')\n"
     ]
    }
   ],
   "source": [
    "# Step 1: Remove rows with null 'Contact: Email'\n",
    "df_opportunities_clean = df_opportunities[df_opportunities['Contact: Email'].notna()]\n",
    "\n",
    "# Step 2: Extract the domain from the email\n",
    "df_opportunities_clean['Domain'] = df_opportunities_clean['Contact: Email'].str.extract(r'@([\\w.-]+)')\n",
    "\n",
    "# Step 3: Filter for 'gmail.com'\n",
    "gmail_data = df_opportunities_clean[df_opportunities_clean['Domain'] == 'gmail.com']\n",
    "\n",
    "# Step 4: Count occurrences by 'Stage'\n",
    "stage_counts = gmail_data['Stage'].value_counts().reset_index()\n",
    "stage_counts.columns = ['Stage', 'Count']\n",
    "\n",
    "# Step 5: Calculate the total count\n",
    "total_count = stage_counts['Count'].sum()\n",
    "\n",
    "# Display the stage counts and total count\n",
    "print(stage_counts)\n",
    "print(f\"Total count for gmail.com: {total_count}\")"
   ]
  },
  {
   "cell_type": "code",
   "execution_count": 30,
   "id": "1f0c6165-2dd6-413b-a23d-29bd9f81782d",
   "metadata": {},
   "outputs": [
    {
     "data": {
      "text/plain": [
       "90535"
      ]
     },
     "execution_count": 30,
     "metadata": {},
     "output_type": "execute_result"
    }
   ],
   "source": [
    "df_opportunities['Account ID'].nunique()"
   ]
  },
  {
   "cell_type": "code",
   "execution_count": null,
   "id": "57d1d896-10ad-448c-b27c-080934476652",
   "metadata": {},
   "outputs": [],
   "source": []
  },
  {
   "cell_type": "code",
   "execution_count": null,
   "id": "4e1e9847-adb9-4b34-b025-b85d6c497b99",
   "metadata": {},
   "outputs": [],
   "source": []
  }
 ],
 "metadata": {
  "kernelspec": {
   "display_name": "Python 3 (ipykernel)",
   "language": "python",
   "name": "python3"
  },
  "language_info": {
   "codemirror_mode": {
    "name": "ipython",
    "version": 3
   },
   "file_extension": ".py",
   "mimetype": "text/x-python",
   "name": "python",
   "nbconvert_exporter": "python",
   "pygments_lexer": "ipython3",
   "version": "3.12.6"
  }
 },
 "nbformat": 4,
 "nbformat_minor": 5
}
