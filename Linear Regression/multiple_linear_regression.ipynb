{
 "cells": [
  {
   "cell_type": "markdown",
   "metadata": {
    "id": "CazISR8X_HUG"
   },
   "source": [
    "# Multiple Linear Regression"
   ]
  },
  {
   "cell_type": "markdown",
   "metadata": {
    "id": "pOyqYHTk_Q57"
   },
   "source": [
    "## Importing the libraries"
   ]
  },
  {
   "cell_type": "code",
   "execution_count": 1,
   "metadata": {
    "id": "T_YHJjnD_Tja"
   },
   "outputs": [],
   "source": [
    "import numpy as np\n",
    "import pandas as pd\n",
    "import matplotlib.pyplot as plt\n",
    "from sklearn.model_selection import train_test_split\n",
    "from sklearn.preprocessing import OneHotEncoder, StandardScaler\n",
    "from sklearn.compose import ColumnTransformer\n",
    "from sklearn.linear_model import LinearRegression\n",
    "from sklearn.metrics import r2_score"
   ]
  },
  {
   "cell_type": "markdown",
   "metadata": {
    "id": "vgC61-ah_WIz"
   },
   "source": [
    "## Importing the dataset"
   ]
  },
  {
   "cell_type": "code",
   "execution_count": 2,
   "metadata": {
    "colab": {
     "base_uri": "https://localhost:8080/",
     "height": 1000
    },
    "id": "UrxyEKGn_ez7",
    "outputId": "8ea35098-aa18-46f4-9d45-7cc1c692ec4c",
    "scrolled": true
   },
   "outputs": [
    {
     "data": {
      "text/html": [
       "<div>\n",
       "<style scoped>\n",
       "    .dataframe tbody tr th:only-of-type {\n",
       "        vertical-align: middle;\n",
       "    }\n",
       "\n",
       "    .dataframe tbody tr th {\n",
       "        vertical-align: top;\n",
       "    }\n",
       "\n",
       "    .dataframe thead th {\n",
       "        text-align: right;\n",
       "    }\n",
       "</style>\n",
       "<table border=\"1\" class=\"dataframe\">\n",
       "  <thead>\n",
       "    <tr style=\"text-align: right;\">\n",
       "      <th></th>\n",
       "      <th>R&amp;D Spend</th>\n",
       "      <th>Administration</th>\n",
       "      <th>Marketing Spend</th>\n",
       "      <th>State</th>\n",
       "      <th>Profit</th>\n",
       "    </tr>\n",
       "  </thead>\n",
       "  <tbody>\n",
       "    <tr>\n",
       "      <th>0</th>\n",
       "      <td>165349.20</td>\n",
       "      <td>136897.80</td>\n",
       "      <td>471784.10</td>\n",
       "      <td>New York</td>\n",
       "      <td>192261.83</td>\n",
       "    </tr>\n",
       "    <tr>\n",
       "      <th>1</th>\n",
       "      <td>162597.70</td>\n",
       "      <td>151377.59</td>\n",
       "      <td>443898.53</td>\n",
       "      <td>California</td>\n",
       "      <td>191792.06</td>\n",
       "    </tr>\n",
       "    <tr>\n",
       "      <th>2</th>\n",
       "      <td>153441.51</td>\n",
       "      <td>101145.55</td>\n",
       "      <td>407934.54</td>\n",
       "      <td>Florida</td>\n",
       "      <td>191050.39</td>\n",
       "    </tr>\n",
       "    <tr>\n",
       "      <th>3</th>\n",
       "      <td>144372.41</td>\n",
       "      <td>118671.85</td>\n",
       "      <td>383199.62</td>\n",
       "      <td>New York</td>\n",
       "      <td>182901.99</td>\n",
       "    </tr>\n",
       "    <tr>\n",
       "      <th>4</th>\n",
       "      <td>142107.34</td>\n",
       "      <td>91391.77</td>\n",
       "      <td>366168.42</td>\n",
       "      <td>Florida</td>\n",
       "      <td>166187.94</td>\n",
       "    </tr>\n",
       "  </tbody>\n",
       "</table>\n",
       "</div>"
      ],
      "text/plain": [
       "   R&D Spend  Administration  Marketing Spend       State     Profit\n",
       "0  165349.20       136897.80        471784.10    New York  192261.83\n",
       "1  162597.70       151377.59        443898.53  California  191792.06\n",
       "2  153441.51       101145.55        407934.54     Florida  191050.39\n",
       "3  144372.41       118671.85        383199.62    New York  182901.99\n",
       "4  142107.34        91391.77        366168.42     Florida  166187.94"
      ]
     },
     "execution_count": 2,
     "metadata": {},
     "output_type": "execute_result"
    }
   ],
   "source": [
    "dataset = pd.read_csv('./../datafiles/50_Startups.csv')\n",
    "X = dataset.iloc[:, :-1].values\n",
    "y = dataset.iloc[:, -1].values\n",
    "dataset.head()"
   ]
  },
  {
   "cell_type": "markdown",
   "metadata": {
    "id": "gxZ8Q_HZeopf"
   },
   "source": [
    "## Apply one-hot encoding to the categorical 'State' column\n"
   ]
  },
  {
   "cell_type": "code",
   "execution_count": 37,
   "metadata": {
    "colab": {
     "base_uri": "https://localhost:8080/"
    },
    "id": "gN7yLTb-ei-D",
    "outputId": "d5636b71-8742-4fc0-a099-0bc1c8f1169e"
   },
   "outputs": [
    {
     "name": "stdout",
     "output_type": "stream",
     "text": [
      "[[0.0 0.0 1.0 165349.2 136897.8 471784.1]\n",
      " [1.0 0.0 0.0 162597.7 151377.59 443898.53]\n",
      " [0.0 1.0 0.0 153441.51 101145.55 407934.54]\n",
      " [0.0 0.0 1.0 144372.41 118671.85 383199.62]\n",
      " [0.0 1.0 0.0 142107.34 91391.77 366168.42]\n",
      " [0.0 0.0 1.0 131876.9 99814.71 362861.36]\n",
      " [1.0 0.0 0.0 134615.46 147198.87 127716.82]\n",
      " [0.0 1.0 0.0 130298.13 145530.06 323876.68]\n",
      " [0.0 0.0 1.0 120542.52 148718.95 311613.29]\n",
      " [1.0 0.0 0.0 123334.88 108679.17 304981.62]\n",
      " [0.0 1.0 0.0 101913.08 110594.11 229160.95]\n",
      " [1.0 0.0 0.0 100671.96 91790.61 249744.55]\n",
      " [0.0 1.0 0.0 93863.75 127320.38 249839.44]\n",
      " [1.0 0.0 0.0 91992.39 135495.07 252664.93]\n",
      " [0.0 1.0 0.0 119943.24 156547.42 256512.92]\n",
      " [0.0 0.0 1.0 114523.61 122616.84 261776.23]\n",
      " [1.0 0.0 0.0 78013.11 121597.55 264346.06]\n",
      " [0.0 0.0 1.0 94657.16 145077.58 282574.31]\n",
      " [0.0 1.0 0.0 91749.16 114175.79 294919.57]\n",
      " [0.0 0.0 1.0 86419.7 153514.11 0.0]\n",
      " [1.0 0.0 0.0 76253.86 113867.3 298664.47]\n",
      " [0.0 0.0 1.0 78389.47 153773.43 299737.29]\n",
      " [0.0 1.0 0.0 73994.56 122782.75 303319.26]\n",
      " [0.0 1.0 0.0 67532.53 105751.03 304768.73]\n",
      " [0.0 0.0 1.0 77044.01 99281.34 140574.81]\n",
      " [1.0 0.0 0.0 64664.71 139553.16 137962.62]\n",
      " [0.0 1.0 0.0 75328.87 144135.98 134050.07]\n",
      " [0.0 0.0 1.0 72107.6 127864.55 353183.81]\n",
      " [0.0 1.0 0.0 66051.52 182645.56 118148.2]\n",
      " [0.0 0.0 1.0 65605.48 153032.06 107138.38]\n",
      " [0.0 1.0 0.0 61994.48 115641.28 91131.24]\n",
      " [0.0 0.0 1.0 61136.38 152701.92 88218.23]\n",
      " [1.0 0.0 0.0 63408.86 129219.61 46085.25]\n",
      " [0.0 1.0 0.0 55493.95 103057.49 214634.81]\n",
      " [1.0 0.0 0.0 46426.07 157693.92 210797.67]\n",
      " [0.0 0.0 1.0 46014.02 85047.44 205517.64]\n",
      " [0.0 1.0 0.0 28663.76 127056.21 201126.82]\n",
      " [1.0 0.0 0.0 44069.95 51283.14 197029.42]\n",
      " [0.0 0.0 1.0 20229.59 65947.93 185265.1]\n",
      " [1.0 0.0 0.0 38558.51 82982.09 174999.3]\n",
      " [1.0 0.0 0.0 28754.33 118546.05 172795.67]\n",
      " [0.0 1.0 0.0 27892.92 84710.77 164470.71]\n",
      " [1.0 0.0 0.0 23640.93 96189.63 148001.11]\n",
      " [0.0 0.0 1.0 15505.73 127382.3 35534.17]\n",
      " [1.0 0.0 0.0 22177.74 154806.14 28334.72]\n",
      " [0.0 0.0 1.0 1000.23 124153.04 1903.93]\n",
      " [0.0 1.0 0.0 1315.46 115816.21 297114.46]\n",
      " [1.0 0.0 0.0 0.0 135426.92 0.0]\n",
      " [0.0 0.0 1.0 542.05 51743.15 0.0]\n",
      " [1.0 0.0 0.0 0.0 116983.8 45173.06]]\n"
     ]
    }
   ],
   "source": [
    "ct = ColumnTransformer(transformers=[('encoder', OneHotEncoder(), [3])], remainder='passthrough')\n",
    "X = np.array(ct.fit_transform(X))\n",
    "print(X)"
   ]
  },
  {
   "cell_type": "markdown",
   "metadata": {
    "id": "A2r6aAjce4hp"
   },
   "source": [
    "## Optional: Standardize features (useful for optimization but not always necessary for linear regression)"
   ]
  },
  {
   "cell_type": "code",
   "execution_count": 5,
   "metadata": {
    "id": "yKtfYAEBe_q3"
   },
   "outputs": [],
   "source": [
    "scaler = StandardScaler()\n",
    "X = scaler.fit_transform(X)"
   ]
  },
  {
   "cell_type": "code",
   "execution_count": 6,
   "metadata": {
    "colab": {
     "base_uri": "https://localhost:8080/"
    },
    "id": "GOB3QhV9B5kD",
    "outputId": "14418efc-45b2-4aef-a1a8-04830395146d"
   },
   "outputs": [
    {
     "name": "stdout",
     "output_type": "stream",
     "text": [
      "[[-7.17740563e-01 -6.85994341e-01  1.39326109e+00  2.01641149e+00\n",
      "   5.60752915e-01  2.15394309e+00]\n",
      " [ 1.39326109e+00 -6.85994341e-01 -7.17740563e-01  1.95586034e+00\n",
      "   1.08280658e+00  1.92360040e+00]\n",
      " [-7.17740563e-01  1.45773797e+00 -7.17740563e-01  1.75436374e+00\n",
      "  -7.28257028e-01  1.62652767e+00]\n",
      " [-7.17740563e-01 -6.85994341e-01  1.39326109e+00  1.55478369e+00\n",
      "  -9.63646307e-02  1.42221024e+00]\n",
      " [-7.17740563e-01  1.45773797e+00 -7.17740563e-01  1.50493720e+00\n",
      "  -1.07991935e+00  1.28152771e+00]\n",
      " [-7.17740563e-01 -6.85994341e-01  1.39326109e+00  1.27980001e+00\n",
      "  -7.76239071e-01  1.25421046e+00]\n",
      " [ 1.39326109e+00 -6.85994341e-01 -7.17740563e-01  1.34006641e+00\n",
      "   9.32147208e-01 -6.88149930e-01]\n",
      " [-7.17740563e-01  1.45773797e+00 -7.17740563e-01  1.24505666e+00\n",
      "   8.71980011e-01  9.32185978e-01]\n",
      " [-7.17740563e-01 -6.85994341e-01  1.39326109e+00  1.03036886e+00\n",
      "   9.86952101e-01  8.30886909e-01]\n",
      " [ 1.39326109e+00 -6.85994341e-01 -7.17740563e-01  1.09181921e+00\n",
      "  -4.56640246e-01  7.76107440e-01]\n",
      " [-7.17740563e-01  1.45773797e+00 -7.17740563e-01  6.20398248e-01\n",
      "  -3.87599089e-01  1.49807267e-01]\n",
      " [ 1.39326109e+00 -6.85994341e-01 -7.17740563e-01  5.93085418e-01\n",
      "  -1.06553960e+00  3.19833623e-01]\n",
      " [-7.17740563e-01  1.45773797e+00 -7.17740563e-01  4.43259872e-01\n",
      "   2.15449064e-01  3.20617441e-01]\n",
      " [ 1.39326109e+00 -6.85994341e-01 -7.17740563e-01  4.02077603e-01\n",
      "   5.10178953e-01  3.43956788e-01]\n",
      " [-7.17740563e-01  1.45773797e+00 -7.17740563e-01  1.01718075e+00\n",
      "   1.26919939e+00  3.75742273e-01]\n",
      " [-7.17740563e-01 -6.85994341e-01  1.39326109e+00  8.97913123e-01\n",
      "   4.58678535e-02  4.19218702e-01]\n",
      " [ 1.39326109e+00 -6.85994341e-01 -7.17740563e-01  9.44411957e-02\n",
      "   9.11841968e-03  4.40446224e-01]\n",
      " [-7.17740563e-01 -6.85994341e-01  1.39326109e+00  4.60720127e-01\n",
      "   8.55666318e-01  5.91016724e-01]\n",
      " [-7.17740563e-01  1.45773797e+00 -7.17740563e-01  3.96724938e-01\n",
      "  -2.58465367e-01  6.92992062e-01]\n",
      " [-7.17740563e-01 -6.85994341e-01  1.39326109e+00  2.79441650e-01\n",
      "   1.15983657e+00 -1.74312698e+00]\n",
      " [ 1.39326109e+00 -6.85994341e-01 -7.17740563e-01  5.57260867e-02\n",
      "  -2.69587651e-01  7.23925995e-01]\n",
      " [-7.17740563e-01 -6.85994341e-01  1.39326109e+00  1.02723599e-01\n",
      "   1.16918609e+00  7.32787791e-01]\n",
      " [-7.17740563e-01  1.45773797e+00 -7.17740563e-01  6.00657792e-03\n",
      "   5.18495648e-02  7.62375876e-01]\n",
      " [-7.17740563e-01  1.45773797e+00 -7.17740563e-01 -1.36200724e-01\n",
      "  -5.62211268e-01  7.74348908e-01]\n",
      " [-7.17740563e-01 -6.85994341e-01  1.39326109e+00  7.31146008e-02\n",
      "  -7.95469167e-01 -5.81939297e-01]\n",
      " [ 1.39326109e+00 -6.85994341e-01 -7.17740563e-01 -1.99311688e-01\n",
      "   6.56489139e-01 -6.03516725e-01]\n",
      " [-7.17740563e-01  1.45773797e+00 -7.17740563e-01  3.53702028e-02\n",
      "   8.21717916e-01 -6.35835495e-01]\n",
      " [-7.17740563e-01 -6.85994341e-01  1.39326109e+00 -3.55189938e-02\n",
      "   2.35068543e-01  1.17427116e+00]\n",
      " [-7.17740563e-01  1.45773797e+00 -7.17740563e-01 -1.68792717e-01\n",
      "   2.21014050e+00 -7.67189437e-01]\n",
      " [-7.17740563e-01 -6.85994341e-01  1.39326109e+00 -1.78608540e-01\n",
      "   1.14245677e+00 -8.58133663e-01]\n",
      " [-7.17740563e-01  1.45773797e+00 -7.17740563e-01 -2.58074369e-01\n",
      "  -2.05628659e-01 -9.90357166e-01]\n",
      " [-7.17740563e-01 -6.85994341e-01  1.39326109e+00 -2.76958231e-01\n",
      "   1.13055391e+00 -1.01441945e+00]\n",
      " [ 1.39326109e+00 -6.85994341e-01 -7.17740563e-01 -2.26948675e-01\n",
      "   2.83923813e-01 -1.36244978e+00]\n",
      " [-7.17740563e-01  1.45773797e+00 -7.17740563e-01 -4.01128925e-01\n",
      "  -6.59324033e-01  2.98172434e-02]\n",
      " [ 1.39326109e+00 -6.85994341e-01 -7.17740563e-01 -6.00682122e-01\n",
      "   1.31053525e+00 -1.87861793e-03]\n",
      " [-7.17740563e-01 -6.85994341e-01  1.39326109e+00 -6.09749941e-01\n",
      "  -1.30865753e+00 -4.54931587e-02]\n",
      " [-7.17740563e-01  1.45773797e+00 -7.17740563e-01 -9.91570153e-01\n",
      "   2.05924691e-01 -8.17625734e-02]\n",
      " [ 1.39326109e+00 -6.85994341e-01 -7.17740563e-01 -6.52532310e-01\n",
      "  -2.52599402e+00 -1.15608256e-01]\n",
      " [-7.17740563e-01 -6.85994341e-01  1.39326109e+00 -1.17717755e+00\n",
      "  -1.99727037e+00 -2.12784866e-01]\n",
      " [ 1.39326109e+00 -6.85994341e-01 -7.17740563e-01 -7.73820359e-01\n",
      "  -1.38312156e+00 -2.97583276e-01]\n",
      " [ 1.39326109e+00 -6.85994341e-01 -7.17740563e-01 -9.89577015e-01\n",
      "  -1.00900218e-01 -3.15785883e-01]\n",
      " [-7.17740563e-01  1.45773797e+00 -7.17740563e-01 -1.00853372e+00\n",
      "  -1.32079581e+00 -3.84552407e-01]\n",
      " [ 1.39326109e+00 -6.85994341e-01 -7.17740563e-01 -1.10210556e+00\n",
      "  -9.06937535e-01 -5.20595959e-01]\n",
      " [-7.17740563e-01 -6.85994341e-01  1.39326109e+00 -1.28113364e+00\n",
      "   2.17681524e-01 -1.44960468e+00]\n",
      " [ 1.39326109e+00 -6.85994341e-01 -7.17740563e-01 -1.13430539e+00\n",
      "   1.20641936e+00 -1.50907418e+00]\n",
      " [-7.17740563e-01 -6.85994341e-01  1.39326109e+00 -1.60035036e+00\n",
      "   1.01253936e-01 -1.72739998e+00]\n",
      " [-7.17740563e-01  1.45773797e+00 -7.17740563e-01 -1.59341322e+00\n",
      "  -1.99321741e-01  7.11122474e-01]\n",
      " [ 1.39326109e+00 -6.85994341e-01 -7.17740563e-01 -1.62236202e+00\n",
      "   5.07721876e-01 -1.74312698e+00]\n",
      " [-7.17740563e-01 -6.85994341e-01  1.39326109e+00 -1.61043334e+00\n",
      "  -2.50940884e+00 -1.74312698e+00]\n",
      " [ 1.39326109e+00 -6.85994341e-01 -7.17740563e-01 -1.62236202e+00\n",
      "  -1.57225506e-01 -1.36998473e+00]]\n"
     ]
    }
   ],
   "source": [
    "print(X)"
   ]
  },
  {
   "cell_type": "markdown",
   "metadata": {
    "id": "WemVnqgeA70k"
   },
   "source": [
    "## Splitting the dataset into the Training set and Test set"
   ]
  },
  {
   "cell_type": "code",
   "execution_count": 7,
   "metadata": {
    "id": "Kb_v_ae-A-20"
   },
   "outputs": [],
   "source": [
    "X_train, X_test, y_train, y_test = train_test_split(X, y, test_size = 0.2, random_state = 0)"
   ]
  },
  {
   "cell_type": "markdown",
   "metadata": {
    "id": "k-McZVsQBINc"
   },
   "source": [
    "## Training the Multiple Linear Regression model on the Training set"
   ]
  },
  {
   "cell_type": "code",
   "execution_count": 8,
   "metadata": {
    "colab": {
     "base_uri": "https://localhost:8080/",
     "height": 80
    },
    "id": "ywPjx0L1BMiD",
    "outputId": "4ce5bb41-24ba-4dfa-b29e-9a8959050aca"
   },
   "outputs": [
    {
     "data": {
      "text/html": [
       "<style>#sk-container-id-1 {\n",
       "  /* Definition of color scheme common for light and dark mode */\n",
       "  --sklearn-color-text: black;\n",
       "  --sklearn-color-line: gray;\n",
       "  /* Definition of color scheme for unfitted estimators */\n",
       "  --sklearn-color-unfitted-level-0: #fff5e6;\n",
       "  --sklearn-color-unfitted-level-1: #f6e4d2;\n",
       "  --sklearn-color-unfitted-level-2: #ffe0b3;\n",
       "  --sklearn-color-unfitted-level-3: chocolate;\n",
       "  /* Definition of color scheme for fitted estimators */\n",
       "  --sklearn-color-fitted-level-0: #f0f8ff;\n",
       "  --sklearn-color-fitted-level-1: #d4ebff;\n",
       "  --sklearn-color-fitted-level-2: #b3dbfd;\n",
       "  --sklearn-color-fitted-level-3: cornflowerblue;\n",
       "\n",
       "  /* Specific color for light theme */\n",
       "  --sklearn-color-text-on-default-background: var(--sg-text-color, var(--theme-code-foreground, var(--jp-content-font-color1, black)));\n",
       "  --sklearn-color-background: var(--sg-background-color, var(--theme-background, var(--jp-layout-color0, white)));\n",
       "  --sklearn-color-border-box: var(--sg-text-color, var(--theme-code-foreground, var(--jp-content-font-color1, black)));\n",
       "  --sklearn-color-icon: #696969;\n",
       "\n",
       "  @media (prefers-color-scheme: dark) {\n",
       "    /* Redefinition of color scheme for dark theme */\n",
       "    --sklearn-color-text-on-default-background: var(--sg-text-color, var(--theme-code-foreground, var(--jp-content-font-color1, white)));\n",
       "    --sklearn-color-background: var(--sg-background-color, var(--theme-background, var(--jp-layout-color0, #111)));\n",
       "    --sklearn-color-border-box: var(--sg-text-color, var(--theme-code-foreground, var(--jp-content-font-color1, white)));\n",
       "    --sklearn-color-icon: #878787;\n",
       "  }\n",
       "}\n",
       "\n",
       "#sk-container-id-1 {\n",
       "  color: var(--sklearn-color-text);\n",
       "}\n",
       "\n",
       "#sk-container-id-1 pre {\n",
       "  padding: 0;\n",
       "}\n",
       "\n",
       "#sk-container-id-1 input.sk-hidden--visually {\n",
       "  border: 0;\n",
       "  clip: rect(1px 1px 1px 1px);\n",
       "  clip: rect(1px, 1px, 1px, 1px);\n",
       "  height: 1px;\n",
       "  margin: -1px;\n",
       "  overflow: hidden;\n",
       "  padding: 0;\n",
       "  position: absolute;\n",
       "  width: 1px;\n",
       "}\n",
       "\n",
       "#sk-container-id-1 div.sk-dashed-wrapped {\n",
       "  border: 1px dashed var(--sklearn-color-line);\n",
       "  margin: 0 0.4em 0.5em 0.4em;\n",
       "  box-sizing: border-box;\n",
       "  padding-bottom: 0.4em;\n",
       "  background-color: var(--sklearn-color-background);\n",
       "}\n",
       "\n",
       "#sk-container-id-1 div.sk-container {\n",
       "  /* jupyter's `normalize.less` sets `[hidden] { display: none; }`\n",
       "     but bootstrap.min.css set `[hidden] { display: none !important; }`\n",
       "     so we also need the `!important` here to be able to override the\n",
       "     default hidden behavior on the sphinx rendered scikit-learn.org.\n",
       "     See: https://github.com/scikit-learn/scikit-learn/issues/21755 */\n",
       "  display: inline-block !important;\n",
       "  position: relative;\n",
       "}\n",
       "\n",
       "#sk-container-id-1 div.sk-text-repr-fallback {\n",
       "  display: none;\n",
       "}\n",
       "\n",
       "div.sk-parallel-item,\n",
       "div.sk-serial,\n",
       "div.sk-item {\n",
       "  /* draw centered vertical line to link estimators */\n",
       "  background-image: linear-gradient(var(--sklearn-color-text-on-default-background), var(--sklearn-color-text-on-default-background));\n",
       "  background-size: 2px 100%;\n",
       "  background-repeat: no-repeat;\n",
       "  background-position: center center;\n",
       "}\n",
       "\n",
       "/* Parallel-specific style estimator block */\n",
       "\n",
       "#sk-container-id-1 div.sk-parallel-item::after {\n",
       "  content: \"\";\n",
       "  width: 100%;\n",
       "  border-bottom: 2px solid var(--sklearn-color-text-on-default-background);\n",
       "  flex-grow: 1;\n",
       "}\n",
       "\n",
       "#sk-container-id-1 div.sk-parallel {\n",
       "  display: flex;\n",
       "  align-items: stretch;\n",
       "  justify-content: center;\n",
       "  background-color: var(--sklearn-color-background);\n",
       "  position: relative;\n",
       "}\n",
       "\n",
       "#sk-container-id-1 div.sk-parallel-item {\n",
       "  display: flex;\n",
       "  flex-direction: column;\n",
       "}\n",
       "\n",
       "#sk-container-id-1 div.sk-parallel-item:first-child::after {\n",
       "  align-self: flex-end;\n",
       "  width: 50%;\n",
       "}\n",
       "\n",
       "#sk-container-id-1 div.sk-parallel-item:last-child::after {\n",
       "  align-self: flex-start;\n",
       "  width: 50%;\n",
       "}\n",
       "\n",
       "#sk-container-id-1 div.sk-parallel-item:only-child::after {\n",
       "  width: 0;\n",
       "}\n",
       "\n",
       "/* Serial-specific style estimator block */\n",
       "\n",
       "#sk-container-id-1 div.sk-serial {\n",
       "  display: flex;\n",
       "  flex-direction: column;\n",
       "  align-items: center;\n",
       "  background-color: var(--sklearn-color-background);\n",
       "  padding-right: 1em;\n",
       "  padding-left: 1em;\n",
       "}\n",
       "\n",
       "\n",
       "/* Toggleable style: style used for estimator/Pipeline/ColumnTransformer box that is\n",
       "clickable and can be expanded/collapsed.\n",
       "- Pipeline and ColumnTransformer use this feature and define the default style\n",
       "- Estimators will overwrite some part of the style using the `sk-estimator` class\n",
       "*/\n",
       "\n",
       "/* Pipeline and ColumnTransformer style (default) */\n",
       "\n",
       "#sk-container-id-1 div.sk-toggleable {\n",
       "  /* Default theme specific background. It is overwritten whether we have a\n",
       "  specific estimator or a Pipeline/ColumnTransformer */\n",
       "  background-color: var(--sklearn-color-background);\n",
       "}\n",
       "\n",
       "/* Toggleable label */\n",
       "#sk-container-id-1 label.sk-toggleable__label {\n",
       "  cursor: pointer;\n",
       "  display: block;\n",
       "  width: 100%;\n",
       "  margin-bottom: 0;\n",
       "  padding: 0.5em;\n",
       "  box-sizing: border-box;\n",
       "  text-align: center;\n",
       "}\n",
       "\n",
       "#sk-container-id-1 label.sk-toggleable__label-arrow:before {\n",
       "  /* Arrow on the left of the label */\n",
       "  content: \"▸\";\n",
       "  float: left;\n",
       "  margin-right: 0.25em;\n",
       "  color: var(--sklearn-color-icon);\n",
       "}\n",
       "\n",
       "#sk-container-id-1 label.sk-toggleable__label-arrow:hover:before {\n",
       "  color: var(--sklearn-color-text);\n",
       "}\n",
       "\n",
       "/* Toggleable content - dropdown */\n",
       "\n",
       "#sk-container-id-1 div.sk-toggleable__content {\n",
       "  max-height: 0;\n",
       "  max-width: 0;\n",
       "  overflow: hidden;\n",
       "  text-align: left;\n",
       "  /* unfitted */\n",
       "  background-color: var(--sklearn-color-unfitted-level-0);\n",
       "}\n",
       "\n",
       "#sk-container-id-1 div.sk-toggleable__content.fitted {\n",
       "  /* fitted */\n",
       "  background-color: var(--sklearn-color-fitted-level-0);\n",
       "}\n",
       "\n",
       "#sk-container-id-1 div.sk-toggleable__content pre {\n",
       "  margin: 0.2em;\n",
       "  border-radius: 0.25em;\n",
       "  color: var(--sklearn-color-text);\n",
       "  /* unfitted */\n",
       "  background-color: var(--sklearn-color-unfitted-level-0);\n",
       "}\n",
       "\n",
       "#sk-container-id-1 div.sk-toggleable__content.fitted pre {\n",
       "  /* unfitted */\n",
       "  background-color: var(--sklearn-color-fitted-level-0);\n",
       "}\n",
       "\n",
       "#sk-container-id-1 input.sk-toggleable__control:checked~div.sk-toggleable__content {\n",
       "  /* Expand drop-down */\n",
       "  max-height: 200px;\n",
       "  max-width: 100%;\n",
       "  overflow: auto;\n",
       "}\n",
       "\n",
       "#sk-container-id-1 input.sk-toggleable__control:checked~label.sk-toggleable__label-arrow:before {\n",
       "  content: \"▾\";\n",
       "}\n",
       "\n",
       "/* Pipeline/ColumnTransformer-specific style */\n",
       "\n",
       "#sk-container-id-1 div.sk-label input.sk-toggleable__control:checked~label.sk-toggleable__label {\n",
       "  color: var(--sklearn-color-text);\n",
       "  background-color: var(--sklearn-color-unfitted-level-2);\n",
       "}\n",
       "\n",
       "#sk-container-id-1 div.sk-label.fitted input.sk-toggleable__control:checked~label.sk-toggleable__label {\n",
       "  background-color: var(--sklearn-color-fitted-level-2);\n",
       "}\n",
       "\n",
       "/* Estimator-specific style */\n",
       "\n",
       "/* Colorize estimator box */\n",
       "#sk-container-id-1 div.sk-estimator input.sk-toggleable__control:checked~label.sk-toggleable__label {\n",
       "  /* unfitted */\n",
       "  background-color: var(--sklearn-color-unfitted-level-2);\n",
       "}\n",
       "\n",
       "#sk-container-id-1 div.sk-estimator.fitted input.sk-toggleable__control:checked~label.sk-toggleable__label {\n",
       "  /* fitted */\n",
       "  background-color: var(--sklearn-color-fitted-level-2);\n",
       "}\n",
       "\n",
       "#sk-container-id-1 div.sk-label label.sk-toggleable__label,\n",
       "#sk-container-id-1 div.sk-label label {\n",
       "  /* The background is the default theme color */\n",
       "  color: var(--sklearn-color-text-on-default-background);\n",
       "}\n",
       "\n",
       "/* On hover, darken the color of the background */\n",
       "#sk-container-id-1 div.sk-label:hover label.sk-toggleable__label {\n",
       "  color: var(--sklearn-color-text);\n",
       "  background-color: var(--sklearn-color-unfitted-level-2);\n",
       "}\n",
       "\n",
       "/* Label box, darken color on hover, fitted */\n",
       "#sk-container-id-1 div.sk-label.fitted:hover label.sk-toggleable__label.fitted {\n",
       "  color: var(--sklearn-color-text);\n",
       "  background-color: var(--sklearn-color-fitted-level-2);\n",
       "}\n",
       "\n",
       "/* Estimator label */\n",
       "\n",
       "#sk-container-id-1 div.sk-label label {\n",
       "  font-family: monospace;\n",
       "  font-weight: bold;\n",
       "  display: inline-block;\n",
       "  line-height: 1.2em;\n",
       "}\n",
       "\n",
       "#sk-container-id-1 div.sk-label-container {\n",
       "  text-align: center;\n",
       "}\n",
       "\n",
       "/* Estimator-specific */\n",
       "#sk-container-id-1 div.sk-estimator {\n",
       "  font-family: monospace;\n",
       "  border: 1px dotted var(--sklearn-color-border-box);\n",
       "  border-radius: 0.25em;\n",
       "  box-sizing: border-box;\n",
       "  margin-bottom: 0.5em;\n",
       "  /* unfitted */\n",
       "  background-color: var(--sklearn-color-unfitted-level-0);\n",
       "}\n",
       "\n",
       "#sk-container-id-1 div.sk-estimator.fitted {\n",
       "  /* fitted */\n",
       "  background-color: var(--sklearn-color-fitted-level-0);\n",
       "}\n",
       "\n",
       "/* on hover */\n",
       "#sk-container-id-1 div.sk-estimator:hover {\n",
       "  /* unfitted */\n",
       "  background-color: var(--sklearn-color-unfitted-level-2);\n",
       "}\n",
       "\n",
       "#sk-container-id-1 div.sk-estimator.fitted:hover {\n",
       "  /* fitted */\n",
       "  background-color: var(--sklearn-color-fitted-level-2);\n",
       "}\n",
       "\n",
       "/* Specification for estimator info (e.g. \"i\" and \"?\") */\n",
       "\n",
       "/* Common style for \"i\" and \"?\" */\n",
       "\n",
       ".sk-estimator-doc-link,\n",
       "a:link.sk-estimator-doc-link,\n",
       "a:visited.sk-estimator-doc-link {\n",
       "  float: right;\n",
       "  font-size: smaller;\n",
       "  line-height: 1em;\n",
       "  font-family: monospace;\n",
       "  background-color: var(--sklearn-color-background);\n",
       "  border-radius: 1em;\n",
       "  height: 1em;\n",
       "  width: 1em;\n",
       "  text-decoration: none !important;\n",
       "  margin-left: 1ex;\n",
       "  /* unfitted */\n",
       "  border: var(--sklearn-color-unfitted-level-1) 1pt solid;\n",
       "  color: var(--sklearn-color-unfitted-level-1);\n",
       "}\n",
       "\n",
       ".sk-estimator-doc-link.fitted,\n",
       "a:link.sk-estimator-doc-link.fitted,\n",
       "a:visited.sk-estimator-doc-link.fitted {\n",
       "  /* fitted */\n",
       "  border: var(--sklearn-color-fitted-level-1) 1pt solid;\n",
       "  color: var(--sklearn-color-fitted-level-1);\n",
       "}\n",
       "\n",
       "/* On hover */\n",
       "div.sk-estimator:hover .sk-estimator-doc-link:hover,\n",
       ".sk-estimator-doc-link:hover,\n",
       "div.sk-label-container:hover .sk-estimator-doc-link:hover,\n",
       ".sk-estimator-doc-link:hover {\n",
       "  /* unfitted */\n",
       "  background-color: var(--sklearn-color-unfitted-level-3);\n",
       "  color: var(--sklearn-color-background);\n",
       "  text-decoration: none;\n",
       "}\n",
       "\n",
       "div.sk-estimator.fitted:hover .sk-estimator-doc-link.fitted:hover,\n",
       ".sk-estimator-doc-link.fitted:hover,\n",
       "div.sk-label-container:hover .sk-estimator-doc-link.fitted:hover,\n",
       ".sk-estimator-doc-link.fitted:hover {\n",
       "  /* fitted */\n",
       "  background-color: var(--sklearn-color-fitted-level-3);\n",
       "  color: var(--sklearn-color-background);\n",
       "  text-decoration: none;\n",
       "}\n",
       "\n",
       "/* Span, style for the box shown on hovering the info icon */\n",
       ".sk-estimator-doc-link span {\n",
       "  display: none;\n",
       "  z-index: 9999;\n",
       "  position: relative;\n",
       "  font-weight: normal;\n",
       "  right: .2ex;\n",
       "  padding: .5ex;\n",
       "  margin: .5ex;\n",
       "  width: min-content;\n",
       "  min-width: 20ex;\n",
       "  max-width: 50ex;\n",
       "  color: var(--sklearn-color-text);\n",
       "  box-shadow: 2pt 2pt 4pt #999;\n",
       "  /* unfitted */\n",
       "  background: var(--sklearn-color-unfitted-level-0);\n",
       "  border: .5pt solid var(--sklearn-color-unfitted-level-3);\n",
       "}\n",
       "\n",
       ".sk-estimator-doc-link.fitted span {\n",
       "  /* fitted */\n",
       "  background: var(--sklearn-color-fitted-level-0);\n",
       "  border: var(--sklearn-color-fitted-level-3);\n",
       "}\n",
       "\n",
       ".sk-estimator-doc-link:hover span {\n",
       "  display: block;\n",
       "}\n",
       "\n",
       "/* \"?\"-specific style due to the `<a>` HTML tag */\n",
       "\n",
       "#sk-container-id-1 a.estimator_doc_link {\n",
       "  float: right;\n",
       "  font-size: 1rem;\n",
       "  line-height: 1em;\n",
       "  font-family: monospace;\n",
       "  background-color: var(--sklearn-color-background);\n",
       "  border-radius: 1rem;\n",
       "  height: 1rem;\n",
       "  width: 1rem;\n",
       "  text-decoration: none;\n",
       "  /* unfitted */\n",
       "  color: var(--sklearn-color-unfitted-level-1);\n",
       "  border: var(--sklearn-color-unfitted-level-1) 1pt solid;\n",
       "}\n",
       "\n",
       "#sk-container-id-1 a.estimator_doc_link.fitted {\n",
       "  /* fitted */\n",
       "  border: var(--sklearn-color-fitted-level-1) 1pt solid;\n",
       "  color: var(--sklearn-color-fitted-level-1);\n",
       "}\n",
       "\n",
       "/* On hover */\n",
       "#sk-container-id-1 a.estimator_doc_link:hover {\n",
       "  /* unfitted */\n",
       "  background-color: var(--sklearn-color-unfitted-level-3);\n",
       "  color: var(--sklearn-color-background);\n",
       "  text-decoration: none;\n",
       "}\n",
       "\n",
       "#sk-container-id-1 a.estimator_doc_link.fitted:hover {\n",
       "  /* fitted */\n",
       "  background-color: var(--sklearn-color-fitted-level-3);\n",
       "}\n",
       "</style><div id=\"sk-container-id-1\" class=\"sk-top-container\"><div class=\"sk-text-repr-fallback\"><pre>LinearRegression()</pre><b>In a Jupyter environment, please rerun this cell to show the HTML representation or trust the notebook. <br />On GitHub, the HTML representation is unable to render, please try loading this page with nbviewer.org.</b></div><div class=\"sk-container\" hidden><div class=\"sk-item\"><div class=\"sk-estimator fitted sk-toggleable\"><input class=\"sk-toggleable__control sk-hidden--visually\" id=\"sk-estimator-id-1\" type=\"checkbox\" checked><label for=\"sk-estimator-id-1\" class=\"sk-toggleable__label fitted sk-toggleable__label-arrow fitted\">&nbsp;&nbsp;LinearRegression<a class=\"sk-estimator-doc-link fitted\" rel=\"noreferrer\" target=\"_blank\" href=\"https://scikit-learn.org/1.5/modules/generated/sklearn.linear_model.LinearRegression.html\">?<span>Documentation for LinearRegression</span></a><span class=\"sk-estimator-doc-link fitted\">i<span>Fitted</span></span></label><div class=\"sk-toggleable__content fitted\"><pre>LinearRegression()</pre></div> </div></div></div></div>"
      ],
      "text/plain": [
       "LinearRegression()"
      ]
     },
     "execution_count": 8,
     "metadata": {},
     "output_type": "execute_result"
    }
   ],
   "source": [
    "regressor = LinearRegression()\n",
    "regressor.fit(X_train, y_train)"
   ]
  },
  {
   "cell_type": "markdown",
   "metadata": {
    "id": "xNkXL1YQBiBT"
   },
   "source": [
    "## Predicting the Test set results"
   ]
  },
  {
   "cell_type": "code",
   "execution_count": 9,
   "metadata": {
    "id": "TQKmwvtdBkyb"
   },
   "outputs": [],
   "source": [
    "y_pred = regressor.predict(X_test)"
   ]
  },
  {
   "cell_type": "code",
   "execution_count": 10,
   "metadata": {
    "colab": {
     "base_uri": "https://localhost:8080/"
    },
    "id": "OSrczounfrzo",
    "outputId": "ff1c7921-cec7-4cac-e984-f5805629ae7c"
   },
   "outputs": [
    {
     "name": "stdout",
     "output_type": "stream",
     "text": [
      "0.9347068473282425\n"
     ]
    }
   ],
   "source": [
    "r2 = r2_score(y_test, y_pred)\n",
    "print(r2)"
   ]
  },
  {
   "cell_type": "markdown",
   "metadata": {
    "id": "9ksZ0RnVf2nh"
   },
   "source": [
    "Visualize the result"
   ]
  },
  {
   "cell_type": "code",
   "execution_count": 11,
   "metadata": {
    "colab": {
     "base_uri": "https://localhost:8080/",
     "height": 564
    },
    "id": "sEwM1wDvf7u1",
    "outputId": "1f761e12-7ada-4583-aa7a-9ddd263b7384"
   },
   "outputs": [
    {
     "data": {
      "image/png": "[encoded data removed]",
      "text/plain": [
       "<Figure size 1000x600 with 1 Axes>"
      ]
     },
     "metadata": {},
     "output_type": "display_data"
    }
   ],
   "source": [
    "plt.figure(figsize=(10,6))\n",
    "plt.scatter(range(len(y_test)), y_test, color='blue', label='Actual')\n",
    "plt.scatter(range(len(y_pred)), y_pred, color='red', label='Predicted')\n",
    "plt.title('Actual vs Predicted Profit')\n",
    "plt.xlabel('Test Sample')\n",
    "plt.ylabel('Profit')\n",
    "plt.legend()\n",
    "plt.grid(True)\n",
    "plt.show()"
   ]
  },
  {
   "cell_type": "markdown",
   "metadata": {
    "id": "fvmrmp51gJfg"
   },
   "source": [
    "# Show actual vs Predicted result"
   ]
  },
  {
   "cell_type": "code",
   "execution_count": 12,
   "metadata": {
    "colab": {
     "base_uri": "https://localhost:8080/"
    },
    "id": "KjAIaoPcgQQp",
    "outputId": "9003f5f8-638a-4f43-82f0-c3dbf6091741"
   },
   "outputs": [
    {
     "name": "stdout",
     "output_type": "stream",
     "text": [
      "      Actual      Predicted\n",
      "0  103282.38  103015.201598\n",
      "1  144259.40  132582.277608\n",
      "2  146121.95  132447.738452\n",
      "3   77798.83   71976.098513\n",
      "4  191050.39  178537.482211\n",
      "5  105008.31  116161.242302\n",
      "6   81229.06   67851.692097\n",
      "7   97483.56   98791.733747\n",
      "8  110352.25  113969.435330\n",
      "9  166187.94  167921.065696\n"
     ]
    }
   ],
   "source": [
    "results = pd.DataFrame({'Actual': y_test, 'Predicted': y_pred})\n",
    "print(results)"
   ]
  },
  {
   "cell_type": "code",
   "execution_count": 13,
   "metadata": {
    "colab": {
     "base_uri": "https://localhost:8080/"
    },
    "id": "uJ04j-rEhR6a",
    "outputId": "cf8e8fce-b1be-405c-b237-7388e49b7a46"
   },
   "outputs": [
    {
     "data": {
      "text/plain": [
       "array([   36.8231925 ,  -411.22220992,   368.12044705, 35147.05739539,\n",
       "         912.09409156,  4432.05480471])"
      ]
     },
     "execution_count": 13,
     "metadata": {},
     "output_type": "execute_result"
    }
   ],
   "source": [
    "regressor.coef_"
   ]
  },
  {
   "cell_type": "markdown",
   "metadata": {
    "id": "2i67fGxYiS8M"
   },
   "source": [
    "![image.png](data:image/png;base64,iVBORw0KGgoAAAANSUhEUgAAAwMAAAFJCAYAAADHfvEAAAAAAXNSR0IArs4c6QAAAARnQU1BAACxjwv8YQUAAAAJcEhZcwAADsMAAA7DAcdvqGQAAGucSURBVHhe7Z0L3FVT/v9XcquURBLpgkIYikiYkHtKNS4JMyoZNMSE3H6MSxT6IwwmuWTcYjQk1zTu5ZIkt4puiFBJJZHO/7xXez3Ws9vnnH3Oc56n53n25/167dc5e+29117Xvb/f7/qutWuk0hghhBBCCCFE4lgv+BVCCCGEEEIkDCkDQgghhBBCJBQpA0IIIYQQQiQUKQNCCCGEEEIkFCkDQgghhBBCJBQpA0IIIYQQQiQUKQMVyNChQ029evXM6NGjgxBjVq5caZ555hnz7LPPmlWrVgWhQggRj5kzZ5r99tvPbvwXQggh8qFgZWDFihXm3HPPXUu49fHPmTRpUhBauUAY/9///mfOOOMMs8suu9i08sv+a6+9Vu4C+pQpU0zPnj1N37597f+qzKJFi0z37t0rdX3nC5/hmD59urnkkkvMAQccYPPGxv9bb73VtnERzYQJE8z2229vHnvsMVuOPl9++aW5+eabzVFHHVVSpvynTL/55pvgrN/Jp2399NNP9p7HH3+8adasmb2G37/85S9m6tSp9pxsaYvi/fffN61atbIb/8N88cUX5tBDD7X3uueee4LQ3/n6669N586dzdZbb11t+oYQQojqQaJHBubPn29OP/10c8wxx5iHHnrIvtCBX/Z5eQ8YMMB8//33Nrw82HLLLU379u2tIIHAIsoPFL8xY8aYs846y3z++edBaGYQEh9//HFz0EEHmdtuu61EkAT+I1BKGYhm3rx5ZsiQIbYPsdWoUcOGr1692grgWLEvv/xy8/rrr9tw4P+ll15qzx87dmwsIT3Mt99+axVrtueee84sXrzYhvNL3aPYwR//+EerHFx//fXmo48+smHZ2Hbbbc2uu+5qFZUZM2YEob/z2Wefmbfeesv+/+CDD9ZqFyg/KPtt2rRRPxdCCFGpSKwygIB/wQUXWAGhZcuWZsSIEfaFvWTJEjNnzhzzz3/+04Y/8MAD5rrrrrPWxvJgu+22My+88IK5//77rWIgyo/ly5ebUaNGWUEeoTQXn376qRUW4ZprrjFfffWV+fHHH20b4dhhhx1m1ltPnnZhfvvtN9tvKK/evXub2rVrB0eMeeKJJ6yCjXB+4oknmvfee89a/emPb775pg3D1eWiiy4yb7zxRnBVPLgv/XjcuHHm4IMPNq+88or54YcfbJ0R/3//+1+zySab2HPXX399e68NN9zQtgkUxWzUr1/f7L777vY/Qv0vv/xi/wNKyzvvvGPjbtiwoU0/9/WZNm2aWbZsmfnDH/5gNt988yBUCCGEWPckUpLh5Y11EuvjbrvtZoWBE044wQ7xY8Fs0KCBOfnkk80tt9xiLYIPP/ywdSUSyWL27NnWktyuXTvTq1cvU7duXRtOG8Hd48wzz7RCoigNSvVLL71kLfytW7cOQteMFvzrX/+yQjEjAMOHDzc77LCDFcwRyrG833TTTaZfv352dA7BPixUZwNlz1n+6c9Y4Z2yRvwoCLgiOVDE2UdJ+PDDD4PQaGrWrGnbAXCPpUuX2v/Af64nL23btrXKwty5c4OjxioOzpefNJEWIYQQorKwzpQBBHKsZX/7299KfPX33HNP65uN0ODAvxbBq0ePHmbhwoVB6O8+uhzDKufgHM7lmHP7CYMl8sUXX7T/sQ76AovPvvvua/2OEV443w39M0eC9DIfAsHg1FNPLZUOrJ7/7//9P5sfzjvppJOs60AUUZP/fP9orKUoIl27drX7RxxxhHn++edLuVBg1Rw/frxNhytLfNrvvPPOUu4Kfry4ZOAKxfkDBw60xxBuORbl88wkZ45deOGFOa2ocSD9b7/9tunTp491m6D8nE+3n7co/28EONx3/PkcUe2JMkCgRBhj8nbz5s2tkMp5rm4IzwRKIdZe3MmwcueCNFCuKA7kh3TgF4+POfVL2VPO4OrdD3O49uWnjbhpa/7cBeLHyo7w7chWxz///LM9B0s5bk8uHsrijjvuWGv0i37I/VxZ8csICUJ3NnCXeffdd83+++9vNtpooyB0TV9m22uvvew8Gf+Yg1EERhPw56fPMQITlw022MDWGeDKk6udIuB36tTJ9u84fvyMFGI8QElkDoCDcqJNUZ88M4hv8uTJwdE15f3xxx/bPPnPGtL35JNP2ucV7YUypm3ffffda9VFrmdOGPoGihXXoAQ5JYl4iZ/7cMzNpXDPnlmzZtkRL8JwuRJCCFH9WSfKAIINwtzhhx9urfK8wPHLRlhBSHHuA8DLCmta+AXsfHR58fIidqAAYKVDANpiiy2C0NIQD/Hxcj7wwANL/JnD+NZAzg8LQbwsr7jiCuv6QDpwUyAMn/R//OMf1jUB32SEBQTtiRMnBlfG59577zV//etfrVsLwgjKwd///vcS/2TAEolAgR98hw4drDDIPRHccXciXWFYvej888+35cXxWrVqWUEGEIzIjwOh5eWXX7b/wwJeIbj679atm83Hn/70J3P00UfbeyBI++4hTz/9tPX/Rsnr0qWLOeSQQ6xwjRJBuTu4BgGTMNw5KCMs+fiDkz8s+NTFZpttZgV8ygkhKZtlf6eddrJKJYIU9/v3v/+d0V3M5QmlhTTTtlq0aGEFsmuvvTbjdXFBwcR1BuFxm222MX/+85/NxhtvbNsH9fjdd98FZ/5OuI5JI+2T9oSQT1mgTGy66aZm0KBB5v/+7/9K0ukETvoj98Oljr5Iv8wmZKN40R7pf5Sfg/t/8skn9n/Hjh1NkyZN7P8omjZtaoVu2iD9Li60YeqL+h02bJg555xzbD7Idybc8wWlI9f8j8aNG9t80c8Q7h38J4x4aFfcH+HaxYeyRt7JE3kDypk6OOWUU2x/w32Ia2nbtF22sJIIUc+cKIgToR/FC0Vvxx13tPekjol7wYIFtu6PPPJIq7g5Qwv/uRb3SRQDIYQQCSD9oiyI9IsllX6ZpNICV6wtLQgHV6ZSaYEi1bp1a7s999xzqfQLzYanhe1UWnCy559xxhl2f9WqVam0YG3DHn30UXteWjBODR06NNW2bdtUWkBOpV9uqfSL1x7jHM69//777X4UpIVz0i/f1IwZM4LQaKLOdfdgO++881JpQc2Gk65bb73VhqcF09RXX31VEv7CCy/Y/HLM5QOIk7j9+NMv5lRaUF4rnqVLl6b+9re/2XDKhLKBqVOnpiZMmFBSjvDSSy+l0sJL6qijjkrNnz/fhvnxkpbwNXPmzEmllbLUHnvskUorWEHo7+Fdu3ZNpRWpIHRt/Pj9+g7j6p9z586dG4SmUmllwNZnWiEoKVPSmBaQbBkCv2kB2N6jX79+tkzSwmkqLSjbsBEjRpScS97SSqM9Di59cerd8c0339j7ELcrt7SAbNumjysjyvyRRx4pKde0kJ46++yz7bXcmzSAq3c/zOHa15AhQ4KQlC2Phx9+uNR9aRedO3e251JOkK2O08p2Ki2A2mOU4a+//mrDidOlMa1s2DDyyH5aeCw5j3JNC+e272diyZIlqbSAu1a+/OeFn68oos7185WtbZHXtKBc0tfYaE9+G/Kh/VC/tG3qKheuXFz/c23P9Rn6Gn0urbSm0gq5veahhx6y1/DMIg1saSXdhh177LG2TB38J4xj/jMs0zMHws+QtGJj2yJl8NprrwVnpVJpJc32r8MPPzyVVlCC0DVtNK0c2P9ppSaVVqhSaWWzJEwIIUT1psJHBtL3tMP/WCuxAmPpdX69uAgQhjUL6xSWKd867ybuOR9dLMX4JWPVw3KaFgSsBQ6rLL675U365WvdL5x1mYmlTFrEMoj1lWF8YOQBKzRW43xhtSMXD/EykgHk101ixKrIyIo/mXXnnXe2lkp8rn0rvyMtUNi4/Guw1uI2gZUTFx4HrjtYDLG6NmrUKAgtDL/+GQFyllLAcorlFUurc30hX1j63egNv7QP6hhrOGVAG8FKDrhjpQVH+5+8cV5ZfLTJL8td4qpEfZPuiy++2LbTtOAVnLXGospGHePS5cqV0SlcLrbaaiu7Xyi0MUY+/Mm4pM31jaiRgXAdM1rE6At9jr6Drz4QJyM+QB+jH2FlB/qTqwvKHlcrdywK3FPon0ykXRe+8eSVkTFc6cg/ox/MDcICznyF8KgGbYf8M4pHn8oFrlL0Q/oEfYu2RptzVn8mB9MfGfFi9JL26VwEqSvKEIs/fYB4+vfvb8vUwX9GCwA3r3DfDT9zwrDaEaOSPBP5xXXJQX3XqVPHtmGen2mlxIbTRt3iBVrQQAghksfvkmAZYDgav9jwxlA07hU+uALhgw0Iq7yMfXgBuaF49yJ0vroM+SNoOB9d3A0IR4BBYOHlzEvaH46PAsER4Yxh82wuD+CG6klXeBUQ3CCcjzIgkJE30o8Q6uMLrPkQFrxw2QiDgE3+R40aZd0AWCoVgY/vJGSCyZpOwHaQRuYkUDbOVQhXhwkTJtgw3IjC1+SLX/+nnXaa9Vt2m/Pp9+segYV6x/cfIQh3IhRAznGQboRzlmi97777rDCGMkZbcAJPWcAtCpc23H9w00HRpExwt3B5QfAD2mq4zsgbwnFZoe0j5DKXgPwi6OMOk4lwHSO40m+YX4ILk1/21AU4JZNydkI15YmSgyKBsB8HBGy/b/PflQttAIUjE7/++mtJvyOdhYBie+WVV1qhHKUAcHViMQD6S6GE3RaZKMzzh7KuW7euVYA4Dii11Bntd5999rETjIG88WyMek4AzxWOOWXXJ/zM8eF8XI9YTYm5BdSfX/9ci+sXdXzcccdZRYFnN2kUQgiRXIqiDBRKNgujDwIwAgnWLKxavGSxZrnVO7CwIeS4uQDuxZwJBFss5wiUWHMzCQcIPhwHXqTcJw4IBM7qWt4gVI0cOdLsvffeVhGgjLCcsxoSfsL5QrkwOoCAQ1mjZDBJkTCOFRMURQS2qA3hGUWECatYVJmIyyReJr1GWdoRwlkVhrKgrSD0cS4rQsUVYHNBnTJSwT0o41dffXWteSBx23S+4KuPooYQh+UW/3XmiTDZM19IO6v5RJU7IwQI7ii/WNLxTee+rNnPiAdzC1Cic8E5vsBPn3Dth/aEMJwJlH1GJKhjPvJVFogDH3vmzwCCMiN4heIs/zw7eA4xURjF1Vn9oXXr1lbIRxll7gDPJIT78BymYj8nsPqjrAD9NzzngHsxj4IFCZjDhCKLQovxAIVFCCFEMqlwZQDruHM1YXJnWBDnBcYLlJepE76xMvKyZQgcoZ8XHdY3BBb3MSDi4sWMkMFE0WwWbO6PywtgTffdPXywjj/66KM2HViGc7k9cB7D96TfWYwdCEd8v6DYcB/SiAUVIZGJfygFWAALGeanrBkBQDhAaEPYpcxxs+BYWfHrH6EKq23URv2TBibtUvZY4h955BErjGKlRvAJQ/oQlpk4i0UbZYjJkyhIxYT0OyuvE3id5R/3jPBoExZ5BMIomBDq3JqA/uCPegDWYdyUqAdGSLDsuwmyjILFBYsyQikKCxOQo8r92GOPLWnnjIgwwjR69GjbFuhX3N9NJo8CgRNFPMqqzUieU6Jos1FKGv2ESdHUPQpoWZUBwHXIfSOAe4ZHi6hD+m0cZZ+ycZZ/Jq1jLPCt/uAmQNMWqCvqk7buFEVcl1AMop4TwGgDz7N8Xa1o/0wYZ2lWlB5GkMKKG89F+gXHuMfZZ59t88CIWri+hBBCJIMKVwZ4GSFUYLFDUEMwcAoBLy6Ec1bMQXDwh9AZAeAarFooAwgVCCu8xHnR82LDX58XtbOOZYI0IFDibsKLEAs1AiT3Jy0oJA888IB1NcE6jksGL/xcOGELpQWfW+eDjPCB3zIuJsUGlwvSjQDmhBnuRzllcxPKhhPasAYjzJB3JwCVFcoeZYO0Iuhj8fYVQhQmlsME8kZZstqNE6QQtBF0fIEZIYZVWJwQzj0YKWCuBVZb3E58EMyp11ywnCpCuL/WPcIkSheCIHlwChdtkPZJ2vw2jbDH6IRze3LQVlAqEPCpJyeg0rZxR/JBWHUr03Ad+QOETdISF1xn9thjD3s/hD9fUKTsGAVwK8hQL/5xBFznsuPSEgXKHiN51Bt++D7EgUWacsNaj9JKfZN36hCljaVhUThQ8hkBykcBpZ5QkngW+IoGI0qMFAF15LvrcQ15Js3ZRhN9nOWfuqPdha3+xIOBAtcxFBvu6c9hQhngGUgZ3XjjjaUUAsqDERlAEYujoPigJKMw82yjHO+6666SsqDNM+riIG7SCZQ/9aClRYUQInmsEzchhEsmziEsM5GRFyND1Vj/+dovk22xWPkuF24EgOUbsf7zQgZcGrgOBYJjWODifOETIQ4XFFwgeKnzkSJe2gie+K6TPl6eKARMxIvj/oFyguKAIIqwhcsF+UK4fuqpp+wSmsUGZYiyIf+4cXTr1s2OeiCkMNmwENxEYoRSXG/wTXeTmOOCQOH7pLPhx4wgiTKAVRtFjLgRekg396T+nKBOPWJhxTKNcOPyhmCNAOZAWKa8yS/CJnML8JdGIWI9deoDqEMURa7v3bu39YtHUM8E57GsKUKsywPCOKMupPGMM84oURJRBrg34dQzeSJ+8oclNmzBJx43OkW58J+2yH/cm3ywDlPHgG8/8bLRVyivuCBY065JC9fSb2ifbAirCNJupIMJrhwnr/ihcz8UXNKGS1omnOUcgdzNo3CgxFAvV111lRWIb7/9dpt+2jDCNPVHH6a++EZGJgU8U9tCeWHSLe2L8nXHcE9iVIl8YzX3FQzn849lP2q0KQpn+af9opSSXv/5QD55VtF+GCHhv6s/4JnFJGHKAuURxZu6Z6MMGNXCwk+ZFwLPNp5ZxHvDDTfYckYhQCliXg3PCRQxDCIsV0td0F5RksiTlhYVQohksU6UAVwJEPZ5QfNCxFqF4IalFEsZH73yRwWAlzsvMuBFzAvZwYvcCYcIAnGH1rkHAg4WatLBSxF4uWMZwyrOcHo+1jksr4xusFIOyg4CEcILQme2tdULBVeCwYMH2/sxZwLXA1w9WEM8jgITBcIKggnKERv/CSsWKE24pDD6ghCCfzhuQIRT/whsQL0yV4D743+NEogSgcLlVsgB6hsBFesuoy9YRLHO8uE3vnKLsAmUB+2Ouma0ACUwmzUYwRfBFSXFbxt8RI5Rg8suu6ykjGnTKAd8VwAhDLca0ki9UzdhEBgRtK+//nobJ+ej/LCuv29FBsoepZS00Bax2tP+hwwZUmolmjggmGIlxwKP8Ee/o40yF4K0u37Hqjn0KY6TJizHCJj0F1+wjYL+iQKEO1HYZYpyQsFiFA8/fue+Q75QnKh/FBHK3o2AxIW6pH1QP+F46SNu8rcDxYcJ65xDHce9n7P8A9dSVmGoU8oBKItwO0NgZ2SUNsozA2WeVYdIKyM0WPfzGRUJwz2d0sUzDOEehR5FFaWAdonChjEGpZ8+BrRdnrP0EVYWEkIIUf2pkfJ9NIQIYP4FQiyCAcIgFlZRGChobg4Hk49RbKszWKH50BrzAlC0i+ViVmwYFWCEiNEJRkoKVZ6FEEKIqsw6GRkQlRv0Qyym+DRjuZciIPIB6z/WeUb68Jn35x5UFlBYUFYYbWIUUIqAEEKIpCJlQKwFPtS4VDCXA2VAiHzB3Yi5G/jEs1W2AUgmeTO5Ftcn3HSEEEKIpCI3IVECPuOsqsSqLhtssIGdxMmSoqJsJM1NSAghhBBVB40MiBJYWpCVRJhEyCRoN6lQCCGEEEJUTzQyIIQQQgghRELRyIAQQgghhBAJRcqAEEIIIYQQCUXKgBBCCCGEEAlFyoAQQgghhBAJRcqAEEIIIYQQCUXKgBBCCCGEEAlFyoAQQgghhBAJRcqAEEIIIYQQCUXKgBBCCCGEEAlFyoAQQgghhBAJRcqAEEIIIYQQCUXKgBBCCCGEEAlFyoAQQgghhBAJRcqAEEIIIYQQCUXKgBBCCCGEEAlFyoAQQgghhBAJRcqAEEIIIYQQCUXKgBBCCCGEEAlFysA6YNKkSWa//fYzM2fODEJyU8g1UQwdOtSce+65ZsWKFUHIuoX0sCUd6oN6qVevXl7lofKLB/2mW7duefef8HVR/TCq7gqtz6pOoeVc3XHtYfTo0UFI9WZd5reylrX/rHZpXBfPBp5h3bt3N4sWLQpCioueAVWTKq8MfPnll+b66683BxxwgH3x7rLLLubiiy828+bNC85YAw2Tl3i2zsc1l1xyidlzzz1tXM2aNTPnnXeeWbp0aXCGEOXD8OHDTePGjc2PP/5oBg0aFISKqkBU3ak+hRBCVBWqtDLwxhtvmGOOOcbcfPPNZttttzWXX365Ffgfeughc+SRR5qXXnopODM306dPN6eeeqp58skn7bVXXnmlOfvss82GG25ofvvtt+Cs4tC+fXub9pYtWwYhuSnkmigQTCivWrVqBSEVQ9IsY/lA2Xz99demRYsWQcjaqPwqB+F+GFV3cepTZAerJdZLrJhVjarUV6tyOVdleP/yHo5rKChva74QVVYZmD9/vrnuuuvMpptuasaPH28VgPPPP9/861//Mq+//rpp3bq1HQUIjxBkgjgYZRg1apS55ppr7IgA8RFH/fr1g7OEEEIIIYSoPpSrMjBw4ECz9dZb243/xQSB/9VXX7UWGAR/H0YJ+vfvbz788EMr5McBTX3ZsmVmyZIlQUhunG/cuHHj7IgErkVOe0eTZ98Pc4S1fLfPr4uHjX1H+BqUFLe587FEOauUH+bjrgGOufP8zR2H8Dl+msL3CvtSOwg75JBDzD333GNOO+00e244Xf59wuUF2dIRBcf9812eCCfNpN3BvVz5Q6H1molw2v3yjSqbcN4qU/mBKy//mNvAtYvwPUiDX/bheMLp5nrCqAeO+9dyL3ddVLvz88vxGTNmBEeyk+s6lybSGVUvjz/+eMb65HzXntj8MuWY3+b8sohznUuXO4d8+IT7KptfP9naR/ha0sJ9sxG+xk+zI9M9+W3evLkd2T3ssMPssVdeecXG5+fLtR8/jHT16dMnVtmBi8Md99sYcD6bn1a/bsJwv1x9lfgy3Q8ylUsmwnmMEydpiCpnwtjCcbhy8tMS577ZCJd9uFy5l7unfx8/DRBOxyOPPBIcyYyrV+Jy1xEHcTn4n6lP5qqjcN64lw/lRHmF20ZUPbFRP9QT9eWnI3yfqDrgeneccxcuXBgcWZtM6XL3cfn042QL59+HuML5d2Xrl3euvPh1xRaOU5SNclMGEP5HjBhhBWw2/hdLIcBt55NPPjH77LOPadOmTRBamh133NEeo7H98ssvQWhmDj30UHt+79697RyEb775JjiSne+++868+OKLVulYsGCBnWdAh+WBxL4LI//ZoKNzDfHgZ3z33Xfbxu46fRSDBw82HTt2tOe/8MIL9uXTqFEj07Nnz5KwW265pVSH8zn++OPteW7jnrxIzznnHHucTvzmm2/aPHB88uTJtg5dx/f9otmYbxEFLhXki7i5B+dybwf5AMKjyitXOsKQ3yFDhtjzOH/OnDm2XPKhWPVKHT788MM2DS5/uJC4B11U2eCK4lOZyo/22LdvX3PiiSfaY2y4w7g05MPEiRNtX3PxkO+rrrqq1AuAfoFSz3Hn3uZeAu66YcOGWRc/187Jr1/mY8eOteVGnWYj3+ui6uXYY4+NrE/SdsEFF5j77rvPhrl24L/Q/DY3ZswY06BBg9jXsT9y5Eh7TrjfU2e9evUq1Vc5x1Gsfu4gPWeeeaY1yHA+5Ulcfpqz3ZPy4ppOnTrZdHKc51yHDh3sNa59oKjRPvywKVOmWEGBdpKr7FxbxlWD42zkkzlnfhvM1b98cvVVntHumU0e586da9uZI9++CritEYdLH1BnDvLrt2t+6c9R5Rx+9mQj131zEbf/Z3svUsf0fZ4BLp5vv/3WKmO5oF5RMt11AwYMKPUcgag+mauOCn1GZqon2if1Qz0R5tIRp/0SJ23epZXyvvbaa+2xKOg34X4G5J92v/vuu9vy2XXXXUvuSdrIv19u+ZIrL8Rd1ne6yE65KQM06jBRYYWAcL948WKzySabmDp16gShpdloo42svz8NKY7PP6MJ999/v30YIHS0bdvWPphQZLLRsGFD+9KjE7EhiO+2225rhfGgcA+wKPxrAOsSZLNoXnrppSUPbzopL6BwWLt27ewLMhekDwHCpYG0Pvfcc6XSxIuua9eu9gFKufKQ8f2iO3fubM/JF9LdpUsX+z9cXrnSEQWWjxo1apjNN9/c7vPgpF7zoRj1ygPMvfBIA3AdcfAwwy2tGFRk+bmXgrsfIOzQ7vIl3F4QkhCO/JcQZd6jR49gb02ZMr+nX79+QUjpdk5+ec7wUnFlzi91QJ1motDr4vLEE09YgdzlN1P7IczVE8S9zk93uN+7OnNKPvCMYMvVPgrt5whn7hzSRfrK0iYBYw2CgGsfnIsA54fNnj3bCjPEm6vsKBdXDg7aWrhvZutf+eI/nykXBEYneBVaLvRNV/dcR/6pM+KMegbxm+/zMIps941D3P7vl0f4vUgdUz5+HdLOqbNccI7fJ6jjqPel3yfj1FEhz8hC6ilX+3VxhtNK38wG/czvA9QHbdT1K+Kg7hytWrUyW265pX1vFEquvBTjnS6yUyXnDNSsWdM2SgT15cuXB6GlWblypVUaNttsM6sUxGGLLbYw//jHP+yDngfFnXfeaa644grz008/BWfEg47hGm1cCrkmikImLfKAw4LAi9U9nOl8CF1uZSW3OesG5c9DEkuXP2xZCFgA3MMqTK50RIEwxMMYS/7o0aWHO8tCvnVE2klDkyZNgpA1sE94WR6ePhVZfr6wVQyI36WJofAw4TInP7jikDZ3HRYiZwnkOH2eF1Q+FHpdHHiZIiQ5t5FM+UXp8PNa6HVhstVZrvZRSD+PSg/7qVTK3i/XPTNBHBiBEAQpG57/xx13nL2WMNJGvAgzccqOcuGe/nHSFB4Jyta/8iXb87nQcgGe3+588uwgzqhnULHIdN+4jM6z//u4OkaJKIRwvfKfMNqFI9yW49RRIc/IQuopV/sttO6RAfbdd98SpQhhHIXbKWKAouFcs7gHIzhlIVdeyuudLn6n3JQBLB5hosIKAeF+5513Nh999JFtlFHgRkRj5jyUh7igfTZt2tRcffXVdjiN4eCwpaC6QR7RyP3hbMDVCs2cB4G/YeUDrmGfeqWTllUpyESudIThIczoDtdg7eXBkuQHSGUsP9oJ7cUfbvddV7KBou6u8bdw+61sOFcMf3ND/tko9Lq4rIt+nm+bBPJLWrDAOqslgguCF2EoBLRVX/jJVXbOlcffirFqW6HkWy5OKAN3Lnkqb8p637L0/3VNIW23vCiv9ouC5UaskH/Is+szKIBY5Z37HWWBC1NZyZYXvdPLn3JTBhiKYigfVx42/ucansqHAw880PqtsfLPxx9/HISugQZzxx13WFef/fffPwjNDr6P33//fbC3RilwjT/OnIOqCqMgbL7bBfhWuFwghFHmEOf8fMgnHWGoP178PGTcgw3CQ9FYUPAzLTaknXJxgouDfcIzWbyKSXmUn/8f+I+FLkx4JS/f4ubSw3LA+VjQMpWpD5a7cH6p47DFN0yh1+WC/GFxzObqEUWh14XBGh2uM0c+7aMs/RyBwlkpy9ImEVJoaywggQsJZcRIAKMEGICcRTZO2WUrl3VBIeVCueLa4ru7+MTpL1Hkekbmum8uXB7z7f9RhOuYdJP+fEFB4V2YbaQhbh3FfUY6CqmnOO33nXfeWSvOOCssMkKKMI7Sxz1cmbgy8t0A40Dew+3Jf67G7YuZ3kmi7JSrmxANhiVA2YqpCADWex4kWBX4LsDpp59ubrrpJvtLw501a5adfMJKRj50Ds5zG5PucDVCoeC6yy67zIYzwZPvDOAbx4fMqiN0dCb+YNFwio+DfaxwWAF8KyArK3AdnfDee++N3Rndy9kXCOOQKx1ROAUnCucGgo8ikP7bb7/dTJs2ze4XEx6WDLdeeOGFJWl39yM8n4dpZSk//DjpQ/6kR/77E/ZIK0IZFhx3T+Lzh9J5+Tm3EeA80pgLhEmESsrQb3tYqYiDMsV/189vnLgLvS4uPFvIv1+ulD/1kI1Cr/NheB/hyJ/c6eq42P0ceMn7bZ54mI/kBPU4bZLzcAsICy70X/KCMIASALQlJpnj5sh7wZGr7Lg+3JZJD22pLFRkXyW/vuDuytoR9Qzy8xhVznGekbnum4tC+78PaceFLVzHjHTHcVvhutGeddlNCs/mKhinjuI8I8PkqqdweUGu9uvmDvnPyrj1RD6POOII89hjj5m6devauCCqveQqb5fOqVOn2v2ous6VF/e8EuVHlZwz4MDq/+yzz5qTTjrJzjLHv59f9tEe3TCmD0ORnOe2p59+2s4vOProo81BBx1kr3Px8HK59dZbrd9idcN/wOOrybCb21xHRUngwYfw5Y7x0nVCLJ0bf23COcednwkekk899ZQ9338I5yJXOqLw84QFgW9S8CDjIUd8zpcYQYkXSjGGOaMIp53yQigiPF8qQ/lxDQ9oXijuOIQnxzF5zvl4cg7WOwQ4B/EwudP53rKSRByfY9JAWsC1PbbatWvbuoVwft0qFbkmAhd6XRyIl2ePX668+BEAslHodT6UC0YPXqYuDvq4E3pytY98+znlRV3SBriGOuZZ6rtx5bqnE/RcP3WCgBPGEHKcO5ALow/7ghxh2couqi2T5qj3Rr5UVF/lXP98nunhfhSOk9+ddtrJHosq5zjPyDj3zUah/T8MaQjX8d577x1rAjHPLBQ2dx15p5+450gmctVRVLuCXIssZKsn4qTdUl7OTS/qPn77jXpWUk94U8QBAX3ChAklI3DALxOS/XvioZHt/Uk66f+ujqKeq7nyAn4d++8kURxqpLXNVPBfCCEKwlcghRCiMqPnlRClqdIjA0IIIYQQQojCkTIghBBCCCFEQpEyIIQQQgghRELRnAEhhBBCCCESikYGhBBCCCGESChSBoQQQgghhEgoUgaEEEIIIYRIKFIGhBBCCCGESChSBoQQQgghhEgoUgaEEEIIIYRIKFIGhBBCCCGESChSBoQQQgghhEgoUgaEEEIIIYRIKFIGhBBCCCGESChSBoQQQgghhEgoUgYCVqxYYc4991wzevToyP1CmTlzpunWrZv9rSi413777WcmTZoUhEQzdOhQuxWT8ohzXUH5de/e3SxatCgIqfxQ9rRb2m9ZCbfdYpaH61/l2Vbi9oOqSiFlWKxyr+5lK4QQSaLKKwMI61VNYEs6hQokTgDJJewSL+c5IVYIIYQQQkRTpZUBhL2HHnrIXH/99aZBgwZBqGjZsqV54403TPv27YOQykWtWrXM5Zdfbq2K+VoWGzZsaJYsWWK+/PLLIKQ0KIWFWCtRKnMpGZUJp1CFR64GDRpkbr75ZlvGlRnSRzpJryNOHWTKdxTl3Q/WdZuJKsNcFHJNFJX9GSOEECI+VVoZmDJlitl3333ti0lULVDeTjzxRPPII4/kLUwtXrzYPPHEE8FeacaPH2+aNWtmdtxxxyBECCGEEEJkosoqAwiQb775punYsWMQsgYsw7gN1atXz26+u4hzM3HH8rXqheOOuh5roTvOvWbMmBEciYbriefee++1v1znLNvh9IbdajjPHfOPc114nkI47eG4ON6nT59S1wDn+efmW4aZ0ght2rQxc+bMyWjlz0S/fv3M9OnTbZp9XJs49NBDg5DfyZRuV/6nnXaaueeee0yjRo3WyhN16F/r6scRjtvPo4vfr18XR7hOwvH6bYnNWcO53yGHHGLTS7r9Y+H6gnAd+PnjXP9YOA2Z4Lwo97y41nJXLpzv/merA4iTb5cfwjk/3A+y1RWEyyp8HHKlN1yv3M9PQxTh9LP5ZeOHOdwxF+bv+/H4act0Tb7t0y/b8Hlu8/MdPsdPkzvm500IIUTFUWWVAQTIH3/80bRq1SoIWfOC6tKli7U4c4ztkksuCY4aO6w9duxYG75gwQIbNnz4cPubC15Yffv2tcPrLu7GjRubiy++uOSlxsvs4YcftgIux7nX3Xffbb777jt7PBuc179/f3sdQ+/k5YILLjD33XdfSXq//vrrEuGE40OGDDGTJ0+2x7knQkkULu1+ubRo0cIMHjw4OCM++ZRhrjRuvvnmpkaNGmbhwoVBSDyocyz/jAL4TJ061f7uscce9tcnU7qd2wTljzLEMd/N5qWXXrKjF9yLazmPOqBMIVc9Ofz65f9hhx1m2youblHx8vvTTz/ZY2yU4S233GIFMkbCSA/p5TqOH3/88fa6MLTJgQMHltQB6dt9993tMdK+6667ltzjhRdesOcSngvX73xll36AMtahQ4eS8otDrjpw5Mo37RnjQKbyyFVXudqrI1t6iSP8DBo2bJjZc889SwnTUfjppy5QNrh/z549S8JoA7nqh+tcPORh7ty5tu1ng7zk0z59GOUbM2aMPc/ds1OnTjbf1Jl7/mR7dgohhFh3VFllAAESC5MvMOA60rVr11KCQOfOnUvciE499dSSuQVch9CCMBDnhYQQgpDu+8j26NHDvvhQTHjhoQjwwnP34JeXKX7uuSDdvrsTeenVq1dJGOlFKHAWO/KPII1ADdyL/EVB2nGd4eXuoIwuvfTSYC8++ZRhrjRyPemaN29eEBIfhB0ET/++r7zyii0jv004Cq373XbbzQpJLk4s0+CE4Fz15BgwYEDJOcSBsBQOAxdvuKyaNGli2rVrl1dZuTbphDIgfb1797a/hNE/HAj4W265ZSzljPQh8FLmDqegu7xUNAjmTtGJoph9KhNRzyCeGfQ1v6yi4Bz3fCEf5CccRhvAPTIb/jWunsJ9JUy+7TMT3OOqq66y93dpyPXsJI0oE1EKnBBCiPKnSs8Z8OElhHAXdhsKg3XLDVVjQYvL7NmzreXOXcuGtc9Z/REkNttss1IjFfmApd7h8uJcIdyGtc6BYIAg3bx585zD66Q9X2ttNuKWYa40kh4shIXghD43GoC1FNehbOVfSN0jHDvhMEycespG06ZNg3/RIKA61wosxLik5EOcNkm5ObcZ6omRkLjg5uW7ayGkMmKDcLcuoC1lauPF7lNRZHsGEcYxzskH/7kQl0KuiSJX+4yCEQhGInDlc+R6dgohhFi3VBtlIBdO6AE3VM3Qdz5wvrvWbbifOOtZscEtIHw/LGgIWwg9uCZgXcP6ywu2EAEmH/Itw/JMI3Fj1XXWVgTRI444IlIQLUbdZyNbPRUK5YRQ6lwrcEXBUlxMUI6wfDu3GefeERdGK6hTrMUIudOmTbMW38pMZetT1Qn6WabV3Sr62SmEECI+1UYZ4EWOZTDTUDzCIkPs55xzThCSH1jbcg21YyUND6Njnc3XApYrLz68dBFmeNlmS1/4GP+xVPqwSo/vIhI+p9AyzJTGqDTkA5bcZcuWWTcP4s3knlLWus9EPvWUD5QL+aG8fNeKfGFEgzqNcu3Amk+5+S5E+eIrZG4SOApCZaQ8+lSYbPcgjGOcUx2hjG6//fZSbliOOM9OIYQQ644qqwwg6GBd8l8wWCWfeuqpUta8cePGWYsVQ94MX7vzCWMyXlxwiXjnnXdKTcRDoMKqCrwA8RX2J9nxy34h4FbA0DoCm4M0kx8g3D+WDcolnHb++24nCEAInv5Sn+Fz8i3DXGkkHuJz7gjUG24xrvxygWCFT/9dd91l3aDC1khHnHSHz4lLrnoqBCdU4l7hCNdF1DlhKA/8xf1JweSPlWMgPF9jxIgRebkJAS5IKHRY3KkLJ+xyH1aMidtGIU4dxMl3JorZpyAqvVHPIOIkrLKPmpQFt4iAPy/JkevZyX+tJiSEEOuOKq0MhK2eCOS8YBD0GOJne/HFF6210k1gw/WCcKxYcf3GISpuXnzO/QRw6fDv4VbQiDOBOAzxIGDh0+zud+GFF9rvKjj8Y1jerrvuuhJhzCcq7RCeQIyfL8IN/ulR5xRShtnSyChEKpXK6JMfB0YDmPSJwJGJOOn2/cX9ZQ9zEaeeCoG6QIh0cS5fvnwtNyEneHI8kyDFpEwmguKjzXnUbZ06dayiwMRov02wslA+bkJAPAjnTBL1R2aiVvvKRdw6iJPvKOLUVdw+BVHpjeprGAQQhDlWHaGdomS5ZVZdvnk2omzFeXYKIYRYd9RIC2Op4H+Vw1ndEbhF1QNBLpfAJSo/Uf0QARHXGPVNIYQQonJTpecMYCGcOHFiiQuEqDrgGsAkzUxLgYqqAfWI4B9eQQf3o3CYEEIIISofVVoZYPiZCWsM9cf1MxfrHtwpwmuRi6qJ+4YFLjM+uCepboUQQojKT5V2ExJCrBsYjWNZUr7DMHLkyIyTt4UQQghRuZEyIIQQQgghREKpNt8ZEEIIIYQQQuSHlAEhhBBCCCESipQBIYQQQgghEoqUASGEEEIIIRKKlAEhhBBCCCESipQBIYQQQgghEoqUASGEEEIIIRKKlAEhhBBCCCESipQBIYQQQgghEoqUASGEEEIIIRKKlAEhhBBCCCESipQBIYQQQgghEoqUASGEEEIIIRKKlAEhhBBCCCESipQBIYQQQgghEoqUASGEEEIIIRKKlAEhhBBCCCESipQBIYQQQgghEoqUASGEEEIIIRKKlAEhhBBCCCESipQBIcRarFixwm7wyy+/mB9++MGsXr3a7gshhBCi+lAjlSb4L4QQZtasWebFF18077//vtl3333N+uuvbxWBjz76yFx++eWmVq1awZlCCCGEqOpoZEAIUYr33nvPHHrooWblypWmWbNmplevXqZjx45m0aJFJaMFQgghhKgeSBkQQpSia9euZtWqVWbjjTc2bdq0sWFfffWVqV27tkYFhBBCiGqGlAEhRCk23HBD89lnn5lGjRqZOnXqGDwJ3333XasY4DKEoiCEEEKI6oGUASFEKRD+p06datq1a2dq1qxp3YNwHWL+wNNPP22WLVsWnCmEEEKIqo6UASFEKZYuXWrmzp1rWrRoYfdRCDbddFPz2muvmcaNG5v69evbcCGEEEJUfbSakBCiFDwSfv75ZztnoEaNGjYM1yA3j0AIIYQQ1QcpA0IIIYQQQiQUuQkJIYQQQgiRUKQMCCGEEEIIkVCkDAghhBBCCJFQpAwIIYQQQgiRUDSBWIgEMWzYMHPllVfa/5tsson5wx/+EGuFIB4TfIjsiy++CELW5tprrzX9+/cvWYFICCHy5ZdffjGffvqp2Wyzzcw222xj1ltPNkshyhspA0IkiAULFpi//e1v5vnnn7f7w4cPN3/5y1/yEuBXr15tfvjhBzNjxgzz4osvmkceecQqCQcddJC56667zFZbbRWcKYQQ8Zk5c6YZM2aM2Xvvve13TWbNmmWGDh1qttxyy+AMIUR5UPMfaYL/QohqDqMBW2+9tXn11VfNjz/+aD788EOz++67m6ZNmwZn5AbFoVatWqZJkyamY8eOpnfv3mbzzTc3//nPf2xcO+64Y3CmEELE47fffjP33nuv2Xbbbc1RRx1l9tprLzN+/HizcOFCqxwIIcoPjb8JkTD2228/c8EFF9j/WPRvv/128+2339r9Qqhdu7Y566yzzKhRo8x///tfO2qQCT5c9tNPPwV7VQdGQ5YtW2bdpYQQmVmxYoV19YkiVz9CIfjkk0/sL4aL7bff3o4O8BFEIUT5oZEBIRIGlv1WrVqZJUuWmPfee88OzfNy3n///c36668fnJUfxNmsWTMr7C9dutQ0b948OPI7KAF33HGHHfLfYostgtDKD3m6//777W+2ERSOf/TRR2b27Nlm0003NRtttFFwpPLx3XffmalTp1ohC99szfOoWlTm+lu8eLG56aabTOvWrU2dOnWC0N8ZO3asmT59utlpp51KpZu5ATyDcDesWbOmVRpwQWRUYM899wzOEkKUB1IGhKjEIKS/8MIL9qXIyxUrfDHYYIMNzA477GAmT55s5s+fbz7++GOz3Xbb2XsUKlhwHUoGcwaI3wdL37/+9S97z3333TcIrRo88cQTVjDp1q1bxrJh/gSKDkoASsH1119vGjZsmJf7VUWwcuVK89BDD5kPPvjAKmRvvvmm9dHu0KHDWnUmKh9Vof5QAEjbPffcY9q3b18qXe4ZgULA/2z94/XXX7eK9RlnnBFrkQMhROHITUiISgyWv2effdYKl6zmU0wYgr/iiius8I6we/PNN1uhtiwwshClsCC8fP7559bqV5WYN2+eVcaOOeaYjIoA5zz++OPm/PPPN4cffrg55JBDzJFHHmmViMrk3oBi+cADD1ilDwHrgAMOMCeeeKKtc0Y0ROWmKtXfLrvsYho1amSefvrpIOR3eEaQbpQaRjiiYOQAZeDyyy+3CrYQonyRMiBEJYaJuv369bNWNibnFhvmD5x55pn2/7Rp08xVV11lvv/+e7tfLLBmPvzww+bggw8u2shGRYDw9dRTT9nlVxFsoiBvCP2nnnpqqbwxEsJGHMWAeRi4XpRFuXj//fdtGqlzBz7cLq1VgWKUw7qCkTH83wulKtUfinOnTp3Mk08+ab755psg9HdYfIBlQzF0hGEe06RJk+y8JkYZ3n333SrTPoWoqkgZEKKSg5Xt2GOPtYpBscFKx2pA3bt3t/sM32N9xNWlWGA5Z2vTpk0QUjVYtGiReeONN6wfc6ZRAYQ7hBpWaHKgIEyZMsWuqlQs9waEPiZlFqpcIEy98847ViHz8zJ37lwbp5/+ykxZy2Fd8uuvvxYs1FbF+mNVIIR5JgSHYU4Ark1Y/xmVdLCQAQrCYYcdZpYvX26VAkY+OF8IUX5IGRCiHOGFxguOlxpL5CHI4DLDPhNtAQGHSbz4//IdAF/QCV8PCOpYSBlKJy72uY7riYf48qF+/frmkksusUv5wQ033GCXHi0WpAn/+ahJw6SdEYlwuikDhIR881JMsFCSPqyYmUDo33nnnW29ojxQXwhtuD/86U9/yqhEVDS0IYRR6oAlZWk//DJic8opp1jBLQ6urTLxnFVjqKcvv/zSlgNKkCgfilV/Dtfv2Pjv6pWlhovV51gNCIWYZ1eU8saCA/QT5iwBfei2226z7nZchzvU0UcfXakn4gtRXZAyIEQ5wse9evbsaS1dDJnjl4/QyMRdJqRiGePLvbyIeSn26NHDLs/pmDBhgjnttNPs9ZwDKAX4+hPGpFVeoMTDaj0I9bfccot9wecDk/pwF+IFjhB+zTXXWGWjGCBwIFCHRzZIL4oH9+GryHzAzME1Xbt2LVoaCgGLJFb/qBVRAFcVVk5hFRRGVlhBqXHjxubiiy82F110UaX6UBICO8IVqyJRF0zc5Bf3J9pcHKWF+hoyZIhVQPlCLMvJ3nnnnXZOxUsvvWQGDx5sBTpRfIpRfw4UC9wBUXZR+gcOHGifS6xORPx33313cGbZQUnhuRbl1oURAty8gQ033NCmCyXH31CqhRDli5QBIcoRXtQITLj6IEANGDDAHHjggeaEE06wgjfCVZ8+fexHdhAoEfBfeeUVa3WFLl26mBtvvNFe70AA4OXNJEKEMCYS8sJk4ir3e+aZZ8zXX38dnB0PhAnuT5yAny4+zmX9JgD5IC2MDIR5+eWX7WojTCrmPoxuOLh/3bp1S13HOfkqOWWBlUxYthEhJQoUAVZKYWRg9OjRZs6cOVaw6du3r51Q7LuEYMlFiC5reRYK7kxMGOdr07hsIVzivoFFPzxpnDJGYfXBsvvoo49aBY22dsQRR9g8cR6uKyi9CG5hN5iouADrM0pnlMVYrE0+9ZcNtxoR/ZxnDs8b+hojDqz0hcGCes2nXqjjTO0apYW0uueZD8YBRge++uqrIEQIsa6QMiBEOYOgjfUYJcANebPPxmRArMmAX2yUj7m73seFIUy3bNkyCF0TBy/mQiZYMn8AIaFz5852f8SIEVbILYbAhuLjg9CIMM2kaEYBUBjatWtnj2FdZhSEZU7r1atnw7BmnnzyyVb4yQTpRCBF+IyzxbFiUx+Z/JURcrB8UheMHjRo0MDWL+un47JFmoFRG8qSrzTzgTf2s4GrUTitCGgIcpRZ+FiUoOVDW2BSOKtGUcdYZClX0svoxcSJE+15WIpZwrZXr172y68+pIm8MYIEpIcRKvy+sVAzEvL3v/+9ZPQnW1zAXAxGvPjWRSaKWQ70icsuu8z83//9X8bz/ve//9lVo95+++0gpDS49eHCki0OcC5jUekjjnA4bTZbH4tbf3GgzhDQ3RwDypP0tm3b1rrmYGTAOEGbjgvPCMok0zOH+LO5kPlzBoQQ6wYpA0JUELy8wyDQ5/PiDUOcxVxfHOGC0Qvng4wbAYJXsUHAPumkk+yygQiGe+yxh7USAgILVnRW8XFWeUYIHnzwwZJ5DVEg8D322GPW1SHOhltEWXDW2jAoOgh9CH+spEK6UWRwOeI321eaEaiwzobTilWeMvn3v/+91rFc8zvcCAYjLWGcUgZYhxmJivrAE8ocgr2rDyauci2KAAIqK8f4a8Zniwv41sR9991X4ioSptjlQD1wHPc8N/cmDPMgUAhYtScKRn1QFLh/NiXmrbfeWittbMRP3YfDabPZRozi1l8cUAIYPXSgiNPXMUigyDFaQN3lA4sbXHfddRkny7u+kInyeL4IIfIkJYQoV2bMmJHq0KFDauLEiUFIKpUWSFLdunVLDRkyJAhZA/tpYTyVFg6CkOjrIerctLBkz+WaQlm9enXqrrvuSvXs2TO1YMGCILQwSBtpJF1RfP/996nu3bunRo4cGYSkUmmBK9W6devUlClT7D7pSQsUqbTgY/crCso3XD+OtHCTuu2221JpoTAI+R3CTznlFHuMvJA/6hv4PeGEE0ryFheuIy1+XceFNDzzzDPB3u/Mmzcvdcghh6TGjRsXhKyB+2SqL6A+hg4dmurXr5+tl2xExfXrr7+mli9fHuzlR6HlQJo///zz1FdffRWErA1pSgv6qbQiEoSUJk4c2aBdFNIv49Yf/YM2xy9p5X+2cnJ98x//+Edq1apVQWhpli1bllq5cqX9z/nESdwOjmW7B88snnOu/fu4+2dra0KIikEjA0KIUuCDjIWUj5OXdRIslmT87nEbiQI3CeYK4BLkwFrJZFzmRuCPjOUUP+e0AGotoRUFoxG4+kS5P2DNTAs4a43KYD1+7bXXrB89llz208/Z4OgacJnABaaioDydu5UP7iW4/jAqk4u04GZdnJiPgqWXVWfwMXeTq3Hf4lguKE+s+ldffbWdM1JRMPrGBNxsS3Cyhv9uu+2WcfWaOHGUB3Hqj37BPBUWFGAiN5OAGcVgrX5W83HgbsTiANQX//lYGXNenCscy3oyggHMJXjggQfMOeecY0cwmBfC7/Dhw+39+AgiqxldeOGFkcuHAiMCjByF3RyBOGhXmdzwhBAVh5QBIcoZhMHVq9d8HCgOCMgsI5iNfOOMC8LakCFDTP/+/a0PcVnhRY/bAYJHlI8+x31hgPuzqhAuQvjYI3C4lVPi+PgXE3y0Eeaj7st8AXz/mczpQMgfNWqUdXc6/vjjrfCYyR+6oiZNosggqCE4olg5Pv74Y+u+xMpHcYRbhEaETPLNxGqnsJFHBDpWFIqjVCBg4lIEYSVJrE3c+mPFHlzuUGZos7jgsaAAgr7fRlmc4J///KftZyxogEuTc+8iDBcp5iDR5ul7TO7HpY25Sax+xmIFKPYI+ZzLPTg303MI9yyUxqiPDZI3lOooVzshRMVS8x+Y/4QQ5QIrCTGxkhers6rysj733HPtCx4LHQISgi/Lgj4a+ESzShCT+vCb5oWPQIAl1QnXp59+uvW5xu8d4RnBjGU6sd7iz41lH7L52IdBYGdpPyYQ85JH0CsGKC2kh5VLwlZXrOcIzGPGjLFC5r333msFlt69e1uFAAEHCz1CNmnCMluRMPn1j3/8o02HD2k8/PDDrUBGHWB95SvRe++9t52E7SbSUhdYWpmYShhCFF81ZjUe38c+F1xHPPvss09ec0RoaygezFcYOXKkbUfjxo2z8zSwECM8huEYozn+ClZYdlEE8AtHCDzxxBOtJZoVlLAmsxKVP5HdEY4L/3T6AH2BJXfDE8tzUWg5VAb4/gSCL309LnHrj3Js0aKF/Ro2H8ljpI2yYlSNRQpQpoG+iNCPAM+IHP7+TAD+/PPPbZtm8jD9jfpmIjwT+UkD9cuzh3kXGCo6duxo80KfZZTouOOOW6s+UBDo16SRvhyGOTeMXqA4RykLQogKJCWESDz4Sw8cODCVFgxK+QQXg6+//jqVFh5T06ZNC0J+Jy2wWB9yfJMXL16cSgs5qfbt26c+/vjj4Iw1cybOPPNM63ecyZ+7PKBM0oJ9asKECUHIGkizmy+QFnhsusO+1I51PWfA9zfnWuJxPuCZyDRngOvIK3mO2o8iKi72b731Vns9dZ8PhZZDZaCQOQP51B9t8PTTTy/pZ2lFLZVWqlPz58+3bdZBPH57De/7kGY3n4e+N2jQoFRasbf/mWfA3JEnn3zS7ofbAf2+V69epfqyz/33359KKzQZ5ysIISoOuQkJkXBwP7jrrrus9RELYLFGBBz4/jMqwMhG+pkThBprjWT1Ej6Shu85owZYNvG390cAGEHB0oklk5GUigJrJRZPfKXTAlgQWnp1FyyobqnHqHLDEk7+3fXMFcD9iJGcfGBUgWU8M33zIBP+ikfEwepT+cbh4Dry6vy/w/txSAue1r2K1YQYdWE0Kh8KLYfKAKN0+YwKQD71h0sO1ns34oQLENZ92h59yEE8fnsN7zsYWaCPMkIJuBsxqsDysoxuMWKBqxGjPmPHjl1rbg2uTNw/asSI0SFGmBgx890EhRDrBikDQiQYhHOG8nmx//Wvf7WT/coC3wvwJywCQsbRRx9tBQt/IrGbG4EfMgILrkAICeedd14pdyKEcvyWcbOIcjcoTxBaEXYRbBz+9wVygeDPR7qYNEsZ41qDgpFpSc1MILBRTvkITghnCNukIQ6UL5O0cfthYigfu6POCiFTXJQZLlcs8UleUJTyoZByqCzg2hS1vHAm8q0/XBH9L2bzizsQXzHn3vnCvemP7v70SZQG3JSYH0K/xD2JCfMoIL6rD9cxjwQXoKhnCu2Da1AWhBDrnhoMDwT/hRCVCPx7eZGzug9+u6xRX8zJdnR9hFMstUwdwre7LDDCcOutt1of+6j15adPn27nRPDhJgQHLI+sVoKFkLTgR88WnlfAMSzqXJOPFbpYYA1lBRVWVWF1JeYI8Os+FhcHPixFPAhrCLQVAWWGfz0+5HEUl4qCdoKQ6guPYm3yrT/KFPyRA/oY/amQfsPzByXdb6/he7DP3AD/HPor/Zr6RREOp53JzowGDhw4sMyrlQkhioOUASEqIXTL5557zq7EwTA7CgGTAVkqsFguEigBTErEglvWlzJCAxOaEV6GDRuWcWIogjSuD7gjVSUY0WASNBNnq9rEVSEqEp4BuCwdeeSRaykCKCeMFHXt2jXvj5sJIcoPKQNCVEJwqcBHl6X9gBU78Ke/6KKLiqIMYKVnNICtLEuIYj1kmUksfYwy3HbbbebPf/5zcFQIIYQQlR0pA0JUQvDLZW1vJhzSRbHg41+Ly0BZYZgepQLfdZYdzAd8gVFSsPyxBCqTgrH2A0sIMjoQNWFQCCGEEJUTKQNCVDIYSmcddtxRzj77bPsRqx49elif9bL6zOO3PmDAAKtsFBvW1+fLsmGffyGEEEJUXqQMCFHJYEUevvjKR7aAj3LxMTC+CoxiUBZY+YOPnJUHjFq0a9cu2BNCCCFEVUDKgBCVDCbg8aVX1tYHRgr4CjFfbMV1SAghhBCiWOg7A0JUMliP3l/dhw81sTRlvh8sEkIIIYTIhZQBISoRjAKwcpCDgTu+NdCmTZtSX+UVQgghhCgGchMSohLBfAGW6EQp2Hvvve1XRRkROOqoozQxVwghhBBFR8qAEJUIN1+AZUSZOMzHu8r7q7u4IfHtgvXXXz8IiQ+Pj++//940bNgwCBFCCCFEVUJuQkJUIhgZaNSokVUA6tWrV+6KAEuNnnzyyWbKlClBSDwWLlxoxo4da/r27WvuvffeIFQIIYQQVQ0pA0JUElauXGmt8/Xr1w9Cyh8s+g8++KDZa6+9gpB41K1b13Ts2NEcfvjhdnRACCGEEFUTKQNCVBKYE4BwXbNmzSCkfEGIX758ub1vjRo1gtB44FbEyEW+1wkhhBCiciFlQIgEsmrVKvPYY4+Zhx56yAwdOtT89ttv5pdffjGLFi3KurHEqUYChBBCiOqDlAEhEgirFDVt2tQ0adLEKgGwdOlS++XjbNusWbOs4iCEEEKI6oFWExIigfz66692u+qqq8wRRxxhDjzwwOBIfowePdrMnj3bDBo0KAgRQgghRFVCyoAQCWXmzJnmpptuMtdcc42pU6eOXcr0448/Do5Gw8ThXXfdtWQZUikDQgghRNVGyoAQCWXUqFF2DkCnTp3MkiVLTNu2ba1CkA2UABQCN3FYyoAQQghRtZEyIERC4UvHn376qZ07cOyxx5ratWsHR3Lz+eefmzFjxpg33njDLF682Bx55JHm4IMPNu3atQvOEEIIIURVQMqAEAmFrs/SoigB5f1xMyGEEEJUTqQMCCGEEEIIkVBkDhRCCCGEECKhSBkQQgghhBAioUgZEEIIIYQQIqFIGRBCCCGEECKhSBkQQgghhBAioUgZEEIIIYQQIqFIGRBCCCGEECKhSBkQQgghhBAioUgZEEIIIYQQIqFIGRBCCCGEECKhSBkQQgghhBAioUgZEEIIIYQQIqFIGRBCCCGEECKhSBkQQgghhBAioUgZEEIIIYQQIqFIGRBCCCGEECKhSBkQQgghhBAioUgZEEIIIYQQIqFIGRBCCCGEECKhSBkQQgghhBAioUgZEEIIIYQQIqFIGRBCCCGEECKhSBkQQgghhBAioUgZEEIIIYQQIqEkRhkYOnSo3YQQQgghhBBr0MiAEEIIIYQQCUXKgBBCCCGEEAlFyoAQQgghhBAJpUoqAzNnzjTdunWzv45JkyaZ/fbbr1TY6NGj15onQFi9evXs1r17d7No0aLgyBr842zE63D3HTdunL2Xf3226zgWdS8hhBBCCCHWJVVSGWjSpIlp3ry5mTJlShBizCuvvGKmTZtWErZixQrz5ptvmhYtWth9GDx4sP398ccfzYIFC0yzZs3MiBEjbBggtHMNxzhn8uTJZuDAgaUE+++++868+OKLZvz48WbMmDGmQYMGsa4TQgghhBCislEllYFatWqZDh06mNmzZ9t9LO7Tp083AwYMKAlDGUAwb9Omjd2HPn36mC5dutj/xNGzZ08rsHM923PPPWf69+9vj0HLli1N165draLhw3XunDjXHX/88SWKgxBCCCGEEJWFKjtnoGnTpiWC/MKFC80222xjjjvuOKsUEDZjxgzrrsMogqNx48YlAnsY4uDaPffcs5S7jxtNcDRs2NBsvvnmwV7864QQQgghhKhsVFlloFWrVvYXoR/XoN12281a5BHECcMqz+hBJuE/ih133NHMmTPHjij426BBg4Izoin0OiGEEEIIIdYlVVYZwOWmffv25pNPPrFzBXAHQvBHASBs2bJlpVyEcoG1f/HixVaRyIdCrxNCCCGEEGJdU2WVAejYsaOdJ7B06dISdyDchwj78MMPS7nz5MIpF6w+hJuRg5WD/BWKwsS5jgnGWk1ICCGEEEJUNqq0MoCrUKdOnUq5A7kwBPR8J+zi1sN1rFTkfP9RKnA/ykah1wkhhBBCCLEuqZFKE/wXQgghhBBCJIgqPTIghBBCCCGEKBwpA0IIIYQQQiQUKQNCCCGEEEIkFCkDQgghhBBCJBQpA0IIIYQQQiQUKQNCCCGEEEIkFCkDQgghhBBCJBQpA0IIIYQQQiQUKQNCCCGEEEIkFCkDQgghhBBCJBQpA0IIIYQQQiQUKQNCCCGEEEIkFCkDQgghhBBCJBQpA0IIIYQQQiQUKQNCCCGEEEIkFCkDQgghhBBCJBQpA0IIIYQQQiQUKQNCCCGEEEIkFCkDQgghhBBCJBQpA0IIIYQQQiQUKQNCCCGEEEIkFCkDQgghhBBCJBQpA0IIIYQQQiQUKQOVhKFDh5pzzz3XrFixIggpGzNnzjTdunWzv0mgvPObtPIUQgghRDKQMiCEEEIIIURCkTJQSRg0aJC5+eabTa1atYKQ+EyaNMl0797dLFq0KAipvIwePbqoIyBCCCGEEKJwpAyUgaVLl5p33nnHfPfdd0HIGlatWmV++umnYE8IIYQQQojKSbVWBgYOHGi23npru/G/mOA7fsMNN5jPPvvMnHXWWebLL78Mjhhzzz332PvloxAwZ4DNQfz77befqVevnt0yWdO55rDDDjMvvfSSad68+VojBAsXLrRhLh4s8z6c6x+PY7Xnnu58NkYmfLieePxzXnnlFRt22mmn2fJp1KhRyb1Ik593iPLRz3XfTLj0ZMq7iyef+DkWLqtwfFBI+QohhBBCVBTVVhlAGB8xYoRZtmyZ3fhfLIVg5cqVZty4ceaMM84wLVq0sIoAowTAvd59913TtGnTEpef1atX2/BUKmX3c4EAeeGFF5phw4aZH3/80SxYsMDsvvvuwdHS4F70wgsvmE6dOpk5c+aYMWPGmAYNGthjjFgg4I4cOdLGw3m33HJLiYDNffr27Wvj4Dhb48aNzcUXX5xRYOXaXXfdteR84qRc/Th79epl4/HP2Wijjawb1N1332369Olj85SPW1Su+2aDe3To0MG8+eabpfI1fvx406xZM1u2ZYk/E4WUrxBCCCFERVJtlYGHH344+Pc7UWGFgFC35ZZb2g2L/B577GGFSli8eLGZPXu2FTBr1Khhw9544w1rEV+yZIndzwXWfBSHzTff3O4jzPbu3bug+QQIok45IE3t2rUzU6ZMsfsIw+3bt7ebo0ePHlap8Ec6fFq2bGk6d+4c7BnTqlUrWw6kGZyAfc4559h9CN+jEHLdNxdt2rQplS+EcZQDlATKtazxR1FI+QohhBBCVCSaM1AADRs2tNbv77//3rz99ttm3333NbVr17bHcBtiFGCHHXaw+8Dx++67z9SvXz8IyQ6CKdfsueeea7nP5APpdApFFCgtgwcPLuUawz3DcyDCYC13Lky4JqEQOYjTCdjFJtt9c+HK1ClCCOModYcccojdh7LEH0Wh5SuEEEIIUVFUW2XgxBNPDP79TlRYWcDCO3/+fNO2bdsgxJj33nvPCp5bbbWV3Wcy8S+//GI23nhjux8XLPq40nz99ddWiCyLUpAN3HacC4vbGMkgD1GQjlNPPdUqN5xLGeCiVN4U474dO3YscRVCKdhxxx1LRk3KK1/5lq8QQgghREVSbZUB/O379etnNtlkE7vxn7BiMm/ePNOkSRM7QRkYEZg+fbrZfvvtTZ06dcy3335r/v3vf5urr77avPzyy/acfMC6jl89/utMSsUHvZgw3yHsR58N7k86KMdMwmy+cTpQevxrcM9xFvQ4940Drj8I44wAkEaUAyg0/rlz566VZurcUWhZCCGEEEJUFNXaTQjhDss9W7EVAahZs2bwbw3vv/++tfril88xJhI763LcycOAsMoE5bjgCkT8+fq340fP0qhjx44NQtYIxljHo0A5YT4ASpCDidm+Ow1uNwjJw4cPD0LWrLzDBkysDgvRLh1Tp061+6TBHwmJc984MApwxBFHmMcee8zUrVu3ZFJ2IfGjWADzAoD83H777WbatGl2H3KVL/+ZTE19CyGEEEKsCzRnoAwccMABdh4AgivW/8svv9zuO+vywQcfbH777Tfr7rPzzjvbsLhce+21JX7mxM+KQM6lJQz3c3MMWMYSITMOXIdgygpD7l5dunSxfvNRIDT379+/1PmswOO705BG0orw784h/U54RgBH8MYn3y2zSToGDBhgl0jlfLcCD3MeIM5944KAPmHCBLPbbrvZeKGQ+MknaWRiOOejBPXs2bPUNbnKd8aMGTaM0SUhhBBCiHVBjVQ+JmtRAsX2888/mw033NAuK7r++uubf/7zn3bSKKMQbkLx6NGjrevI6aefbtZbbz17nhBA24Djjz/e/gohhBBCVDQaGSiQ//znP9Z6zIRhRgOw/j///PPm6KOPLlEE+OjY66+/bq32uJOw+pAQDuZEMFIhhBBCCLGukDJQIPi94xLCJFEUgeuvv96ccMIJ5vDDDw/OMPY7A5tuuqmZPHmynUPAV3eFcOCa5FzKhBBCCCHWBXITKhDWqWeSLD7vuAqxLCUjBe5DYw63tKgbLRBCCCGEEKKyIGVACCGEEEKIhCI3ISGEEEIIIRKKlAEhhBBCCCESipQBIYQQQgghEoqUASGEEEIIIRKKlAEhhBBCCCESipQBIYQQQgghEoqUASGEEEIIIRKKlAEhhBBCCCESipQBIYQQQgghEoqUASGEEEIIIRKKlAEhhBBCCCESipQBIYQQQgghEoqUASGEEEIIIRKKlAEhhBBCCCESipQBIYQQQgghEoqUASGEEEIIIRKKlAEhhBBCCCESSo1UmuC/KALfffedmTlzpmnYsKHZfvvtzXrrlZ++tWLFCvPJJ5/Y/zvvvLOpVauW/V/dSWq+hRBCCCGKjUYGisTKlSvNqFGjzH/+8x/z22+/mRdeeMFccskl5qeffgrOKB7ob2+//bYZNmyYWbJkifnqq69Mv379rBJSnUlqvoUQQgghygspA0UAIfWBBx4w2223nTnjjDPMAQccYE488UQzY8YM89FHHwVnFY/333/fvPPOO+aiiy4yBx10kOnSpYvZbbfdzFNPPRWcUT2pjvkeOnSo3aoqKGL77befqVevnpk0aVJkGPk799xz7YhOLjifa6XgCSGEEBWDlIEigJBau3ZtK8Q4Vq9ebUcI2IrJDz/8YMaPH2/+/Oc/m/XXX9+GoYxwv1WrVtn96khS812ZWbRokbnwwgvtSM2PP/5o2rdvHxkmhBBCiMqLlIEygrCPtfrggw82NWrUCEKNmTt3rhVWt9566yCkOEydOtXsvffepm7dukGIsS4z+NDvuuuuQUj1o6rnG6s41vHRo0cHIVWfhQsX2ja++eabByHRYYMGDTI333xzrLkdKA9vvPGGadmyZRBSdqpj2QshhBDFQspAGfn222/Nr7/+arbYYgtrCcWCze/DDz9sTjnlFLPtttsGZ5YdFI8PP/zQtGrVygo4WGH5ffHFF82WW25pXWeqI0nNtxBCCCFEeVOtlYGBAwdayzwb/8uDL7/80s4VuP/++02TJk1M06ZN7W+jRo1Mjx49So0WlJWlS5fa36+//tp06NDBNG/e3N4HiyfWV1yVqiPlmW8Ui+7du1v/djb+E+bAh52wcePG2eO+7zu+8O66bH7uhB9yyCHmnnvuMaeddpo9P2ylZt/FFU4D+MfZnH9+NsLX+HMTwvmOSn/4HD/vxL3nnnuaCRMm2F/OI3/hMOKImheRKW2uvP38Z8s7ae7WrVvJde4crnHHM5U9x9zcBra48xqEEEKI6kS1VQYQ/keMGGGWLVtmN/6Xh0Iwa9Ysu4ToX/7yFzNv3jyrHOC6MmXKFDuB2IFfO8LHF198Yf3cC4G4t9pqK9OmTRvzyiuv2PstWLDATqJ99tlng7N+h1EKVjmq6uSb73yYOHGiuf766+1ojvNxv+qqq0oJhS+99JIdmeC4c3dxwqu7Dh/5U089dS2BGnB5Yb5Dnz59zN13323PP/7444OjxgwePNj+Ek6+mjVrZturA+H1zTfftMc4Z/LkybYtZ1MISB+jU3PmzLHX8IsCBaSRyddMcucYG+lHgHdxIoz37dvXKlvunMaNG5uLL77Ylg3pJx24x/E7ZswYm79wWIMGDWx8PtnSFiZO3lnOlzhHjhxpz2Elr1tuucXmM1PZkz9/bgPx77777kGMQgghRHKotsoAwkaYqLCy8PPPP5vvv//eCqpMaq1fv761MCIA4b6CoAksL3rttddaAWT+/PnmmmuuKWjJUad4MNrAfbgfgulOO+1kXn/9dav0IPwjPF199dXmzDPPNMuXLw+urrrEyXehdO7cuZR/eseOHe18D18ZQOlglMeBkDl9+nS7rKkDQbJdu3ZWCcwXBFWEcyBfPXv2tMIu7YXtueeeM/379y/xuSe9Xbt2tYpRFKTPKTlOGOcXZQWeeOIJe72vkKAEXXrppSVxIkAT5k8ApgwQ3FHOCiVX2nzyyTtKi4svTl2E5zYQf+/evUvuI4QQQiQFzRkoA4sXLzYbbLBBqUmtDvzcOQ6PP/64dR3aZ5997MZ/hK18ID7W1efaMO5ejD6QHibUHnvssdVCsImb77KA9dm5ihx22GFB6O+g2IUnyVKnuCu567Bs44pSCFjcM9UV90LxwGrv7sXmRhOi4BrSFlVmKDm4W6H0hCGMY5wze/Zsew//nqQBK3xZyJa2MHHzzgf+/PqJA0rFvvvua+N2ozxCCCFEEqm2ygAuEGGiwsoCFlImCIfnBTBa8Omnn9qv4zJ6wEo4m2yySXDU2P9YR3/55ZcgJDf4zeNehDDkQxwffPCB2WGHHazvPF885hy3/GZVJ26+gVEQV6YItLh/YP3NBJZn/Mx9NxRcTOKANd9d42++tb1Y7LjjjiUuNf6GNbw8cW41/lbslX5yUZ55Jw7qEAWI9iWlQAghRBKptsoAvsC4cSB4s/GfsGIybdq0tYRUQNDfaKONzB577GGF0yhrKq4tWLYdCLLZXHpQPHABwvLvg0sLAtqhhx5qNtxwwyA0O3EEZbcqUiawxrOSUjarfK44EPI5J5tSFDff7777rv3w2znnnGMncz///PP2d/jw4aXK2cfN6bj88svzGkXBCl1Wd5m4cC9GP/z5J7nIlj7yyUhElIsRYW6UokWLFlZJ8t2likE+ZVdI3vOFvDIPBCXQuWYJIYQQSaJauwkh/OOjz1ZsRQCLPxOFEfx9gfjjjz82Dz74oJ1oySpGHHOr4fggDDlBi//HHXec6dWrl/nmm29sWBh8rfmeAQK4A4XizjvvNH/605/MH//4xyA0O6TlrLPOMp06dbKjF1GQHtLC0qiZ0oNLDFb5hx56KAgpTZw4WBq0devW5oYbbsgosMfJN8rEZ599ZpcYRbnAz50VZvgSNBO2MykbCJsoRLijAIJgHOswLi64utx+++2lhOX77rsvozDphHDcb/IBP3jyQ7r8uFndiLKJwrnAMEHWXcMv6QN8//lq8+hgVR1AECbMzY1gsjblPnbsWLsPfhyFkittPoXkPYqosud64omCezHyk889hBBCiKqK5gwUCBZLlhFlO//8881NN91kLrvsMiuk3nrrrSVfI8ZdJ2pOAQIlQgpsvPHG1ucc5QKraRgEZRSav/71r+aKK64wN954oxWQzjjjDHP00Uebs88+O7ZbEOdxLwSejz76KAgtjUsPwn7UyAfgp41gx7KqUbg4OGfTTTcNQktDOG5WfMGZD4iFiZtvRg1QDHDPwqLNBliU8fcnLVGQNhQW55PO6jksP5kL6u26666z/8kj17LhruQmsUbhhHDO9QXxXODOglDsz1FgdSPSn4nwNfwy4Rq4DuGbFXdcfJQrgr+LM+ocJjn7X9kulGxpC1NI3qOIKnsm9bs4yT+rEVF/tBvC4sxrEEIIIao6NVLZfEVERrCaInweeeSR1jrMhjtS2FWHEQRWaWHisPMnRxhhpZMrr7yy1Pksk8nHy1gJxQdrN6MNuDoxJwDLOAJwnTp1gjPWBqsmAisCdJSAigDOEp2szLIuwWrPMponnXSSXSXIJ998Y6lHUMeqi2sRCsQRRxxhLdFcRxxC5MIpC+Ux/0MIIYSobEg6KhC33CUggCJwR/nsY5VmqUMEWQdzCBBQ/fOxguPSEvXFYlxuWL6U87GEIzRnUwTigLKQr3W1PGCEAkE9avQkn3yjjH3++eembdu2dh9FB9civlqMRZivRAsRB/onblJCCCFEEpAyUAD+9wXiwIo1KA9vvfWW3ZhUy1dRfRgpwHKN20kYX/HIBZOQcXdg4ixr8DMywDKYvt888SEsZ3LxqSiYQIygzkhIzZo1g9DfySff1AfzIVydMIEbVw/8wpnIzb4QceC7BpVBURZCCCEqArkJFQAC93vvvWf233//tZYVzQQTiZlIi9CLwO+7rDAqwMo4e+21V8kymT6vvfaaFWijrOeFwGRR5gPgkrQuYVSAdeTxCY8qx3zyjWKBa5CbhwFOAYoasRFCCCGEEFIGhBBCCCGESCxyExJCCCGEECKhSBkQQgghhBAioUgZEEIIIYQQIqFIGRBCCCGEECKhSBkQQgghhBAioUgZEEIIIYQQIqFIGRBCCCGEECKhSBkQQgghhBAioUgZEEIIIYQQIqFIGRBCCCGEECKhSBkQQgghhBAioUgZEEIIIYQQIqFIGRBCCCGEECKhSBkQQgghhBAioUgZEEIIIYQQIqFIGRBCCCGEECKhSBkQQgghhBAioUgZEEIIIYQQIqFIGRBCiHJg8eLF5vHHH7e/QgghRGVFyoAQBTBp0iTTvXt3s2jRoiCkeMycOdPst99+pl69evY+SWDFihXm3HPPtXkeOnRoEFq+cJ/yvNc999xjLrnkEjN37twgJD/Ks41VNK5+R48eHYQIIYSoLEgZEKISgeB34YUXmmHDhpkff/zRtG/fPjhSvRk+fLhp3LixzfOgQYOC0KrNKaecYv773/+a3XffPQgRQgghKh9SBoTIAdZMrJpYN8ubhQsXmlQqZTbffPMgpOxUdqss6fv6669NixYtgpDisq7yv+WWW5rWrVubGjVqBCGZqcg2JoQQQvhIGSgjS5cutcP5X375pRXieJm/9957Zv78+cEZyeG7774zb731lv0Fyuadd96pFm4OQsRl1apVZtq0aWbWrFn2mSCEEEJUZqq1MjBw4ECz9dZb243/xebNN9+07g0oAEOGDDG33nqrde9AMTjnnHPMBx98EJxZvUHgGTNmjHnooYesAnDeeeeZESNGmNtvv93MmTPHnHXWWbZMig3+3viYu833r8fvvlu3bmbcuHHW/973vcYKm+k6H2dRPu2006z/d6NGjday3s6YMaPEvz8qLt//ny2bjzrp2nPPPc2ECRPsbz5pDh9nH7j/IYccYtNPPtwxl7eoePw8Or96V9YuXtJF+tz9wuUSznf4uCMqfS5N4XsQH+c7+J+pjh2Z8u/DvrtHVBz+cbZM7QV++uknc8MNN5iPP/7YnH/++eaFF14IjkTj6qEsbSwMx/30+m0unBe/LMLlyXFXHn6c4TLiGGGfffaZ/Y2KOxOuXbGF61cIIUQFkRbkqiV///vfU3Xr1i21EVYs5s6dm0oL/6lff/3V7j/66KOpvfbaK5UWAlK33XZbqnHjxqmJEyfaY47Vq1envv3222CvNMuXLy+Jq6rx3nvvpR588EGbP0grRqmuXbum5s2bl7roootSHTp0SKUFGnssLrnKg/iefvrpYC9ly9q/D7/sDxgwIJUW0GwYUE9+mDsvXFc+4WuA82lTfjjnpYWp1MKFC+0+cR9zzDElaeI8zqd8MhG+BnKlmfvde++99j+Ej7v7Eo/DhYXzHb4XaSWf/nncj3z6YZznrgsfJywt6JbEGcalxU+fy4MfRnx+Wtw5fnqjiIofXN5cuDvPr59weYTLNkxakE6llbnU999/n0oLxqn7778/OJKd8H3A5dcP5zy/jYUhfX778dtGrnYSLk9XHn4aXJhfRi6d4bbv15+7zu0DcYTj4RqXdiGEEBVDtR0ZePjhh4N/vxMVVihYvA888ECz/vrr2/0vvvjCtGnTxmy77bYm/TI2o0aNsvuQfkGasWPHmr59+5r0y9iG+aQVBHPyySebKVOmBCFVC1ZL+eMf/2h9o3/++Webn7Zt29oRGfJ14403mu233z44OzdxyqNly5amc+fOwZ4xrVq1sj7alLVPz549Ta1atex/rJnPPfec6d+/f0kY8aQVF/PKK6/Y/XzYbbfdSsWFBRrSwoz9feKJJ0yvXr3sPYDzSA+W1LD1ORNx0tygQQNz6qmn2v/QpEkT065dO5NWxoKQstGnT59Sk2DHjx9vJzb7k5t79Ohh+wQjQNRB+tlSMu+BdPfu3bsk/XGg7Mjj8ccfH4QYe79LL710rbry6zhfyFuXLl3s/3D95NtefvvtN7uMKGWFmxDzIKiHspCrjYWh7OmHruz9thGnnTRs2LDkfq48/DS4sHAb5pzrr7/e3gMop7Twb0dPM40ITZ8+3fTr1y8IMbbcSE9VfQ4KIURVRXMGCgThd9ddd7X/ly1bZl9sO+ywg6lTp459yfLS3mijjezxunXrmo4dO5rDDz880oeYF/CDDz5o9tprryCkatGtWzebZ0AY+vTTT83OO+9satasaXbZZRez7777mvXWi9/U4pYHAoVzZ2jevLl56aWXgiNrIB5/Ii6CEvWEC45zTWAbPHhwcEZ+oHxkmuiLAIQw6FxT3HbYYYcFZ8QjbpoRzJyLBq4muJwUC1b5ccIozJ49297fTw/pc3NFEASpc8J8F5W4uLKjz4QhjGNOwAzXcb6E8+aTb3uhvZ900klm0003NW+88YbZY489TLNmzYKja7vvZHKd8snWxqJAoOae9IfREW46hbSTOGmIOqdp06bWUBCVR8qWbzCQTlcexW63Qggh4lFtlYETTzwx+Pc7UWHFAOHko48+slatqJVDNtxwQ/uyizqGcrB8+XKrOMRZdaSyw8sfyz6rqETB5EqUJ/K9evVq88MPP5hffvklOBq/PBAysXLed999djlKrNKdOnUKjmZmxx13tOdyjb+V13KW+IyH78X8CmdBjUOuNCP0IVSxT/iCBQusxbs8ufvuu9dKDwKwGwUhLaSDvkHbL0QpqAwU0l5YPODll182Rx55pKldu3YQumZkw4/j5ptvzqiIFArxES9pZiSUsndKwbpoJ9ng3qTBLxM2fzRICCFE+VNtlQEm8jIEvckmm9iN/4QVC1YMuuqqq6ylzU16c9bxlStXmjvvvNMKutlAMH7sscfsxFuEJdwMHFGCcpiffvrJ3j9qtAGIg5dtWeIALHu8pKPOIez555+3AgjnTZ482bpKYXEF8kBZUCYcf+CBB8y1115r7rjjDitQYi3FBeHzzz/PWh4+pJfrqE8nfMYByyUjF5lcLIoJQhllUIj7kU+uNFOmuGJQloV8kyDsSoTVPxcsAZrJ/cPHCaYoRGG3kmxkKzvCslnzi0mh7cW5ueAmyCICzzzzjN2vSFA2UTppF9QVZV+WdlII1BX3ilJ8KVsUlvJYWEAIIUR+VGs3IYRFrHRsxVQE8IvHjQUBByGZX3+YnOU0scjhLpANVt9gKB0lIiywv/jii9a6zsokUUIxq/YgRON6hFtOFMSBQFKWODiH1YCwukeds2TJEitgTJ061Q79IwiRJyyiKAr4l2NdxdKPUIVr1TbbbGNHB7AMHnzwwWaLLbawLibZysMHQRBXCF+QZfWisJtQGIQShBMUDV8wZfWUbKuYZHN3yAYuLbiU0D4c3If7xSVXmp3g7AvxzE/x3S2iziGsQ4cO1nrs4iWdcVymaFO0ce7jIA5GaSDfPEbBHISnnnqqlKsL6SOMY/kQlf84FNJeUHpfe+01s//++9tnAkvtOnfCbBTaxsJQRn57c8RpJ2WBvodxxKXftaUoVy+gjzNKwYpjfp5pQ5Q1G+5Mfv0LIYQoHzRnoAAQbPHN3WmnnczIkSPtLxNYERp4ASIY8yLL5fbDpNo//OEP5tVXX7UvTXyOHSgSWNjff/99K3CHYeIyPrbMU3BKSBgXB2mL8tl3cXAc3+so3Dm8nHGFCsOoC779TBZmmVUmYzLawGTCK6+80iohBxxwgD2X+QMoOIwC4DtP3CgbjF6Qh2zl4YNggxJzyy23WKWLDYErjpsQLhIIeL6v8ocffph1hMH3w47j5+3gPljFyau7F18Xxp8+H3KlmVEvhC93DDersPuHE6457gQs6srli3AsuSh2ueC+CG1++RMX8zccjP64Y/QL+kmUhTgTUfcgHgTYfEaDHFH5j0O+7YVnwz777GP7yjXXXGPbO4J+LgptY1H47Y3RgOuuu872mTjtpFDoe4ceeqh9VhA3aaDtU3ZRkB7SBe4aNowI+bQTIYQQZadGKpt/iMgIxYYgu8EGG9gXW3g/CoQQLHO+vzEWxptuuskKDkw+RphwYB3H4s2kxPr16weh6waUEizxrKQSBnckRkh4kTM/Irzvw6pLV1xxhVWasFTiVnT//fdb4ZGy4x6ZykOIqgKCNgp4pmdBdQIFoxCFTwghROVAIwMFgtUfS5Z72Yf34zJx4kRrPcQ6Hl5SD2s8AjKrEa1rUFoyWUMRelBWnOAf3vdB2McSyEgAChTuBbhU4CL0ySefZC0PIaoKKLJJUASEEEJUfaQMVAC4xbDWPv7Zzz77rLWi4XMNWM+ZZMs+LjIOrOu4NbBCUSZ3mYpi1qxZVojfbrvtgpDCYYSBZUedooCiw+pDKAK4+mQqDyGEEEIIUXzkJrSOofhxKUAI9v36GRVgjXN8btf1kqO4ATA3gYm+ZYXJ18wVYAPyT9jGG29s85mpPIQQlRO5CQkhRNVGyoAQQgghhBAJRaZXIYQQQgghEoqUASGEEEIIIRKKlAEhhBBCCCESipQBIYQQQgghEoqUASGEEEIIIRKKlAEhhBBCCCESipQBIYQQQgghEoqUASGEEEIIIRKKlAEhhBBCCCESipQBIYQQQgghEoqUASGEEEIIIRKKlAEhhBBCCCESipQBIYQQQgghEokx/x8XwuqXrL8iJgAAAABJRU5ErkJggg==)"
   ]
  },
  {
   "cell_type": "code",
   "execution_count": 14,
   "metadata": {
    "colab": {
     "base_uri": "https://localhost:8080/"
    },
    "id": "lyQGU11LEnkC",
    "outputId": "8b77e9eb-d8e3-4ab3-df91-80e5c37a0804"
   },
   "outputs": [
    {
     "name": "stdout",
     "output_type": "stream",
     "text": [
      "Mean Absolute Error (MAE): 7514.293659640604\n",
      "Mean Squared Error (MSE): 83502864.0325773\n",
      "Root Mean Squared Error (RMSE): 9137.99015279494\n",
      "R-squared (R²): 0.9347068473282425\n"
     ]
    }
   ],
   "source": [
    "from sklearn.metrics import mean_absolute_error, mean_squared_error, r2_score\n",
    "import numpy as np\n",
    "\n",
    "# Assuming y_test contains actual values and y_pred contains predicted values\n",
    "\n",
    "# Mean Absolute Error\n",
    "mae = mean_absolute_error(y_test, y_pred)\n",
    "print(f\"Mean Absolute Error (MAE): {mae}\")\n",
    "\n",
    "# Mean Squared Error\n",
    "mse = mean_squared_error(y_test, y_pred)\n",
    "print(f\"Mean Squared Error (MSE): {mse}\")\n",
    "\n",
    "# Root Mean Squared Error\n",
    "rmse = np.sqrt(mse)\n",
    "print(f\"Root Mean Squared Error (RMSE): {rmse}\")\n",
    "\n",
    "# R-squared\n",
    "r2 = r2_score(y_test, y_pred)\n",
    "print(f\"R-squared (R²): {r2}\")\n"
   ]
  },
  {
   "cell_type": "code",
   "execution_count": null,
   "metadata": {},
   "outputs": [],
   "source": []
  }
 ],
 "metadata": {
  "colab": {
   "provenance": []
  },
  "kernelspec": {
   "display_name": "Python 3 (ipykernel)",
   "language": "python",
   "name": "python3"
  },
  "language_info": {
   "codemirror_mode": {
    "name": "ipython",
    "version": 3
   },
   "file_extension": ".py",
   "mimetype": "text/x-python",
   "name": "python",
   "nbconvert_exporter": "python",
   "pygments_lexer": "ipython3",
   "version": "3.12.6"
  }
 },
 "nbformat": 4,
 "nbformat_minor": 4
}
