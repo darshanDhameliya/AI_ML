{
 "cells": [
  {
   "cell_type": "markdown",
   "id": "b22efc83-9f55-43b0-858b-4e6b3126f00d",
   "metadata": {},
   "source": [
    "Example 1 (Cancer prediction based on tumor size)"
   ]
  },
  {
   "cell_type": "code",
   "execution_count": 1,
   "id": "8d2b4d55-7e9e-4d89-b710-0e829173b4de",
   "metadata": {},
   "outputs": [
    {
     "name": "stdout",
     "output_type": "stream",
     "text": [
      "[1]\n"
     ]
    }
   ],
   "source": [
    "import numpy\n",
    "from sklearn import linear_model\n",
    "\n",
    "#Reshaped for Logistic function.\n",
    "X = numpy.array([3.78, 2.44, 2.09, 0.14, 1.72, 1.65, 4.92, 4.37, 4.96, 4.52, 3.69, 5.88]).reshape(-1,1)\n",
    "y = numpy.array([0, 0, 0, 0, 0, 0, 1, 1, 1, 1, 1, 1])\n",
    "\n",
    "logr = linear_model.LogisticRegression()\n",
    "logr.fit(X,y)\n",
    "\n",
    "#predict if tumor is cancerous where the size is 3.46mm:\n",
    "predicted = logr.predict(numpy.array([3.78]).reshape(-1,1))\n",
    "print(predicted)"
   ]
  },
  {
   "cell_type": "markdown",
   "id": "6b93eebe-36f4-4a85-b970-82cd40ef122e",
   "metadata": {},
   "source": [
    "Example 2: Iris Dataset"
   ]
  },
  {
   "cell_type": "code",
   "execution_count": 1,
   "id": "0246416f-b13d-4fd9-b091-450f7f39f8fb",
   "metadata": {},
   "outputs": [
    {
     "data": {
      "text/html": [
       "<div>\n",
       "<style scoped>\n",
       "    .dataframe tbody tr th:only-of-type {\n",
       "        vertical-align: middle;\n",
       "    }\n",
       "\n",
       "    .dataframe tbody tr th {\n",
       "        vertical-align: top;\n",
       "    }\n",
       "\n",
       "    .dataframe thead th {\n",
       "        text-align: right;\n",
       "    }\n",
       "</style>\n",
       "<table border=\"1\" class=\"dataframe\">\n",
       "  <thead>\n",
       "    <tr style=\"text-align: right;\">\n",
       "      <th></th>\n",
       "      <th>sepal_length</th>\n",
       "      <th>sepal_width</th>\n",
       "      <th>petal_length</th>\n",
       "      <th>petal_width</th>\n",
       "      <th>species</th>\n",
       "    </tr>\n",
       "  </thead>\n",
       "  <tbody>\n",
       "    <tr>\n",
       "      <th>14</th>\n",
       "      <td>5.8</td>\n",
       "      <td>4.0</td>\n",
       "      <td>1.2</td>\n",
       "      <td>0.2</td>\n",
       "      <td>setosa</td>\n",
       "    </tr>\n",
       "    <tr>\n",
       "      <th>61</th>\n",
       "      <td>5.9</td>\n",
       "      <td>3.0</td>\n",
       "      <td>4.2</td>\n",
       "      <td>1.5</td>\n",
       "      <td>versicolor</td>\n",
       "    </tr>\n",
       "    <tr>\n",
       "      <th>31</th>\n",
       "      <td>5.4</td>\n",
       "      <td>3.4</td>\n",
       "      <td>1.5</td>\n",
       "      <td>0.4</td>\n",
       "      <td>setosa</td>\n",
       "    </tr>\n",
       "    <tr>\n",
       "      <th>89</th>\n",
       "      <td>5.5</td>\n",
       "      <td>2.5</td>\n",
       "      <td>4.0</td>\n",
       "      <td>1.3</td>\n",
       "      <td>versicolor</td>\n",
       "    </tr>\n",
       "    <tr>\n",
       "      <th>29</th>\n",
       "      <td>4.7</td>\n",
       "      <td>3.2</td>\n",
       "      <td>1.6</td>\n",
       "      <td>0.2</td>\n",
       "      <td>setosa</td>\n",
       "    </tr>\n",
       "    <tr>\n",
       "      <th>136</th>\n",
       "      <td>6.3</td>\n",
       "      <td>3.4</td>\n",
       "      <td>5.6</td>\n",
       "      <td>2.4</td>\n",
       "      <td>virginica</td>\n",
       "    </tr>\n",
       "    <tr>\n",
       "      <th>128</th>\n",
       "      <td>6.4</td>\n",
       "      <td>2.8</td>\n",
       "      <td>5.6</td>\n",
       "      <td>2.1</td>\n",
       "      <td>virginica</td>\n",
       "    </tr>\n",
       "    <tr>\n",
       "      <th>65</th>\n",
       "      <td>6.7</td>\n",
       "      <td>3.1</td>\n",
       "      <td>4.4</td>\n",
       "      <td>1.4</td>\n",
       "      <td>versicolor</td>\n",
       "    </tr>\n",
       "    <tr>\n",
       "      <th>19</th>\n",
       "      <td>5.1</td>\n",
       "      <td>3.8</td>\n",
       "      <td>1.5</td>\n",
       "      <td>0.3</td>\n",
       "      <td>setosa</td>\n",
       "    </tr>\n",
       "    <tr>\n",
       "      <th>115</th>\n",
       "      <td>6.4</td>\n",
       "      <td>3.2</td>\n",
       "      <td>5.3</td>\n",
       "      <td>2.3</td>\n",
       "      <td>virginica</td>\n",
       "    </tr>\n",
       "  </tbody>\n",
       "</table>\n",
       "</div>"
      ],
      "text/plain": [
       "     sepal_length  sepal_width  petal_length  petal_width     species\n",
       "14            5.8          4.0           1.2          0.2      setosa\n",
       "61            5.9          3.0           4.2          1.5  versicolor\n",
       "31            5.4          3.4           1.5          0.4      setosa\n",
       "89            5.5          2.5           4.0          1.3  versicolor\n",
       "29            4.7          3.2           1.6          0.2      setosa\n",
       "136           6.3          3.4           5.6          2.4   virginica\n",
       "128           6.4          2.8           5.6          2.1   virginica\n",
       "65            6.7          3.1           4.4          1.4  versicolor\n",
       "19            5.1          3.8           1.5          0.3      setosa\n",
       "115           6.4          3.2           5.3          2.3   virginica"
      ]
     },
     "execution_count": 1,
     "metadata": {},
     "output_type": "execute_result"
    }
   ],
   "source": [
    "import pandas as pd\n",
    "from sklearn.model_selection import train_test_split\n",
    "from sklearn.preprocessing import LabelEncoder\n",
    "from sklearn.linear_model import LogisticRegression\n",
    "from sklearn.metrics import accuracy_score, classification_report, confusion_matrix\n",
    "import seaborn as sns\n",
    "import matplotlib.pyplot as plt\n",
    "import numpy as np\n",
    "\n",
    "# Step 1: Load the dataset\n",
    "data = sns.load_dataset('iris')\n",
    "data.sample(10)\n"
   ]
  },
  {
   "cell_type": "code",
   "execution_count": null,
   "id": "71ad853a-6dca-4104-a98e-df3439f7f865",
   "metadata": {},
   "outputs": [],
   "source": [
    "data['variety'].values"
   ]
  },
  {
   "cell_type": "code",
   "execution_count": null,
   "id": "61115af5-7342-4807-8de6-8104b8172f66",
   "metadata": {},
   "outputs": [],
   "source": [
    "# Step 2: Data Preprocessing - Encode the target variable 'variety'\n",
    "label_encoder = LabelEncoder()\n",
    "data['variety'] = label_encoder.fit_transform(data['variety'])\n",
    "data\n"
   ]
  },
  {
   "cell_type": "code",
   "execution_count": null,
   "id": "a0be2f46-97de-4d42-829f-8e7dd72e65c3",
   "metadata": {},
   "outputs": [],
   "source": [
    "# Step 3: Define features (X) and target (y)\n",
    "X = data.drop(columns=['variety'])  # Features: Sepal length, Sepal width, Petal length, Petal width\n",
    "y = data['variety']                # Target: Encoded flower variety"
   ]
  },
  {
   "cell_type": "code",
   "execution_count": null,
   "id": "106ca6d9-9db0-4b38-b4c4-6d6a97ac93cf",
   "metadata": {},
   "outputs": [],
   "source": [
    "# Step 4: Split the data into training and testing sets (80% train, 20% test)\n",
    "X_train, X_test, y_train, y_test = train_test_split(X, y, test_size=0.3, random_state=15)"
   ]
  },
  {
   "cell_type": "code",
   "execution_count": null,
   "id": "56594502-51dd-4af1-a41c-e0ed3fbd38d2",
   "metadata": {},
   "outputs": [],
   "source": [
    "# Step 5: Apply Logistic Regression\n",
    "logistic_model = LogisticRegression(max_iter=200)\n",
    "logistic_model.fit(X_train, y_train)"
   ]
  },
  {
   "cell_type": "code",
   "execution_count": null,
   "id": "78b034a3-1c4e-483b-a68e-20a6316c530c",
   "metadata": {},
   "outputs": [],
   "source": [
    "# Step 6: Predict on the test set\n",
    "y_pred = logistic_model.predict(X_test)\n",
    "len(y_pred)"
   ]
  },
  {
   "cell_type": "code",
   "execution_count": null,
   "id": "0820660d-c76a-4226-b584-7b6390371ad2",
   "metadata": {},
   "outputs": [],
   "source": [
    "# Step 7: Evaluate the model performance\n",
    "accuracy = accuracy_score(y_test, y_pred)\n",
    "classification_rep = classification_report(y_test, y_pred, target_names=label_encoder.classes_)"
   ]
  },
  {
   "cell_type": "code",
   "execution_count": null,
   "id": "db6d20d2-62a4-40b3-8e9e-9fc456b13146",
   "metadata": {},
   "outputs": [],
   "source": [
    "# Step 8: Compute the confusion matrix\n",
    "conf_matrix = confusion_matrix(y_test, y_pred)\n",
    "conf_matrix"
   ]
  },
  {
   "cell_type": "raw",
   "id": "a3c39972-6d86-4ca1-80fe-d21086f791cd",
   "metadata": {},
   "source": []
  },
  {
   "cell_type": "code",
   "execution_count": null,
   "id": "4c28d971-bf04-4b5d-8cc6-eefa19b7e13e",
   "metadata": {},
   "outputs": [],
   "source": [
    "# Step 9: Visualize the confusion matrix\n",
    "sns.heatmap(conf_matrix, annot=True, fmt='d', cmap='Blues', xticklabels=label_encoder.classes_, yticklabels=label_encoder.classes_)\n",
    "plt.xlabel('Predicted Label')\n",
    "plt.ylabel('True Label')\n",
    "plt.title('Confusion Matrix')\n",
    "plt.show()"
   ]
  },
  {
   "cell_type": "code",
   "execution_count": null,
   "id": "3dc0b70b-7f78-4203-bac1-40d07b55d503",
   "metadata": {},
   "outputs": [],
   "source": [
    "# Print results\n",
    "print(f\"Accuracy: {accuracy}\")\n",
    "print(\"Classification Report:\\n\", classification_rep)"
   ]
  },
  {
   "cell_type": "code",
   "execution_count": null,
   "id": "949b0fef-73b9-4d2b-8edc-b3ecd4dfedc9",
   "metadata": {},
   "outputs": [],
   "source": [
    "# Example input for a new Iris flower with feature values:\n",
    "new_input = [[2.9, 3.0, 1.1, 4.8]]  # sepal.length, sepal.width, petal.length, petal.width\n",
    "\n",
    "# Convert the input to a DataFrame with the same feature names\n",
    "new_input_df = pd.DataFrame(new_input, columns=['sepal.length', 'sepal.width', 'petal.length', 'petal.width'])\n",
    "\n",
    "# Use the trained logistic regression model to predict the class\n",
    "predicted_class = logistic_model.predict(new_input_df)\n",
    "\n",
    "# Convert the predicted numerical class back to the original flower name\n",
    "predicted_flower = label_encoder.inverse_transform(predicted_class)\n",
    "\n",
    "print(f\"Predicted Flower: {predicted_flower[0]}\")\n"
   ]
  },
  {
   "cell_type": "code",
   "execution_count": null,
   "id": "f143a854-2321-43fe-98c2-b8ed795d3c34",
   "metadata": {},
   "outputs": [],
   "source": []
  },
  {
   "cell_type": "code",
   "execution_count": null,
   "id": "7ce23b86-7ed6-4247-8b0f-706ac239b891",
   "metadata": {},
   "outputs": [],
   "source": []
  },
  {
   "cell_type": "markdown",
   "id": "9ac5b09a-e242-4f04-a859-3d98143aef69",
   "metadata": {},
   "source": [
    "Example 3: Diabetes dataset"
   ]
  },
  {
   "cell_type": "code",
   "execution_count": 2,
   "id": "92228e1b-b6fd-44b9-8734-38dccaa5f9ca",
   "metadata": {},
   "outputs": [],
   "source": [
    "# Load the dataset\n",
    "data = pd.read_csv('./../datafiles/diabetes.csv')"
   ]
  },
  {
   "cell_type": "code",
   "execution_count": 3,
   "id": "10278e70-7c7d-400a-9c32-0be26dc3593c",
   "metadata": {},
   "outputs": [
    {
     "name": "stdout",
     "output_type": "stream",
     "text": [
      "   Pregnancies  Glucose  BloodPressure  SkinThickness  Insulin   BMI  \\\n",
      "0            6      148             72             35        0  33.6   \n",
      "1            1       85             66             29        0  26.6   \n",
      "2            8      183             64              0        0  23.3   \n",
      "3            1       89             66             23       94  28.1   \n",
      "4            0      137             40             35      168  43.1   \n",
      "\n",
      "   DiabetesPedigreeFunction  Age  Outcome  \n",
      "0                     0.627   50        1  \n",
      "1                     0.351   31        0  \n",
      "2                     0.672   32        1  \n",
      "3                     0.167   21        0  \n",
      "4                     2.288   33        1  \n"
     ]
    }
   ],
   "source": [
    "# Display the first few rows of the dataset\n",
    "print(data.head())"
   ]
  },
  {
   "cell_type": "code",
   "execution_count": null,
   "id": "1f07d50b-ee4e-4b1c-9cf1-9758864bb6c8",
   "metadata": {},
   "outputs": [],
   "source": [
    "# Features and target variable\n",
    "X = data.drop('Outcome', axis=1)\n",
    "y = data['Outcome']"
   ]
  },
  {
   "cell_type": "code",
   "execution_count": null,
   "id": "65cd14d2-0d98-4bac-aa38-988dfd9b84a3",
   "metadata": {},
   "outputs": [],
   "source": [
    "# Splitting the dataset into training and testing sets\n",
    "X_train, X_test, y_train, y_test = train_test_split(X, y, test_size=0.2, random_state=42)\n",
    "\n",
    "# Creating and training the logistic regression model\n",
    "model = LogisticRegression(max_iter=200,class_weight='balanced')\n",
    "model.fit(X_train, y_train)\n",
    "\n",
    "# Making predictions on the test set\n",
    "y_pred = model.predict(X_test)"
   ]
  },
  {
   "cell_type": "code",
   "execution_count": null,
   "id": "f5a2309a-6d29-4a8f-8e28-abcbaecb7cf2",
   "metadata": {},
   "outputs": [],
   "source": [
    "# After training and before making predictions\n",
    "print(\"Class distribution in target variable:\")\n",
    "print(y.value_counts())\n",
    "\n",
    "# Making predictions on the test set\n",
    "y_pred = model.predict(X_test)\n",
    "\n",
    "# Check unique predictions\n",
    "print(\"Unique predictions:\", np.unique(y_pred))\n",
    "\n",
    "# Generate confusion matrix\n",
    "cm = confusion_matrix(y_test, y_pred)\n",
    "print(\"Confusion Matrix:\")\n",
    "print(cm)\n",
    "\n",
    "# Classification report\n",
    "report = classification_report(y_test, y_pred)\n",
    "print(\"Classification Report:\")\n",
    "print(report)\n"
   ]
  },
  {
   "cell_type": "code",
   "execution_count": null,
   "id": "37f93c4d-e7e3-4f01-aa5a-3a157c8225de",
   "metadata": {},
   "outputs": [],
   "source": [
    "# Visualizing the confusion matrix\n",
    "plt.figure(figsize=(8, 6))\n",
    "sns.heatmap(cm, annot=True, fmt='d', cmap='flare', \n",
    "            xticklabels=['No Diabetes', 'Diabetes'], \n",
    "            yticklabels=['No Diabetes', 'Diabetes'])\n",
    "\n",
    "# Add labels, title, and adjust for readability\n",
    "plt.ylabel('Actual')\n",
    "plt.xlabel('Predicted')\n",
    "plt.title('Confusion Matrix')\n",
    "plt.show()"
   ]
  },
  {
   "cell_type": "code",
   "execution_count": null,
   "id": "e971643f-0cbd-4166-8a71-6c26c5300255",
   "metadata": {},
   "outputs": [],
   "source": [
    "# Testing with a new input\n",
    "new_data = pd.DataFrame([[5, 116, 74, 0, 0, 25.6, 0.201, 30]], \n",
    "                         columns=X.columns)  # Use the same columns as X\n",
    "prediction = model.predict(new_data)\n",
    "print(f\"Predicted Outcome for input {new_data.iloc[0].values}: {prediction[0]}\")"
   ]
  },
  {
   "cell_type": "code",
   "execution_count": 3,
   "id": "4de3ceb9-a2d5-404f-aa5c-01a8e5fbe9a6",
   "metadata": {},
   "outputs": [
    {
     "name": "stdout",
     "output_type": "stream",
     "text": [
      "Slope (beta_1): 0.6\n",
      "Intercept (beta_0): 2.2\n"
     ]
    }
   ],
   "source": [
    "from sklearn.linear_model import LinearRegression\n",
    "import numpy as np\n",
    "\n",
    "# Sample data (independent variable X and dependent variable Y)\n",
    "X = np.array([[1], [2], [3], [4], [5]])  # Reshape for sklearn (expects 2D array)\n",
    "Y = np.array([2, 4, 5, 4, 5])\n",
    "\n",
    "# Create a linear regression model\n",
    "model = LinearRegression()\n",
    "\n",
    "# Fit the model with the data\n",
    "model.fit(X, Y)\n",
    "\n",
    "# Get the slope (beta_1) and intercept (beta_0)\n",
    "beta_1 = model.coef_[0]\n",
    "beta_0 = model.intercept_\n",
    "\n",
    "# Output\n",
    "print(f\"Slope (beta_1): {beta_1}\")\n",
    "print(f\"Intercept (beta_0): {beta_0}\")\n"
   ]
  },
  {
   "cell_type": "code",
   "execution_count": null,
   "id": "855ef45f-7b55-4182-bf11-942cdced6bd8",
   "metadata": {},
   "outputs": [],
   "source": []
  },
  {
   "cell_type": "code",
   "execution_count": null,
   "id": "eadc2eb8-4ece-455c-8f94-48a510d1b943",
   "metadata": {},
   "outputs": [],
   "source": []
  },
  {
   "cell_type": "code",
   "execution_count": null,
   "id": "ad424cb4-8abc-4887-8af6-f1c709323cc1",
   "metadata": {},
   "outputs": [],
   "source": []
  },
  {
   "cell_type": "code",
   "execution_count": null,
   "id": "5a80dfd0-edb1-4e31-88fa-625c452a5ee8",
   "metadata": {},
   "outputs": [],
   "source": []
  }
 ],
 "metadata": {
  "kernelspec": {
   "display_name": "Python 3 (ipykernel)",
   "language": "python",
   "name": "python3"
  },
  "language_info": {
   "codemirror_mode": {
    "name": "ipython",
    "version": 3
   },
   "file_extension": ".py",
   "mimetype": "text/x-python",
   "name": "python",
   "nbconvert_exporter": "python",
   "pygments_lexer": "ipython3",
   "version": "3.12.6"
  }
 },
 "nbformat": 4,
 "nbformat_minor": 5
}
