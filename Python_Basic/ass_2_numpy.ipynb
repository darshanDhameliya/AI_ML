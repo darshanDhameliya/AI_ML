{
 "cells": [
  {
   "cell_type": "markdown",
   "metadata": {},
   "source": [
    "# Numppy Assignment\n",
    "* Easy"
   ]
  },
  {
   "cell_type": "code",
   "execution_count": 194,
   "metadata": {},
   "outputs": [],
   "source": [
    "import numpy as np\n",
    "import time"
   ]
  },
  {
   "cell_type": "code",
   "execution_count": 12,
   "metadata": {
    "vscode": {
     "languageId": "plaintext"
    }
   },
   "outputs": [
    {
     "name": "stdout",
     "output_type": "stream",
     "text": [
      "[[53 12 71 25 98]\n",
      " [83 73  9 34 91]\n",
      " [39 34  5 77 49]\n",
      " [75  9 49 97 40]]\n"
     ]
    }
   ],
   "source": [
    "# 1. Create a 1D array of 20 sequential integers and reshape it into a 4x5 matrix.\n",
    "arr = np.random.randint(100, size=(20))\n",
    "\n",
    "newarr = arr.reshape(4, 5)\n",
    "\n",
    "print(newarr)"
   ]
  },
  {
   "cell_type": "code",
   "execution_count": 22,
   "metadata": {},
   "outputs": [
    {
     "name": "stdout",
     "output_type": "stream",
     "text": [
      "[22 24 26 28 30 32 34 36 38 40 42 44 46 48 50 52 54 56 58 60 62 64 66 68\n",
      " 70]\n"
     ]
    }
   ],
   "source": [
    "# 2. Write the code using np.arange() to get all even numbers between 21 and 70, (70 inclusive)\n",
    "\n",
    "arr = np.arange(22, 71, 2)\n",
    "\n",
    "print(arr)"
   ]
  },
  {
   "cell_type": "code",
   "execution_count": 24,
   "metadata": {},
   "outputs": [
    {
     "name": "stdout",
     "output_type": "stream",
     "text": [
      "[21 23 25 27 29 31 33 35 37 39 41 43 45 47 49 51 53 55 57 59 61 63 65 67\n",
      " 69 71]\n"
     ]
    }
   ],
   "source": [
    "# 3. Write the code using np.arange() to get all odd numbers between 20 and 71. (71 inclusive)\n",
    "\n",
    "arr = np.arange(21, 72, 2)\n",
    "\n",
    "print(arr)"
   ]
  },
  {
   "cell_type": "code",
   "execution_count": 26,
   "metadata": {},
   "outputs": [
    {
     "name": "stdout",
     "output_type": "stream",
     "text": [
      "[16 19 23 28 29 33 48 51 62 66 67 76 77 80 82]\n"
     ]
    }
   ],
   "source": [
    "# 4. Generate an array of 15 random integers and sort it in ascending order.\n",
    "arr = np.random.randint(100, size=(15))\n",
    "arr = np.sort(arr)\n",
    "\n",
    "print(arr)"
   ]
  },
  {
   "cell_type": "code",
   "execution_count": 34,
   "metadata": {},
   "outputs": [
    {
     "name": "stdout",
     "output_type": "stream",
     "text": [
      "[0. 0. 0. 0. 1. 0. 0. 0. 0. 0.]\n"
     ]
    }
   ],
   "source": [
    "# 5. Create a 1D array of zeros of length 10 and set the 5th element to 1.\n",
    "arr = np.zeros(10)\n",
    "arr[4] = 1\n",
    "\n",
    "print(arr)"
   ]
  },
  {
   "cell_type": "code",
   "execution_count": 35,
   "metadata": {},
   "outputs": [
    {
     "name": "stdout",
     "output_type": "stream",
     "text": [
      "[1 2 3 4 5]\n"
     ]
    }
   ],
   "source": [
    "# 6. Find the unique elements in a given array [1, 2, 2, 3, 4, 4, 5].\n",
    "arr = np.array([1, 2, 2, 3, 4, 4, 5])\n",
    "unique_arr = np.unique(arr)\n",
    "\n",
    "print(unique_arr)"
   ]
  },
  {
   "cell_type": "code",
   "execution_count": 41,
   "metadata": {},
   "outputs": [
    {
     "name": "stdout",
     "output_type": "stream",
     "text": [
      "[9 8 7 6 5 4 3 2 1 0]\n"
     ]
    }
   ],
   "source": [
    "# 7. Create an array with values ranging from 0 to 10 and reverse the array.\n",
    "arr = np.arange(0, 10)\n",
    "reverse_arr = np.flip(arr)\n",
    "\n",
    "print(reverse_arr)"
   ]
  },
  {
   "cell_type": "code",
   "execution_count": 81,
   "metadata": {},
   "outputs": [
    {
     "name": "stdout",
     "output_type": "stream",
     "text": [
      "mean_crane_bird_age:  4.75\n",
      "oldest_bird:  ['plovers']\n"
     ]
    }
   ],
   "source": [
    "# 8. Given a list of birds and their corresponding age, calculate:\n",
    "    # birds = ['spoonbills', 'plovers', 'plovers', 'plovers', 'plovers', 'Cranes', 'plovers', 'plovers', 'Cranes', 'spoonbills']\n",
    "    # age = [5.5, 6.0, 3.5, 1.5, 3.0, 4.0, 3.5, 2.0, 5.5, 6.0]\n",
    "        # a. the mean age of the Crane bird (rounded off to 2 decimal points)\n",
    "        # b. find the name of the oldest bird in the list\n",
    "\n",
    "birds = np.array(['spoonbills', 'plovers', 'plovers', 'plovers', 'plovers', 'Cranes', 'plovers', 'plovers', 'Cranes', 'spoonbills'])\n",
    "age = np.array([5.5, 6.0, 3.5, 1.5, 3.0, 4.0, 3.5, 2.0, 5.5, 6.0])\n",
    "\n",
    "matrix = np.column_stack((birds, age))\n",
    "\n",
    "crane_bird_age = matrix[matrix[:, 0] == 'Cranes', 1]\n",
    "mean_crane_bird_age = np.mean(crane_bird_age.astype(float))\n",
    "\n",
    "print(\"mean_crane_bird_age: \", mean_crane_bird_age)\n",
    "\n",
    "oldest_age = np.min(matrix[:, 1].astype(float))\n",
    "oldest_bird = matrix[matrix[:,1].astype(float)==oldest_age, 0]\n",
    "\n",
    "print(\"oldest_bird: \", oldest_bird)"
   ]
  },
  {
   "cell_type": "code",
   "execution_count": 111,
   "metadata": {},
   "outputs": [
    {
     "name": "stdout",
     "output_type": "stream",
     "text": [
      "second to fourth raw:\n",
      " [[21 22 23 24 25]\n",
      " [31 32 33 34 35]\n",
      " [41 42 43 44 45]]\n",
      "last tree column:\n",
      " [[ 3  4  5]\n",
      " [13 14 15]\n",
      " [23 24 25]\n",
      " [33 34 35]\n",
      " [43 44 45]]\n",
      "rows reversed order\n",
      " [[45 44 43 42 41]\n",
      " [35 34 33 32 31]\n",
      " [25 24 23 22 21]\n",
      " [15 14 13 12 11]\n",
      " [ 5  4  3  2  1]]\n"
     ]
    }
   ],
   "source": [
    "# 9. Given a 2d array, write a program to return a subarray such that the subarray consists of the elements from:\n",
    "    # a. the second to the fourth row of the original array,\n",
    "    # b. the elements in these rows should be from the last three columns of the corresponding rows of the original array,\n",
    "    # c. the rows should be in reversed order.\n",
    "\n",
    "matrix = np.array([\n",
    "                    [1, 2, 3, 4, 5],\n",
    "                    [11, 12, 13, 14, 15],\n",
    "                    [21, 22, 23, 24, 25],\n",
    "                    [31, 32, 33, 34, 35],\n",
    "                    [41, 42, 43, 44, 45]\n",
    "                  ])\n",
    "\n",
    "print(\"second to fourth raw:\\n\", matrix[2:5])\n",
    "print(\"last tree column:\\n\", matrix[:, -3:])\n",
    "print(\"rows reversed order\\n\", np.flip(matrix))"
   ]
  },
  {
   "cell_type": "markdown",
   "metadata": {},
   "source": [
    "* Moderate"
   ]
  },
  {
   "cell_type": "code",
   "execution_count": 120,
   "metadata": {},
   "outputs": [
    {
     "name": "stdout",
     "output_type": "stream",
     "text": [
      "before: \n",
      " [[3 7 6 5]\n",
      " [5 9 6 1]\n",
      " [1 2 0 6]\n",
      " [4 7 8 5]]\n",
      "after: \n",
      " [[7 7 6 5]\n",
      " [5 7 6 1]\n",
      " [1 2 7 6]\n",
      " [4 7 8 7]]\n"
     ]
    }
   ],
   "source": [
    "# 1. Create a 4x4 matrix and replace all elements on its diagonal with 7.\n",
    "matrix = np.random.randint(10, size=(4, 4))\n",
    "\n",
    "print(\"before: \\n\", matrix)\n",
    "np.fill_diagonal(matrix, 7)\n",
    "print(\"after: \\n\", matrix)"
   ]
  },
  {
   "cell_type": "code",
   "execution_count": 127,
   "metadata": {},
   "outputs": [
    {
     "name": "stdout",
     "output_type": "stream",
     "text": [
      "arr1:  [7 8 4 1 1]\n",
      "arr2:  [5 4 4 6 0]\n",
      "ans:  [35 32 16  6  0]\n"
     ]
    }
   ],
   "source": [
    "# 2. Given two arrays of the same size, compute their element-wise product.\n",
    "\n",
    "arr1 = np.random.randint(10, size=(5))\n",
    "arr2 = np.random.randint(10, size=(5))\n",
    "\n",
    "print(\"arr1: \", arr1)\n",
    "print(\"arr2: \", arr2)\n",
    "\n",
    "ans = np.multiply(arr1, arr2)\n",
    "print(\"ans: \", ans)"
   ]
  },
  {
   "cell_type": "code",
   "execution_count": 135,
   "metadata": {},
   "outputs": [
    {
     "name": "stdout",
     "output_type": "stream",
     "text": [
      "matrix: \n",
      " [[4 3]\n",
      " [8 6]]\n",
      "mean_value:  5.25\n",
      "std_deviation:  1.920286436967152\n"
     ]
    }
   ],
   "source": [
    "# 3. Create a random 6x6 matrix and compute the mean and standard deviation of its elements.\n",
    "matrix = np.random.randint(10, size=(2, 2))\n",
    "\n",
    "mean_value = np.mean(matrix)\n",
    "std_deviation = np.std(matrix)\n",
    "\n",
    "print(\"matrix: \\n\",matrix)\n",
    "print(\"mean_value: \",mean_value)\n",
    "print(\"std_deviation: \",std_deviation)"
   ]
  },
  {
   "cell_type": "code",
   "execution_count": 144,
   "metadata": {},
   "outputs": [
    {
     "name": "stdout",
     "output_type": "stream",
     "text": [
      "arr1:  [3 3 2 9 3]\n",
      "arr2:  [1 8 9 1 1]\n",
      "vstack:  [5 0 3 1 0 0 1 3 3 3]\n",
      "hstack:  [3 3 2 9 3 1 8 9 1 1]\n"
     ]
    }
   ],
   "source": [
    "# 4. Stack two arrays vertically and horizontally (use vstack and hstack).\n",
    "arr1 = np.random.randint(10, size=(5))\n",
    "arr2 = np.random.randint(10, size=(5))\n",
    "\n",
    "print(\"arr1: \", arr1)\n",
    "print(\"arr2: \", arr2)\n",
    "\n",
    "vstack = np.vstack((arr1, arr2))\n",
    "print(\"vstack: \", hstack)\n",
    "hstack = np.hstack((arr1, arr2))\n",
    "print(\"hstack: \", hstack)"
   ]
  },
  {
   "cell_type": "code",
   "execution_count": 149,
   "metadata": {},
   "outputs": [
    {
     "name": "stdout",
     "output_type": "stream",
     "text": [
      "arr:  [0.96449922 0.66622886 0.51955848 0.36001625 0.23053753 0.19137493\n",
      " 0.74470322 0.83102451 0.6799818  0.80142439 0.18610255 0.06902488\n",
      " 0.88809417 0.17087566 0.45640913 0.6158132  0.44652557 0.96856382\n",
      " 0.08340789 0.74133049 0.01577197 0.35461413 0.51521059 0.84698261\n",
      " 0.10640772 0.57476836 0.69842593 0.88336208 0.18063    0.23318074\n",
      " 0.77755994 0.38182336 0.09832481 0.48802165 0.40401049 0.18238735\n",
      " 0.88767074 0.85223456 0.76925051 0.93261285 0.68024348 0.27790583\n",
      " 0.59739068 0.7654438  0.55910603 0.46733795 0.46966614 0.83172637\n",
      " 0.06227789 0.54588758]\n",
      "\n",
      "greater than 0.5:  27\n"
     ]
    }
   ],
   "source": [
    "# 5. Create a 1D array of 50 random floats between 0 and 1, and count how many values are greater than 0.5.\n",
    "\n",
    "arr =  np.random.rand(50)\n",
    "\n",
    "print(\"arr: \", arr)\n",
    "res = arr[arr[:] > 0.5]\n",
    "print(\"\\ngreater than 0.5: \", len(res))"
   ]
  },
  {
   "cell_type": "code",
   "execution_count": 162,
   "metadata": {},
   "outputs": [
    {
     "name": "stdout",
     "output_type": "stream",
     "text": [
      "before: \n",
      " [['spoonbills' '5.5']\n",
      " ['plovers' '6.0']\n",
      " ['plovers' '3.5']\n",
      " ['plovers' '1.5']\n",
      " ['plovers' '3.0']\n",
      " ['Cranes' '4.0']\n",
      " ['plovers' '3.5']\n",
      " ['plovers' '2.0']\n",
      " ['Cranes' '5.5']\n",
      " ['spoonbills' '6.0']]\n",
      "shorted: \n",
      " [['plovers' '1.5']\n",
      " ['plovers' '2.0']\n",
      " ['plovers' '3.0']\n",
      " ['plovers' '3.5']\n",
      " ['plovers' '3.5']\n",
      " ['Cranes' '4.0']\n",
      " ['spoonbills' '5.5']\n",
      " ['Cranes' '5.5']\n",
      " ['plovers' '6.0']\n",
      " ['spoonbills' '6.0']]\n"
     ]
    }
   ],
   "source": [
    "# 6. Given a list of birds and their corresponding age, return the name of birds sorted according to age (ascending)\n",
    "# birds = ['spoonbills', 'plovers', 'plovers', 'plovers', 'plovers', 'Cranes', 'plovers', 'plovers', 'Cranes', 'spoonbills']\n",
    "# age = [5.5, 6.0, 3.5, 1.5, 3.0, 4.0, 3.5, 2.0, 5.5, 6.0]\n",
    "\n",
    "birds = ['spoonbills', 'plovers', 'plovers', 'plovers', 'plovers', 'Cranes', 'plovers', 'plovers', 'Cranes', 'spoonbills']\n",
    "age = [5.5, 6.0, 3.5, 1.5, 3.0, 4.0, 3.5, 2.0, 5.5, 6.0]\n",
    "\n",
    "matrix = np.column_stack((birds, age))\n",
    "\n",
    "print(\"before: \\n\", matrix)\n",
    "matrix = matrix[matrix[:, 1].argsort()]\n",
    "print(\"shorted: \\n\", matrix)"
   ]
  },
  {
   "cell_type": "code",
   "execution_count": 167,
   "metadata": {},
   "outputs": [
    {
     "name": "stdout",
     "output_type": "stream",
     "text": [
      "[[ 3  7  3  3]\n",
      " [ 2  1  6  5]\n",
      " [ 4  3  2 10]]\n"
     ]
    }
   ],
   "source": [
    "# 7. Given the shape of an array and a range, Return an array of specified shape, consisting of\n",
    "    # random integers from \"discrete uniform\" distribution, in given range [low, high].\n",
    "    # Note: high is inclusive in range.\n",
    "    # Input Format:\n",
    "        # o Input has two lines.\n",
    "        # o First line contains the shape of the array.\n",
    "        # o Second line contains the range (low, high).\n",
    "        # Output Format: A NumPy array\n",
    "\n",
    "shape = (3,4)\n",
    "min_range = 1\n",
    "max_range = 10\n",
    "\n",
    "matrix = np.random.randint(min_range, max_range+1, size=shape)\n",
    "print(matrix)"
   ]
  },
  {
   "cell_type": "markdown",
   "metadata": {},
   "source": [
    "# Challenging"
   ]
  },
  {
   "cell_type": "code",
   "execution_count": 183,
   "metadata": {},
   "outputs": [
    {
     "name": "stdout",
     "output_type": "stream",
     "text": [
      "[81 75 12]\n"
     ]
    }
   ],
   "source": [
    "# 1. Create a 10x10 matrix with random integers and find the indices of the top 3 maximum values.\n",
    "    # * Concepts: Matrix generation, indexing with conditions.\n",
    "\n",
    "matrix = np.random.randint(100, size=(10, 10))\n",
    "flat_matrix = matrix.flatten()\n",
    "a = np.array([9, 4, 4, 3, 3, 9, 0, 4, 6, 0])\n",
    "index = flat_matrix.argsort()[-3:]\n",
    "\n",
    "print(index)"
   ]
  },
  {
   "cell_type": "code",
   "execution_count": 189,
   "metadata": {},
   "outputs": [
    {
     "name": "stdout",
     "output_type": "stream",
     "text": [
      "[1.3 0.8]\n"
     ]
    }
   ],
   "source": [
    "# 2. Solve a system of three linear equations using NumPy’s linalg.solve() function.\n",
    "    # * Concepts: Linear algebra, system of equations.\n",
    "\n",
    "a = np.array([[2, 3], [4, 1]])\n",
    "b = np.array([5, 6])\n",
    "\n",
    "x = np.linalg.solve(a, b)\n",
    "print(x)"
   ]
  },
  {
   "cell_type": "code",
   "execution_count": 192,
   "metadata": {},
   "outputs": [
    {
     "name": "stdout",
     "output_type": "stream",
     "text": [
      "Eigenvalues: [5. 2.]\n",
      "Eigenvectors:\n",
      " [[ 0.89442719 -0.70710678]\n",
      " [ 0.4472136   0.70710678]]\n"
     ]
    }
   ],
   "source": [
    "# 3. Generate a random 8x8 matrix and compute its eigenvalues and eigenvectors.\n",
    "    # * Concepts: Linear algebra, eigenvalues/eigenvectors.\n",
    "A = np.array([[4, 2], \n",
    "              [1, 3]])\n",
    "\n",
    "# Calculate eigenvalues and eigenvectors\n",
    "eigenvalues, eigenvectors = np.linalg.eig(A)\n",
    "\n",
    "# Output the results\n",
    "print(\"Eigenvalues:\", eigenvalues)\n",
    "print(\"Eigenvectors:\\n\", eigenvectors)"
   ]
  },
  {
   "cell_type": "code",
   "execution_count": 237,
   "metadata": {},
   "outputs": [
    {
     "name": "stdout",
     "output_type": "stream",
     "text": [
      "Total script run time: 0.020567 seconds\n",
      "matrix:  [[5 7 2 ... 0 5 4]\n",
      " [8 9 5 ... 8 9 6]\n",
      " [4 7 5 ... 6 4 4]\n",
      " ...\n",
      " [5 3 4 ... 7 7 6]\n",
      " [3 4 4 ... 1 9 3]\n",
      " [2 8 3 ... 6 0 6]]\n",
      "matrix_sum:  4497603\n"
     ]
    }
   ],
   "source": [
    "# 4. Create a large random matrix (1000x1000) and find the time taken to compute the sum of its elements.\n",
    "    # * Concepts: Performance evaluation, time computation.\n",
    "\n",
    "# Record the start time\n",
    "start_time = time.time()\n",
    "\n",
    "matrix = np.random.randint(10, size=(1000, 1000))\n",
    "matrix_sum = np.sum(matrix)\n",
    "\n",
    "# Record the end time\n",
    "end_time = time.time()\n",
    "\n",
    "# Calculate the total run time\n",
    "total_time = end_time - start_time\n",
    "print(f\"Total script run time: {total_time:.6f} seconds\")\n",
    "print(\"matrix: \", matrix)\n",
    "print(\"matrix_sum: \", matrix_sum)"
   ]
  },
  {
   "cell_type": "code",
   "execution_count": 239,
   "metadata": {},
   "outputs": [
    {
     "name": "stdout",
     "output_type": "stream",
     "text": [
      "Total script run time: 0.010642 seconds\n",
      "matrix1:  [[8 2 9 ... 3 5 2]\n",
      " [9 2 0 ... 9 7 1]\n",
      " [0 9 9 ... 6 1 4]\n",
      " ...\n",
      " [1 2 8 ... 5 2 2]\n",
      " [9 8 2 ... 6 2 0]\n",
      " [3 0 4 ... 8 8 6]]\n",
      "matrix2:  [[3 0 0 ... 3 9 5]\n",
      " [3 0 2 ... 9 2 7]\n",
      " [9 0 5 ... 0 7 8]\n",
      " ...\n",
      " [7 8 9 ... 2 2 4]\n",
      " [6 7 1 ... 7 3 8]\n",
      " [5 3 0 ... 9 7 9]]\n",
      "matrix_mult:  [[24  0  0 ...  9 45 10]\n",
      " [27  0  0 ... 81 14  7]\n",
      " [ 0  0 45 ...  0  7 32]\n",
      " ...\n",
      " [ 7 16 72 ... 10  4  8]\n",
      " [54 56  2 ... 42  6  0]\n",
      " [15  0  0 ... 72 56 54]]\n"
     ]
    }
   ],
   "source": [
    "# 5. Implement matrix multiplication of two large matrices (500x500) without using \n",
    "    # numpy.dot() and compare the performance with NumPy's dot product.\n",
    "    # * Concepts: Matrix multiplication, performance comparison.\n",
    "\n",
    "# Record the start time\n",
    "start_time = time.time()\n",
    "\n",
    "matrix1 = np.random.randint(10, size=(500, 500))\n",
    "matrix2 = np.random.randint(10, size=(500, 500))\n",
    "matrix_mult = matrix1 * matrix2\n",
    "\n",
    "# Record the end time\n",
    "end_time = time.time()\n",
    "\n",
    "# Calculate the total run time\n",
    "total_time = end_time - start_time\n",
    "print(f\"Total script run time: {total_time:.6f} seconds\")\n",
    "print(\"matrix1: \", matrix1)\n",
    "print(\"matrix2: \", matrix2)\n",
    "print(\"matrix_mult: \", matrix_mult)"
   ]
  }
 ],
 "metadata": {
  "kernelspec": {
   "display_name": "Python 3 (ipykernel)",
   "language": "python",
   "name": "python3"
  },
  "language_info": {
   "codemirror_mode": {
    "name": "ipython",
    "version": 3
   },
   "file_extension": ".py",
   "mimetype": "text/x-python",
   "name": "python",
   "nbconvert_exporter": "python",
   "pygments_lexer": "ipython3",
   "version": "3.12.4"
  }
 },
 "nbformat": 4,
 "nbformat_minor": 4
}
