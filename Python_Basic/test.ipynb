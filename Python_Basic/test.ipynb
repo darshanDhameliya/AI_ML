{
 "cells": [
  {
   "cell_type": "code",
   "execution_count": 12,
   "id": "780b1257-061c-49f4-8f55-a744ec024e8f",
   "metadata": {},
   "outputs": [
    {
     "name": "stdout",
     "output_type": "stream",
     "text": [
      "Hello my name is darshan\n"
     ]
    }
   ],
   "source": [
    "class Person:\n",
    "  def __init__(mysillyobject, name, age):\n",
    "    mysillyobject.name = name\n",
    "    mysillyobject.age = age\n",
    "\n",
    "  def myfunc(abc, name):\n",
    "    print(\"Hello my name is \" + name)\n",
    "\n",
    "p1 = Person(\"John\", 36)\n",
    "p1.myfunc(\"darshan\")"
   ]
  },
  {
   "cell_type": "code",
   "execution_count": null,
   "id": "433219d9-6b4e-41ea-9fc9-05fa411d4d71",
   "metadata": {},
   "outputs": [],
   "source": []
  }
 ],
 "metadata": {
  "kernelspec": {
   "display_name": "Python 3 (ipykernel)",
   "language": "python",
   "name": "python3"
  },
  "language_info": {
   "codemirror_mode": {
    "name": "ipython",
    "version": 3
   },
   "file_extension": ".py",
   "mimetype": "text/x-python",
   "name": "python",
   "nbconvert_exporter": "python",
   "pygments_lexer": "ipython3",
   "version": "3.12.4"
  }
 },
 "nbformat": 4,
 "nbformat_minor": 5
}
