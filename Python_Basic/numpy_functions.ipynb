{
 "cells": [
  {
   "cell_type": "markdown",
   "id": "1a54008e-cfc0-4836-8740-fd509a7cd8a4",
   "metadata": {},
   "source": [
    "# 1. Array Creation\n",
    "    a. numpy.array(): Create an array.\n",
    "    b. numpy.zeros(): Create an array filled with zeros.\n",
    "    c. numpy.ones(): Create an array filled with ones.\n",
    "    d. numpy.empty(): Create an empty array (values are uninitialized).\n",
    "    e. numpy.arange(): Create an array with a range of values.\n",
    "    f. numpy.linspace(): Create an array with evenly spaced values over a specified interval.\n",
    "    g. numpy.eye(): Create a 2D identity matrix.\n",
    "    h. numpy.random.rand(): Create an array of given shape filled with random values."
   ]
  },
  {
   "cell_type": "code",
   "execution_count": 4,
   "id": "737f29c0-ffbf-4015-a10f-dd2733612654",
   "metadata": {},
   "outputs": [],
   "source": [
    "import numpy as np"
   ]
  },
  {
   "cell_type": "code",
   "execution_count": 5,
   "id": "941af303-6b60-450e-8f5b-9e762fbd11f2",
   "metadata": {},
   "outputs": [
    {
     "name": "stdout",
     "output_type": "stream",
     "text": [
      "[1 2 3 4 5]\n",
      "[[1 2]\n",
      " [3 4]]\n"
     ]
    }
   ],
   "source": [
    "# a. numpy.array(): Create an array.\n",
    "# Create a 1D array\n",
    "arr1 = np.array([1, 2, 3, 4, 5])\n",
    "print(arr1)\n",
    "\n",
    "# Create a 2D array\n",
    "arr2 = np.array([[1, 2], [3, 4]])\n",
    "print(arr2)"
   ]
  },
  {
   "cell_type": "code",
   "execution_count": 6,
   "id": "5340f749-a696-433f-bf4b-5430904ce044",
   "metadata": {},
   "outputs": [
    {
     "name": "stdout",
     "output_type": "stream",
     "text": [
      "[0. 0. 0. 0. 0.]\n",
      "[[0. 0. 0.]\n",
      " [0. 0. 0.]\n",
      " [0. 0. 0.]]\n"
     ]
    }
   ],
   "source": [
    "# b. numpy.zeros(): Create an array filled with zeros.\n",
    "# Create a 1D array of 5 zeros\n",
    "arr_zeros1 = np.zeros(5)\n",
    "print(arr_zeros1)\n",
    "\n",
    "# Create a 2D array (3x3) of zeros\n",
    "arr_zeros2 = np.zeros((3, 3))\n",
    "print(arr_zeros2)"
   ]
  },
  {
   "cell_type": "code",
   "execution_count": 7,
   "id": "3dde1ec9-e8c0-402d-8c3f-944cad42ddda",
   "metadata": {},
   "outputs": [
    {
     "name": "stdout",
     "output_type": "stream",
     "text": [
      "[1. 1. 1. 1. 1.]\n",
      "[[1. 1. 1.]\n",
      " [1. 1. 1.]\n",
      " [1. 1. 1.]]\n"
     ]
    }
   ],
   "source": [
    "# c. numpy.ones(): Create an array filled with ones.\n",
    "# Create a 1D array of 5 ones\n",
    "arr_ones1 = np.ones(5)\n",
    "print(arr_ones1)\n",
    "\n",
    "# Create a 2D array (3x3) of ones\n",
    "arr_ones2 = np.ones((3, 3))\n",
    "print(arr_ones2)"
   ]
  },
  {
   "cell_type": "code",
   "execution_count": 9,
   "id": "c77cc755-3abe-4052-ba5b-a871a20e492d",
   "metadata": {},
   "outputs": [
    {
     "name": "stdout",
     "output_type": "stream",
     "text": [
      "[4.67464259e-310 2.16937688e+233 2.81448649e+161 5.26757081e+170\n",
      " 1.06209545e+248]\n",
      "[[4.67464259e-310 0.00000000e+000 2.16937688e+233]\n",
      " [2.81448649e+161 5.26757081e+170 1.06209545e+248]]\n"
     ]
    }
   ],
   "source": [
    "# d. numpy.empty(): Create an empty array (values are uninitialized).\n",
    "# Create a 1D empty array of size 5\n",
    "arr_empty1 = np.empty(5)\n",
    "print(arr_empty1)\n",
    "\n",
    "# Create a 2D empty array (2x3)\n",
    "arr_empty2 = np.empty((2, 3))\n",
    "print(arr_empty2)"
   ]
  },
  {
   "cell_type": "code",
   "execution_count": 10,
   "id": "52666f11-b62c-451f-ba6c-ff015c5a43b0",
   "metadata": {},
   "outputs": [
    {
     "name": "stdout",
     "output_type": "stream",
     "text": [
      "[0 1 2 3 4 5 6 7 8 9]\n",
      "[1 3 5 7 9]\n"
     ]
    }
   ],
   "source": [
    "# e. numpy.arange(): Create an array with a range of values.\n",
    "# Create an array of values from 0 to 9\n",
    "arr_range = np.arange(10)\n",
    "print(arr_range)\n",
    "\n",
    "# Create an array of values from 1 to 10, with a step of 2\n",
    "arr_step_range = np.arange(1, 11, 2)\n",
    "print(arr_step_range)"
   ]
  },
  {
   "cell_type": "code",
   "execution_count": 11,
   "id": "8977c863-4ef6-4d10-87a9-a63d5d95c18e",
   "metadata": {},
   "outputs": [
    {
     "name": "stdout",
     "output_type": "stream",
     "text": [
      "[0.   0.25 0.5  0.75 1.  ]\n",
      "[ 1.  2.  3.  4.  5.  6.  7.  8.  9. 10.]\n"
     ]
    }
   ],
   "source": [
    "# f. numpy.linspace(): Create an array with evenly spaced values over a specified interval.\n",
    "# Create 5 evenly spaced values between 0 and 1\n",
    "arr_linspace = np.linspace(0, 1, 5)\n",
    "print(arr_linspace)\n",
    "\n",
    "# Create 10 evenly spaced values between 1 and 10\n",
    "arr_linspace2 = np.linspace(1, 10, 10)\n",
    "print(arr_linspace2)"
   ]
  },
  {
   "cell_type": "code",
   "execution_count": 12,
   "id": "401ab3c5-47c4-4700-b68f-e81c708d0333",
   "metadata": {},
   "outputs": [
    {
     "name": "stdout",
     "output_type": "stream",
     "text": [
      "[[1. 0. 0.]\n",
      " [0. 1. 0.]\n",
      " [0. 0. 1.]]\n",
      "[[1. 0. 0. 0.]\n",
      " [0. 1. 0. 0.]\n",
      " [0. 0. 1. 0.]\n",
      " [0. 0. 0. 1.]]\n"
     ]
    }
   ],
   "source": [
    "# g. numpy.eye(): Create a 2D identity matrix.\n",
    "# Create a 3x3 identity matrix\n",
    "arr_eye = np.eye(3)\n",
    "print(arr_eye)\n",
    "\n",
    "# Create a 4x4 identity matrix\n",
    "arr_eye2 = np.eye(4)\n",
    "print(arr_eye2)"
   ]
  },
  {
   "cell_type": "code",
   "execution_count": 14,
   "id": "f728ab66-0519-498b-97d2-7d9d1eca65f6",
   "metadata": {},
   "outputs": [
    {
     "name": "stdout",
     "output_type": "stream",
     "text": [
      "[0.90427273 0.6164078  0.05076053 0.95980928 0.98635499]\n",
      "[[0.18183931 0.97283629 0.69085143]\n",
      " [0.80271946 0.4165247  0.82728961]\n",
      " [0.66957065 0.34792749 0.9215409 ]]\n"
     ]
    }
   ],
   "source": [
    "# h. numpy.random.rand(): Create an array of given shape filled with random values.\n",
    "# Create a 1D array of 5 random values\n",
    "arr_rand1 = np.random.rand(5)\n",
    "print(arr_rand1)\n",
    "\n",
    "# Create a 2D array (3x3) of random values\n",
    "arr_rand2 = np.random.rand(3, 3)\n",
    "print(arr_rand2)"
   ]
  },
  {
   "cell_type": "markdown",
   "id": "b96a5949-58be-4e7b-8b5b-94c39a4ae4f4",
   "metadata": {},
   "source": [
    "# 2. Array Manipulation\n",
    "    a. numpy.reshape(): Change the shape of an array.\n",
    "    b. numpy.flatten(): Flatten a multi-dimensional array.\n",
    "    c. numpy.ravel(): Return a contiguous flattened array.\n",
    "    d. numpy.transpose(): Transpose an array.\n",
    "    e. numpy.swapaxes(): Interchange two axes of an array.\n",
    "    f. numpy.concatenate(): Join a sequence of arrays along an existing axis.\n",
    "    g. numpy.stack(): Join a sequence of arrays along a new axis.\n",
    "    h. numpy.split(): Split an array into multiple sub-arrays.\n",
    "    i. numpy.tile(): Construct an array by repeating an array."
   ]
  },
  {
   "cell_type": "code",
   "execution_count": 15,
   "id": "66c2b3a5-2194-488f-8a45-9be5768781fd",
   "metadata": {},
   "outputs": [
    {
     "name": "stdout",
     "output_type": "stream",
     "text": [
      "[[ 0  1  2  3]\n",
      " [ 4  5  6  7]\n",
      " [ 8  9 10 11]]\n"
     ]
    }
   ],
   "source": [
    "# a. numpy.reshape(): Change the shape of an array.\n",
    "# Create a 1D array and reshape it to a 2D array\n",
    "arr = np.arange(12)  # 1D array [0, 1, 2, ..., 11]\n",
    "reshaped_arr = np.reshape(arr, (3, 4))  # 2D array with shape (3, 4)\n",
    "print(reshaped_arr)"
   ]
  },
  {
   "cell_type": "code",
   "execution_count": 22,
   "id": "26497cc8-1d9c-4d67-bedc-270d70d22dcf",
   "metadata": {},
   "outputs": [
    {
     "name": "stdout",
     "output_type": "stream",
     "text": [
      "[1 2 3 4 5 6]\n"
     ]
    }
   ],
   "source": [
    "# b. numpy.flatten(): Flatten a multi-dimensi# Create a 2D array\n",
    "# Create a 2D array\n",
    "arr_2d = np.array([[1, 2], [3, 4], [5, 6]])\n",
    "\n",
    "# Flatten the array into 1D\n",
    "flattened_arr = arr_2d.flatten()\n",
    "print(flattened_arr)"
   ]
  },
  {
   "cell_type": "code",
   "execution_count": 23,
   "id": "ef620e80-cac9-4e43-b926-878f907bf610",
   "metadata": {},
   "outputs": [
    {
     "name": "stdout",
     "output_type": "stream",
     "text": [
      "[ 7  8  9 10]\n"
     ]
    }
   ],
   "source": [
    "# c. numpy.ravel(): Return a contiguous flattened array.\n",
    "# Create a 2D array\n",
    "arr_2d = np.array([[7, 8], [9, 10]])\n",
    "\n",
    "# Use ravel to flatten it\n",
    "raveled_arr = np.ravel(arr_2d)\n",
    "print(raveled_arr)"
   ]
  },
  {
   "cell_type": "code",
   "execution_count": 25,
   "id": "ebdfcf7a-0ceb-4b63-a401-da1c646a7f27",
   "metadata": {},
   "outputs": [
    {
     "name": "stdout",
     "output_type": "stream",
     "text": [
      "[[1 4]\n",
      " [2 5]\n",
      " [3 6]]\n"
     ]
    }
   ],
   "source": [
    "# d. numpy.transpose(): Transpose an array.\n",
    "# Create a 2D array\n",
    "arr_2d = np.array([[1, 2, 3], [4, 5, 6]])\n",
    "\n",
    "# Transpose the array\n",
    "transposed_arr = np.transpose(arr_2d)\n",
    "print(transposed_arr)"
   ]
  },
  {
   "cell_type": "code",
   "execution_count": 27,
   "id": "0e3fddbe-e0db-49fe-aca9-654c1e0b995a",
   "metadata": {},
   "outputs": [
    {
     "name": "stdout",
     "output_type": "stream",
     "text": [
      "[[[1 5]\n",
      "  [3 7]]\n",
      "\n",
      " [[2 6]\n",
      "  [4 8]]]\n"
     ]
    }
   ],
   "source": [
    "# e. numpy.swapaxes(): Interchange two axes of an array.\n",
    "# Create a 3D array\n",
    "arr_3d = np.array([[[1, 2], [3, 4]], [[5, 6], [7, 8]]])\n",
    "\n",
    "# Swap axes (0 and 2)\n",
    "swapped_arr = np.swapaxes(arr_3d, 0, 2)\n",
    "print(swapped_arr)"
   ]
  },
  {
   "cell_type": "code",
   "execution_count": 28,
   "id": "598cab78-6236-45d1-9243-23c271e54ae3",
   "metadata": {},
   "outputs": [
    {
     "name": "stdout",
     "output_type": "stream",
     "text": [
      "[[1 2]\n",
      " [3 4]\n",
      " [5 6]\n",
      " [7 8]]\n"
     ]
    }
   ],
   "source": [
    "# f. numpy.concatenate(): Join a sequence of arrays along an existing axis.\n",
    "# Create two 2D arrays\n",
    "arr1 = np.array([[1, 2], [3, 4]])\n",
    "arr2 = np.array([[5, 6], [7, 8]])\n",
    "\n",
    "# Concatenate along axis 0 (rows)\n",
    "concatenated_arr = np.concatenate((arr1, arr2), axis=0)\n",
    "print(concatenated_arr)"
   ]
  },
  {
   "cell_type": "code",
   "execution_count": 34,
   "id": "d575b240-d031-4944-a585-02228bc0424b",
   "metadata": {},
   "outputs": [
    {
     "name": "stdout",
     "output_type": "stream",
     "text": [
      "[[1 2]\n",
      " [3 4]]\n"
     ]
    }
   ],
   "source": [
    "# g. numpy.stack(): Join a sequence of arrays along a new axis.\n",
    "# Create two 1D arrays\n",
    "arr1 = np.array([1, 2])\n",
    "arr2 = np.array([3, 4])\n",
    "\n",
    "# Stack them along a new axis\n",
    "stacked_arr = np.stack((arr1, arr2), axis=0)  # Stacks along rows\n",
    "print(stacked_arr)"
   ]
  },
  {
   "cell_type": "code",
   "execution_count": 35,
   "id": "57f6dd7f-d996-4c6d-bbc9-a71b460ca533",
   "metadata": {},
   "outputs": [
    {
     "name": "stdout",
     "output_type": "stream",
     "text": [
      "[array([0, 1, 2]), array([3, 4, 5]), array([6, 7, 8])]\n"
     ]
    }
   ],
   "source": [
    "# h. numpy.split(): Split an array into multiple sub-arrays.\n",
    "# Create a 1D array\n",
    "arr = np.arange(9)\n",
    "\n",
    "# Split the array into 3 equal parts\n",
    "split_arr = np.split(arr, 3)\n",
    "print(split_arr)"
   ]
  },
  {
   "cell_type": "code",
   "execution_count": 36,
   "id": "4f515bd7-97df-49e7-bbd1-d38fc189e6ff",
   "metadata": {},
   "outputs": [
    {
     "name": "stdout",
     "output_type": "stream",
     "text": [
      "[[0 1 2 0 1 2 0 1 2]\n",
      " [0 1 2 0 1 2 0 1 2]]\n"
     ]
    }
   ],
   "source": [
    "# i. numpy.tile(): Construct an array by repeating an array.\n",
    "# Create a 1D array\n",
    "arr = np.array([0, 1, 2])\n",
    "\n",
    "# Repeat the array 2 times along each axis\n",
    "tiled_arr = np.tile(arr, (2, 3))\n",
    "print(tiled_arr)"
   ]
  },
  {
   "cell_type": "markdown",
   "id": "984bf709-d4e1-466a-a5d3-5705cb14ac09",
   "metadata": {},
   "source": [
    "# 3. Array Operations\n",
    "    a. numpy.add(): Element-wise addition.\n",
    "    b. numpy.subtract(): Element-wise subtraction.\n",
    "    c. numpy.multiply(): Element-wise multiplication.\n",
    "    d. numpy.divide(): Element-wise division.\n",
    "    e. numpy.dot(): Dot product of two arrays.\n",
    "    f. numpy.matmul(): Matrix product of two arrays.\n",
    "    g. numpy.power(): Element-wise exponentiation.\n",
    "# 4. Statistical Functions\n",
    "    a. numpy.mean(): Compute the arithmetic mean.\n",
    "    b. numpy.median(): Compute the median.    a. numpy.std(): Compute the standard deviation.\n",
    "    c. numpy.var(): Compute the variance.\n",
    "    d. numpy.min(): Return the minimum value.\n",
    "    e. numpy.max(): Return the maximum value.\n",
    "    f. numpy.sum(): Sum of array elements.\n",
    "    g. numpy.prod(): Product of array elements.\n",
    "# 5. Linear Algebra\n",
    "    a. numpy.linalg.inv(): Compute the inverse of a matrix.\n",
    "    b. numpy.linalg.det(): Compute the determinant of a matrix.\n",
    "    c. numpy.linalg.eig(): Compute the eigenvalues and right eigenvectors of a square array.\n",
    "    d. numpy.linalg.svd(): Singular Value Decomposition.\n",
    "    e. numpy.dot(): Perform dot product, essential for various mathematical computations in data science.\n",
    "# 6. Fourier Transform and Signal Processing\n",
    "    a. numpy.fft.fft(): Compute the one-dimensional discrete Fourier Transform.\n",
    "    b. numpy.fft.ifft(): Compute the inverse of the one-dimensional discrete Fourier Transform.\n",
    "# 7. Random Number Generation\n",
    "    a. numpy.random.rand(): Generate uniform random numbers.\n",
    "    b. numpy.random.randn(): Generate samples from the standard normal distribution.\n",
    "    c. numpy.random.randint(): Generate random integers.\n",
    "    d. numpy.random.choice(): Generate a random sample from a given array.\n",
    "# 8. Logical Operations\n",
    "    a. numpy.all(): Test whether all array elements are True.\n",
    "    b. numpy.any(): Test whether any array element is True.\n",
    "    c. numpy.where(): Return elements chosen from x or y depending on a condition.\n",
    "# 9. File I/O\n",
    "    a.  numpy.load(): Load an array from a binary file. \n",
    "    b. numpy.save(): Save an array to a binary file.\n",
    "    c. numpy.loadtxt(): Load data from a text file.\n",
    "    d. numpy.savetxt(): Save an array to a text file.\n",
    "# 10. Broadcasting\n",
    "    a. NumPy automatically handles broadcasting, allowing arithmetic operations on arrays of different shapes.\n",
    "# 11. Other Utilities\n",
    "    a. numpy.unique(): Find the unique elements of an array.\n",
    "    b. numpy.argsort(): Returns the indices that would sort an array.\n",
    "    c. numpy.meshgrid(): Create coordinate matrices from coordinate vectors."
   ]
  }
 ],
 "metadata": {
  "kernelspec": {
   "display_name": "Python 3 (ipykernel)",
   "language": "python",
   "name": "python3"
  },
  "language_info": {
   "codemirror_mode": {
    "name": "ipython",
    "version": 3
   },
   "file_extension": ".py",
   "mimetype": "text/x-python",
   "name": "python",
   "nbconvert_exporter": "python",
   "pygments_lexer": "ipython3",
   "version": "3.12.4"
  }
 },
 "nbformat": 4,
 "nbformat_minor": 5
}
