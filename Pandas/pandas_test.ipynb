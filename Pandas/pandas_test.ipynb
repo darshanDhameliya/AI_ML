{
 "cells": [
  {
   "cell_type": "markdown",
   "id": "72a8f975-313e-4fc3-814b-2eb347709ea9",
   "metadata": {},
   "source": [
    "# Basic Questions (3 marks each)\n",
    "    1. Load the dataset and display the first 5 rows."
   ]
  },
  {
   "cell_type": "code",
   "execution_count": 100,
   "id": "5da19d63-37ea-47fe-8564-4ed96028472e",
   "metadata": {},
   "outputs": [],
   "source": [
    "import pandas as pd\n",
    "import seaborn as sns"
   ]
  },
  {
   "cell_type": "code",
   "execution_count": 3,
   "id": "9219e8a6-26c0-4c4b-9c72-5caf7af8878a",
   "metadata": {},
   "outputs": [
    {
     "data": {
      "text/html": [
       "<div>\n",
       "<style scoped>\n",
       "    .dataframe tbody tr th:only-of-type {\n",
       "        vertical-align: middle;\n",
       "    }\n",
       "\n",
       "    .dataframe tbody tr th {\n",
       "        vertical-align: top;\n",
       "    }\n",
       "\n",
       "    .dataframe thead th {\n",
       "        text-align: right;\n",
       "    }\n",
       "</style>\n",
       "<table border=\"1\" class=\"dataframe\">\n",
       "  <thead>\n",
       "    <tr style=\"text-align: right;\">\n",
       "      <th></th>\n",
       "      <th>Invoice ID</th>\n",
       "      <th>Branch</th>\n",
       "      <th>City</th>\n",
       "      <th>Customer type</th>\n",
       "      <th>Gender</th>\n",
       "      <th>Product line</th>\n",
       "      <th>Unit price</th>\n",
       "      <th>Quantity</th>\n",
       "      <th>Tax 5%</th>\n",
       "      <th>Total</th>\n",
       "      <th>Date</th>\n",
       "      <th>Time</th>\n",
       "      <th>Payment</th>\n",
       "      <th>cogs</th>\n",
       "      <th>gross margin percentage</th>\n",
       "      <th>gross income</th>\n",
       "      <th>Rating</th>\n",
       "    </tr>\n",
       "  </thead>\n",
       "  <tbody>\n",
       "    <tr>\n",
       "      <th>0</th>\n",
       "      <td>750-67-8428</td>\n",
       "      <td>A</td>\n",
       "      <td>Yangon</td>\n",
       "      <td>Member</td>\n",
       "      <td>Female</td>\n",
       "      <td>Health and beauty</td>\n",
       "      <td>74.69</td>\n",
       "      <td>7</td>\n",
       "      <td>26.1415</td>\n",
       "      <td>548.9715</td>\n",
       "      <td>1/5/2019</td>\n",
       "      <td>13:08</td>\n",
       "      <td>Ewallet</td>\n",
       "      <td>522.83</td>\n",
       "      <td>4.761905</td>\n",
       "      <td>26.1415</td>\n",
       "      <td>9.1</td>\n",
       "    </tr>\n",
       "    <tr>\n",
       "      <th>1</th>\n",
       "      <td>226-31-3081</td>\n",
       "      <td>C</td>\n",
       "      <td>Naypyitaw</td>\n",
       "      <td>Normal</td>\n",
       "      <td>Female</td>\n",
       "      <td>Electronic accessories</td>\n",
       "      <td>15.28</td>\n",
       "      <td>5</td>\n",
       "      <td>3.8200</td>\n",
       "      <td>80.2200</td>\n",
       "      <td>3/8/2019</td>\n",
       "      <td>10:29</td>\n",
       "      <td>Cash</td>\n",
       "      <td>76.40</td>\n",
       "      <td>4.761905</td>\n",
       "      <td>3.8200</td>\n",
       "      <td>9.6</td>\n",
       "    </tr>\n",
       "    <tr>\n",
       "      <th>2</th>\n",
       "      <td>631-41-3108</td>\n",
       "      <td>A</td>\n",
       "      <td>Yangon</td>\n",
       "      <td>Normal</td>\n",
       "      <td>Male</td>\n",
       "      <td>Home and lifestyle</td>\n",
       "      <td>46.33</td>\n",
       "      <td>7</td>\n",
       "      <td>16.2155</td>\n",
       "      <td>340.5255</td>\n",
       "      <td>3/3/2019</td>\n",
       "      <td>13:23</td>\n",
       "      <td>Credit card</td>\n",
       "      <td>324.31</td>\n",
       "      <td>4.761905</td>\n",
       "      <td>16.2155</td>\n",
       "      <td>7.4</td>\n",
       "    </tr>\n",
       "    <tr>\n",
       "      <th>3</th>\n",
       "      <td>123-19-1176</td>\n",
       "      <td>A</td>\n",
       "      <td>Yangon</td>\n",
       "      <td>Member</td>\n",
       "      <td>Male</td>\n",
       "      <td>Health and beauty</td>\n",
       "      <td>58.22</td>\n",
       "      <td>8</td>\n",
       "      <td>23.2880</td>\n",
       "      <td>489.0480</td>\n",
       "      <td>1/27/2019</td>\n",
       "      <td>20:33</td>\n",
       "      <td>Ewallet</td>\n",
       "      <td>465.76</td>\n",
       "      <td>4.761905</td>\n",
       "      <td>23.2880</td>\n",
       "      <td>8.4</td>\n",
       "    </tr>\n",
       "    <tr>\n",
       "      <th>4</th>\n",
       "      <td>373-73-7910</td>\n",
       "      <td>A</td>\n",
       "      <td>Yangon</td>\n",
       "      <td>Normal</td>\n",
       "      <td>Male</td>\n",
       "      <td>Sports and travel</td>\n",
       "      <td>86.31</td>\n",
       "      <td>7</td>\n",
       "      <td>30.2085</td>\n",
       "      <td>634.3785</td>\n",
       "      <td>2/8/2019</td>\n",
       "      <td>10:37</td>\n",
       "      <td>Ewallet</td>\n",
       "      <td>604.17</td>\n",
       "      <td>4.761905</td>\n",
       "      <td>30.2085</td>\n",
       "      <td>5.3</td>\n",
       "    </tr>\n",
       "  </tbody>\n",
       "</table>\n",
       "</div>"
      ],
      "text/plain": [
       "    Invoice ID Branch       City Customer type  Gender  \\\n",
       "0  750-67-8428      A     Yangon        Member  Female   \n",
       "1  226-31-3081      C  Naypyitaw        Normal  Female   \n",
       "2  631-41-3108      A     Yangon        Normal    Male   \n",
       "3  123-19-1176      A     Yangon        Member    Male   \n",
       "4  373-73-7910      A     Yangon        Normal    Male   \n",
       "\n",
       "             Product line  Unit price  Quantity   Tax 5%     Total       Date  \\\n",
       "0       Health and beauty       74.69         7  26.1415  548.9715   1/5/2019   \n",
       "1  Electronic accessories       15.28         5   3.8200   80.2200   3/8/2019   \n",
       "2      Home and lifestyle       46.33         7  16.2155  340.5255   3/3/2019   \n",
       "3       Health and beauty       58.22         8  23.2880  489.0480  1/27/2019   \n",
       "4       Sports and travel       86.31         7  30.2085  634.3785   2/8/2019   \n",
       "\n",
       "    Time      Payment    cogs  gross margin percentage  gross income  Rating  \n",
       "0  13:08      Ewallet  522.83                 4.761905       26.1415     9.1  \n",
       "1  10:29         Cash   76.40                 4.761905        3.8200     9.6  \n",
       "2  13:23  Credit card  324.31                 4.761905       16.2155     7.4  \n",
       "3  20:33      Ewallet  465.76                 4.761905       23.2880     8.4  \n",
       "4  10:37      Ewallet  604.17                 4.761905       30.2085     5.3  "
      ]
     },
     "execution_count": 3,
     "metadata": {},
     "output_type": "execute_result"
    }
   ],
   "source": [
    "df = pd.read_csv('./datafiles/supermarket_sales - Sheet1.csv')\n",
    "df.head(5)"
   ]
  },
  {
   "cell_type": "markdown",
   "id": "be5deac6-e9ef-4e2b-9370-c70679639b2e",
   "metadata": {},
   "source": [
    "    2. Check the datatype of each column in the dataset."
   ]
  },
  {
   "cell_type": "code",
   "execution_count": 4,
   "id": "fb7fbf3b-0451-4d2a-9348-28423af8c07b",
   "metadata": {},
   "outputs": [
    {
     "name": "stdout",
     "output_type": "stream",
     "text": [
      "<class 'pandas.core.frame.DataFrame'>\n",
      "RangeIndex: 1000 entries, 0 to 999\n",
      "Data columns (total 17 columns):\n",
      " #   Column                   Non-Null Count  Dtype  \n",
      "---  ------                   --------------  -----  \n",
      " 0   Invoice ID               1000 non-null   object \n",
      " 1   Branch                   1000 non-null   object \n",
      " 2   City                     1000 non-null   object \n",
      " 3   Customer type            1000 non-null   object \n",
      " 4   Gender                   1000 non-null   object \n",
      " 5   Product line             1000 non-null   object \n",
      " 6   Unit price               1000 non-null   float64\n",
      " 7   Quantity                 1000 non-null   int64  \n",
      " 8   Tax 5%                   1000 non-null   float64\n",
      " 9   Total                    1000 non-null   float64\n",
      " 10  Date                     1000 non-null   object \n",
      " 11  Time                     1000 non-null   object \n",
      " 12  Payment                  1000 non-null   object \n",
      " 13  cogs                     1000 non-null   float64\n",
      " 14  gross margin percentage  1000 non-null   float64\n",
      " 15  gross income             1000 non-null   float64\n",
      " 16  Rating                   1000 non-null   float64\n",
      "dtypes: float64(7), int64(1), object(9)\n",
      "memory usage: 132.9+ KB\n"
     ]
    }
   ],
   "source": [
    "df.info()"
   ]
  },
  {
   "cell_type": "markdown",
   "id": "6ac308ef-9e27-4692-861a-63acaf45e15f",
   "metadata": {},
   "source": [
    "    3. Find the total number of transactions in the dataset."
   ]
  },
  {
   "cell_type": "code",
   "execution_count": 7,
   "id": "bd8f26fb-35b5-4d06-812a-b64c8582ef4e",
   "metadata": {},
   "outputs": [
    {
     "data": {
      "text/plain": [
       "1000"
      ]
     },
     "execution_count": 7,
     "metadata": {},
     "output_type": "execute_result"
    }
   ],
   "source": [
    "df.shape[0]"
   ]
  },
  {
   "cell_type": "markdown",
   "id": "2812fbc9-8d23-4c39-ae20-d6544c9ce432",
   "metadata": {},
   "source": [
    "    4. List all the unique 'Customer Types' present in the dataset."
   ]
  },
  {
   "cell_type": "code",
   "execution_count": 8,
   "id": "fc280be2-b1eb-47cf-8ca5-749b53876011",
   "metadata": {},
   "outputs": [
    {
     "data": {
      "text/plain": [
       "array(['Member', 'Normal'], dtype=object)"
      ]
     },
     "execution_count": 8,
     "metadata": {},
     "output_type": "execute_result"
    }
   ],
   "source": [
    "df['Customer type'].unique()"
   ]
  },
  {
   "cell_type": "markdown",
   "id": "634589da-4cf2-4d55-9f6d-f1d42e4f795d",
   "metadata": {},
   "source": [
    "    5. Find the number of transactions where the payment method is 'Cash'."
   ]
  },
  {
   "cell_type": "code",
   "execution_count": 16,
   "id": "b9a5dbc6-796a-4542-b550-81b73990ab41",
   "metadata": {},
   "outputs": [
    {
     "data": {
      "text/plain": [
       "344"
      ]
     },
     "execution_count": 16,
     "metadata": {},
     "output_type": "execute_result"
    }
   ],
   "source": [
    "df[df['Payment'] =='Cash'].shape[0]"
   ]
  },
  {
   "cell_type": "markdown",
   "id": "7892f83a-edfd-42f4-b54d-5bbbb35914ce",
   "metadata": {},
   "source": [
    "    6. Display the first 10 transactions where the 'Branch' is 'A'."
   ]
  },
  {
   "cell_type": "code",
   "execution_count": 20,
   "id": "10a25874-dcc4-4234-a909-f30139db65be",
   "metadata": {},
   "outputs": [
    {
     "data": {
      "text/html": [
       "<div>\n",
       "<style scoped>\n",
       "    .dataframe tbody tr th:only-of-type {\n",
       "        vertical-align: middle;\n",
       "    }\n",
       "\n",
       "    .dataframe tbody tr th {\n",
       "        vertical-align: top;\n",
       "    }\n",
       "\n",
       "    .dataframe thead th {\n",
       "        text-align: right;\n",
       "    }\n",
       "</style>\n",
       "<table border=\"1\" class=\"dataframe\">\n",
       "  <thead>\n",
       "    <tr style=\"text-align: right;\">\n",
       "      <th></th>\n",
       "      <th>Invoice ID</th>\n",
       "      <th>Branch</th>\n",
       "      <th>City</th>\n",
       "      <th>Customer type</th>\n",
       "      <th>Gender</th>\n",
       "      <th>Product line</th>\n",
       "      <th>Unit price</th>\n",
       "      <th>Quantity</th>\n",
       "      <th>Tax 5%</th>\n",
       "      <th>Total</th>\n",
       "      <th>Date</th>\n",
       "      <th>Time</th>\n",
       "      <th>Payment</th>\n",
       "      <th>cogs</th>\n",
       "      <th>gross margin percentage</th>\n",
       "      <th>gross income</th>\n",
       "      <th>Rating</th>\n",
       "    </tr>\n",
       "  </thead>\n",
       "  <tbody>\n",
       "    <tr>\n",
       "      <th>0</th>\n",
       "      <td>750-67-8428</td>\n",
       "      <td>A</td>\n",
       "      <td>Yangon</td>\n",
       "      <td>Member</td>\n",
       "      <td>Female</td>\n",
       "      <td>Health and beauty</td>\n",
       "      <td>74.69</td>\n",
       "      <td>7</td>\n",
       "      <td>26.1415</td>\n",
       "      <td>548.9715</td>\n",
       "      <td>1/5/2019</td>\n",
       "      <td>13:08</td>\n",
       "      <td>Ewallet</td>\n",
       "      <td>522.83</td>\n",
       "      <td>4.761905</td>\n",
       "      <td>26.1415</td>\n",
       "      <td>9.1</td>\n",
       "    </tr>\n",
       "    <tr>\n",
       "      <th>2</th>\n",
       "      <td>631-41-3108</td>\n",
       "      <td>A</td>\n",
       "      <td>Yangon</td>\n",
       "      <td>Normal</td>\n",
       "      <td>Male</td>\n",
       "      <td>Home and lifestyle</td>\n",
       "      <td>46.33</td>\n",
       "      <td>7</td>\n",
       "      <td>16.2155</td>\n",
       "      <td>340.5255</td>\n",
       "      <td>3/3/2019</td>\n",
       "      <td>13:23</td>\n",
       "      <td>Credit card</td>\n",
       "      <td>324.31</td>\n",
       "      <td>4.761905</td>\n",
       "      <td>16.2155</td>\n",
       "      <td>7.4</td>\n",
       "    </tr>\n",
       "    <tr>\n",
       "      <th>3</th>\n",
       "      <td>123-19-1176</td>\n",
       "      <td>A</td>\n",
       "      <td>Yangon</td>\n",
       "      <td>Member</td>\n",
       "      <td>Male</td>\n",
       "      <td>Health and beauty</td>\n",
       "      <td>58.22</td>\n",
       "      <td>8</td>\n",
       "      <td>23.2880</td>\n",
       "      <td>489.0480</td>\n",
       "      <td>1/27/2019</td>\n",
       "      <td>20:33</td>\n",
       "      <td>Ewallet</td>\n",
       "      <td>465.76</td>\n",
       "      <td>4.761905</td>\n",
       "      <td>23.2880</td>\n",
       "      <td>8.4</td>\n",
       "    </tr>\n",
       "    <tr>\n",
       "      <th>4</th>\n",
       "      <td>373-73-7910</td>\n",
       "      <td>A</td>\n",
       "      <td>Yangon</td>\n",
       "      <td>Normal</td>\n",
       "      <td>Male</td>\n",
       "      <td>Sports and travel</td>\n",
       "      <td>86.31</td>\n",
       "      <td>7</td>\n",
       "      <td>30.2085</td>\n",
       "      <td>634.3785</td>\n",
       "      <td>2/8/2019</td>\n",
       "      <td>10:37</td>\n",
       "      <td>Ewallet</td>\n",
       "      <td>604.17</td>\n",
       "      <td>4.761905</td>\n",
       "      <td>30.2085</td>\n",
       "      <td>5.3</td>\n",
       "    </tr>\n",
       "    <tr>\n",
       "      <th>6</th>\n",
       "      <td>355-53-5943</td>\n",
       "      <td>A</td>\n",
       "      <td>Yangon</td>\n",
       "      <td>Member</td>\n",
       "      <td>Female</td>\n",
       "      <td>Electronic accessories</td>\n",
       "      <td>68.84</td>\n",
       "      <td>6</td>\n",
       "      <td>20.6520</td>\n",
       "      <td>433.6920</td>\n",
       "      <td>2/25/2019</td>\n",
       "      <td>14:36</td>\n",
       "      <td>Ewallet</td>\n",
       "      <td>413.04</td>\n",
       "      <td>4.761905</td>\n",
       "      <td>20.6520</td>\n",
       "      <td>5.8</td>\n",
       "    </tr>\n",
       "    <tr>\n",
       "      <th>8</th>\n",
       "      <td>665-32-9167</td>\n",
       "      <td>A</td>\n",
       "      <td>Yangon</td>\n",
       "      <td>Member</td>\n",
       "      <td>Female</td>\n",
       "      <td>Health and beauty</td>\n",
       "      <td>36.26</td>\n",
       "      <td>2</td>\n",
       "      <td>3.6260</td>\n",
       "      <td>76.1460</td>\n",
       "      <td>1/10/2019</td>\n",
       "      <td>17:15</td>\n",
       "      <td>Credit card</td>\n",
       "      <td>72.52</td>\n",
       "      <td>4.761905</td>\n",
       "      <td>3.6260</td>\n",
       "      <td>7.2</td>\n",
       "    </tr>\n",
       "    <tr>\n",
       "      <th>12</th>\n",
       "      <td>365-64-0515</td>\n",
       "      <td>A</td>\n",
       "      <td>Yangon</td>\n",
       "      <td>Normal</td>\n",
       "      <td>Female</td>\n",
       "      <td>Electronic accessories</td>\n",
       "      <td>46.95</td>\n",
       "      <td>5</td>\n",
       "      <td>11.7375</td>\n",
       "      <td>246.4875</td>\n",
       "      <td>2/12/2019</td>\n",
       "      <td>10:25</td>\n",
       "      <td>Ewallet</td>\n",
       "      <td>234.75</td>\n",
       "      <td>4.761905</td>\n",
       "      <td>11.7375</td>\n",
       "      <td>7.1</td>\n",
       "    </tr>\n",
       "    <tr>\n",
       "      <th>13</th>\n",
       "      <td>252-56-2699</td>\n",
       "      <td>A</td>\n",
       "      <td>Yangon</td>\n",
       "      <td>Normal</td>\n",
       "      <td>Male</td>\n",
       "      <td>Food and beverages</td>\n",
       "      <td>43.19</td>\n",
       "      <td>10</td>\n",
       "      <td>21.5950</td>\n",
       "      <td>453.4950</td>\n",
       "      <td>2/7/2019</td>\n",
       "      <td>16:48</td>\n",
       "      <td>Ewallet</td>\n",
       "      <td>431.90</td>\n",
       "      <td>4.761905</td>\n",
       "      <td>21.5950</td>\n",
       "      <td>8.2</td>\n",
       "    </tr>\n",
       "    <tr>\n",
       "      <th>14</th>\n",
       "      <td>829-34-3910</td>\n",
       "      <td>A</td>\n",
       "      <td>Yangon</td>\n",
       "      <td>Normal</td>\n",
       "      <td>Female</td>\n",
       "      <td>Health and beauty</td>\n",
       "      <td>71.38</td>\n",
       "      <td>10</td>\n",
       "      <td>35.6900</td>\n",
       "      <td>749.4900</td>\n",
       "      <td>3/29/2019</td>\n",
       "      <td>19:21</td>\n",
       "      <td>Cash</td>\n",
       "      <td>713.80</td>\n",
       "      <td>4.761905</td>\n",
       "      <td>35.6900</td>\n",
       "      <td>5.7</td>\n",
       "    </tr>\n",
       "    <tr>\n",
       "      <th>16</th>\n",
       "      <td>656-95-9349</td>\n",
       "      <td>A</td>\n",
       "      <td>Yangon</td>\n",
       "      <td>Member</td>\n",
       "      <td>Female</td>\n",
       "      <td>Health and beauty</td>\n",
       "      <td>68.93</td>\n",
       "      <td>7</td>\n",
       "      <td>24.1255</td>\n",
       "      <td>506.6355</td>\n",
       "      <td>3/11/2019</td>\n",
       "      <td>11:03</td>\n",
       "      <td>Credit card</td>\n",
       "      <td>482.51</td>\n",
       "      <td>4.761905</td>\n",
       "      <td>24.1255</td>\n",
       "      <td>4.6</td>\n",
       "    </tr>\n",
       "  </tbody>\n",
       "</table>\n",
       "</div>"
      ],
      "text/plain": [
       "     Invoice ID Branch    City Customer type  Gender            Product line  \\\n",
       "0   750-67-8428      A  Yangon        Member  Female       Health and beauty   \n",
       "2   631-41-3108      A  Yangon        Normal    Male      Home and lifestyle   \n",
       "3   123-19-1176      A  Yangon        Member    Male       Health and beauty   \n",
       "4   373-73-7910      A  Yangon        Normal    Male       Sports and travel   \n",
       "6   355-53-5943      A  Yangon        Member  Female  Electronic accessories   \n",
       "8   665-32-9167      A  Yangon        Member  Female       Health and beauty   \n",
       "12  365-64-0515      A  Yangon        Normal  Female  Electronic accessories   \n",
       "13  252-56-2699      A  Yangon        Normal    Male      Food and beverages   \n",
       "14  829-34-3910      A  Yangon        Normal  Female       Health and beauty   \n",
       "16  656-95-9349      A  Yangon        Member  Female       Health and beauty   \n",
       "\n",
       "    Unit price  Quantity   Tax 5%     Total       Date   Time      Payment  \\\n",
       "0        74.69         7  26.1415  548.9715   1/5/2019  13:08      Ewallet   \n",
       "2        46.33         7  16.2155  340.5255   3/3/2019  13:23  Credit card   \n",
       "3        58.22         8  23.2880  489.0480  1/27/2019  20:33      Ewallet   \n",
       "4        86.31         7  30.2085  634.3785   2/8/2019  10:37      Ewallet   \n",
       "6        68.84         6  20.6520  433.6920  2/25/2019  14:36      Ewallet   \n",
       "8        36.26         2   3.6260   76.1460  1/10/2019  17:15  Credit card   \n",
       "12       46.95         5  11.7375  246.4875  2/12/2019  10:25      Ewallet   \n",
       "13       43.19        10  21.5950  453.4950   2/7/2019  16:48      Ewallet   \n",
       "14       71.38        10  35.6900  749.4900  3/29/2019  19:21         Cash   \n",
       "16       68.93         7  24.1255  506.6355  3/11/2019  11:03  Credit card   \n",
       "\n",
       "      cogs  gross margin percentage  gross income  Rating  \n",
       "0   522.83                 4.761905       26.1415     9.1  \n",
       "2   324.31                 4.761905       16.2155     7.4  \n",
       "3   465.76                 4.761905       23.2880     8.4  \n",
       "4   604.17                 4.761905       30.2085     5.3  \n",
       "6   413.04                 4.761905       20.6520     5.8  \n",
       "8    72.52                 4.761905        3.6260     7.2  \n",
       "12  234.75                 4.761905       11.7375     7.1  \n",
       "13  431.90                 4.761905       21.5950     8.2  \n",
       "14  713.80                 4.761905       35.6900     5.7  \n",
       "16  482.51                 4.761905       24.1255     4.6  "
      ]
     },
     "execution_count": 20,
     "metadata": {},
     "output_type": "execute_result"
    }
   ],
   "source": [
    "df[df['Branch'] =='A'].head(10)"
   ]
  },
  {
   "cell_type": "markdown",
   "id": "bc3bad58-0c13-46c5-9ac5-0ce425787c64",
   "metadata": {},
   "source": [
    "    7. Sort the dataset by 'Total' in descending order and display the top 5 rows."
   ]
  },
  {
   "cell_type": "code",
   "execution_count": 24,
   "id": "25c13f58-bd4d-49e8-8285-dfe3e373c40c",
   "metadata": {},
   "outputs": [
    {
     "data": {
      "text/html": [
       "<div>\n",
       "<style scoped>\n",
       "    .dataframe tbody tr th:only-of-type {\n",
       "        vertical-align: middle;\n",
       "    }\n",
       "\n",
       "    .dataframe tbody tr th {\n",
       "        vertical-align: top;\n",
       "    }\n",
       "\n",
       "    .dataframe thead th {\n",
       "        text-align: right;\n",
       "    }\n",
       "</style>\n",
       "<table border=\"1\" class=\"dataframe\">\n",
       "  <thead>\n",
       "    <tr style=\"text-align: right;\">\n",
       "      <th></th>\n",
       "      <th>Invoice ID</th>\n",
       "      <th>Branch</th>\n",
       "      <th>City</th>\n",
       "      <th>Customer type</th>\n",
       "      <th>Gender</th>\n",
       "      <th>Product line</th>\n",
       "      <th>Unit price</th>\n",
       "      <th>Quantity</th>\n",
       "      <th>Tax 5%</th>\n",
       "      <th>Total</th>\n",
       "      <th>Date</th>\n",
       "      <th>Time</th>\n",
       "      <th>Payment</th>\n",
       "      <th>cogs</th>\n",
       "      <th>gross margin percentage</th>\n",
       "      <th>gross income</th>\n",
       "      <th>Rating</th>\n",
       "    </tr>\n",
       "  </thead>\n",
       "  <tbody>\n",
       "    <tr>\n",
       "      <th>350</th>\n",
       "      <td>860-79-0874</td>\n",
       "      <td>C</td>\n",
       "      <td>Naypyitaw</td>\n",
       "      <td>Member</td>\n",
       "      <td>Female</td>\n",
       "      <td>Fashion accessories</td>\n",
       "      <td>99.30</td>\n",
       "      <td>10</td>\n",
       "      <td>49.65</td>\n",
       "      <td>1042.65</td>\n",
       "      <td>2/15/2019</td>\n",
       "      <td>14:53</td>\n",
       "      <td>Credit card</td>\n",
       "      <td>993.0</td>\n",
       "      <td>4.761905</td>\n",
       "      <td>49.65</td>\n",
       "      <td>6.6</td>\n",
       "    </tr>\n",
       "    <tr>\n",
       "      <th>167</th>\n",
       "      <td>687-47-8271</td>\n",
       "      <td>A</td>\n",
       "      <td>Yangon</td>\n",
       "      <td>Normal</td>\n",
       "      <td>Male</td>\n",
       "      <td>Fashion accessories</td>\n",
       "      <td>98.98</td>\n",
       "      <td>10</td>\n",
       "      <td>49.49</td>\n",
       "      <td>1039.29</td>\n",
       "      <td>2/8/2019</td>\n",
       "      <td>16:20</td>\n",
       "      <td>Credit card</td>\n",
       "      <td>989.8</td>\n",
       "      <td>4.761905</td>\n",
       "      <td>49.49</td>\n",
       "      <td>8.7</td>\n",
       "    </tr>\n",
       "    <tr>\n",
       "      <th>557</th>\n",
       "      <td>283-26-5248</td>\n",
       "      <td>C</td>\n",
       "      <td>Naypyitaw</td>\n",
       "      <td>Member</td>\n",
       "      <td>Female</td>\n",
       "      <td>Food and beverages</td>\n",
       "      <td>98.52</td>\n",
       "      <td>10</td>\n",
       "      <td>49.26</td>\n",
       "      <td>1034.46</td>\n",
       "      <td>1/30/2019</td>\n",
       "      <td>20:23</td>\n",
       "      <td>Ewallet</td>\n",
       "      <td>985.2</td>\n",
       "      <td>4.761905</td>\n",
       "      <td>49.26</td>\n",
       "      <td>4.5</td>\n",
       "    </tr>\n",
       "    <tr>\n",
       "      <th>699</th>\n",
       "      <td>751-41-9720</td>\n",
       "      <td>C</td>\n",
       "      <td>Naypyitaw</td>\n",
       "      <td>Normal</td>\n",
       "      <td>Male</td>\n",
       "      <td>Home and lifestyle</td>\n",
       "      <td>97.50</td>\n",
       "      <td>10</td>\n",
       "      <td>48.75</td>\n",
       "      <td>1023.75</td>\n",
       "      <td>1/12/2019</td>\n",
       "      <td>16:18</td>\n",
       "      <td>Ewallet</td>\n",
       "      <td>975.0</td>\n",
       "      <td>4.761905</td>\n",
       "      <td>48.75</td>\n",
       "      <td>8.0</td>\n",
       "    </tr>\n",
       "    <tr>\n",
       "      <th>996</th>\n",
       "      <td>303-96-2227</td>\n",
       "      <td>B</td>\n",
       "      <td>Mandalay</td>\n",
       "      <td>Normal</td>\n",
       "      <td>Female</td>\n",
       "      <td>Home and lifestyle</td>\n",
       "      <td>97.38</td>\n",
       "      <td>10</td>\n",
       "      <td>48.69</td>\n",
       "      <td>1022.49</td>\n",
       "      <td>3/2/2019</td>\n",
       "      <td>17:16</td>\n",
       "      <td>Ewallet</td>\n",
       "      <td>973.8</td>\n",
       "      <td>4.761905</td>\n",
       "      <td>48.69</td>\n",
       "      <td>4.4</td>\n",
       "    </tr>\n",
       "  </tbody>\n",
       "</table>\n",
       "</div>"
      ],
      "text/plain": [
       "      Invoice ID Branch       City Customer type  Gender         Product line  \\\n",
       "350  860-79-0874      C  Naypyitaw        Member  Female  Fashion accessories   \n",
       "167  687-47-8271      A     Yangon        Normal    Male  Fashion accessories   \n",
       "557  283-26-5248      C  Naypyitaw        Member  Female   Food and beverages   \n",
       "699  751-41-9720      C  Naypyitaw        Normal    Male   Home and lifestyle   \n",
       "996  303-96-2227      B   Mandalay        Normal  Female   Home and lifestyle   \n",
       "\n",
       "     Unit price  Quantity  Tax 5%    Total       Date   Time      Payment  \\\n",
       "350       99.30        10   49.65  1042.65  2/15/2019  14:53  Credit card   \n",
       "167       98.98        10   49.49  1039.29   2/8/2019  16:20  Credit card   \n",
       "557       98.52        10   49.26  1034.46  1/30/2019  20:23      Ewallet   \n",
       "699       97.50        10   48.75  1023.75  1/12/2019  16:18      Ewallet   \n",
       "996       97.38        10   48.69  1022.49   3/2/2019  17:16      Ewallet   \n",
       "\n",
       "      cogs  gross margin percentage  gross income  Rating  \n",
       "350  993.0                 4.761905         49.65     6.6  \n",
       "167  989.8                 4.761905         49.49     8.7  \n",
       "557  985.2                 4.761905         49.26     4.5  \n",
       "699  975.0                 4.761905         48.75     8.0  \n",
       "996  973.8                 4.761905         48.69     4.4  "
      ]
     },
     "execution_count": 24,
     "metadata": {},
     "output_type": "execute_result"
    }
   ],
   "source": [
    "df.sort_values('Total', ascending=False).head()"
   ]
  },
  {
   "cell_type": "markdown",
   "id": "5cdd89c0-6d98-4a10-93ad-c4f266327404",
   "metadata": {},
   "source": [
    "    8. Find the total 'Quantity' sold for the product line 'Health and Beauty'."
   ]
  },
  {
   "cell_type": "code",
   "execution_count": 33,
   "id": "a5afdbb8-8ebb-43d2-b61a-0d7e5b3cc9e4",
   "metadata": {},
   "outputs": [
    {
     "data": {
      "text/plain": [
       "np.int64(854)"
      ]
     },
     "execution_count": 33,
     "metadata": {},
     "output_type": "execute_result"
    }
   ],
   "source": [
    "df[df['Product line'] == 'Health and beauty']['Quantity'].sum()"
   ]
  },
  {
   "cell_type": "markdown",
   "id": "89c56ede-9cbf-401c-9390-9023f9cd3884",
   "metadata": {},
   "source": [
    "    9. Check for any missing values in the dataset and display the columns with missing values, if any."
   ]
  },
  {
   "cell_type": "code",
   "execution_count": 35,
   "id": "878fc21a-2ebc-4f72-a693-d1eef09adce8",
   "metadata": {},
   "outputs": [
    {
     "data": {
      "text/plain": [
       "Invoice ID                 0\n",
       "Branch                     0\n",
       "City                       0\n",
       "Customer type              0\n",
       "Gender                     0\n",
       "Product line               0\n",
       "Unit price                 0\n",
       "Quantity                   0\n",
       "Tax 5%                     0\n",
       "Total                      0\n",
       "Date                       0\n",
       "Time                       0\n",
       "Payment                    0\n",
       "cogs                       0\n",
       "gross margin percentage    0\n",
       "gross income               0\n",
       "Rating                     0\n",
       "dtype: int64"
      ]
     },
     "execution_count": 35,
     "metadata": {},
     "output_type": "execute_result"
    }
   ],
   "source": [
    "df.isnull().sum()"
   ]
  },
  {
   "cell_type": "markdown",
   "id": "942ccf4b-0573-4251-8c3a-dca7f5dc8938",
   "metadata": {},
   "source": [
    "    10. Convert the 'Date' column into a datetime format.\n",
    "    "
   ]
  },
  {
   "cell_type": "code",
   "execution_count": 38,
   "id": "bf641025-bf04-41d4-aee8-7a2d1643329c",
   "metadata": {},
   "outputs": [
    {
     "data": {
      "text/plain": [
       "0     2019-01-05\n",
       "1     2019-03-08\n",
       "2     2019-03-03\n",
       "3     2019-01-27\n",
       "4     2019-02-08\n",
       "         ...    \n",
       "995   2019-01-29\n",
       "996   2019-03-02\n",
       "997   2019-02-09\n",
       "998   2019-02-22\n",
       "999   2019-02-18\n",
       "Name: Date, Length: 1000, dtype: datetime64[ns]"
      ]
     },
     "execution_count": 38,
     "metadata": {},
     "output_type": "execute_result"
    }
   ],
   "source": [
    "df['Date'] = pd.to_datetime(df['Date'])\n",
    "df['Date']"
   ]
  },
  {
   "cell_type": "markdown",
   "id": "7d0298fa-44ee-49c5-8f9c-3157d38ca13d",
   "metadata": {},
   "source": [
    "# Intermediate Questions (5 marks each)\n",
    "    1. Calculate the average 'Total' for each 'Product Line'."
   ]
  },
  {
   "cell_type": "code",
   "execution_count": 45,
   "id": "b328f6ce-1d2b-427c-8352-6c0ac797ef84",
   "metadata": {},
   "outputs": [
    {
     "data": {
      "text/plain": [
       "Product line\n",
       "Electronic accessories    319.632538\n",
       "Fashion accessories       305.089298\n",
       "Food and beverages        322.671517\n",
       "Health and beauty         323.643020\n",
       "Home and lifestyle        336.636956\n",
       "Sports and travel         332.065220\n",
       "Name: Total, dtype: float64"
      ]
     },
     "execution_count": 45,
     "metadata": {},
     "output_type": "execute_result"
    }
   ],
   "source": [
    "df.groupby('Product line')['Total'].mean()"
   ]
  },
  {
   "cell_type": "markdown",
   "id": "bc27147b-92d9-4ef0-b6db-7efbb2b2b3c7",
   "metadata": {},
   "source": [
    "    2. Group the data by 'City' and find the sum of 'Gross Income' for each city."
   ]
  },
  {
   "cell_type": "code",
   "execution_count": 47,
   "id": "54aa8b98-4931-4a8c-aabc-549127b2b701",
   "metadata": {},
   "outputs": [
    {
     "data": {
      "text/plain": [
       "City\n",
       "Mandalay     5057.0320\n",
       "Naypyitaw    5265.1765\n",
       "Yangon       5057.1605\n",
       "Name: gross income, dtype: float64"
      ]
     },
     "execution_count": 47,
     "metadata": {},
     "output_type": "execute_result"
    }
   ],
   "source": [
    "df.groupby('City')['gross income'].sum()"
   ]
  },
  {
   "cell_type": "markdown",
   "id": "743b0bee-77ec-4906-bfc0-88b69378c53b",
   "metadata": {},
   "source": [
    "    3. Create a new column 'Total Including Tax' by adding 'Tax 5%' to 'Total'."
   ]
  },
  {
   "cell_type": "code",
   "execution_count": 64,
   "id": "010b4f39-893f-4b9a-8e19-35d78473e6ab",
   "metadata": {},
   "outputs": [
    {
     "data": {
      "text/html": [
       "<div>\n",
       "<style scoped>\n",
       "    .dataframe tbody tr th:only-of-type {\n",
       "        vertical-align: middle;\n",
       "    }\n",
       "\n",
       "    .dataframe tbody tr th {\n",
       "        vertical-align: top;\n",
       "    }\n",
       "\n",
       "    .dataframe thead th {\n",
       "        text-align: right;\n",
       "    }\n",
       "</style>\n",
       "<table border=\"1\" class=\"dataframe\">\n",
       "  <thead>\n",
       "    <tr style=\"text-align: right;\">\n",
       "      <th></th>\n",
       "      <th>Total</th>\n",
       "      <th>Tax 5%</th>\n",
       "      <th>Total Bill With Tax</th>\n",
       "    </tr>\n",
       "  </thead>\n",
       "  <tbody>\n",
       "    <tr>\n",
       "      <th>0</th>\n",
       "      <td>548.9715</td>\n",
       "      <td>26.1415</td>\n",
       "      <td>575.113</td>\n",
       "    </tr>\n",
       "    <tr>\n",
       "      <th>1</th>\n",
       "      <td>80.2200</td>\n",
       "      <td>3.8200</td>\n",
       "      <td>84.040</td>\n",
       "    </tr>\n",
       "    <tr>\n",
       "      <th>2</th>\n",
       "      <td>340.5255</td>\n",
       "      <td>16.2155</td>\n",
       "      <td>356.741</td>\n",
       "    </tr>\n",
       "    <tr>\n",
       "      <th>3</th>\n",
       "      <td>489.0480</td>\n",
       "      <td>23.2880</td>\n",
       "      <td>512.336</td>\n",
       "    </tr>\n",
       "    <tr>\n",
       "      <th>4</th>\n",
       "      <td>634.3785</td>\n",
       "      <td>30.2085</td>\n",
       "      <td>664.587</td>\n",
       "    </tr>\n",
       "  </tbody>\n",
       "</table>\n",
       "</div>"
      ],
      "text/plain": [
       "      Total   Tax 5%  Total Bill With Tax\n",
       "0  548.9715  26.1415              575.113\n",
       "1   80.2200   3.8200               84.040\n",
       "2  340.5255  16.2155              356.741\n",
       "3  489.0480  23.2880              512.336\n",
       "4  634.3785  30.2085              664.587"
      ]
     },
     "execution_count": 64,
     "metadata": {},
     "output_type": "execute_result"
    }
   ],
   "source": [
    "df['Total Bill With Tax'] = df['Total'] + df['Tax 5%']\n",
    "df[['Total', 'Tax 5%', 'Total Bill With Tax']].head(5)"
   ]
  },
  {
   "cell_type": "markdown",
   "id": "7b0f4cd3-9a21-4ceb-bc88-7cee2321beb1",
   "metadata": {},
   "source": [
    "    4. Find the total number of transactions made by 'Members' and 'Normal' customers."
   ]
  },
  {
   "cell_type": "code",
   "execution_count": 70,
   "id": "7811e9e6-b993-4bc3-aec3-ed3e00ccbd4c",
   "metadata": {},
   "outputs": [
    {
     "data": {
      "text/plain": [
       "Customer type\n",
       "Member    501\n",
       "Normal    499\n",
       "Name: Customer type, dtype: int64"
      ]
     },
     "execution_count": 70,
     "metadata": {},
     "output_type": "execute_result"
    }
   ],
   "source": [
    "df.groupby('Customer type')['Customer type'].count()"
   ]
  },
  {
   "cell_type": "markdown",
   "id": "261644e5-d52c-43a1-b2b5-75f269a114c5",
   "metadata": {},
   "source": [
    "    5. Filter the dataset to show transactions where the 'Payment' method is 'Ewallet' and the 'Total' is greater than 500."
   ]
  },
  {
   "cell_type": "code",
   "execution_count": 73,
   "id": "948057e7-865c-4314-8af9-8d1d176ea113",
   "metadata": {},
   "outputs": [
    {
     "data": {
      "text/html": [
       "<div>\n",
       "<style scoped>\n",
       "    .dataframe tbody tr th:only-of-type {\n",
       "        vertical-align: middle;\n",
       "    }\n",
       "\n",
       "    .dataframe tbody tr th {\n",
       "        vertical-align: top;\n",
       "    }\n",
       "\n",
       "    .dataframe thead th {\n",
       "        text-align: right;\n",
       "    }\n",
       "</style>\n",
       "<table border=\"1\" class=\"dataframe\">\n",
       "  <thead>\n",
       "    <tr style=\"text-align: right;\">\n",
       "      <th></th>\n",
       "      <th>Invoice ID</th>\n",
       "      <th>Branch</th>\n",
       "      <th>City</th>\n",
       "      <th>Customer type</th>\n",
       "      <th>Gender</th>\n",
       "      <th>Product line</th>\n",
       "      <th>Unit price</th>\n",
       "      <th>Quantity</th>\n",
       "      <th>Tax 5%</th>\n",
       "      <th>Total</th>\n",
       "      <th>Date</th>\n",
       "      <th>Time</th>\n",
       "      <th>Payment</th>\n",
       "      <th>cogs</th>\n",
       "      <th>gross margin percentage</th>\n",
       "      <th>gross income</th>\n",
       "      <th>Rating</th>\n",
       "      <th>Total Bill With Tax</th>\n",
       "    </tr>\n",
       "  </thead>\n",
       "  <tbody>\n",
       "    <tr>\n",
       "      <th>0</th>\n",
       "      <td>750-67-8428</td>\n",
       "      <td>A</td>\n",
       "      <td>Yangon</td>\n",
       "      <td>Member</td>\n",
       "      <td>Female</td>\n",
       "      <td>Health and beauty</td>\n",
       "      <td>74.69</td>\n",
       "      <td>7</td>\n",
       "      <td>26.1415</td>\n",
       "      <td>548.9715</td>\n",
       "      <td>2019-01-05</td>\n",
       "      <td>13:08</td>\n",
       "      <td>Ewallet</td>\n",
       "      <td>522.83</td>\n",
       "      <td>4.761905</td>\n",
       "      <td>26.1415</td>\n",
       "      <td>9.1</td>\n",
       "      <td>575.113</td>\n",
       "    </tr>\n",
       "    <tr>\n",
       "      <th>4</th>\n",
       "      <td>373-73-7910</td>\n",
       "      <td>A</td>\n",
       "      <td>Yangon</td>\n",
       "      <td>Normal</td>\n",
       "      <td>Male</td>\n",
       "      <td>Sports and travel</td>\n",
       "      <td>86.31</td>\n",
       "      <td>7</td>\n",
       "      <td>30.2085</td>\n",
       "      <td>634.3785</td>\n",
       "      <td>2019-02-08</td>\n",
       "      <td>10:37</td>\n",
       "      <td>Ewallet</td>\n",
       "      <td>604.17</td>\n",
       "      <td>4.761905</td>\n",
       "      <td>30.2085</td>\n",
       "      <td>5.3</td>\n",
       "      <td>664.587</td>\n",
       "    </tr>\n",
       "    <tr>\n",
       "      <th>5</th>\n",
       "      <td>699-14-3026</td>\n",
       "      <td>C</td>\n",
       "      <td>Naypyitaw</td>\n",
       "      <td>Normal</td>\n",
       "      <td>Male</td>\n",
       "      <td>Electronic accessories</td>\n",
       "      <td>85.39</td>\n",
       "      <td>7</td>\n",
       "      <td>29.8865</td>\n",
       "      <td>627.6165</td>\n",
       "      <td>2019-03-25</td>\n",
       "      <td>18:30</td>\n",
       "      <td>Ewallet</td>\n",
       "      <td>597.73</td>\n",
       "      <td>4.761905</td>\n",
       "      <td>29.8865</td>\n",
       "      <td>4.1</td>\n",
       "      <td>657.503</td>\n",
       "    </tr>\n",
       "    <tr>\n",
       "      <th>7</th>\n",
       "      <td>315-22-5665</td>\n",
       "      <td>C</td>\n",
       "      <td>Naypyitaw</td>\n",
       "      <td>Normal</td>\n",
       "      <td>Female</td>\n",
       "      <td>Home and lifestyle</td>\n",
       "      <td>73.56</td>\n",
       "      <td>10</td>\n",
       "      <td>36.7800</td>\n",
       "      <td>772.3800</td>\n",
       "      <td>2019-02-24</td>\n",
       "      <td>11:38</td>\n",
       "      <td>Ewallet</td>\n",
       "      <td>735.60</td>\n",
       "      <td>4.761905</td>\n",
       "      <td>36.7800</td>\n",
       "      <td>8.0</td>\n",
       "      <td>809.160</td>\n",
       "    </tr>\n",
       "    <tr>\n",
       "      <th>37</th>\n",
       "      <td>272-65-1806</td>\n",
       "      <td>A</td>\n",
       "      <td>Yangon</td>\n",
       "      <td>Normal</td>\n",
       "      <td>Female</td>\n",
       "      <td>Electronic accessories</td>\n",
       "      <td>60.88</td>\n",
       "      <td>9</td>\n",
       "      <td>27.3960</td>\n",
       "      <td>575.3160</td>\n",
       "      <td>2019-01-15</td>\n",
       "      <td>17:17</td>\n",
       "      <td>Ewallet</td>\n",
       "      <td>547.92</td>\n",
       "      <td>4.761905</td>\n",
       "      <td>27.3960</td>\n",
       "      <td>4.7</td>\n",
       "      <td>602.712</td>\n",
       "    </tr>\n",
       "    <tr>\n",
       "      <th>...</th>\n",
       "      <td>...</td>\n",
       "      <td>...</td>\n",
       "      <td>...</td>\n",
       "      <td>...</td>\n",
       "      <td>...</td>\n",
       "      <td>...</td>\n",
       "      <td>...</td>\n",
       "      <td>...</td>\n",
       "      <td>...</td>\n",
       "      <td>...</td>\n",
       "      <td>...</td>\n",
       "      <td>...</td>\n",
       "      <td>...</td>\n",
       "      <td>...</td>\n",
       "      <td>...</td>\n",
       "      <td>...</td>\n",
       "      <td>...</td>\n",
       "      <td>...</td>\n",
       "    </tr>\n",
       "    <tr>\n",
       "      <th>936</th>\n",
       "      <td>433-08-7822</td>\n",
       "      <td>C</td>\n",
       "      <td>Naypyitaw</td>\n",
       "      <td>Normal</td>\n",
       "      <td>Female</td>\n",
       "      <td>Health and beauty</td>\n",
       "      <td>78.89</td>\n",
       "      <td>7</td>\n",
       "      <td>27.6115</td>\n",
       "      <td>579.8415</td>\n",
       "      <td>2019-01-05</td>\n",
       "      <td>19:48</td>\n",
       "      <td>Ewallet</td>\n",
       "      <td>552.23</td>\n",
       "      <td>4.761905</td>\n",
       "      <td>27.6115</td>\n",
       "      <td>7.5</td>\n",
       "      <td>607.453</td>\n",
       "    </tr>\n",
       "    <tr>\n",
       "      <th>982</th>\n",
       "      <td>139-32-4183</td>\n",
       "      <td>A</td>\n",
       "      <td>Yangon</td>\n",
       "      <td>Member</td>\n",
       "      <td>Female</td>\n",
       "      <td>Sports and travel</td>\n",
       "      <td>97.48</td>\n",
       "      <td>9</td>\n",
       "      <td>43.8660</td>\n",
       "      <td>921.1860</td>\n",
       "      <td>2019-03-14</td>\n",
       "      <td>14:19</td>\n",
       "      <td>Ewallet</td>\n",
       "      <td>877.32</td>\n",
       "      <td>4.761905</td>\n",
       "      <td>43.8660</td>\n",
       "      <td>7.4</td>\n",
       "      <td>965.052</td>\n",
       "    </tr>\n",
       "    <tr>\n",
       "      <th>988</th>\n",
       "      <td>267-62-7380</td>\n",
       "      <td>C</td>\n",
       "      <td>Naypyitaw</td>\n",
       "      <td>Member</td>\n",
       "      <td>Male</td>\n",
       "      <td>Electronic accessories</td>\n",
       "      <td>82.34</td>\n",
       "      <td>10</td>\n",
       "      <td>41.1700</td>\n",
       "      <td>864.5700</td>\n",
       "      <td>2019-03-29</td>\n",
       "      <td>19:12</td>\n",
       "      <td>Ewallet</td>\n",
       "      <td>823.40</td>\n",
       "      <td>4.761905</td>\n",
       "      <td>41.1700</td>\n",
       "      <td>4.3</td>\n",
       "      <td>905.740</td>\n",
       "    </tr>\n",
       "    <tr>\n",
       "      <th>991</th>\n",
       "      <td>602-16-6955</td>\n",
       "      <td>B</td>\n",
       "      <td>Mandalay</td>\n",
       "      <td>Normal</td>\n",
       "      <td>Female</td>\n",
       "      <td>Sports and travel</td>\n",
       "      <td>76.60</td>\n",
       "      <td>10</td>\n",
       "      <td>38.3000</td>\n",
       "      <td>804.3000</td>\n",
       "      <td>2019-01-24</td>\n",
       "      <td>18:10</td>\n",
       "      <td>Ewallet</td>\n",
       "      <td>766.00</td>\n",
       "      <td>4.761905</td>\n",
       "      <td>38.3000</td>\n",
       "      <td>6.0</td>\n",
       "      <td>842.600</td>\n",
       "    </tr>\n",
       "    <tr>\n",
       "      <th>996</th>\n",
       "      <td>303-96-2227</td>\n",
       "      <td>B</td>\n",
       "      <td>Mandalay</td>\n",
       "      <td>Normal</td>\n",
       "      <td>Female</td>\n",
       "      <td>Home and lifestyle</td>\n",
       "      <td>97.38</td>\n",
       "      <td>10</td>\n",
       "      <td>48.6900</td>\n",
       "      <td>1022.4900</td>\n",
       "      <td>2019-03-02</td>\n",
       "      <td>17:16</td>\n",
       "      <td>Ewallet</td>\n",
       "      <td>973.80</td>\n",
       "      <td>4.761905</td>\n",
       "      <td>48.6900</td>\n",
       "      <td>4.4</td>\n",
       "      <td>1071.180</td>\n",
       "    </tr>\n",
       "  </tbody>\n",
       "</table>\n",
       "<p>75 rows × 18 columns</p>\n",
       "</div>"
      ],
      "text/plain": [
       "      Invoice ID Branch       City Customer type  Gender  \\\n",
       "0    750-67-8428      A     Yangon        Member  Female   \n",
       "4    373-73-7910      A     Yangon        Normal    Male   \n",
       "5    699-14-3026      C  Naypyitaw        Normal    Male   \n",
       "7    315-22-5665      C  Naypyitaw        Normal  Female   \n",
       "37   272-65-1806      A     Yangon        Normal  Female   \n",
       "..           ...    ...        ...           ...     ...   \n",
       "936  433-08-7822      C  Naypyitaw        Normal  Female   \n",
       "982  139-32-4183      A     Yangon        Member  Female   \n",
       "988  267-62-7380      C  Naypyitaw        Member    Male   \n",
       "991  602-16-6955      B   Mandalay        Normal  Female   \n",
       "996  303-96-2227      B   Mandalay        Normal  Female   \n",
       "\n",
       "               Product line  Unit price  Quantity   Tax 5%      Total  \\\n",
       "0         Health and beauty       74.69         7  26.1415   548.9715   \n",
       "4         Sports and travel       86.31         7  30.2085   634.3785   \n",
       "5    Electronic accessories       85.39         7  29.8865   627.6165   \n",
       "7        Home and lifestyle       73.56        10  36.7800   772.3800   \n",
       "37   Electronic accessories       60.88         9  27.3960   575.3160   \n",
       "..                      ...         ...       ...      ...        ...   \n",
       "936       Health and beauty       78.89         7  27.6115   579.8415   \n",
       "982       Sports and travel       97.48         9  43.8660   921.1860   \n",
       "988  Electronic accessories       82.34        10  41.1700   864.5700   \n",
       "991       Sports and travel       76.60        10  38.3000   804.3000   \n",
       "996      Home and lifestyle       97.38        10  48.6900  1022.4900   \n",
       "\n",
       "          Date   Time  Payment    cogs  gross margin percentage  gross income  \\\n",
       "0   2019-01-05  13:08  Ewallet  522.83                 4.761905       26.1415   \n",
       "4   2019-02-08  10:37  Ewallet  604.17                 4.761905       30.2085   \n",
       "5   2019-03-25  18:30  Ewallet  597.73                 4.761905       29.8865   \n",
       "7   2019-02-24  11:38  Ewallet  735.60                 4.761905       36.7800   \n",
       "37  2019-01-15  17:17  Ewallet  547.92                 4.761905       27.3960   \n",
       "..         ...    ...      ...     ...                      ...           ...   \n",
       "936 2019-01-05  19:48  Ewallet  552.23                 4.761905       27.6115   \n",
       "982 2019-03-14  14:19  Ewallet  877.32                 4.761905       43.8660   \n",
       "988 2019-03-29  19:12  Ewallet  823.40                 4.761905       41.1700   \n",
       "991 2019-01-24  18:10  Ewallet  766.00                 4.761905       38.3000   \n",
       "996 2019-03-02  17:16  Ewallet  973.80                 4.761905       48.6900   \n",
       "\n",
       "     Rating  Total Bill With Tax  \n",
       "0       9.1              575.113  \n",
       "4       5.3              664.587  \n",
       "5       4.1              657.503  \n",
       "7       8.0              809.160  \n",
       "37      4.7              602.712  \n",
       "..      ...                  ...  \n",
       "936     7.5              607.453  \n",
       "982     7.4              965.052  \n",
       "988     4.3              905.740  \n",
       "991     6.0              842.600  \n",
       "996     4.4             1071.180  \n",
       "\n",
       "[75 rows x 18 columns]"
      ]
     },
     "execution_count": 73,
     "metadata": {},
     "output_type": "execute_result"
    }
   ],
   "source": [
    "df[(df['Payment'] == 'Ewallet') & (df['Total'] > 500)]"
   ]
  },
  {
   "cell_type": "markdown",
   "id": "7430e81f-6e8c-498a-87a0-96d73b013584",
   "metadata": {},
   "source": [
    "    6. Find the highest 'Rating' received for each 'Product Line'."
   ]
  },
  {
   "cell_type": "code",
   "execution_count": 76,
   "id": "41b28cc1-dc4f-4ea8-ae0a-c12e06bce213",
   "metadata": {},
   "outputs": [
    {
     "data": {
      "text/plain": [
       "Product line\n",
       "Electronic accessories    10.0\n",
       "Fashion accessories        9.9\n",
       "Food and beverages         9.9\n",
       "Health and beauty         10.0\n",
       "Home and lifestyle         9.9\n",
       "Sports and travel         10.0\n",
       "Name: Rating, dtype: float64"
      ]
     },
     "execution_count": 76,
     "metadata": {},
     "output_type": "execute_result"
    }
   ],
   "source": [
    "df.groupby('Product line')['Rating'].max()"
   ]
  },
  {
   "cell_type": "markdown",
   "id": "15b7e77f-7e50-45d6-8f39-af95d5d3f442",
   "metadata": {},
   "source": [
    "    7. Calculate the total 'Quantity' of products sold for each 'Branch'."
   ]
  },
  {
   "cell_type": "code",
   "execution_count": 78,
   "id": "b04b8ea4-7770-458a-bdef-225ca08e45ba",
   "metadata": {},
   "outputs": [
    {
     "data": {
      "text/plain": [
       "Branch\n",
       "A    1859\n",
       "B    1820\n",
       "C    1831\n",
       "Name: Quantity, dtype: int64"
      ]
     },
     "execution_count": 78,
     "metadata": {},
     "output_type": "execute_result"
    }
   ],
   "source": [
    "df.groupby('Branch')['Quantity'].sum()"
   ]
  },
  {
   "cell_type": "markdown",
   "id": "4c4be954-7ff0-411f-8ffa-f18b7a3913ea",
   "metadata": {},
   "source": [
    "    8. Display the top 3 cities with the highest total sales ('Total')."
   ]
  },
  {
   "cell_type": "code",
   "execution_count": 82,
   "id": "562e1f6c-caba-43fa-a255-609dc262c14d",
   "metadata": {},
   "outputs": [
    {
     "data": {
      "text/plain": [
       "City\n",
       "Mandalay     106197.6720\n",
       "Naypyitaw    110568.7065\n",
       "Yangon       106200.3705\n",
       "Name: Total, dtype: float64"
      ]
     },
     "execution_count": 82,
     "metadata": {},
     "output_type": "execute_result"
    }
   ],
   "source": [
    "df.groupby('City')['Total'].sum().head(3)"
   ]
  },
  {
   "cell_type": "markdown",
   "id": "f3d9f4c9-0591-45c3-b9f4-5eaf3a0adf29",
   "metadata": {},
   "source": [
    "    9. Replace any missing values in the 'Rating' column with the median of the 'Rating' column."
   ]
  },
  {
   "cell_type": "code",
   "execution_count": 85,
   "id": "60a9aba2-7a15-4b74-a8f8-09f4e31b15b7",
   "metadata": {},
   "outputs": [
    {
     "data": {
      "text/plain": [
       "0      9.1\n",
       "1      9.6\n",
       "2      7.4\n",
       "3      8.4\n",
       "4      5.3\n",
       "      ... \n",
       "995    6.2\n",
       "996    4.4\n",
       "997    7.7\n",
       "998    4.1\n",
       "999    6.6\n",
       "Name: Rating, Length: 1000, dtype: float64"
      ]
     },
     "execution_count": 85,
     "metadata": {},
     "output_type": "execute_result"
    }
   ],
   "source": [
    "df['Rating'].fillna(df['Rating'].mean())"
   ]
  },
  {
   "cell_type": "markdown",
   "id": "1c6528c5-a517-4250-8ded-0c45665bad72",
   "metadata": {},
   "source": [
    "    10. Standardize the format of the 'Date' column and check for any inconsistencies in the date format."
   ]
  },
  {
   "cell_type": "code",
   "execution_count": 90,
   "id": "bd143bbd-196a-492e-8699-a0a4a802a504",
   "metadata": {},
   "outputs": [
    {
     "data": {
      "text/plain": [
       "Series([], Name: Date, dtype: datetime64[ns])"
      ]
     },
     "execution_count": 90,
     "metadata": {},
     "output_type": "execute_result"
    }
   ],
   "source": [
    "df[~pd.to_datetime(df['Date'], errors='coerce').notna()]['Date']"
   ]
  },
  {
   "cell_type": "markdown",
   "id": "c1d0a57b-5319-436d-b15c-e650d88b3dbd",
   "metadata": {},
   "source": [
    "# Advanced Questions (10 marks each)\n",
    "    1. Calculate the correlation between 'Quantity' and 'Total'."
   ]
  },
  {
   "cell_type": "code",
   "execution_count": 92,
   "id": "f66fd138-7e2a-4bd9-8b1f-2ffd92928272",
   "metadata": {},
   "outputs": [
    {
     "data": {
      "text/plain": [
       "np.float64(0.7055101859433066)"
      ]
     },
     "execution_count": 92,
     "metadata": {},
     "output_type": "execute_result"
    }
   ],
   "source": [
    "df['Quantity'].corr(df['Total'])"
   ]
  },
  {
   "cell_type": "markdown",
   "id": "29061f64-468d-486e-af79-4e41fb96efb1",
   "metadata": {},
   "source": [
    "    2. Group the data by 'Branch' and 'Customer Type' and find the average 'Rating' for each group."
   ]
  },
  {
   "cell_type": "code",
   "execution_count": 99,
   "id": "90379c55-cce8-42d7-8bdc-2e4e88d5f664",
   "metadata": {},
   "outputs": [
    {
     "data": {
      "text/plain": [
       "Branch  Customer type\n",
       "A       Member           6.998802\n",
       "        Normal           7.054335\n",
       "B       Member           6.770303\n",
       "        Normal           6.865269\n",
       "C       Member           7.048521\n",
       "        Normal           7.098742\n",
       "Name: Rating, dtype: float64"
      ]
     },
     "execution_count": 99,
     "metadata": {},
     "output_type": "execute_result"
    }
   ],
   "source": [
    "df.groupby(['Branch', 'Customer type'])['Rating'].mean()"
   ]
  },
  {
   "cell_type": "markdown",
   "id": "0abdf185-e37b-41e4-960b-697c1ae96f6c",
   "metadata": {},
   "source": [
    "    3. Plot a bar chart showing the total sales ('Total') for each 'Product Line'."
   ]
  },
  {
   "cell_type": "code",
   "execution_count": 112,
   "id": "b4fc9734-0f93-4ba6-85c0-a7923dafa872",
   "metadata": {},
   "outputs": [
    {
     "data": {
      "image/png": "[encoded data removed]",
      "text/plain": [
       "<Figure size 640x480 with 1 Axes>"
      ]
     },
     "metadata": {},
     "output_type": "display_data"
    }
   ],
   "source": [
    "ax = sns.barplot(data=df, x='Product line', y='Total')\n",
    "for item in ax.get_xticklabels():\n",
    "    item.set_rotation(45)"
   ]
  },
  {
   "cell_type": "markdown",
   "id": "bd20ba5f-5086-42bc-8dff-95d6cb4c6350",
   "metadata": {},
   "source": [
    "    4. Determine the top 3 'Product Lines' with the highest 'Gross Income'."
   ]
  },
  {
   "cell_type": "code",
   "execution_count": 117,
   "id": "ac757582-4167-4029-b7f7-decd3c928a6c",
   "metadata": {},
   "outputs": [
    {
     "data": {
      "text/plain": [
       "Product line\n",
       "Electronic accessories    2587.5015\n",
       "Fashion accessories       2585.9950\n",
       "Food and beverages        2673.5640\n",
       "Name: gross income, dtype: float64"
      ]
     },
     "execution_count": 117,
     "metadata": {},
     "output_type": "execute_result"
    }
   ],
   "source": [
    "df.groupby('Product line')['gross income'].sum().head(3)"
   ]
  },
  {
   "cell_type": "markdown",
   "id": "313f1567-8082-4067-a38a-446576e52431",
   "metadata": {},
   "source": [
    "    5. Analyze patterns in the use of 'Payment' methods across different 'Customer Types'."
   ]
  },
  {
   "cell_type": "code",
   "execution_count": 125,
   "id": "aecaa013-84da-4da2-986d-4bd7cb7699e9",
   "metadata": {},
   "outputs": [
    {
     "data": {
      "text/plain": [
       "Customer type  Payment    \n",
       "Member         Cash           168\n",
       "               Credit card    172\n",
       "               Ewallet        161\n",
       "Normal         Cash           176\n",
       "               Credit card    139\n",
       "               Ewallet        184\n",
       "Name: Payment, dtype: int64"
      ]
     },
     "execution_count": 125,
     "metadata": {},
     "output_type": "execute_result"
    }
   ],
   "source": [
    "df.groupby(['Customer type', 'Payment'])['Payment'].count()"
   ]
  },
  {
   "cell_type": "markdown",
   "id": "75582847-b1d3-43ff-a71d-c46f2b0d177c",
   "metadata": {},
   "source": [
    "    6. Calculate the cumulative sum of 'Gross Income' over time and plot it."
   ]
  },
  {
   "cell_type": "code",
   "execution_count": 121,
   "id": "8d914ed2-dc10-4fad-8564-279789c6ca8f",
   "metadata": {},
   "outputs": [
    {
     "data": {
      "text/plain": [
       "0         26.1415\n",
       "1         29.9615\n",
       "2         46.1770\n",
       "3         69.4650\n",
       "4         99.6735\n",
       "          ...    \n",
       "995    15294.8770\n",
       "996    15343.5670\n",
       "997    15345.1590\n",
       "998    15348.4500\n",
       "999    15379.3690\n",
       "Name: gross income, Length: 1000, dtype: float64"
      ]
     },
     "execution_count": 121,
     "metadata": {},
     "output_type": "execute_result"
    }
   ],
   "source": [
    "df['gross income'].cumsum()"
   ]
  },
  {
   "cell_type": "markdown",
   "id": "fbe94d9a-b098-43af-8eaf-8d025f331ab1",
   "metadata": {},
   "source": [
    "    7. Perform a time-series analysis to find the monthly trend in sales by grouping transactions by 'Date'."
   ]
  },
  {
   "cell_type": "code",
   "execution_count": 133,
   "id": "c10537dc-d311-40cd-8bea-7c4e2c53fbec",
   "metadata": {},
   "outputs": [
    {
     "data": {
      "text/plain": [
       "Date_Month\n",
       "1    352\n",
       "2    303\n",
       "3    345\n",
       "Name: Date_Month, dtype: int64"
      ]
     },
     "execution_count": 133,
     "metadata": {},
     "output_type": "execute_result"
    }
   ],
   "source": [
    "df[\"Date_Month\"] = df['Date'].dt.month\n",
    "df.groupby('Date_Month')['Date_Month'].count()"
   ]
  },
  {
   "cell_type": "markdown",
   "id": "5742de06-2557-41a5-8853-81f8f4182608",
   "metadata": {},
   "source": [
    "    8. Using the 'Rating' column, analyze if there is a correlation between customer satisfaction and the product line they purchase."
   ]
  },
  {
   "cell_type": "code",
   "execution_count": 147,
   "id": "fa7d38de-7058-4f46-b7be-2b24072666ca",
   "metadata": {},
   "outputs": [
    {
     "data": {
      "text/plain": [
       "0      Excellent\n",
       "1      Excellent\n",
       "2      Excellent\n",
       "3      Excellent\n",
       "4      Very Good\n",
       "         ...    \n",
       "995    Very Good\n",
       "996         Good\n",
       "997    Excellent\n",
       "998         Good\n",
       "999    Very Good\n",
       "Name: customer_satisfaction, Length: 1000, dtype: object"
      ]
     },
     "execution_count": 147,
     "metadata": {},
     "output_type": "execute_result"
    }
   ],
   "source": [
    "def customer_satisfaction(rating):\n",
    "    if rating >= 7:\n",
    "        return 'Excellent'\n",
    "    elif rating >= 5:\n",
    "        return 'Very Good'\n",
    "    elif rating >= 3:\n",
    "        return 'Good'\n",
    "    else:\n",
    "        return 'Bad'\n",
    "\n",
    "df['customer_satisfaction'] = df['Rating'].apply(customer_satisfaction)\n",
    "\n",
    "df['customer_satisfaction']"
   ]
  },
  {
   "cell_type": "markdown",
   "id": "14b347e0-ad56-4d67-945f-2611d50121e4",
   "metadata": {},
   "source": [
    "    9. Remove any outliers from the 'Total' column where the value is greater than 1000 and analyze the impact on the overall dataset."
   ]
  },
  {
   "cell_type": "code",
   "execution_count": 135,
   "id": "1d58fa1a-cebd-445f-a8a3-90f844c21534",
   "metadata": {},
   "outputs": [
    {
     "data": {
      "text/plain": [
       "<Axes: xlabel='Total'>"
      ]
     },
     "execution_count": 135,
     "metadata": {},
     "output_type": "execute_result"
    },
    {
     "data": {
      "image/png": "[encoded data removed]",
      "text/plain": [
       "<Figure size 640x480 with 1 Axes>"
      ]
     },
     "metadata": {},
     "output_type": "display_data"
    }
   ],
   "source": [
    "sns.boxplot(x=df['Total'])"
   ]
  },
  {
   "cell_type": "code",
   "execution_count": 144,
   "id": "ca6d8f60-610d-434e-8e3d-7ce7874421b7",
   "metadata": {},
   "outputs": [
    {
     "data": {
      "text/plain": [
       "<Axes: xlabel='Total'>"
      ]
     },
     "execution_count": 144,
     "metadata": {},
     "output_type": "execute_result"
    },
    {
     "data": {
      "image/png": "[encoded data removed]",
      "text/plain": [
       "<Figure size 640x480 with 1 Axes>"
      ]
     },
     "metadata": {},
     "output_type": "display_data"
    }
   ],
   "source": [
    "temp_df = df[~(df['Total']>1000)]\n",
    "sns.boxplot(x=temp_df['Total'])"
   ]
  },
  {
   "cell_type": "code",
   "execution_count": null,
   "id": "66454ca6-2254-4ea6-89be-b42296c4b6fc",
   "metadata": {},
   "outputs": [],
   "source": []
  }
 ],
 "metadata": {
  "kernelspec": {
   "display_name": "Python 3 (ipykernel)",
   "language": "python",
   "name": "python3"
  },
  "language_info": {
   "codemirror_mode": {
    "name": "ipython",
    "version": 3
   },
   "file_extension": ".py",
   "mimetype": "text/x-python",
   "name": "python",
   "nbconvert_exporter": "python",
   "pygments_lexer": "ipython3",
   "version": "3.12.5"
  }
 },
 "nbformat": 4,
 "nbformat_minor": 5
}
