{
 "cells": [
  {
   "cell_type": "markdown",
   "id": "0fdf58d4-be06-41af-b006-a978019dff8f",
   "metadata": {},
   "source": [
    "XG Boosting (Classification and Regression on Diabetes Dataset)"
   ]
  },
  {
   "cell_type": "code",
   "execution_count": null,
   "id": "b3f5e4c2-6cb6-46b3-bfb5-0f9bd5d2d814",
   "metadata": {},
   "outputs": [],
   "source": []
  },
  {
   "cell_type": "code",
   "execution_count": 8,
   "id": "87be3131-f2c9-46d7-84ff-7d1478042b35",
   "metadata": {},
   "outputs": [],
   "source": [
    "from xgboost import XGBClassifier, XGBRegressor\n",
    "from sklearn.datasets import load_diabetes\n",
    "import warnings\n",
    "warnings.filterwarnings(\"ignore\")\n",
    "from sklearn.model_selection import train_test_split\n",
    "from sklearn.metrics import confusion_matrix, classification_report, mean_squared_error,r2_score\n",
    "import numpy as np\n",
    "import pandas as pd\n"
   ]
  },
  {
   "cell_type": "code",
   "execution_count": 18,
   "id": "8995a799-d653-4f99-83dd-c127568072af",
   "metadata": {},
   "outputs": [],
   "source": [
    "# Load Diabetes dataset\n",
    "diabetes = load_diabetes()\n",
    "X, y = diabetes.data, diabetes.target\n",
    "\n",
    "# Convert the target to a binary classification problem for classification tasks (e.g., target > 140 as diabetic)\n",
    "y_class = (y > 140).astype(int)  # Set threshold as 140 for diabetic vs non-diabetic\n",
    "\n",
    "# Split data for classification\n",
    "X_train_clf, X_test_clf, y_train_clf, y_test_clf = train_test_split(X, y_class, test_size=0.3, random_state=42)\n",
    "\n",
    "# Split data for regression\n",
    "X_train_reg, X_test_reg, y_train_reg, y_test_reg = train_test_split(X, y, test_size=0.3, random_state=42)\n"
   ]
  },
  {
   "cell_type": "code",
   "execution_count": 19,
   "id": "fc0ee413-d9ac-4f01-b602-558930a68cfe",
   "metadata": {},
   "outputs": [
    {
     "name": "stdout",
     "output_type": "stream",
     "text": [
      "Confusion Matrix for Classification:\n",
      " [[53 19]\n",
      " [10 51]]\n",
      "\n",
      "Classification Report:\n",
      "               precision    recall  f1-score   support\n",
      "\n",
      "           0       0.84      0.74      0.79        72\n",
      "           1       0.73      0.84      0.78        61\n",
      "\n",
      "    accuracy                           0.78       133\n",
      "   macro avg       0.78      0.79      0.78       133\n",
      "weighted avg       0.79      0.78      0.78       133\n",
      "\n"
     ]
    }
   ],
   "source": [
    " # Initialize and train the classifier\n",
    "xgb_clf = XGBClassifier(use_label_encoder=False, eval_metric='logloss')\n",
    "xgb_clf.fit(X_train_clf, y_train_clf)\n",
    "\n",
    "# Predict and evaluate\n",
    "y_pred_clf = xgb_clf.predict(X_test_clf)\n",
    "conf_matrix_clf = confusion_matrix(y_test_clf, y_pred_clf)\n",
    "class_report_clf = classification_report(y_test_clf, y_pred_clf)\n",
    "\n",
    "# Print results\n",
    "print(\"Confusion Matrix for Classification:\\n\", conf_matrix_clf)\n",
    "print(\"\\nClassification Report:\\n\", class_report_clf)\n"
   ]
  },
  {
   "cell_type": "code",
   "execution_count": 21,
   "id": "1e773cab-c3fd-4ec8-9003-027ddb5e003b",
   "metadata": {},
   "outputs": [
    {
     "name": "stdout",
     "output_type": "stream",
     "text": [
      "\n",
      "Mean Squared Error for Regression: 3513.659206003472\n",
      "R^2 Score: 0.3491183976557938\n"
     ]
    }
   ],
   "source": [
    "# Initialize and train the regressor\n",
    "xgb_reg = XGBRegressor(objective='reg:squarederror')\n",
    "xgb_reg.fit(X_train_reg, y_train_reg)\n",
    "\n",
    "# Predict and evaluate\n",
    "y_pred_reg = xgb_reg.predict(X_test_reg)\n",
    "mse_reg = mean_squared_error(y_test_reg, y_pred_reg)\n",
    "r2 = r2_score(y_test_reg, y_pred_reg)\n",
    "\n",
    "# Print Mean Squared Error\n",
    "print(\"\\nMean Squared Error for Regression:\", mse_reg)\n",
    "print(f\"R^2 Score: {r2}\")"
   ]
  },
  {
   "cell_type": "code",
   "execution_count": null,
   "id": "9a779367-84e1-450f-81fb-116a9752f899",
   "metadata": {},
   "outputs": [],
   "source": []
  },
  {
   "cell_type": "code",
   "execution_count": null,
   "id": "ddcbfcdb-2995-48e2-a1c4-beeabd842986",
   "metadata": {},
   "outputs": [],
   "source": []
  },
  {
   "cell_type": "code",
   "execution_count": null,
   "id": "b65e4bb3-ce52-4624-a723-4858ba116762",
   "metadata": {},
   "outputs": [],
   "source": []
  }
 ],
 "metadata": {
  "kernelspec": {
   "display_name": "Python 3 (ipykernel)",
   "language": "python",
   "name": "python3"
  },
  "language_info": {
   "codemirror_mode": {
    "name": "ipython",
    "version": 3
   },
   "file_extension": ".py",
   "mimetype": "text/x-python",
   "name": "python",
   "nbconvert_exporter": "python",
   "pygments_lexer": "ipython3",
   "version": "3.11.7"
  }
 },
 "nbformat": 4,
 "nbformat_minor": 5
}
