{
 "cells": [
  {
   "cell_type": "markdown",
   "id": "8cbb7700-5c18-42a0-b159-0fbce2176796",
   "metadata": {},
   "source": [
    "Gradient boosting (Regression)"
   ]
  },
  {
   "cell_type": "code",
   "execution_count": 1,
   "id": "75e722f3-3011-4319-a931-a33cbad94291",
   "metadata": {},
   "outputs": [
    {
     "name": "stdout",
     "output_type": "stream",
     "text": [
      "Mean Squared Error: 0.1853998201680722\n",
      "R^2 Score: 0.18103312880889877\n",
      "Sample input prediction (Regression): [0.41703659]\n"
     ]
    }
   ],
   "source": [
    "# Import necessary libraries\n",
    "import pandas as pd\n",
    "import warnings\n",
    "warnings.filterwarnings(\"ignore\")\n",
    "from sklearn.model_selection import train_test_split\n",
    "from sklearn.ensemble import GradientBoostingRegressor\n",
    "from sklearn.metrics import mean_squared_error, r2_score\n",
    "\n",
    "# Load the dataset\n",
    "file_path = './../../datafiles/diabetes.csv'\n",
    "data = pd.read_csv(file_path)\n",
    "\n",
    "# Separate features and target\n",
    "X = data.drop('Outcome', axis=1)\n",
    "y = data['Outcome']\n",
    "\n",
    "# Split the dataset into training and testing sets (70% train, 30% test)\n",
    "X_train, X_test, y_train, y_test = train_test_split(X, y, test_size=0.3, random_state=42)\n",
    "\n",
    "# Initialize the Gradient Boosting Regressor\n",
    "gbr = GradientBoostingRegressor(n_estimators=100, random_state=42)\n",
    "\n",
    "# Train the Gradient Boosting Regressor on the training data\n",
    "gbr.fit(X_train, y_train)\n",
    "\n",
    "# Predict the target on the test data\n",
    "y_pred_gbr = gbr.predict(X_test)\n",
    "\n",
    "# Evaluate the model performance\n",
    "mse = mean_squared_error(y_test, y_pred_gbr)\n",
    "r2 = r2_score(y_test, y_pred_gbr)\n",
    "\n",
    "print(f\"Mean Squared Error: {mse}\")\n",
    "print(f\"R^2 Score: {r2}\")\n",
    "\n",
    "# Test with a sample input for regression prediction\n",
    "sample_input = [[5, 116, 74, 25, 0, 32.2, 0.201, 30]]  # Example input\n",
    "sample_prediction_gbr = gbr.predict(sample_input)\n",
    "\n",
    "# Show the predicted value\n",
    "print(\"Sample input prediction (Regression):\", sample_prediction_gbr)\n"
   ]
  },
  {
   "cell_type": "code",
   "execution_count": null,
   "id": "c228ec1a-b1a4-4f98-b382-decb400e9c76",
   "metadata": {},
   "outputs": [],
   "source": []
  },
  {
   "cell_type": "code",
   "execution_count": null,
   "id": "a84f5362-b8f5-4c58-9366-5b5470886526",
   "metadata": {},
   "outputs": [],
   "source": []
  },
  {
   "cell_type": "markdown",
   "id": "2d461f27-1e9b-47e6-9e5b-fc635080ccee",
   "metadata": {},
   "source": [
    "Gradient boosting (Classification)"
   ]
  },
  {
   "cell_type": "code",
   "execution_count": 2,
   "id": "1ce3453b-3b5c-4669-93d4-001701b14d39",
   "metadata": {},
   "outputs": [
    {
     "name": "stdout",
     "output_type": "stream",
     "text": [
      "[[120  31]\n",
      " [ 27  53]]\n",
      "              precision    recall  f1-score   support\n",
      "\n",
      "           0       0.82      0.79      0.81       151\n",
      "           1       0.63      0.66      0.65        80\n",
      "\n",
      "    accuracy                           0.75       231\n",
      "   macro avg       0.72      0.73      0.73       231\n",
      "weighted avg       0.75      0.75      0.75       231\n",
      "\n",
      "Sample input prediction (Classification, 0: Non-diabetic, 1: Diabetic): [0]\n"
     ]
    }
   ],
   "source": [
    "# Import necessary libraries\n",
    "from sklearn.ensemble import GradientBoostingClassifier\n",
    "from sklearn.metrics import confusion_matrix, classification_report\n",
    "import seaborn as sns\n",
    "import matplotlib.pyplot as plt\n",
    "\n",
    "# Initialize the Gradient Boosting Classifier\n",
    "gbc = GradientBoostingClassifier(n_estimators=100, random_state=42)\n",
    "\n",
    "# Train the Gradient Boosting Classifier on the training data\n",
    "gbc.fit(X_train, y_train)\n",
    "\n",
    "# Predict the target on the test data\n",
    "y_pred_gbc = gbc.predict(X_test)\n",
    "\n",
    "# Compute confusion matrix\n",
    "conf_matrix_gbc = confusion_matrix(y_test, y_pred_gbc)\n",
    "print(conf_matrix_gbc)\n",
    "\n",
    "# Generate classification report\n",
    "class_report_gbc = classification_report(y_test, y_pred_gbc)\n",
    "\n",
    "# Display the classification report\n",
    "print(class_report_gbc)\n",
    "\n",
    "# Test with a sample input for classification prediction\n",
    "sample_input = [[5, 116, 74, 25, 0, 32.2, 0.201, 30]]  # Example input\n",
    "sample_prediction_gbc = gbc.predict(sample_input)\n",
    "\n",
    "# Show the predicted outcome (0: Non-diabetic, 1: Diabetic)\n",
    "print(\"Sample input prediction (Classification, 0: Non-diabetic, 1: Diabetic):\", sample_prediction_gbc)\n"
   ]
  },
  {
   "cell_type": "code",
   "execution_count": null,
   "id": "ce2c3dd1-9cd3-440d-acf2-ca57fbe582e8",
   "metadata": {},
   "outputs": [],
   "source": []
  }
 ],
 "metadata": {
  "kernelspec": {
   "display_name": "Python 3 (ipykernel)",
   "language": "python",
   "name": "python3"
  },
  "language_info": {
   "codemirror_mode": {
    "name": "ipython",
    "version": 3
   },
   "file_extension": ".py",
   "mimetype": "text/x-python",
   "name": "python",
   "nbconvert_exporter": "python",
   "pygments_lexer": "ipython3",
   "version": "3.12.6"
  }
 },
 "nbformat": 4,
 "nbformat_minor": 5
}
